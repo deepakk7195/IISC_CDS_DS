{
  "nbformat": 4,
  "nbformat_minor": 0,
  "metadata": {
    "colab": {
      "provenance": [],
      "include_colab_link": true
    },
    "kernelspec": {
      "display_name": "Python 3",
      "language": "python",
      "name": "python3"
    },
    "language_info": {
      "codemirror_mode": {
        "name": "ipython",
        "version": 3
      },
      "file_extension": ".py",
      "mimetype": "text/x-python",
      "name": "python",
      "nbconvert_exporter": "python",
      "pygments_lexer": "ipython3",
      "version": "3.5.2"
    }
  },
  "cells": [
    {
      "cell_type": "markdown",
      "metadata": {
        "id": "view-in-github",
        "colab_type": "text"
      },
      "source": [
        "<a href=\"https://colab.research.google.com/github/deepakk7195/IISC_CDS_DS/blob/foundations_of_ds/NB_Practice_Statistics_and_Probability.ipynb\" target=\"_parent\"><img src=\"https://colab.research.google.com/assets/colab-badge.svg\" alt=\"Open In Colab\"/></a>"
      ]
    },
    {
      "cell_type": "markdown",
      "metadata": {
        "id": "MwiDNYJJeXbD"
      },
      "source": [
        "# Advanced Certification Program in Computational Data Science\n",
        "## A program by IISc and TalentSprint\n",
        "### Practice Notebook: Introduction to Statistics and Probability"
      ]
    },
    {
      "cell_type": "markdown",
      "metadata": {
        "id": "RZlIajs8fRLR"
      },
      "source": [
        "##  Learning Objectives"
      ]
    },
    {
      "cell_type": "markdown",
      "metadata": {
        "id": "abYbtTdhfT7w"
      },
      "source": [
        "At the end of the experiment, you will be able to :\n",
        "\n",
        "- use the basic probability rules, terms, independent and mutually exclusive events\n",
        "- understand the measures of Centre and Spread: Mean, Median, Mode, Variance, Covariance, Correlation, Normalization, Standardization terms\n",
        "- perform statistics and probability related operations using Python"
      ]
    },
    {
      "cell_type": "markdown",
      "metadata": {
        "id": "Zo6lcYYqyHA_"
      },
      "source": [
        "## Expected time to complete the experiment : 30 mins"
      ]
    },
    {
      "cell_type": "markdown",
      "metadata": {
        "id": "vgfm52RHycRL"
      },
      "source": [
        "#### Exercise 1: Import the numpy package under the name np"
      ]
    },
    {
      "cell_type": "code",
      "metadata": {
        "id": "ahPzhfvreCPi"
      },
      "source": [
        "# YOUR CODE HERE\n",
        "import numpy as np\n",
        "import pandas as pd"
      ],
      "execution_count": 10,
      "outputs": []
    },
    {
      "cell_type": "markdown",
      "metadata": {
        "id": "3LTru3Nuy_6x"
      },
      "source": [
        "#### Exercise 2: Import the scipy package under the name sp"
      ]
    },
    {
      "cell_type": "code",
      "metadata": {
        "id": "pA9KLlfAy_YY"
      },
      "source": [
        "# YOUR CODE HERE\n",
        "import scipy as sp\n",
        "from scipy import stats"
      ],
      "execution_count": 6,
      "outputs": []
    },
    {
      "cell_type": "markdown",
      "metadata": {
        "id": "tIQoS4l5I6iW"
      },
      "source": [
        "#### Exercise 3: Five people play golf and at one hole their scores are\n",
        "\n",
        "                      3, 4, 4, 5, 7.\n",
        "\n",
        "For these scores, find Mean, Median, Mode"
      ]
    },
    {
      "cell_type": "code",
      "metadata": {
        "id": "ElMkgqM9I6iX",
        "outputId": "efbe2c95-465c-45b8-f169-2f3e20d09a05",
        "colab": {
          "base_uri": "https://localhost:8080/"
        }
      },
      "source": [
        "# YOUR CODE HERE\n",
        "a = [3, 4, 4, 5, 7]\n",
        "print(np.mean(a))\n",
        "print(np.median(a))\n",
        "print(stats.mode(a))"
      ],
      "execution_count": 7,
      "outputs": [
        {
          "output_type": "stream",
          "name": "stdout",
          "text": [
            "4.6\n",
            "4.0\n",
            "ModeResult(mode=4, count=2)\n"
          ]
        }
      ]
    },
    {
      "cell_type": "markdown",
      "metadata": {
        "id": "bMd86KQGI6iZ"
      },
      "source": [
        "#### Exercise 4: You grow 20 crystals from a solution and measure the length of each crystal in millimeters. Here is your data:\n",
        "\n",
        "9, 2, 5, 4, 12, 7, 8, 11, 9, 3, 7, 4, 12, 5, 4, 10, 9, 6, 9, 4\n",
        "\n",
        "Calculate the standard deviation of the length of the crystals."
      ]
    },
    {
      "cell_type": "code",
      "metadata": {
        "id": "G82uJnCdI6ia",
        "outputId": "eed133c0-cd8c-48a4-e824-3c73479b6b9e",
        "colab": {
          "base_uri": "https://localhost:8080/"
        }
      },
      "source": [
        "# YOUR CODE HERE\n",
        "data = [9, 2, 5, 4, 12, 7, 8, 11, 9, 3, 7, 4, 12, 5, 4, 10, 9, 6, 9, 4]\n",
        "print(np.std(data))"
      ],
      "execution_count": 8,
      "outputs": [
        {
          "output_type": "stream",
          "name": "stdout",
          "text": [
            "2.9832867780352594\n"
          ]
        }
      ]
    },
    {
      "cell_type": "markdown",
      "metadata": {
        "id": "pGCSuk9XI6ia"
      },
      "source": [
        "#### Exercise 5:\n",
        "\n",
        "Given below DataFrame\n",
        "\n",
        "          data = pd.DataFrame({'salaries': [33219, 36254, 38801, 46335, 46840,\n",
        "                                            47596, 55130, 56863, 78070, 88830]})\n",
        "\n",
        "Calculate the variance of salaries"
      ]
    },
    {
      "cell_type": "code",
      "metadata": {
        "id": "Vk-YPi_uI6ie",
        "outputId": "8aeb1830-7028-4409-8d34-5d552617ba1a",
        "colab": {
          "base_uri": "https://localhost:8080/"
        }
      },
      "source": [
        "# YOUR CODE HERE\n",
        "data = pd.DataFrame({'salaries': [33219, 36254, 38801, 46335, 46840,47596, 55130, 56863, 78070, 88830]})\n",
        "print(np.var(data.salaries.values))"
      ],
      "execution_count": 12,
      "outputs": [
        {
          "output_type": "stream",
          "name": "stdout",
          "text": [
            "291622740.36\n"
          ]
        }
      ]
    },
    {
      "cell_type": "markdown",
      "metadata": {
        "id": "eIJslG2ZI6if"
      },
      "source": [
        "#### Exercise 6: Five people play golf and at one hole their scores are\n",
        "\n",
        "                      3, 4, 4, 5, 7.\n",
        "\n",
        "For these scores, find Harmonic and Geometric mean\n",
        "\n",
        "**Hint:** To know more about Harmonic and Geometric mean click\n",
        "  [here](https://medium.com/@sharmi.v.murali/arithmetic-mean-vs-geometric-mean-vs-harmonic-mean-b956cf1b2b3f)"
      ]
    },
    {
      "cell_type": "code",
      "metadata": {
        "id": "KKLxQpqgI6ig",
        "outputId": "24ffaa90-9cba-4544-d502-fd47420b7085",
        "colab": {
          "base_uri": "https://localhost:8080/"
        }
      },
      "source": [
        "# YOUR CODE HERE\n",
        "\n",
        "data = [3, 4, 4, 5, 7]\n",
        "from scipy.stats import gmean, hmean\n",
        "gmean(data)\n",
        "hmean(data)"
      ],
      "execution_count": 13,
      "outputs": [
        {
          "output_type": "execute_result",
          "data": {
            "text/plain": [
              "4.251012145748989"
            ]
          },
          "metadata": {},
          "execution_count": 13
        }
      ]
    },
    {
      "cell_type": "markdown",
      "metadata": {
        "id": "jhvpk-mnI6ih"
      },
      "source": [
        "#### Exercise 7: Given a DataFrame\n",
        "\n",
        "      df = pd.DataFrame({\n",
        "                  'Name': ['Dan', 'Joann', 'Pedro', 'Rosie', 'Ethan', 'Vicky', 'Frederic'],\n",
        "                   'Salary':[50000,54000,50000,189000,55000,40000,59000],\n",
        "                   'Hours':[41,40,36,17,35,39,40],\n",
        "                   'Experience(In Years)':[2, 2, 3, 7, 5 2, 4]})\n",
        "\n",
        "Calculate the covariance and correlation between *Salary* and *Experience(In Years)*"
      ]
    },
    {
      "cell_type": "code",
      "metadata": {
        "id": "LSK2QpOtI6ii",
        "outputId": "4269e6e6-cfba-49f8-e254-676f96a3eadf",
        "colab": {
          "base_uri": "https://localhost:8080/"
        }
      },
      "source": [
        "# covariance\n",
        "# YOUR CODE HERE\n",
        "df = pd.DataFrame({\n",
        "              'Name': ['Dan', 'Joann', 'Pedro', 'Rosie', 'Ethan', 'Vicky', 'Frederic'],\n",
        "               'Salary':[50000,54000,50000,189000,55000,40000,59000],\n",
        "               'Hours':[41,40,36,17,35,39,40],\n",
        "               'Experience(In Years)':[2, 2, 3, 7, 5,2, 4]})\n",
        "\n",
        "# CAlculating Covariance -\n",
        "print(df['Experience(In Years)'].cov(df['Salary']))\n",
        "# calculating Correlation -\n",
        "print(df['Experience(In Years)'].corr(df['Salary']))"
      ],
      "execution_count": 16,
      "outputs": [
        {
          "output_type": "stream",
          "name": "stdout",
          "text": [
            "82833.33333333333\n",
            "0.8314219298762264\n"
          ]
        }
      ]
    },
    {
      "cell_type": "code",
      "metadata": {
        "id": "Or8KkH-VkR-b"
      },
      "source": [
        "# correlation\n",
        "# YOUR CODE HERE"
      ],
      "execution_count": null,
      "outputs": []
    },
    {
      "cell_type": "markdown",
      "metadata": {
        "id": "eBogXJNfI6ii"
      },
      "source": [
        "#### Exercise 8: Given a DataFrame\n",
        "\n",
        "      df = pd.DataFrame({\n",
        "                  'Name': ['Dan', 'Joann', 'Pedro', 'Rosie', 'Ethan', 'Vicky', 'Frederic'],                  \n",
        "                   'Salary':[50000,54000,50000,189000,55000,40000,59000],                 \n",
        "                   'Hours':[41,40,36,17,35,39,40],             \n",
        "                   'Experience(In Years)':[2, 2, 3, 7, 5 2, 4]})\n",
        "\n",
        "Calculate the correlation between *Experience(In Years)* and *Hours*."
      ]
    },
    {
      "cell_type": "code",
      "metadata": {
        "id": "PMNeeOcXI6ii",
        "outputId": "87fd36bb-0776-4d61-a61a-d7cb3ec166c3",
        "colab": {
          "base_uri": "https://localhost:8080/"
        }
      },
      "source": [
        "# YOUR CODE HERE\n",
        "\n",
        "df = pd.DataFrame({\n",
        "              'Name': ['Dan', 'Joann', 'Pedro', 'Rosie', 'Ethan', 'Vicky', 'Frederic'],\n",
        "               'Salary':[50000,54000,50000,189000,55000,40000,59000],\n",
        "               'Hours':[41,40,36,17,35,39,40],\n",
        "               'Experience(In Years)':[2, 2, 3, 7, 5 ,2, 4]})\n",
        "print(df['Experience(In Years)'].corr(df['Salary']))"
      ],
      "execution_count": 17,
      "outputs": [
        {
          "output_type": "stream",
          "name": "stdout",
          "text": [
            "0.8314219298762264\n"
          ]
        }
      ]
    },
    {
      "cell_type": "markdown",
      "metadata": {
        "id": "gCJcUhIJI6ij"
      },
      "source": [
        "#### Exercise 9: Given a DataFrame\n",
        "\n",
        "      df = pd.DataFrame({\n",
        "                  'Name': ['Dan', 'Joann', 'Pedro', 'Rosie', 'Ethan', 'Vicky', 'Frederic'],\n",
        "                   'Salary':[50000,54000,50000,189000,55000,40000,59000],\n",
        "                   'Hours':[41,40,36,17,35,39,40],          \n",
        "                   'Experience(In Years)':[2, 2, 3, 7, 5 2, 4]})\n",
        "\n",
        "Calculate the percentile score for Experience(In Years)\n"
      ]
    },
    {
      "cell_type": "code",
      "metadata": {
        "id": "cP9oqPU6I6il",
        "outputId": "d4f46acc-a82b-4af4-f3a1-7186992bf939",
        "colab": {
          "base_uri": "https://localhost:8080/"
        }
      },
      "source": [
        "# YOUR CODE HERE\n",
        "print(stats.percentileofscore(df['Experience(In Years)'], 57, 'strict'))"
      ],
      "execution_count": 18,
      "outputs": [
        {
          "output_type": "stream",
          "name": "stdout",
          "text": [
            "100.0\n"
          ]
        }
      ]
    },
    {
      "cell_type": "markdown",
      "metadata": {
        "id": "bd7LC86LI6im"
      },
      "source": [
        "#### Exercise 10: Given a DataFrame\n",
        "\n",
        "      df = pd.DataFrame({\n",
        "                  'Name': ['Dan', 'Joann', 'Pedro', 'Rosie', 'Ethan', 'Vicky', 'Frederic'],\n",
        "                   'Salary':[50000,54000,50000,189000,55000,40000,59000],\n",
        "                   'Hours':[41,40,36,17,35,39,40],          \n",
        "                   'Experience(In Years)':[2, 2, 3, 7, 5 2, 4]})\n",
        "\n",
        "\n",
        "Find the quartile thresholds for the weekly hours worked by the employees"
      ]
    },
    {
      "cell_type": "code",
      "metadata": {
        "id": "0fniZqikI6in",
        "outputId": "73dee290-d451-46e7-947e-89538726d093",
        "colab": {
          "base_uri": "https://localhost:8080/"
        }
      },
      "source": [
        "# YOUR CODE HERE\n",
        "print(df['Hours'].quantile([0.25, 0.5, 0.75]))"
      ],
      "execution_count": 19,
      "outputs": [
        {
          "output_type": "stream",
          "name": "stdout",
          "text": [
            "0.25    35.5\n",
            "0.50    39.0\n",
            "0.75    40.0\n",
            "Name: Hours, dtype: float64\n"
          ]
        }
      ]
    },
    {
      "cell_type": "markdown",
      "metadata": {
        "id": "TaHbsTG3I6io"
      },
      "source": [
        "#### Exercise 11: Given a DataFrame\n",
        "\n",
        "a = np.random.normal(40, 10, 10000)\n",
        "\n",
        "norm = pd.DataFrame({'nums':a})\n",
        "\n",
        "Describe distribution of the data using skewness and kurtosis metrics."
      ]
    },
    {
      "cell_type": "code",
      "metadata": {
        "id": "iHZO4h8_I6io",
        "outputId": "f7e92e8f-4373-44bf-8811-06a5aca620de",
        "colab": {
          "base_uri": "https://localhost:8080/"
        }
      },
      "source": [
        "# YOUR CODE HERE\n",
        "a = np.random.normal(40, 10, 10000)\n",
        "norm = pd.DataFrame({'nums':a})\n",
        "# Calculate skewness and kurtosis\n",
        "print(type(norm['nums']))\n",
        "skewness = norm['nums'].skew()\n",
        "kurt = norm['nums'].kurtosis()\n",
        "\n",
        "# Print the results\n",
        "print(f\"Skewness: {skewness}\")\n",
        "print(f\"Kurtosis: {kurt}\")"
      ],
      "execution_count": 22,
      "outputs": [
        {
          "output_type": "stream",
          "name": "stdout",
          "text": [
            "<class 'pandas.core.series.Series'>\n",
            "Skewness: -0.03824774519788778\n",
            "Kurtosis: 0.02817054192127122\n"
          ]
        }
      ]
    },
    {
      "cell_type": "markdown",
      "metadata": {
        "id": "WAI-T2OJI6ip"
      },
      "source": [
        "#### Exercise 12:  Given an array 'Y', Find the skewness of the data"
      ]
    },
    {
      "cell_type": "code",
      "metadata": {
        "id": "p4xFFDJAI6ip",
        "outputId": "e9f214e9-0391-4f44-8df1-85f1445f6a25",
        "colab": {
          "base_uri": "https://localhost:8080/"
        }
      },
      "source": [
        "from scipy.stats import skew\n",
        "\n",
        "X = np.linspace( -5, 5, 1000 )\n",
        "\n",
        "Y = 1./(np.sqrt(2.* np.pi)) * np.exp( -.5*(X)**2)\n",
        "\n",
        "# YOUR CODE HERE\n",
        "skewness = pd.Series(Y).skew()\n",
        "print(skewness)"
      ],
      "execution_count": 25,
      "outputs": [
        {
          "output_type": "stream",
          "name": "stdout",
          "text": [
            "1.112493149435923\n"
          ]
        }
      ]
    },
    {
      "cell_type": "code",
      "source": [],
      "metadata": {
        "id": "g8NCS75UzKC4"
      },
      "execution_count": null,
      "outputs": []
    }
  ]
}