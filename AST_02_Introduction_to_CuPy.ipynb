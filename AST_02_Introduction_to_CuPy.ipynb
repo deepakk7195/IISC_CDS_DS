{
  "cells": [
    {
      "cell_type": "markdown",
      "metadata": {
        "id": "view-in-github",
        "colab_type": "text"
      },
      "source": [
        "<a href=\"https://colab.research.google.com/github/deepakk7195/IISC_CDS_DS/blob/Scalable_ML_GenAI/AST_02_Introduction_to_CuPy.ipynb\" target=\"_parent\"><img src=\"https://colab.research.google.com/assets/colab-badge.svg\" alt=\"Open In Colab\"/></a>"
      ]
    },
    {
      "cell_type": "markdown",
      "source": [
        "# Advanced Certification Program in Computational Data Science\n",
        "## A program by IISc and TalentSprint\n",
        "### Assignment 2: Introduction to CuPy"
      ],
      "metadata": {
        "id": "rb5tAWQakmNn"
      },
      "id": "rb5tAWQakmNn"
    },
    {
      "cell_type": "markdown",
      "id": "4941058a-6c14-4330-8dee-a9e137c516f3",
      "metadata": {
        "id": "4941058a-6c14-4330-8dee-a9e137c516f3"
      },
      "source": [
        "## Learning Objectives"
      ]
    },
    {
      "cell_type": "markdown",
      "source": [
        "At the end of the experiment, you will be able to\n",
        "\n",
        "* understand the purpose and benefits of using CuPy as a GPU-accelerated library for numerical computations\n",
        "* learn to install CuPy and set up GPU configurations to leverage GPU power for faster computations\n",
        "* explore basic array creation, manipulation, and mathematical operations using CuPy arrays\n",
        "* perform element-wise operations, matrix operations\n",
        "* to merge multiple kernels together into a single combined kernel\n",
        "* memory Pool Operations"
      ],
      "metadata": {
        "id": "JjXQsHzvlGgq"
      },
      "id": "JjXQsHzvlGgq"
    },
    {
      "cell_type": "markdown",
      "source": [
        "## Information"
      ],
      "metadata": {
        "id": "6WLfal7ovpZo"
      },
      "id": "6WLfal7ovpZo"
    },
    {
      "cell_type": "markdown",
      "source": [
        "**CuPy**\n",
        "\n",
        "CuPy is a powerful numerical computation library designed to work seamlessly with NVIDIA GPUs, providing accelerated computing capabilities for array operations and mathematical computations. CuPy is a GPU array backend that implements a subset of NumPy interface.\n",
        "\n",
        "By making use of CuPy, developers can get the advantage of the parallel processing power of GPUs to significantly speed up array manipulations, matrix multiplications, and various mathematical operations. CuPy implements many functions on cupy.ndarray objects. See the reference for the supported subset of NumPy API. Knowledge of NumPy will help you utilize most of the CuPy features.\n",
        "\n",
        "CuPy's syntax and functionality are highly compatible with NumPy, making it easy for users familiar with NumPy to transition and take advantage of GPU acceleration. The compatibility extends to common array operations, linear algebra functions, and statistical computations, enabling users to scale their computations efficiently and handle large datasets with ease. CuPy has a concept of a current device, which is the default GPU device on which the allocation, manipulation, calculation, etc., of arrays take place.\n",
        "\n",
        "  - All CuPy operations (except for multi-GPU features and device-to-device copy) are performed on the currently active device.\n",
        "\n",
        "  - In general, CuPy functions expect that the array is on the same device as the current one. Passing an array stored on a non-current device may work depending on the hardware configuration but is generally discouraged as it may not be performant."
      ],
      "metadata": {
        "id": "d5e7X5HbwoIf"
      },
      "id": "d5e7X5HbwoIf"
    },
    {
      "cell_type": "markdown",
      "id": "fb079367-934a-4d8e-a5c3-ec5592ac69ae",
      "metadata": {
        "id": "fb079367-934a-4d8e-a5c3-ec5592ac69ae"
      },
      "source": [
        "**Introduction to Workshop Lab Environment**\n",
        "\n",
        "For documents on CuPy, you can [refer to this link](https://docs.cupy.dev/en/stable/install.html)"
      ]
    },
    {
      "cell_type": "markdown",
      "source": [
        "Reference:\n",
        "\n",
        "For sample code reference, you can [click here](https://github.com/cupy/cupy/tree/main)"
      ],
      "metadata": {
        "id": "eLFNEXVclOQ7"
      },
      "id": "eLFNEXVclOQ7"
    },
    {
      "cell_type": "markdown",
      "source": [
        "### Setup Steps:"
      ],
      "metadata": {
        "id": "8ukZ7NOyz8Un"
      },
      "id": "8ukZ7NOyz8Un"
    },
    {
      "cell_type": "code",
      "source": [
        "#@title Please enter your registration id to start: { run: \"auto\", display-mode: \"form\" }\n",
        "Id = \"2301931\" #@param {type:\"string\"}"
      ],
      "metadata": {
        "id": "9uwjPbdT0BrO"
      },
      "id": "9uwjPbdT0BrO",
      "execution_count": 8,
      "outputs": []
    },
    {
      "cell_type": "code",
      "source": [
        "#@title Please enter your password (your registered phone number) to continue: { run: \"auto\", display-mode: \"form\" }\n",
        "password = \"9665220904\" #@param {type:\"string\"}"
      ],
      "metadata": {
        "id": "FeTtPJ-X0I3o"
      },
      "id": "FeTtPJ-X0I3o",
      "execution_count": 9,
      "outputs": []
    },
    {
      "cell_type": "code",
      "source": [
        "#@title Run this cell to complete the setup for this Notebook\n",
        "from IPython import get_ipython\n",
        "\n",
        "ipython = get_ipython()\n",
        "\n",
        "notebook= \"M3_AST_02_Introduction_to_CuPy_C\" #name of the notebook\n",
        "\n",
        "def setup():\n",
        "#  ipython.magic(\"sx pip3 install torch\")\n",
        "\n",
        "    from IPython.display import HTML, display\n",
        "    display(HTML('<script src=\"https://dashboard.talentsprint.com/aiml/record_ip.html?traineeId={0}&recordId={1}\"></script>'.format(getId(),submission_id)))\n",
        "    print(\"Setup completed successfully\")\n",
        "    return\n",
        "\n",
        "def submit_notebook():\n",
        "    ipython.magic(\"notebook -e \"+ notebook + \".ipynb\")\n",
        "\n",
        "    import requests, json, base64, datetime\n",
        "\n",
        "    url = \"https://dashboard.talentsprint.com/xp/app/save_notebook_attempts\"\n",
        "    if not submission_id:\n",
        "      data = {\"id\" : getId(), \"notebook\" : notebook, \"mobile\" : getPassword()}\n",
        "      r = requests.post(url, data = data)\n",
        "      r = json.loads(r.text)\n",
        "\n",
        "      if r[\"status\"] == \"Success\":\n",
        "          return r[\"record_id\"]\n",
        "      elif \"err\" in r:\n",
        "        print(r[\"err\"])\n",
        "        return None\n",
        "      else:\n",
        "        print (\"Something is wrong, the notebook will not be submitted for grading\")\n",
        "        return None\n",
        "\n",
        "    elif getAnswer() and getComplexity() and getAdditional() and getConcepts() and getComments() and getMentorSupport():\n",
        "      f = open(notebook + \".ipynb\", \"rb\")\n",
        "      file_hash = base64.b64encode(f.read())\n",
        "\n",
        "      data = {\"complexity\" : Complexity, \"additional\" :Additional,\n",
        "              \"concepts\" : Concepts, \"record_id\" : submission_id,\n",
        "              \"answer\" : Answer, \"id\" : Id, \"file_hash\" : file_hash,\n",
        "              \"notebook\" : notebook,\n",
        "              \"feedback_experiments_input\" : Comments,\n",
        "              \"feedback_mentor_support\": Mentor_support}\n",
        "      r = requests.post(url, data = data)\n",
        "      r = json.loads(r.text)\n",
        "      if \"err\" in r:\n",
        "        print(r[\"err\"])\n",
        "        return None\n",
        "      else:\n",
        "        print(\"Your submission is successful.\")\n",
        "        print(\"Ref Id:\", submission_id)\n",
        "        print(\"Date of submission: \", r[\"date\"])\n",
        "        print(\"Time of submission: \", r[\"time\"])\n",
        "        print(\"View your submissions: https://cds-iisc.talentsprint.com/notebook_submissions\")\n",
        "        #print(\"For any queries/discrepancies, please connect with mentors through the chat icon in LMS dashboard.\")\n",
        "        return submission_id\n",
        "    else: submission_id\n",
        "\n",
        "\n",
        "def getAdditional():\n",
        "  try:\n",
        "    if not Additional:\n",
        "      raise NameError\n",
        "    else:\n",
        "      return Additional\n",
        "  except NameError:\n",
        "    print (\"Please answer Additional Question\")\n",
        "    return None\n",
        "\n",
        "def getComplexity():\n",
        "  try:\n",
        "    if not Complexity:\n",
        "      raise NameError\n",
        "    else:\n",
        "      return Complexity\n",
        "  except NameError:\n",
        "    print (\"Please answer Complexity Question\")\n",
        "    return None\n",
        "\n",
        "def getConcepts():\n",
        "  try:\n",
        "    if not Concepts:\n",
        "      raise NameError\n",
        "    else:\n",
        "      return Concepts\n",
        "  except NameError:\n",
        "    print (\"Please answer Concepts Question\")\n",
        "    return None\n",
        "\n",
        "\n",
        "# def getWalkthrough():\n",
        "#   try:\n",
        "#     if not Walkthrough:\n",
        "#       raise NameError\n",
        "#     else:\n",
        "#       return Walkthrough\n",
        "#   except NameError:\n",
        "#     print (\"Please answer Walkthrough Question\")\n",
        "#     return None\n",
        "\n",
        "def getComments():\n",
        "  try:\n",
        "    if not Comments:\n",
        "      raise NameError\n",
        "    else:\n",
        "      return Comments\n",
        "  except NameError:\n",
        "    print (\"Please answer Comments Question\")\n",
        "    return None\n",
        "\n",
        "\n",
        "def getMentorSupport():\n",
        "  try:\n",
        "    if not Mentor_support:\n",
        "      raise NameError\n",
        "    else:\n",
        "      return Mentor_support\n",
        "  except NameError:\n",
        "    print (\"Please answer Mentor support Question\")\n",
        "    return None\n",
        "\n",
        "def getAnswer():\n",
        "  try:\n",
        "    if not Answer:\n",
        "      raise NameError\n",
        "    else:\n",
        "      return Answer\n",
        "  except NameError:\n",
        "    print (\"Please answer Question\")\n",
        "    return None\n",
        "\n",
        "\n",
        "def getId():\n",
        "  try:\n",
        "    return Id if Id else None\n",
        "  except NameError:\n",
        "    return None\n",
        "\n",
        "def getPassword():\n",
        "  try:\n",
        "    return password if password else None\n",
        "  except NameError:\n",
        "    return None\n",
        "\n",
        "submission_id = None\n",
        "### Setup\n",
        "if getPassword() and getId():\n",
        "  submission_id = submit_notebook()\n",
        "  if submission_id:\n",
        "    setup()\n",
        "else:\n",
        "  print (\"Please complete Id and Password cells before running setup\")"
      ],
      "metadata": {
        "cellView": "form",
        "id": "Rpj7GBWU1jB9",
        "outputId": "9fd0dfa9-0c9e-4d55-b9ce-e6e0bf63d291",
        "colab": {
          "base_uri": "https://localhost:8080/",
          "height": 34
        }
      },
      "id": "Rpj7GBWU1jB9",
      "execution_count": 10,
      "outputs": [
        {
          "output_type": "display_data",
          "data": {
            "text/plain": [
              "<IPython.core.display.HTML object>"
            ],
            "text/html": [
              "<script src=\"https://dashboard.talentsprint.com/aiml/record_ip.html?traineeId=2301931&recordId=4446\"></script>"
            ]
          },
          "metadata": {}
        },
        {
          "output_type": "stream",
          "name": "stdout",
          "text": [
            "Setup completed successfully\n"
          ]
        }
      ]
    },
    {
      "cell_type": "markdown",
      "id": "8fe05310-7998-4a4f-a660-f762f3359fab",
      "metadata": {
        "id": "8fe05310-7998-4a4f-a660-f762f3359fab"
      },
      "source": [
        "To verify that the Python environment is set up correctly. The code cells contain interactive Python code."
      ]
    },
    {
      "cell_type": "code",
      "execution_count": 4,
      "id": "2d06d849-08b0-4dfc-b76d-b60be5b172cf",
      "metadata": {
        "id": "2d06d849-08b0-4dfc-b76d-b60be5b172cf",
        "outputId": "a875927b-641f-4e76-cd12-074de4cf90b2",
        "colab": {
          "base_uri": "https://localhost:8080/"
        }
      },
      "outputs": [
        {
          "output_type": "stream",
          "name": "stdout",
          "text": [
            "Hello World!!!\n"
          ]
        }
      ],
      "source": [
        "print(\"Hello World!!!\")"
      ]
    },
    {
      "cell_type": "code",
      "source": [
        "!apt-get install cuda"
      ],
      "metadata": {
        "id": "iiRwegbr2dzh",
        "outputId": "528d0f87-40f9-4b8e-8a58-d47273d336a9",
        "colab": {
          "base_uri": "https://localhost:8080/"
        }
      },
      "id": "iiRwegbr2dzh",
      "execution_count": 6,
      "outputs": [
        {
          "output_type": "stream",
          "name": "stdout",
          "text": [
            "Reading package lists... Done\n",
            "Building dependency tree... Done\n",
            "Reading state information... Done\n",
            "The following additional packages will be installed:\n",
            "  cpp-12 cuda-12-4 cuda-cccl-12-4 cuda-command-line-tools-12-4 cuda-compiler-12-4 cuda-crt-12-4\n",
            "  cuda-cudart-12-4 cuda-cudart-dev-12-4 cuda-cuobjdump-12-4 cuda-cupti-12-4 cuda-cupti-dev-12-4\n",
            "  cuda-cuxxfilt-12-4 cuda-demo-suite-12-4 cuda-documentation-12-4 cuda-driver-dev-12-4 cuda-drivers\n",
            "  cuda-drivers-550 cuda-gdb-12-4 cuda-libraries-12-4 cuda-libraries-dev-12-4 cuda-nsight-12-4\n",
            "  cuda-nsight-compute-12-4 cuda-nsight-systems-12-4 cuda-nvcc-12-4 cuda-nvdisasm-12-4\n",
            "  cuda-nvml-dev-12-4 cuda-nvprof-12-4 cuda-nvprune-12-4 cuda-nvrtc-12-4 cuda-nvrtc-dev-12-4\n",
            "  cuda-nvtx-12-4 cuda-nvvm-12-4 cuda-nvvp-12-4 cuda-opencl-12-4 cuda-opencl-dev-12-4\n",
            "  cuda-profiler-api-12-4 cuda-runtime-12-4 cuda-sanitizer-12-4 cuda-toolkit-12-4\n",
            "  cuda-toolkit-12-4-config-common cuda-tools-12-4 cuda-visual-tools-12-4 dctrl-tools default-jre\n",
            "  default-jre-headless dkms fakeroot fonts-dejavu-core fonts-dejavu-extra gcc-12 gds-tools-12-4\n",
            "  keyboard-configuration libasan8 libatk-wrapper-java libatk-wrapper-java-jni libcublas-12-4\n",
            "  libcublas-dev-12-4 libcufft-12-4 libcufft-dev-12-4 libcufile-12-4 libcufile-dev-12-4\n",
            "  libcurand-12-4 libcurand-dev-12-4 libcusolver-12-4 libcusolver-dev-12-4 libcusparse-12-4\n",
            "  libcusparse-dev-12-4 libfakeroot libfontenc1 libgcc-12-dev libjansson4 liblocale-gettext-perl\n",
            "  libnpp-12-4 libnpp-dev-12-4 libnvfatbin-12-4 libnvfatbin-dev-12-4 libnvidia-cfg1-550\n",
            "  libnvidia-common-550 libnvidia-compute-550 libnvidia-decode-550 libnvidia-encode-550\n",
            "  libnvidia-extra-550 libnvidia-fbc1-550 libnvidia-gl-550 libnvjitlink-12-4 libnvjitlink-dev-12-4\n",
            "  libnvjpeg-12-4 libnvjpeg-dev-12-4 libtinfo5 libtsan2 libudev1 libxcb-icccm4 libxcb-image0\n",
            "  libxcb-keysyms1 libxcb-render-util0 libxcb-util1 libxcb-xinerama0 libxcb-xinput0 libxcb-xkb1\n",
            "  libxcvt0 libxfont2 libxkbcommon-x11-0 libxkbfile1 libxtst6 libxxf86dga1 nsight-compute-2024.1.1\n",
            "  nsight-systems-2023.4.4 nvidia-compute-utils-550 nvidia-dkms-550 nvidia-driver-550\n",
            "  nvidia-firmware-550-550.54.15 nvidia-kernel-common-550 nvidia-kernel-source-550 nvidia-prime\n",
            "  nvidia-settings nvidia-utils-550 openjdk-11-jre python3-xkit screen-resolution-extra\n",
            "  systemd-hwe-hwdb udev x11-utils x11-xkb-utils xcvt xfonts-base xfonts-encodings xfonts-utils\n",
            "  xserver-common xserver-xorg-core xserver-xorg-video-nvidia-550\n",
            "Suggested packages:\n",
            "  gcc-12-locales cpp-12-doc debtags menu gcc-12-multilib gcc-12-doc mesa-utils xfs | xserver\n",
            "  xfonts-100dpi | xfonts-75dpi xfonts-scalable\n",
            "Recommended packages:\n",
            "  libnvidia-compute-550:i386 libnvidia-decode-550:i386 libnvidia-encode-550:i386\n",
            "  libnvidia-fbc1-550:i386 libnvidia-gl-550:i386\n",
            "The following NEW packages will be installed:\n",
            "  cpp-12 cuda cuda-12-4 cuda-cccl-12-4 cuda-command-line-tools-12-4 cuda-compiler-12-4\n",
            "  cuda-crt-12-4 cuda-cudart-12-4 cuda-cudart-dev-12-4 cuda-cuobjdump-12-4 cuda-cupti-12-4\n",
            "  cuda-cupti-dev-12-4 cuda-cuxxfilt-12-4 cuda-demo-suite-12-4 cuda-documentation-12-4\n",
            "  cuda-driver-dev-12-4 cuda-drivers cuda-drivers-550 cuda-gdb-12-4 cuda-libraries-12-4\n",
            "  cuda-libraries-dev-12-4 cuda-nsight-12-4 cuda-nsight-compute-12-4 cuda-nsight-systems-12-4\n",
            "  cuda-nvcc-12-4 cuda-nvdisasm-12-4 cuda-nvml-dev-12-4 cuda-nvprof-12-4 cuda-nvprune-12-4\n",
            "  cuda-nvrtc-12-4 cuda-nvrtc-dev-12-4 cuda-nvtx-12-4 cuda-nvvm-12-4 cuda-nvvp-12-4 cuda-opencl-12-4\n",
            "  cuda-opencl-dev-12-4 cuda-profiler-api-12-4 cuda-runtime-12-4 cuda-sanitizer-12-4\n",
            "  cuda-toolkit-12-4 cuda-toolkit-12-4-config-common cuda-tools-12-4 cuda-visual-tools-12-4\n",
            "  dctrl-tools default-jre default-jre-headless dkms fakeroot fonts-dejavu-core fonts-dejavu-extra\n",
            "  gcc-12 gds-tools-12-4 keyboard-configuration libasan8 libatk-wrapper-java libatk-wrapper-java-jni\n",
            "  libcublas-12-4 libcublas-dev-12-4 libcufft-12-4 libcufft-dev-12-4 libcufile-12-4\n",
            "  libcufile-dev-12-4 libcurand-12-4 libcurand-dev-12-4 libcusolver-12-4 libcusolver-dev-12-4\n",
            "  libcusparse-12-4 libcusparse-dev-12-4 libfakeroot libfontenc1 libgcc-12-dev libjansson4\n",
            "  liblocale-gettext-perl libnpp-12-4 libnpp-dev-12-4 libnvfatbin-12-4 libnvfatbin-dev-12-4\n",
            "  libnvidia-cfg1-550 libnvidia-common-550 libnvidia-compute-550 libnvidia-decode-550\n",
            "  libnvidia-encode-550 libnvidia-extra-550 libnvidia-fbc1-550 libnvidia-gl-550 libnvjitlink-12-4\n",
            "  libnvjitlink-dev-12-4 libnvjpeg-12-4 libnvjpeg-dev-12-4 libtinfo5 libtsan2 libxcb-icccm4\n",
            "  libxcb-image0 libxcb-keysyms1 libxcb-render-util0 libxcb-util1 libxcb-xinerama0 libxcb-xinput0\n",
            "  libxcb-xkb1 libxcvt0 libxfont2 libxkbcommon-x11-0 libxkbfile1 libxtst6 libxxf86dga1\n",
            "  nsight-compute-2024.1.1 nsight-systems-2023.4.4 nvidia-compute-utils-550 nvidia-dkms-550\n",
            "  nvidia-driver-550 nvidia-firmware-550-550.54.15 nvidia-kernel-common-550 nvidia-kernel-source-550\n",
            "  nvidia-prime nvidia-settings nvidia-utils-550 openjdk-11-jre python3-xkit screen-resolution-extra\n",
            "  systemd-hwe-hwdb udev x11-utils x11-xkb-utils xcvt xfonts-base xfonts-encodings xfonts-utils\n",
            "  xserver-common xserver-xorg-core xserver-xorg-video-nvidia-550\n",
            "The following packages will be upgraded:\n",
            "  libudev1\n",
            "1 upgraded, 130 newly installed, 0 to remove and 44 not upgraded.\n",
            "Need to get 3,349 MB of archives.\n",
            "After this operation, 7,503 MB of additional disk space will be used.\n",
            "Get:1 https://developer.download.nvidia.com/compute/cuda/repos/ubuntu2204/x86_64  cuda-toolkit-12-4-config-common 12.4.127-1 [16.4 kB]\n",
            "Get:2 https://developer.download.nvidia.com/compute/cuda/repos/ubuntu2204/x86_64  cuda-cudart-12-4 12.4.127-1 [165 kB]\n",
            "Get:3 https://developer.download.nvidia.com/compute/cuda/repos/ubuntu2204/x86_64  cuda-nvrtc-12-4 12.4.127-1 [17.6 MB]\n",
            "Get:4 http://archive.ubuntu.com/ubuntu jammy/main amd64 liblocale-gettext-perl amd64 1.07-4build3 [17.1 kB]\n",
            "Get:5 https://developer.download.nvidia.com/compute/cuda/repos/ubuntu2204/x86_64  cuda-opencl-12-4 12.4.127-1 [24.0 kB]\n",
            "Get:6 https://developer.download.nvidia.com/compute/cuda/repos/ubuntu2204/x86_64  libcublas-12-4 12.4.5.8-1 [231 MB]\n",
            "Get:7 http://archive.ubuntu.com/ubuntu jammy/main amd64 keyboard-configuration all 1.205ubuntu3 [206 kB]\n",
            "Get:8 http://archive.ubuntu.com/ubuntu jammy-updates/main amd64 cpp-12 amd64 12.3.0-1ubuntu1~22.04 [10.8 MB]\n",
            "Get:9 http://archive.ubuntu.com/ubuntu jammy-updates/main amd64 libasan8 amd64 12.3.0-1ubuntu1~22.04 [2,442 kB]\n",
            "Get:10 http://archive.ubuntu.com/ubuntu jammy-updates/main amd64 libtsan2 amd64 12.3.0-1ubuntu1~22.04 [2,477 kB]\n",
            "Get:11 http://archive.ubuntu.com/ubuntu jammy-updates/main amd64 libgcc-12-dev amd64 12.3.0-1ubuntu1~22.04 [2,618 kB]\n",
            "Get:12 http://archive.ubuntu.com/ubuntu jammy-updates/main amd64 gcc-12 amd64 12.3.0-1ubuntu1~22.04 [21.7 MB]\n",
            "Get:13 http://archive.ubuntu.com/ubuntu jammy/main amd64 dctrl-tools amd64 2.24-3build2 [66.9 kB]\n",
            "Get:14 http://archive.ubuntu.com/ubuntu jammy-updates/main amd64 dkms all 2.8.7-2ubuntu2.2 [70.1 kB]\n",
            "Get:15 http://archive.ubuntu.com/ubuntu jammy-updates/main amd64 libudev1 amd64 249.11-0ubuntu3.12 [78.2 kB]\n",
            "Get:16 http://archive.ubuntu.com/ubuntu jammy-updates/main amd64 udev amd64 249.11-0ubuntu3.12 [1,557 kB]\n",
            "Get:17 https://developer.download.nvidia.com/compute/cuda/repos/ubuntu2204/x86_64  libcufft-12-4 11.2.1.3-1 [171 MB]\n",
            "Get:18 http://archive.ubuntu.com/ubuntu jammy/main amd64 libjansson4 amd64 2.13.1-1.1build3 [32.4 kB]\n",
            "Get:19 http://archive.ubuntu.com/ubuntu jammy/main amd64 libxkbfile1 amd64 1:1.1.0-1build3 [71.8 kB]\n",
            "Get:20 http://archive.ubuntu.com/ubuntu jammy/main amd64 x11-xkb-utils amd64 7.7+5build4 [172 kB]\n",
            "Get:21 http://archive.ubuntu.com/ubuntu jammy-updates/main amd64 xserver-common all 2:21.1.4-2ubuntu1.7~22.04.10 [28.5 kB]\n",
            "Get:22 http://archive.ubuntu.com/ubuntu jammy/main amd64 libxcvt0 amd64 0.1.1-3 [5,494 B]\n",
            "Get:23 http://archive.ubuntu.com/ubuntu jammy/main amd64 libfontenc1 amd64 1:1.1.4-1build3 [14.7 kB]\n",
            "Get:24 http://archive.ubuntu.com/ubuntu jammy/main amd64 libxfont2 amd64 1:2.0.5-1build1 [94.5 kB]\n",
            "Get:25 http://archive.ubuntu.com/ubuntu jammy-updates/main amd64 xserver-xorg-core amd64 2:21.1.4-2ubuntu1.7~22.04.10 [1,476 kB]\n",
            "Get:26 http://archive.ubuntu.com/ubuntu jammy-updates/universe amd64 libtinfo5 amd64 6.3-2ubuntu0.1 [100 kB]\n",
            "Get:27 http://archive.ubuntu.com/ubuntu jammy/main amd64 libxcb-xinerama0 amd64 1.14-3ubuntu3 [5,414 B]\n",
            "Get:28 http://archive.ubuntu.com/ubuntu jammy/main amd64 libxcb-icccm4 amd64 0.4.1-1.1build2 [11.5 kB]\n",
            "Get:29 http://archive.ubuntu.com/ubuntu jammy/main amd64 libxcb-util1 amd64 0.4.0-1build2 [11.4 kB]\n",
            "Get:30 http://archive.ubuntu.com/ubuntu jammy/main amd64 libxcb-image0 amd64 0.4.0-2 [11.5 kB]\n",
            "Get:31 http://archive.ubuntu.com/ubuntu jammy/main amd64 libxcb-keysyms1 amd64 0.4.0-1build3 [8,746 B]\n",
            "Get:32 http://archive.ubuntu.com/ubuntu jammy/main amd64 libxcb-render-util0 amd64 0.3.9-1build3 [10.3 kB]\n",
            "Get:33 http://archive.ubuntu.com/ubuntu jammy/main amd64 libxcb-xkb1 amd64 1.14-3ubuntu3 [32.8 kB]\n",
            "Get:34 http://archive.ubuntu.com/ubuntu jammy/main amd64 libxkbcommon-x11-0 amd64 1.4.0-1 [14.4 kB]\n",
            "Get:35 https://developer.download.nvidia.com/compute/cuda/repos/ubuntu2204/x86_64  libcufile-12-4 1.9.1.3-1 [850 kB]\n",
            "Get:36 https://developer.download.nvidia.com/compute/cuda/repos/ubuntu2204/x86_64  libcurand-12-4 10.3.5.147-1 [41.4 MB]\n",
            "Get:37 http://archive.ubuntu.com/ubuntu jammy/main amd64 libxcb-xinput0 amd64 1.14-3ubuntu3 [34.3 kB]\n",
            "Get:38 http://archive.ubuntu.com/ubuntu jammy/main amd64 libxtst6 amd64 2:1.2.3-1build4 [13.4 kB]\n",
            "Get:39 http://archive.ubuntu.com/ubuntu jammy/main amd64 default-jre-headless amd64 2:1.11-72build2 [3,042 B]\n",
            "Get:40 http://archive.ubuntu.com/ubuntu jammy-updates/main amd64 openjdk-11-jre amd64 11.0.22+7-0ubuntu2~22.04.1 [214 kB]\n",
            "Get:41 http://archive.ubuntu.com/ubuntu jammy/main amd64 default-jre amd64 2:1.11-72build2 [896 B]\n",
            "Get:42 https://developer.download.nvidia.com/compute/cuda/repos/ubuntu2204/x86_64  libcusolver-12-4 11.6.1.9-1 [78.9 MB]\n",
            "Get:43 http://archive.ubuntu.com/ubuntu jammy/main amd64 libfakeroot amd64 1.28-1ubuntu1 [31.5 kB]\n",
            "Get:44 http://archive.ubuntu.com/ubuntu jammy/main amd64 fakeroot amd64 1.28-1ubuntu1 [60.4 kB]\n",
            "Get:45 http://archive.ubuntu.com/ubuntu jammy/main amd64 fonts-dejavu-core all 2.37-2build1 [1,041 kB]\n",
            "Get:46 http://archive.ubuntu.com/ubuntu jammy/main amd64 fonts-dejavu-extra all 2.37-2build1 [2,041 kB]\n",
            "Get:47 http://archive.ubuntu.com/ubuntu jammy/main amd64 libxxf86dga1 amd64 2:1.1.5-0ubuntu3 [12.6 kB]\n",
            "Get:48 http://archive.ubuntu.com/ubuntu jammy/main amd64 x11-utils amd64 7.7+5build2 [206 kB]\n",
            "Get:49 https://developer.download.nvidia.com/compute/cuda/repos/ubuntu2204/x86_64  libcusparse-12-4 12.3.1.170-1 [115 MB]\n",
            "Get:50 http://archive.ubuntu.com/ubuntu jammy/main amd64 libatk-wrapper-java all 0.38.0-5build1 [53.1 kB]\n",
            "Get:51 http://archive.ubuntu.com/ubuntu jammy/main amd64 libatk-wrapper-java-jni amd64 0.38.0-5build1 [49.0 kB]\n",
            "Get:52 http://archive.ubuntu.com/ubuntu jammy/main amd64 nvidia-prime all 0.8.17.1 [9,956 B]\n",
            "Get:53 http://archive.ubuntu.com/ubuntu jammy/main amd64 python3-xkit all 0.5.0ubuntu5 [18.5 kB]\n",
            "Get:54 http://archive.ubuntu.com/ubuntu jammy/main amd64 screen-resolution-extra all 0.18.2 [4,396 B]\n",
            "Get:55 http://archive.ubuntu.com/ubuntu jammy-updates/main amd64 systemd-hwe-hwdb all 249.11.5 [3,228 B]\n",
            "Get:56 http://archive.ubuntu.com/ubuntu jammy/main amd64 xcvt amd64 0.1.1-3 [7,140 B]\n",
            "Get:57 http://archive.ubuntu.com/ubuntu jammy/main amd64 xfonts-encodings all 1:1.0.5-0ubuntu2 [578 kB]\n",
            "Get:58 http://archive.ubuntu.com/ubuntu jammy/main amd64 xfonts-utils amd64 1:7.7+6build2 [94.6 kB]\n",
            "Get:59 http://archive.ubuntu.com/ubuntu jammy/main amd64 xfonts-base all 1:1.0.5 [5,896 kB]\n",
            "Get:60 https://developer.download.nvidia.com/compute/cuda/repos/ubuntu2204/x86_64  libnpp-12-4 12.2.5.30-1 [95.5 MB]\n",
            "Get:61 https://developer.download.nvidia.com/compute/cuda/repos/ubuntu2204/x86_64  libnvjitlink-12-4 12.4.127-1 [15.5 MB]\n",
            "Get:62 https://developer.download.nvidia.com/compute/cuda/repos/ubuntu2204/x86_64  libnvfatbin-12-4 12.4.127-1 [721 kB]\n",
            "Get:63 https://developer.download.nvidia.com/compute/cuda/repos/ubuntu2204/x86_64  libnvjpeg-12-4 12.3.1.117-1 [2,327 kB]\n",
            "Get:64 https://developer.download.nvidia.com/compute/cuda/repos/ubuntu2204/x86_64  cuda-libraries-12-4 12.4.1-1 [2,606 B]\n",
            "Get:65 https://developer.download.nvidia.com/compute/cuda/repos/ubuntu2204/x86_64  libnvidia-common-550 550.54.15-0ubuntu1 [17.1 kB]\n",
            "Get:66 https://developer.download.nvidia.com/compute/cuda/repos/ubuntu2204/x86_64  libnvidia-compute-550 550.54.15-0ubuntu1 [49.5 MB]\n",
            "Get:67 https://developer.download.nvidia.com/compute/cuda/repos/ubuntu2204/x86_64  libnvidia-gl-550 550.54.15-0ubuntu1 [136 MB]\n",
            "Get:68 https://developer.download.nvidia.com/compute/cuda/repos/ubuntu2204/x86_64  nvidia-kernel-source-550 550.54.15-0ubuntu1 [41.1 MB]\n",
            "Get:69 https://developer.download.nvidia.com/compute/cuda/repos/ubuntu2204/x86_64  nvidia-firmware-550-550.54.15 550.54.15-0ubuntu1 [36.8 MB]\n",
            "Get:70 https://developer.download.nvidia.com/compute/cuda/repos/ubuntu2204/x86_64  nvidia-kernel-common-550 550.54.15-0ubuntu1 [109 kB]\n",
            "Get:71 https://developer.download.nvidia.com/compute/cuda/repos/ubuntu2204/x86_64  nvidia-dkms-550 550.54.15-0ubuntu1 [36.2 kB]\n",
            "Get:72 https://developer.download.nvidia.com/compute/cuda/repos/ubuntu2204/x86_64  libnvidia-extra-550 550.54.15-0ubuntu1 [71.1 kB]\n",
            "Get:73 https://developer.download.nvidia.com/compute/cuda/repos/ubuntu2204/x86_64  nvidia-compute-utils-550 550.54.15-0ubuntu1 [118 kB]\n",
            "Get:74 https://developer.download.nvidia.com/compute/cuda/repos/ubuntu2204/x86_64  libnvidia-decode-550 550.54.15-0ubuntu1 [1,783 kB]\n",
            "Get:75 https://developer.download.nvidia.com/compute/cuda/repos/ubuntu2204/x86_64  libnvidia-encode-550 550.54.15-0ubuntu1 [100 kB]\n",
            "Get:76 https://developer.download.nvidia.com/compute/cuda/repos/ubuntu2204/x86_64  nvidia-utils-550 550.54.15-0ubuntu1 [494 kB]\n",
            "Get:77 https://developer.download.nvidia.com/compute/cuda/repos/ubuntu2204/x86_64  libnvidia-cfg1-550 550.54.15-0ubuntu1 [145 kB]\n",
            "Get:78 https://developer.download.nvidia.com/compute/cuda/repos/ubuntu2204/x86_64  xserver-xorg-video-nvidia-550 550.54.15-0ubuntu1 [1,534 kB]\n",
            "Get:79 https://developer.download.nvidia.com/compute/cuda/repos/ubuntu2204/x86_64  libnvidia-fbc1-550 550.54.15-0ubuntu1 [54.9 kB]\n",
            "Get:80 https://developer.download.nvidia.com/compute/cuda/repos/ubuntu2204/x86_64  nvidia-driver-550 550.54.15-0ubuntu1 [489 kB]\n",
            "Get:81 https://developer.download.nvidia.com/compute/cuda/repos/ubuntu2204/x86_64  cuda-drivers-550 550.54.15-1 [2,542 B]\n",
            "Get:82 https://developer.download.nvidia.com/compute/cuda/repos/ubuntu2204/x86_64  cuda-drivers 550.54.15-1 [2,502 B]\n",
            "Get:83 https://developer.download.nvidia.com/compute/cuda/repos/ubuntu2204/x86_64  cuda-runtime-12-4 12.4.1-1 [2,498 B]\n",
            "Get:84 https://developer.download.nvidia.com/compute/cuda/repos/ubuntu2204/x86_64  cuda-cuobjdump-12-4 12.4.127-1 [225 kB]\n",
            "Get:85 https://developer.download.nvidia.com/compute/cuda/repos/ubuntu2204/x86_64  cuda-cuxxfilt-12-4 12.4.127-1 [191 kB]\n",
            "Get:86 https://developer.download.nvidia.com/compute/cuda/repos/ubuntu2204/x86_64  cuda-cccl-12-4 12.4.127-1 [1,200 kB]\n",
            "Get:87 https://developer.download.nvidia.com/compute/cuda/repos/ubuntu2204/x86_64  cuda-driver-dev-12-4 12.4.127-1 [28.6 kB]\n",
            "Get:88 https://developer.download.nvidia.com/compute/cuda/repos/ubuntu2204/x86_64  cuda-cudart-dev-12-4 12.4.127-1 [1,000 kB]\n",
            "Get:89 https://developer.download.nvidia.com/compute/cuda/repos/ubuntu2204/x86_64  cuda-nvvm-12-4 12.4.131-1 [19.5 MB]\n",
            "Get:90 https://developer.download.nvidia.com/compute/cuda/repos/ubuntu2204/x86_64  cuda-crt-12-4 12.4.131-1 [78.0 kB]\n",
            "Get:91 https://developer.download.nvidia.com/compute/cuda/repos/ubuntu2204/x86_64  cuda-nvcc-12-4 12.4.131-1 [32.0 MB]\n",
            "Get:92 https://developer.download.nvidia.com/compute/cuda/repos/ubuntu2204/x86_64  cuda-nvprune-12-4 12.4.127-1 [58.8 kB]\n",
            "Get:93 https://developer.download.nvidia.com/compute/cuda/repos/ubuntu2204/x86_64  cuda-compiler-12-4 12.4.1-1 [2,510 B]\n",
            "Get:94 https://developer.download.nvidia.com/compute/cuda/repos/ubuntu2204/x86_64  cuda-profiler-api-12-4 12.4.127-1 [18.7 kB]\n",
            "Get:95 https://developer.download.nvidia.com/compute/cuda/repos/ubuntu2204/x86_64  cuda-nvrtc-dev-12-4 12.4.127-1 [16.9 MB]\n",
            "Get:96 https://developer.download.nvidia.com/compute/cuda/repos/ubuntu2204/x86_64  cuda-opencl-dev-12-4 12.4.127-1 [87.0 kB]\n",
            "Get:97 https://developer.download.nvidia.com/compute/cuda/repos/ubuntu2204/x86_64  libcublas-dev-12-4 12.4.5.8-1 [249 MB]\n",
            "Get:98 https://developer.download.nvidia.com/compute/cuda/repos/ubuntu2204/x86_64  libcufft-dev-12-4 11.2.1.3-1 [342 MB]\n",
            "Get:99 https://developer.download.nvidia.com/compute/cuda/repos/ubuntu2204/x86_64  libcufile-dev-12-4 1.9.1.3-1 [2,435 kB]\n",
            "Get:100 https://developer.download.nvidia.com/compute/cuda/repos/ubuntu2204/x86_64  libcurand-dev-12-4 10.3.5.147-1 [41.6 MB]\n",
            "Get:101 https://developer.download.nvidia.com/compute/cuda/repos/ubuntu2204/x86_64  libcusolver-dev-12-4 11.6.1.9-1 [51.4 MB]\n",
            "Get:102 https://developer.download.nvidia.com/compute/cuda/repos/ubuntu2204/x86_64  libcusparse-dev-12-4 12.3.1.170-1 [116 MB]\n",
            "Get:103 https://developer.download.nvidia.com/compute/cuda/repos/ubuntu2204/x86_64  libnpp-dev-12-4 12.2.5.30-1 [92.0 MB]\n",
            "Get:104 https://developer.download.nvidia.com/compute/cuda/repos/ubuntu2204/x86_64  libnvjitlink-dev-12-4 12.4.127-1 [13.9 MB]\n",
            "Get:105 https://developer.download.nvidia.com/compute/cuda/repos/ubuntu2204/x86_64  libnvfatbin-dev-12-4 12.4.127-1 [591 kB]\n",
            "Get:106 https://developer.download.nvidia.com/compute/cuda/repos/ubuntu2204/x86_64  libnvjpeg-dev-12-4 12.3.1.117-1 [2,025 kB]\n",
            "Get:107 https://developer.download.nvidia.com/compute/cuda/repos/ubuntu2204/x86_64  cuda-libraries-dev-12-4 12.4.1-1 [2,646 B]\n",
            "Get:108 https://developer.download.nvidia.com/compute/cuda/repos/ubuntu2204/x86_64  cuda-cupti-12-4 12.4.127-1 [16.8 MB]\n",
            "Get:109 https://developer.download.nvidia.com/compute/cuda/repos/ubuntu2204/x86_64  cuda-cupti-dev-12-4 12.4.127-1 [3,830 kB]\n",
            "Get:110 https://developer.download.nvidia.com/compute/cuda/repos/ubuntu2204/x86_64  cuda-nvdisasm-12-4 12.4.127-1 [49.9 MB]\n",
            "Get:111 https://developer.download.nvidia.com/compute/cuda/repos/ubuntu2204/x86_64  cuda-gdb-12-4 12.4.127-1 [4,920 kB]\n",
            "Get:112 https://developer.download.nvidia.com/compute/cuda/repos/ubuntu2204/x86_64  cuda-nvprof-12-4 12.4.127-1 [2,431 kB]\n",
            "Get:113 https://developer.download.nvidia.com/compute/cuda/repos/ubuntu2204/x86_64  cuda-nvtx-12-4 12.4.127-1 [51.5 kB]\n",
            "Get:114 https://developer.download.nvidia.com/compute/cuda/repos/ubuntu2204/x86_64  cuda-sanitizer-12-4 12.4.127-1 [9,148 kB]\n",
            "Get:115 https://developer.download.nvidia.com/compute/cuda/repos/ubuntu2204/x86_64  cuda-command-line-tools-12-4 12.4.1-1 [2,538 B]\n",
            "Get:116 https://developer.download.nvidia.com/compute/cuda/repos/ubuntu2204/x86_64  nsight-compute-2024.1.1 2024.1.1.4-1 [594 MB]\n",
            "Get:117 https://developer.download.nvidia.com/compute/cuda/repos/ubuntu2204/x86_64  cuda-nsight-compute-12-4 12.4.1-1 [4,060 B]\n",
            "Get:118 https://developer.download.nvidia.com/compute/cuda/repos/ubuntu2204/x86_64  nsight-systems-2023.4.4 2023.4.4.54-234433681190v0 [316 MB]\n",
            "Get:119 https://developer.download.nvidia.com/compute/cuda/repos/ubuntu2204/x86_64  cuda-nsight-systems-12-4 12.4.1-1 [3,348 B]\n",
            "Get:120 https://developer.download.nvidia.com/compute/cuda/repos/ubuntu2204/x86_64  cuda-nsight-12-4 12.4.127-1 [119 MB]\n",
            "Get:121 https://developer.download.nvidia.com/compute/cuda/repos/ubuntu2204/x86_64  cuda-nvml-dev-12-4 12.4.127-1 [145 kB]\n",
            "Get:122 https://developer.download.nvidia.com/compute/cuda/repos/ubuntu2204/x86_64  cuda-nvvp-12-4 12.4.127-1 [115 MB]\n",
            "Get:123 https://developer.download.nvidia.com/compute/cuda/repos/ubuntu2204/x86_64  cuda-visual-tools-12-4 12.4.1-1 [2,942 B]\n",
            "Get:124 https://developer.download.nvidia.com/compute/cuda/repos/ubuntu2204/x86_64  gds-tools-12-4 1.9.1.3-1 [39.0 MB]\n",
            "Get:125 https://developer.download.nvidia.com/compute/cuda/repos/ubuntu2204/x86_64  cuda-tools-12-4 12.4.1-1 [2,462 B]\n",
            "Get:126 https://developer.download.nvidia.com/compute/cuda/repos/ubuntu2204/x86_64  cuda-documentation-12-4 12.4.127-1 [50.0 kB]\n",
            "Get:127 https://developer.download.nvidia.com/compute/cuda/repos/ubuntu2204/x86_64  cuda-toolkit-12-4 12.4.1-1 [3,336 B]\n",
            "Get:128 https://developer.download.nvidia.com/compute/cuda/repos/ubuntu2204/x86_64  cuda-demo-suite-12-4 12.4.127-1 [3,999 kB]\n",
            "Get:129 https://developer.download.nvidia.com/compute/cuda/repos/ubuntu2204/x86_64  cuda-12-4 12.4.1-1 [2,526 B]\n",
            "Get:130 https://developer.download.nvidia.com/compute/cuda/repos/ubuntu2204/x86_64  cuda 12.4.1-1 [2,470 B]\n",
            "Get:131 https://developer.download.nvidia.com/compute/cuda/repos/ubuntu2204/x86_64  nvidia-settings 550.54.15-0ubuntu1 [947 kB]\n",
            "Fetched 3,349 MB in 43s (77.2 MB/s)\n",
            "Extracting templates from packages: 100%\n",
            "Preconfiguring packages ...\n",
            "Selecting previously unselected package liblocale-gettext-perl.\n",
            "(Reading database ... 131015 files and directories currently installed.)\n",
            "Preparing to unpack .../0-liblocale-gettext-perl_1.07-4build3_amd64.deb ...\n",
            "Unpacking liblocale-gettext-perl (1.07-4build3) ...\n",
            "Selecting previously unselected package keyboard-configuration.\n",
            "Preparing to unpack .../1-keyboard-configuration_1.205ubuntu3_all.deb ...\n",
            "Unpacking keyboard-configuration (1.205ubuntu3) ...\n",
            "Selecting previously unselected package cpp-12.\n",
            "Preparing to unpack .../2-cpp-12_12.3.0-1ubuntu1~22.04_amd64.deb ...\n",
            "Unpacking cpp-12 (12.3.0-1ubuntu1~22.04) ...\n",
            "Selecting previously unselected package libasan8:amd64.\n",
            "Preparing to unpack .../3-libasan8_12.3.0-1ubuntu1~22.04_amd64.deb ...\n",
            "Unpacking libasan8:amd64 (12.3.0-1ubuntu1~22.04) ...\n",
            "Selecting previously unselected package libtsan2:amd64.\n",
            "Preparing to unpack .../4-libtsan2_12.3.0-1ubuntu1~22.04_amd64.deb ...\n",
            "Unpacking libtsan2:amd64 (12.3.0-1ubuntu1~22.04) ...\n",
            "Selecting previously unselected package libgcc-12-dev:amd64.\n",
            "Preparing to unpack .../5-libgcc-12-dev_12.3.0-1ubuntu1~22.04_amd64.deb ...\n",
            "Unpacking libgcc-12-dev:amd64 (12.3.0-1ubuntu1~22.04) ...\n",
            "Selecting previously unselected package gcc-12.\n",
            "Preparing to unpack .../6-gcc-12_12.3.0-1ubuntu1~22.04_amd64.deb ...\n",
            "Unpacking gcc-12 (12.3.0-1ubuntu1~22.04) ...\n",
            "Selecting previously unselected package dctrl-tools.\n",
            "Preparing to unpack .../7-dctrl-tools_2.24-3build2_amd64.deb ...\n",
            "Unpacking dctrl-tools (2.24-3build2) ...\n",
            "Selecting previously unselected package dkms.\n",
            "Preparing to unpack .../8-dkms_2.8.7-2ubuntu2.2_all.deb ...\n",
            "Unpacking dkms (2.8.7-2ubuntu2.2) ...\n",
            "Preparing to unpack .../9-libudev1_249.11-0ubuntu3.12_amd64.deb ...\n",
            "Unpacking libudev1:amd64 (249.11-0ubuntu3.12) over (249.11-0ubuntu3.10) ...\n",
            "Setting up libudev1:amd64 (249.11-0ubuntu3.12) ...\n",
            "Selecting previously unselected package udev.\n",
            "(Reading database ... 131375 files and directories currently installed.)\n",
            "Preparing to unpack .../000-udev_249.11-0ubuntu3.12_amd64.deb ...\n",
            "Unpacking udev (249.11-0ubuntu3.12) ...\n",
            "Selecting previously unselected package libjansson4:amd64.\n",
            "Preparing to unpack .../001-libjansson4_2.13.1-1.1build3_amd64.deb ...\n",
            "Unpacking libjansson4:amd64 (2.13.1-1.1build3) ...\n",
            "Selecting previously unselected package cuda-toolkit-12-4-config-common.\n",
            "Preparing to unpack .../002-cuda-toolkit-12-4-config-common_12.4.127-1_all.deb ...\n",
            "Unpacking cuda-toolkit-12-4-config-common (12.4.127-1) ...\n",
            "Selecting previously unselected package cuda-cudart-12-4.\n",
            "Preparing to unpack .../003-cuda-cudart-12-4_12.4.127-1_amd64.deb ...\n",
            "Unpacking cuda-cudart-12-4 (12.4.127-1) ...\n",
            "Selecting previously unselected package cuda-nvrtc-12-4.\n",
            "Preparing to unpack .../004-cuda-nvrtc-12-4_12.4.127-1_amd64.deb ...\n",
            "Unpacking cuda-nvrtc-12-4 (12.4.127-1) ...\n",
            "Selecting previously unselected package cuda-opencl-12-4.\n",
            "Preparing to unpack .../005-cuda-opencl-12-4_12.4.127-1_amd64.deb ...\n",
            "Unpacking cuda-opencl-12-4 (12.4.127-1) ...\n",
            "Selecting previously unselected package libcublas-12-4.\n",
            "Preparing to unpack .../006-libcublas-12-4_12.4.5.8-1_amd64.deb ...\n",
            "Unpacking libcublas-12-4 (12.4.5.8-1) ...\n",
            "Selecting previously unselected package libcufft-12-4.\n",
            "Preparing to unpack .../007-libcufft-12-4_11.2.1.3-1_amd64.deb ...\n",
            "Unpacking libcufft-12-4 (11.2.1.3-1) ...\n",
            "Selecting previously unselected package libcufile-12-4.\n",
            "Preparing to unpack .../008-libcufile-12-4_1.9.1.3-1_amd64.deb ...\n",
            "Unpacking libcufile-12-4 (1.9.1.3-1) ...\n",
            "Selecting previously unselected package libcurand-12-4.\n",
            "Preparing to unpack .../009-libcurand-12-4_10.3.5.147-1_amd64.deb ...\n",
            "Unpacking libcurand-12-4 (10.3.5.147-1) ...\n",
            "Selecting previously unselected package libcusolver-12-4.\n",
            "Preparing to unpack .../010-libcusolver-12-4_11.6.1.9-1_amd64.deb ...\n",
            "Unpacking libcusolver-12-4 (11.6.1.9-1) ...\n",
            "Selecting previously unselected package libcusparse-12-4.\n",
            "Preparing to unpack .../011-libcusparse-12-4_12.3.1.170-1_amd64.deb ...\n",
            "Unpacking libcusparse-12-4 (12.3.1.170-1) ...\n",
            "Selecting previously unselected package libnpp-12-4.\n",
            "Preparing to unpack .../012-libnpp-12-4_12.2.5.30-1_amd64.deb ...\n",
            "Unpacking libnpp-12-4 (12.2.5.30-1) ...\n",
            "Selecting previously unselected package libnvjitlink-12-4.\n",
            "Preparing to unpack .../013-libnvjitlink-12-4_12.4.127-1_amd64.deb ...\n",
            "Unpacking libnvjitlink-12-4 (12.4.127-1) ...\n",
            "Selecting previously unselected package libnvfatbin-12-4.\n",
            "Preparing to unpack .../014-libnvfatbin-12-4_12.4.127-1_amd64.deb ...\n",
            "Unpacking libnvfatbin-12-4 (12.4.127-1) ...\n",
            "Selecting previously unselected package libnvjpeg-12-4.\n",
            "Preparing to unpack .../015-libnvjpeg-12-4_12.3.1.117-1_amd64.deb ...\n",
            "Unpacking libnvjpeg-12-4 (12.3.1.117-1) ...\n",
            "Selecting previously unselected package cuda-libraries-12-4.\n",
            "Preparing to unpack .../016-cuda-libraries-12-4_12.4.1-1_amd64.deb ...\n",
            "Unpacking cuda-libraries-12-4 (12.4.1-1) ...\n",
            "Selecting previously unselected package libnvidia-common-550.\n",
            "Preparing to unpack .../017-libnvidia-common-550_550.54.15-0ubuntu1_all.deb ...\n",
            "Unpacking libnvidia-common-550 (550.54.15-0ubuntu1) ...\n",
            "Selecting previously unselected package libnvidia-compute-550:amd64.\n",
            "Preparing to unpack .../018-libnvidia-compute-550_550.54.15-0ubuntu1_amd64.deb ...\n",
            "Unpacking libnvidia-compute-550:amd64 (550.54.15-0ubuntu1) ...\n",
            "Selecting previously unselected package libnvidia-gl-550:amd64.\n",
            "Preparing to unpack .../019-libnvidia-gl-550_550.54.15-0ubuntu1_amd64.deb ...\n",
            "dpkg-query: no packages found matching libnvidia-gl-535\n",
            "Unpacking libnvidia-gl-550:amd64 (550.54.15-0ubuntu1) ...\n",
            "Selecting previously unselected package nvidia-kernel-source-550.\n",
            "Preparing to unpack .../020-nvidia-kernel-source-550_550.54.15-0ubuntu1_amd64.deb ...\n",
            "Unpacking nvidia-kernel-source-550 (550.54.15-0ubuntu1) ...\n",
            "Selecting previously unselected package nvidia-firmware-550-550.54.15.\n",
            "Preparing to unpack .../021-nvidia-firmware-550-550.54.15_550.54.15-0ubuntu1_amd64.deb ...\n",
            "Unpacking nvidia-firmware-550-550.54.15 (550.54.15-0ubuntu1) ...\n",
            "Selecting previously unselected package nvidia-kernel-common-550.\n",
            "Preparing to unpack .../022-nvidia-kernel-common-550_550.54.15-0ubuntu1_amd64.deb ...\n",
            "Unpacking nvidia-kernel-common-550 (550.54.15-0ubuntu1) ...\n",
            "Selecting previously unselected package nvidia-dkms-550.\n",
            "Preparing to unpack .../023-nvidia-dkms-550_550.54.15-0ubuntu1_amd64.deb ...\n",
            "Unpacking nvidia-dkms-550 (550.54.15-0ubuntu1) ...\n",
            "Selecting previously unselected package libnvidia-extra-550:amd64.\n",
            "Preparing to unpack .../024-libnvidia-extra-550_550.54.15-0ubuntu1_amd64.deb ...\n",
            "Unpacking libnvidia-extra-550:amd64 (550.54.15-0ubuntu1) ...\n",
            "Selecting previously unselected package nvidia-compute-utils-550.\n",
            "Preparing to unpack .../025-nvidia-compute-utils-550_550.54.15-0ubuntu1_amd64.deb ...\n",
            "Unpacking nvidia-compute-utils-550 (550.54.15-0ubuntu1) ...\n",
            "Selecting previously unselected package libnvidia-decode-550:amd64.\n",
            "Preparing to unpack .../026-libnvidia-decode-550_550.54.15-0ubuntu1_amd64.deb ...\n",
            "Unpacking libnvidia-decode-550:amd64 (550.54.15-0ubuntu1) ...\n",
            "Selecting previously unselected package libnvidia-encode-550:amd64.\n",
            "Preparing to unpack .../027-libnvidia-encode-550_550.54.15-0ubuntu1_amd64.deb ...\n",
            "Unpacking libnvidia-encode-550:amd64 (550.54.15-0ubuntu1) ...\n",
            "Selecting previously unselected package nvidia-utils-550.\n",
            "Preparing to unpack .../028-nvidia-utils-550_550.54.15-0ubuntu1_amd64.deb ...\n",
            "Unpacking nvidia-utils-550 (550.54.15-0ubuntu1) ...\n",
            "Selecting previously unselected package libnvidia-cfg1-550:amd64.\n",
            "Preparing to unpack .../029-libnvidia-cfg1-550_550.54.15-0ubuntu1_amd64.deb ...\n",
            "Unpacking libnvidia-cfg1-550:amd64 (550.54.15-0ubuntu1) ...\n",
            "Selecting previously unselected package libxkbfile1:amd64.\n",
            "Preparing to unpack .../030-libxkbfile1_1%3a1.1.0-1build3_amd64.deb ...\n",
            "Unpacking libxkbfile1:amd64 (1:1.1.0-1build3) ...\n",
            "Selecting previously unselected package x11-xkb-utils.\n",
            "Preparing to unpack .../031-x11-xkb-utils_7.7+5build4_amd64.deb ...\n",
            "Unpacking x11-xkb-utils (7.7+5build4) ...\n",
            "Selecting previously unselected package xserver-common.\n",
            "Preparing to unpack .../032-xserver-common_2%3a21.1.4-2ubuntu1.7~22.04.10_all.deb ...\n",
            "Unpacking xserver-common (2:21.1.4-2ubuntu1.7~22.04.10) ...\n",
            "Selecting previously unselected package libxcvt0:amd64.\n",
            "Preparing to unpack .../033-libxcvt0_0.1.1-3_amd64.deb ...\n",
            "Unpacking libxcvt0:amd64 (0.1.1-3) ...\n",
            "Selecting previously unselected package libfontenc1:amd64.\n",
            "Preparing to unpack .../034-libfontenc1_1%3a1.1.4-1build3_amd64.deb ...\n",
            "Unpacking libfontenc1:amd64 (1:1.1.4-1build3) ...\n",
            "Selecting previously unselected package libxfont2:amd64.\n",
            "Preparing to unpack .../035-libxfont2_1%3a2.0.5-1build1_amd64.deb ...\n",
            "Unpacking libxfont2:amd64 (1:2.0.5-1build1) ...\n",
            "Selecting previously unselected package xserver-xorg-core.\n",
            "Preparing to unpack .../036-xserver-xorg-core_2%3a21.1.4-2ubuntu1.7~22.04.10_amd64.deb ...\n",
            "Unpacking xserver-xorg-core (2:21.1.4-2ubuntu1.7~22.04.10) ...\n",
            "Selecting previously unselected package xserver-xorg-video-nvidia-550.\n",
            "Preparing to unpack .../037-xserver-xorg-video-nvidia-550_550.54.15-0ubuntu1_amd64.deb ...\n",
            "Unpacking xserver-xorg-video-nvidia-550 (550.54.15-0ubuntu1) ...\n",
            "Selecting previously unselected package libnvidia-fbc1-550:amd64.\n",
            "Preparing to unpack .../038-libnvidia-fbc1-550_550.54.15-0ubuntu1_amd64.deb ...\n",
            "Unpacking libnvidia-fbc1-550:amd64 (550.54.15-0ubuntu1) ...\n",
            "Selecting previously unselected package nvidia-driver-550.\n",
            "Preparing to unpack .../039-nvidia-driver-550_550.54.15-0ubuntu1_amd64.deb ...\n",
            "Unpacking nvidia-driver-550 (550.54.15-0ubuntu1) ...\n",
            "Selecting previously unselected package cuda-drivers-550.\n",
            "Preparing to unpack .../040-cuda-drivers-550_550.54.15-1_amd64.deb ...\n",
            "Unpacking cuda-drivers-550 (550.54.15-1) ...\n",
            "Selecting previously unselected package cuda-drivers.\n",
            "Preparing to unpack .../041-cuda-drivers_550.54.15-1_amd64.deb ...\n",
            "Unpacking cuda-drivers (550.54.15-1) ...\n",
            "Selecting previously unselected package cuda-runtime-12-4.\n",
            "Preparing to unpack .../042-cuda-runtime-12-4_12.4.1-1_amd64.deb ...\n",
            "Unpacking cuda-runtime-12-4 (12.4.1-1) ...\n",
            "Selecting previously unselected package cuda-cuobjdump-12-4.\n",
            "Preparing to unpack .../043-cuda-cuobjdump-12-4_12.4.127-1_amd64.deb ...\n",
            "Unpacking cuda-cuobjdump-12-4 (12.4.127-1) ...\n",
            "Selecting previously unselected package cuda-cuxxfilt-12-4.\n",
            "Preparing to unpack .../044-cuda-cuxxfilt-12-4_12.4.127-1_amd64.deb ...\n",
            "Unpacking cuda-cuxxfilt-12-4 (12.4.127-1) ...\n",
            "Selecting previously unselected package cuda-cccl-12-4.\n",
            "Preparing to unpack .../045-cuda-cccl-12-4_12.4.127-1_amd64.deb ...\n",
            "Unpacking cuda-cccl-12-4 (12.4.127-1) ...\n",
            "Selecting previously unselected package cuda-driver-dev-12-4.\n",
            "Preparing to unpack .../046-cuda-driver-dev-12-4_12.4.127-1_amd64.deb ...\n",
            "Unpacking cuda-driver-dev-12-4 (12.4.127-1) ...\n",
            "Selecting previously unselected package cuda-cudart-dev-12-4.\n",
            "Preparing to unpack .../047-cuda-cudart-dev-12-4_12.4.127-1_amd64.deb ...\n",
            "Unpacking cuda-cudart-dev-12-4 (12.4.127-1) ...\n",
            "Selecting previously unselected package cuda-nvvm-12-4.\n",
            "Preparing to unpack .../048-cuda-nvvm-12-4_12.4.131-1_amd64.deb ...\n",
            "Unpacking cuda-nvvm-12-4 (12.4.131-1) ...\n",
            "Selecting previously unselected package cuda-crt-12-4.\n",
            "Preparing to unpack .../049-cuda-crt-12-4_12.4.131-1_amd64.deb ...\n",
            "Unpacking cuda-crt-12-4 (12.4.131-1) ...\n",
            "Selecting previously unselected package cuda-nvcc-12-4.\n",
            "Preparing to unpack .../050-cuda-nvcc-12-4_12.4.131-1_amd64.deb ...\n",
            "Unpacking cuda-nvcc-12-4 (12.4.131-1) ...\n",
            "Selecting previously unselected package cuda-nvprune-12-4.\n",
            "Preparing to unpack .../051-cuda-nvprune-12-4_12.4.127-1_amd64.deb ...\n",
            "Unpacking cuda-nvprune-12-4 (12.4.127-1) ...\n",
            "Selecting previously unselected package cuda-compiler-12-4.\n",
            "Preparing to unpack .../052-cuda-compiler-12-4_12.4.1-1_amd64.deb ...\n",
            "Unpacking cuda-compiler-12-4 (12.4.1-1) ...\n",
            "Selecting previously unselected package cuda-profiler-api-12-4.\n",
            "Preparing to unpack .../053-cuda-profiler-api-12-4_12.4.127-1_amd64.deb ...\n",
            "Unpacking cuda-profiler-api-12-4 (12.4.127-1) ...\n",
            "Selecting previously unselected package cuda-nvrtc-dev-12-4.\n",
            "Preparing to unpack .../054-cuda-nvrtc-dev-12-4_12.4.127-1_amd64.deb ...\n",
            "Unpacking cuda-nvrtc-dev-12-4 (12.4.127-1) ...\n",
            "Selecting previously unselected package cuda-opencl-dev-12-4.\n",
            "Preparing to unpack .../055-cuda-opencl-dev-12-4_12.4.127-1_amd64.deb ...\n",
            "Unpacking cuda-opencl-dev-12-4 (12.4.127-1) ...\n",
            "Selecting previously unselected package libcublas-dev-12-4.\n",
            "Preparing to unpack .../056-libcublas-dev-12-4_12.4.5.8-1_amd64.deb ...\n",
            "Unpacking libcublas-dev-12-4 (12.4.5.8-1) ...\n",
            "Selecting previously unselected package libcufft-dev-12-4.\n",
            "Preparing to unpack .../057-libcufft-dev-12-4_11.2.1.3-1_amd64.deb ...\n",
            "Unpacking libcufft-dev-12-4 (11.2.1.3-1) ...\n",
            "Selecting previously unselected package libcufile-dev-12-4.\n",
            "Preparing to unpack .../058-libcufile-dev-12-4_1.9.1.3-1_amd64.deb ...\n",
            "Unpacking libcufile-dev-12-4 (1.9.1.3-1) ...\n",
            "Selecting previously unselected package libcurand-dev-12-4.\n",
            "Preparing to unpack .../059-libcurand-dev-12-4_10.3.5.147-1_amd64.deb ...\n",
            "Unpacking libcurand-dev-12-4 (10.3.5.147-1) ...\n",
            "Selecting previously unselected package libcusolver-dev-12-4.\n",
            "Preparing to unpack .../060-libcusolver-dev-12-4_11.6.1.9-1_amd64.deb ...\n",
            "Unpacking libcusolver-dev-12-4 (11.6.1.9-1) ...\n",
            "Selecting previously unselected package libcusparse-dev-12-4.\n",
            "Preparing to unpack .../061-libcusparse-dev-12-4_12.3.1.170-1_amd64.deb ...\n",
            "Unpacking libcusparse-dev-12-4 (12.3.1.170-1) ...\n",
            "Selecting previously unselected package libnpp-dev-12-4.\n",
            "Preparing to unpack .../062-libnpp-dev-12-4_12.2.5.30-1_amd64.deb ...\n",
            "Unpacking libnpp-dev-12-4 (12.2.5.30-1) ...\n",
            "Selecting previously unselected package libnvjitlink-dev-12-4.\n",
            "Preparing to unpack .../063-libnvjitlink-dev-12-4_12.4.127-1_amd64.deb ...\n",
            "Unpacking libnvjitlink-dev-12-4 (12.4.127-1) ...\n",
            "Selecting previously unselected package libnvfatbin-dev-12-4.\n",
            "Preparing to unpack .../064-libnvfatbin-dev-12-4_12.4.127-1_amd64.deb ...\n",
            "Unpacking libnvfatbin-dev-12-4 (12.4.127-1) ...\n",
            "Selecting previously unselected package libnvjpeg-dev-12-4.\n",
            "Preparing to unpack .../065-libnvjpeg-dev-12-4_12.3.1.117-1_amd64.deb ...\n",
            "Unpacking libnvjpeg-dev-12-4 (12.3.1.117-1) ...\n",
            "Selecting previously unselected package cuda-libraries-dev-12-4.\n",
            "Preparing to unpack .../066-cuda-libraries-dev-12-4_12.4.1-1_amd64.deb ...\n",
            "Unpacking cuda-libraries-dev-12-4 (12.4.1-1) ...\n",
            "Selecting previously unselected package cuda-cupti-12-4.\n",
            "Preparing to unpack .../067-cuda-cupti-12-4_12.4.127-1_amd64.deb ...\n",
            "Unpacking cuda-cupti-12-4 (12.4.127-1) ...\n",
            "Selecting previously unselected package cuda-cupti-dev-12-4.\n",
            "Preparing to unpack .../068-cuda-cupti-dev-12-4_12.4.127-1_amd64.deb ...\n",
            "Unpacking cuda-cupti-dev-12-4 (12.4.127-1) ...\n",
            "Selecting previously unselected package cuda-nvdisasm-12-4.\n",
            "Preparing to unpack .../069-cuda-nvdisasm-12-4_12.4.127-1_amd64.deb ...\n",
            "Unpacking cuda-nvdisasm-12-4 (12.4.127-1) ...\n",
            "Selecting previously unselected package cuda-gdb-12-4.\n",
            "Preparing to unpack .../070-cuda-gdb-12-4_12.4.127-1_amd64.deb ...\n",
            "Unpacking cuda-gdb-12-4 (12.4.127-1) ...\n",
            "Selecting previously unselected package cuda-nvprof-12-4.\n",
            "Preparing to unpack .../071-cuda-nvprof-12-4_12.4.127-1_amd64.deb ...\n",
            "Unpacking cuda-nvprof-12-4 (12.4.127-1) ...\n",
            "Selecting previously unselected package cuda-nvtx-12-4.\n",
            "Preparing to unpack .../072-cuda-nvtx-12-4_12.4.127-1_amd64.deb ...\n",
            "Unpacking cuda-nvtx-12-4 (12.4.127-1) ...\n",
            "Selecting previously unselected package cuda-sanitizer-12-4.\n",
            "Preparing to unpack .../073-cuda-sanitizer-12-4_12.4.127-1_amd64.deb ...\n",
            "Unpacking cuda-sanitizer-12-4 (12.4.127-1) ...\n",
            "Selecting previously unselected package cuda-command-line-tools-12-4.\n",
            "Preparing to unpack .../074-cuda-command-line-tools-12-4_12.4.1-1_amd64.deb ...\n",
            "Unpacking cuda-command-line-tools-12-4 (12.4.1-1) ...\n",
            "Selecting previously unselected package nsight-compute-2024.1.1.\n",
            "Preparing to unpack .../075-nsight-compute-2024.1.1_2024.1.1.4-1_amd64.deb ...\n",
            "Unpacking nsight-compute-2024.1.1 (2024.1.1.4-1) ...\n",
            "Selecting previously unselected package cuda-nsight-compute-12-4.\n",
            "Preparing to unpack .../076-cuda-nsight-compute-12-4_12.4.1-1_amd64.deb ...\n",
            "Unpacking cuda-nsight-compute-12-4 (12.4.1-1) ...\n",
            "Selecting previously unselected package libtinfo5:amd64.\n",
            "Preparing to unpack .../077-libtinfo5_6.3-2ubuntu0.1_amd64.deb ...\n",
            "Unpacking libtinfo5:amd64 (6.3-2ubuntu0.1) ...\n",
            "Selecting previously unselected package libxcb-xinerama0:amd64.\n",
            "Preparing to unpack .../078-libxcb-xinerama0_1.14-3ubuntu3_amd64.deb ...\n",
            "Unpacking libxcb-xinerama0:amd64 (1.14-3ubuntu3) ...\n",
            "Selecting previously unselected package libxcb-icccm4:amd64.\n",
            "Preparing to unpack .../079-libxcb-icccm4_0.4.1-1.1build2_amd64.deb ...\n",
            "Unpacking libxcb-icccm4:amd64 (0.4.1-1.1build2) ...\n",
            "Selecting previously unselected package libxcb-util1:amd64.\n",
            "Preparing to unpack .../080-libxcb-util1_0.4.0-1build2_amd64.deb ...\n",
            "Unpacking libxcb-util1:amd64 (0.4.0-1build2) ...\n",
            "Selecting previously unselected package libxcb-image0:amd64.\n",
            "Preparing to unpack .../081-libxcb-image0_0.4.0-2_amd64.deb ...\n",
            "Unpacking libxcb-image0:amd64 (0.4.0-2) ...\n",
            "Selecting previously unselected package libxcb-keysyms1:amd64.\n",
            "Preparing to unpack .../082-libxcb-keysyms1_0.4.0-1build3_amd64.deb ...\n",
            "Unpacking libxcb-keysyms1:amd64 (0.4.0-1build3) ...\n",
            "Selecting previously unselected package libxcb-render-util0:amd64.\n",
            "Preparing to unpack .../083-libxcb-render-util0_0.3.9-1build3_amd64.deb ...\n",
            "Unpacking libxcb-render-util0:amd64 (0.3.9-1build3) ...\n",
            "Selecting previously unselected package libxcb-xkb1:amd64.\n",
            "Preparing to unpack .../084-libxcb-xkb1_1.14-3ubuntu3_amd64.deb ...\n",
            "Unpacking libxcb-xkb1:amd64 (1.14-3ubuntu3) ...\n",
            "Selecting previously unselected package libxkbcommon-x11-0:amd64.\n",
            "Preparing to unpack .../085-libxkbcommon-x11-0_1.4.0-1_amd64.deb ...\n",
            "Unpacking libxkbcommon-x11-0:amd64 (1.4.0-1) ...\n",
            "Selecting previously unselected package libxcb-xinput0:amd64.\n",
            "Preparing to unpack .../086-libxcb-xinput0_1.14-3ubuntu3_amd64.deb ...\n",
            "Unpacking libxcb-xinput0:amd64 (1.14-3ubuntu3) ...\n",
            "Selecting previously unselected package libxtst6:amd64.\n",
            "Preparing to unpack .../087-libxtst6_2%3a1.2.3-1build4_amd64.deb ...\n",
            "Unpacking libxtst6:amd64 (2:1.2.3-1build4) ...\n",
            "Selecting previously unselected package nsight-systems-2023.4.4.\n",
            "Preparing to unpack .../088-nsight-systems-2023.4.4_2023.4.4.54-234433681190v0_amd64.deb ...\n",
            "Unpacking nsight-systems-2023.4.4 (2023.4.4.54-234433681190v0) ...\n",
            "Selecting previously unselected package cuda-nsight-systems-12-4.\n",
            "Preparing to unpack .../089-cuda-nsight-systems-12-4_12.4.1-1_amd64.deb ...\n",
            "Unpacking cuda-nsight-systems-12-4 (12.4.1-1) ...\n",
            "Selecting previously unselected package default-jre-headless.\n",
            "Preparing to unpack .../090-default-jre-headless_2%3a1.11-72build2_amd64.deb ...\n",
            "Unpacking default-jre-headless (2:1.11-72build2) ...\n",
            "Selecting previously unselected package openjdk-11-jre:amd64.\n",
            "Preparing to unpack .../091-openjdk-11-jre_11.0.22+7-0ubuntu2~22.04.1_amd64.deb ...\n",
            "Unpacking openjdk-11-jre:amd64 (11.0.22+7-0ubuntu2~22.04.1) ...\n",
            "Selecting previously unselected package default-jre.\n",
            "Preparing to unpack .../092-default-jre_2%3a1.11-72build2_amd64.deb ...\n",
            "Unpacking default-jre (2:1.11-72build2) ...\n",
            "Selecting previously unselected package cuda-nsight-12-4.\n",
            "Preparing to unpack .../093-cuda-nsight-12-4_12.4.127-1_amd64.deb ...\n",
            "Unpacking cuda-nsight-12-4 (12.4.127-1) ...\n",
            "Selecting previously unselected package cuda-nvml-dev-12-4.\n",
            "Preparing to unpack .../094-cuda-nvml-dev-12-4_12.4.127-1_amd64.deb ...\n",
            "Unpacking cuda-nvml-dev-12-4 (12.4.127-1) ...\n",
            "Selecting previously unselected package cuda-nvvp-12-4.\n",
            "Preparing to unpack .../095-cuda-nvvp-12-4_12.4.127-1_amd64.deb ...\n",
            "Unpacking cuda-nvvp-12-4 (12.4.127-1) ...\n",
            "Selecting previously unselected package cuda-visual-tools-12-4.\n",
            "Preparing to unpack .../096-cuda-visual-tools-12-4_12.4.1-1_amd64.deb ...\n",
            "Unpacking cuda-visual-tools-12-4 (12.4.1-1) ...\n",
            "Selecting previously unselected package gds-tools-12-4.\n",
            "Preparing to unpack .../097-gds-tools-12-4_1.9.1.3-1_amd64.deb ...\n",
            "Unpacking gds-tools-12-4 (1.9.1.3-1) ...\n",
            "Selecting previously unselected package cuda-tools-12-4.\n",
            "Preparing to unpack .../098-cuda-tools-12-4_12.4.1-1_amd64.deb ...\n",
            "Unpacking cuda-tools-12-4 (12.4.1-1) ...\n",
            "Selecting previously unselected package cuda-documentation-12-4.\n",
            "Preparing to unpack .../099-cuda-documentation-12-4_12.4.127-1_amd64.deb ...\n",
            "Unpacking cuda-documentation-12-4 (12.4.127-1) ...\n",
            "Selecting previously unselected package cuda-toolkit-12-4.\n",
            "Preparing to unpack .../100-cuda-toolkit-12-4_12.4.1-1_amd64.deb ...\n",
            "Unpacking cuda-toolkit-12-4 (12.4.1-1) ...\n",
            "Selecting previously unselected package cuda-demo-suite-12-4.\n",
            "Preparing to unpack .../101-cuda-demo-suite-12-4_12.4.127-1_amd64.deb ...\n",
            "Unpacking cuda-demo-suite-12-4 (12.4.127-1) ...\n",
            "Selecting previously unselected package cuda-12-4.\n",
            "Preparing to unpack .../102-cuda-12-4_12.4.1-1_amd64.deb ...\n",
            "Unpacking cuda-12-4 (12.4.1-1) ...\n",
            "Selecting previously unselected package cuda.\n",
            "Preparing to unpack .../103-cuda_12.4.1-1_amd64.deb ...\n",
            "Unpacking cuda (12.4.1-1) ...\n",
            "Selecting previously unselected package libfakeroot:amd64.\n",
            "Preparing to unpack .../104-libfakeroot_1.28-1ubuntu1_amd64.deb ...\n",
            "Unpacking libfakeroot:amd64 (1.28-1ubuntu1) ...\n",
            "Selecting previously unselected package fakeroot.\n",
            "Preparing to unpack .../105-fakeroot_1.28-1ubuntu1_amd64.deb ...\n",
            "Unpacking fakeroot (1.28-1ubuntu1) ...\n",
            "Selecting previously unselected package fonts-dejavu-core.\n",
            "Preparing to unpack .../106-fonts-dejavu-core_2.37-2build1_all.deb ...\n",
            "Unpacking fonts-dejavu-core (2.37-2build1) ...\n",
            "Selecting previously unselected package fonts-dejavu-extra.\n",
            "Preparing to unpack .../107-fonts-dejavu-extra_2.37-2build1_all.deb ...\n",
            "Unpacking fonts-dejavu-extra (2.37-2build1) ...\n",
            "Selecting previously unselected package libxxf86dga1:amd64.\n",
            "Preparing to unpack .../108-libxxf86dga1_2%3a1.1.5-0ubuntu3_amd64.deb ...\n",
            "Unpacking libxxf86dga1:amd64 (2:1.1.5-0ubuntu3) ...\n",
            "Selecting previously unselected package x11-utils.\n",
            "Preparing to unpack .../109-x11-utils_7.7+5build2_amd64.deb ...\n",
            "Unpacking x11-utils (7.7+5build2) ...\n",
            "Selecting previously unselected package libatk-wrapper-java.\n",
            "Preparing to unpack .../110-libatk-wrapper-java_0.38.0-5build1_all.deb ...\n",
            "Unpacking libatk-wrapper-java (0.38.0-5build1) ...\n",
            "Selecting previously unselected package libatk-wrapper-java-jni:amd64.\n",
            "Preparing to unpack .../111-libatk-wrapper-java-jni_0.38.0-5build1_amd64.deb ...\n",
            "Unpacking libatk-wrapper-java-jni:amd64 (0.38.0-5build1) ...\n",
            "Selecting previously unselected package nvidia-prime.\n",
            "Preparing to unpack .../112-nvidia-prime_0.8.17.1_all.deb ...\n",
            "Unpacking nvidia-prime (0.8.17.1) ...\n",
            "Selecting previously unselected package python3-xkit.\n",
            "Preparing to unpack .../113-python3-xkit_0.5.0ubuntu5_all.deb ...\n",
            "Unpacking python3-xkit (0.5.0ubuntu5) ...\n",
            "Selecting previously unselected package screen-resolution-extra.\n",
            "Preparing to unpack .../114-screen-resolution-extra_0.18.2_all.deb ...\n",
            "Unpacking screen-resolution-extra (0.18.2) ...\n",
            "Selecting previously unselected package nvidia-settings.\n",
            "Preparing to unpack .../115-nvidia-settings_550.54.15-0ubuntu1_amd64.deb ...\n",
            "Unpacking nvidia-settings (550.54.15-0ubuntu1) ...\n",
            "Selecting previously unselected package systemd-hwe-hwdb.\n",
            "Preparing to unpack .../116-systemd-hwe-hwdb_249.11.5_all.deb ...\n",
            "Unpacking systemd-hwe-hwdb (249.11.5) ...\n",
            "Selecting previously unselected package xcvt.\n",
            "Preparing to unpack .../117-xcvt_0.1.1-3_amd64.deb ...\n",
            "Unpacking xcvt (0.1.1-3) ...\n",
            "Selecting previously unselected package xfonts-encodings.\n",
            "Preparing to unpack .../118-xfonts-encodings_1%3a1.0.5-0ubuntu2_all.deb ...\n",
            "Unpacking xfonts-encodings (1:1.0.5-0ubuntu2) ...\n",
            "Selecting previously unselected package xfonts-utils.\n",
            "Preparing to unpack .../119-xfonts-utils_1%3a7.7+6build2_amd64.deb ...\n",
            "Unpacking xfonts-utils (1:7.7+6build2) ...\n",
            "Selecting previously unselected package xfonts-base.\n",
            "Preparing to unpack .../120-xfonts-base_1%3a1.0.5_all.deb ...\n",
            "Unpacking xfonts-base (1:1.0.5) ...\n",
            "Setting up cuda-cupti-12-4 (12.4.127-1) ...\n",
            "Setting up cuda-nvml-dev-12-4 (12.4.127-1) ...\n",
            "Setting up cpp-12 (12.3.0-1ubuntu1~22.04) ...\n",
            "Setting up default-jre-headless (2:1.11-72build2) ...\n",
            "Setting up cuda-cccl-12-4 (12.4.127-1) ...\n",
            "Setting up libxcb-xinput0:amd64 (1.14-3ubuntu3) ...\n",
            "Setting up cuda-cupti-dev-12-4 (12.4.127-1) ...\n",
            "Setting up libnvidia-compute-550:amd64 (550.54.15-0ubuntu1) ...\n",
            "Setting up nvidia-prime (0.8.17.1) ...\n",
            "Setting up gds-tools-12-4 (1.9.1.3-1) ...\n",
            "Setting up libxtst6:amd64 (2:1.2.3-1build4) ...\n",
            "Setting up libnvidia-common-550 (550.54.15-0ubuntu1) ...\n",
            "Setting up cuda-documentation-12-4 (12.4.127-1) ...\n",
            "Setting up libxcb-keysyms1:amd64 (0.4.0-1build3) ...\n",
            "Setting up libxxf86dga1:amd64 (2:1.1.5-0ubuntu3) ...\n",
            "Setting up nvidia-firmware-550-550.54.15 (550.54.15-0ubuntu1) ...\n",
            "Setting up libxcb-render-util0:amd64 (0.3.9-1build3) ...\n",
            "Setting up nvidia-utils-550 (550.54.15-0ubuntu1) ...\n",
            "Setting up openjdk-11-jre:amd64 (11.0.22+7-0ubuntu2~22.04.1) ...\n",
            "Setting up libxcb-icccm4:amd64 (0.4.1-1.1build2) ...\n",
            "Setting up default-jre (2:1.11-72build2) ...\n",
            "Setting up cuda-profiler-api-12-4 (12.4.127-1) ...\n",
            "Setting up cuda-demo-suite-12-4 (12.4.127-1) ...\n",
            "Setting up libnvidia-fbc1-550:amd64 (550.54.15-0ubuntu1) ...\n",
            "Setting up libnvidia-cfg1-550:amd64 (550.54.15-0ubuntu1) ...\n",
            "Setting up cuda-nvdisasm-12-4 (12.4.127-1) ...\n",
            "Setting up nvidia-compute-utils-550 (550.54.15-0ubuntu1) ...\n",
            "Warning: The home dir /nonexistent you specified can't be accessed: No such file or directory\n",
            "Adding system user `nvidia-persistenced' (UID 104) ...\n",
            "Adding new group `nvidia-persistenced' (GID 107) ...\n",
            "Adding new user `nvidia-persistenced' (UID 104) with group `nvidia-persistenced' ...\n",
            "Not creating home directory `/nonexistent'.\n",
            "Setting up libfakeroot:amd64 (1.28-1ubuntu1) ...\n",
            "Setting up libxcb-util1:amd64 (0.4.0-1build2) ...\n",
            "Setting up libjansson4:amd64 (2.13.1-1.1build3) ...\n",
            "Setting up libxcb-xkb1:amd64 (1.14-3ubuntu3) ...\n",
            "Setting up libxcb-image0:amd64 (0.4.0-2) ...\n",
            "Setting up fakeroot (1.28-1ubuntu1) ...\n",
            "update-alternatives: using /usr/bin/fakeroot-sysv to provide /usr/bin/fakeroot (fakeroot) in auto mode\n",
            "Setting up cuda-nvvm-12-4 (12.4.131-1) ...\n",
            "Setting up cuda-nvprune-12-4 (12.4.127-1) ...\n",
            "Setting up libfontenc1:amd64 (1:1.1.4-1build3) ...\n",
            "Setting up libxcb-xinerama0:amd64 (1.14-3ubuntu3) ...\n",
            "Setting up cuda-nvtx-12-4 (12.4.127-1) ...\n",
            "Setting up cuda-cuxxfilt-12-4 (12.4.127-1) ...\n",
            "Setting up xfonts-encodings (1:1.0.5-0ubuntu2) ...\n",
            "Setting up libxkbcommon-x11-0:amd64 (1.4.0-1) ...\n",
            "Setting up udev (249.11-0ubuntu3.12) ...\n",
            "invoke-rc.d: could not determine current runlevel\n",
            "invoke-rc.d: policy-rc.d denied execution of start.\n",
            "Setting up fonts-dejavu-core (2.37-2build1) ...\n",
            "Setting up cuda-nsight-12-4 (12.4.127-1) ...\n",
            "Setting up systemd-hwe-hwdb (249.11.5) ...\n",
            "Setting up libnvidia-gl-550:amd64 (550.54.15-0ubuntu1) ...\n",
            "Setting up nvidia-kernel-common-550 (550.54.15-0ubuntu1) ...\n",
            "Created symlink /etc/systemd/system/systemd-hibernate.service.wants/nvidia-hibernate.service → /lib/systemd/system/nvidia-hibernate.service.\n",
            "Created symlink /etc/systemd/system/systemd-suspend.service.wants/nvidia-resume.service → /lib/systemd/system/nvidia-resume.service.\n",
            "Created symlink /etc/systemd/system/systemd-hibernate.service.wants/nvidia-resume.service → /lib/systemd/system/nvidia-resume.service.\n",
            "Created symlink /etc/systemd/system/systemd-suspend.service.wants/nvidia-suspend.service → /lib/systemd/system/nvidia-suspend.service.\n",
            "Setting up fonts-dejavu-extra (2.37-2build1) ...\n",
            "Setting up nsight-compute-2024.1.1 (2024.1.1.4-1) ...\n",
            "Setting up libnvidia-extra-550:amd64 (550.54.15-0ubuntu1) ...\n",
            "Setting up cuda-driver-dev-12-4 (12.4.127-1) ...\n",
            "Setting up cuda-nvprof-12-4 (12.4.127-1) ...\n",
            "Setting up libasan8:amd64 (12.3.0-1ubuntu1~22.04) ...\n",
            "Setting up libxcvt0:amd64 (0.1.1-3) ...\n",
            "Setting up nvidia-kernel-source-550 (550.54.15-0ubuntu1) ...\n",
            "Setting up libxkbfile1:amd64 (1:1.1.0-1build3) ...\n",
            "Setting up libtsan2:amd64 (12.3.0-1ubuntu1~22.04) ...\n",
            "Setting up python3-xkit (0.5.0ubuntu5) ...\n",
            "Setting up libtinfo5:amd64 (6.3-2ubuntu0.1) ...\n",
            "Setting up cuda-cuobjdump-12-4 (12.4.127-1) ...\n",
            "Setting up libxfont2:amd64 (1:2.0.5-1build1) ...\n",
            "Setting up cuda-toolkit-12-4-config-common (12.4.127-1) ...\n",
            "Setting alternatives\n",
            "update-alternatives: using /usr/local/cuda-12.4 to provide /usr/local/cuda (cuda) in auto mode\n",
            "update-alternatives: using /usr/local/cuda-12.4 to provide /usr/local/cuda-12 (cuda-12) in auto mode\n",
            "Setting up libnvjitlink-12-4 (12.4.127-1) ...\n",
            "Setting up cuda-nvrtc-12-4 (12.4.127-1) ...\n",
            "Setting up liblocale-gettext-perl (1.07-4build3) ...\n",
            "Setting up cuda-sanitizer-12-4 (12.4.127-1) ...\n",
            "Setting up dctrl-tools (2.24-3build2) ...\n",
            "Setting up libcurand-12-4 (10.3.5.147-1) ...\n",
            "Setting up libnpp-12-4 (12.2.5.30-1) ...\n",
            "Setting up libnvidia-decode-550:amd64 (550.54.15-0ubuntu1) ...\n",
            "Setting up x11-xkb-utils (7.7+5build4) ...\n",
            "Setting up libcufft-12-4 (11.2.1.3-1) ...\n",
            "Setting up cuda-nvvp-12-4 (12.4.127-1) ...\n",
            "Setting up libnvjitlink-dev-12-4 (12.4.127-1) ...\n",
            "Setting up libcublas-12-4 (12.4.5.8-1) ...\n",
            "Setting up libcusparse-12-4 (12.3.1.170-1) ...\n",
            "Setting up xfonts-utils (1:7.7+6build2) ...\n",
            "Setting up libnvidia-encode-550:amd64 (550.54.15-0ubuntu1) ...\n",
            "Setting up xcvt (0.1.1-3) ...\n",
            "Setting up libnvfatbin-12-4 (12.4.127-1) ...\n",
            "Setting up libcurand-dev-12-4 (10.3.5.147-1) ...\n",
            "Setting up libnvjpeg-12-4 (12.3.1.117-1) ...\n",
            "Setting up cuda-nsight-compute-12-4 (12.4.1-1) ...\n",
            "Setting up xfonts-base (1:1.0.5) ...\n",
            "Setting up libcufile-12-4 (1.9.1.3-1) ...\n",
            "Setting alternatives\n",
            "update-alternatives: using /usr/local/cuda-12.4/gds/cufile.json to provide /etc/cufile.json (cufile.json) in auto mode\n",
            "Setting up nsight-systems-2023.4.4 (2023.4.4.54-234433681190v0) ...\n",
            "update-alternatives: using /opt/nvidia/nsight-systems/2023.4.4/target-linux-x64/nsys to provide /usr/local/bin/nsys (nsys) in auto mode\n",
            "update-alternatives: using /opt/nvidia/nsight-systems/2023.4.4/host-linux-x64/nsys-ui to provide /usr/local/bin/nsys-ui (nsys-ui) in auto mode\n",
            "Setting up libnpp-dev-12-4 (12.2.5.30-1) ...\n",
            "Setting up cuda-opencl-12-4 (12.4.127-1) ...\n",
            "Setting up libcusparse-dev-12-4 (12.3.1.170-1) ...\n",
            "Setting up libgcc-12-dev:amd64 (12.3.0-1ubuntu1~22.04) ...\n",
            "Setting up cuda-nvrtc-dev-12-4 (12.4.127-1) ...\n",
            "Setting up libcublas-dev-12-4 (12.4.5.8-1) ...\n",
            "Setting up cuda-cudart-12-4 (12.4.127-1) ...\n",
            "Setting up cuda-gdb-12-4 (12.4.127-1) ...\n",
            "Setting up screen-resolution-extra (0.18.2) ...\n",
            "Setting up x11-utils (7.7+5build2) ...\n",
            "Setting up nvidia-settings (550.54.15-0ubuntu1) ...\n",
            "Setting up libcusolver-12-4 (11.6.1.9-1) ...\n",
            "Setting up libatk-wrapper-java (0.38.0-5build1) ...\n",
            "Setting up xserver-common (2:21.1.4-2ubuntu1.7~22.04.10) ...\n",
            "Setting up keyboard-configuration (1.205ubuntu3) ...\n",
            "Your console font configuration will be updated the next time your system\n",
            "boots. If you want to update it now, run 'setupcon' from a virtual console.\n",
            "Setting up cuda-libraries-12-4 (12.4.1-1) ...\n",
            "Setting up cuda-nsight-systems-12-4 (12.4.1-1) ...\n",
            "Setting up libcusolver-dev-12-4 (11.6.1.9-1) ...\n",
            "Setting up libcufft-dev-12-4 (11.2.1.3-1) ...\n",
            "Setting up cuda-command-line-tools-12-4 (12.4.1-1) ...\n",
            "Setting up cuda-opencl-dev-12-4 (12.4.127-1) ...\n",
            "Setting up libnvfatbin-dev-12-4 (12.4.127-1) ...\n",
            "Setting up cuda-cudart-dev-12-4 (12.4.127-1) ...\n",
            "Setting up cuda-crt-12-4 (12.4.131-1) ...\n",
            "Setting up xserver-xorg-core (2:21.1.4-2ubuntu1.7~22.04.10) ...\n",
            "Setting up libnvjpeg-dev-12-4 (12.3.1.117-1) ...\n",
            "Setting up libatk-wrapper-java-jni:amd64 (0.38.0-5build1) ...\n",
            "Setting up libcufile-dev-12-4 (1.9.1.3-1) ...\n",
            "Setting up gcc-12 (12.3.0-1ubuntu1~22.04) ...\n",
            "Setting up cuda-nvcc-12-4 (12.4.131-1) ...\n",
            "Setting up cuda-compiler-12-4 (12.4.1-1) ...\n",
            "Setting up xserver-xorg-video-nvidia-550 (550.54.15-0ubuntu1) ...\n",
            "Setting up cuda-libraries-dev-12-4 (12.4.1-1) ...\n",
            "Setting up dkms (2.8.7-2ubuntu2.2) ...\n",
            "Setting up cuda-visual-tools-12-4 (12.4.1-1) ...\n",
            "Setting up cuda-tools-12-4 (12.4.1-1) ...\n",
            "Setting up nvidia-dkms-550 (550.54.15-0ubuntu1) ...\n",
            "Loading new nvidia-550.54.15 DKMS files...\n",
            "It is likely that 6.1.58+ belongs to a chroot's host\n",
            "Building for 5.15.0-102-generic\n",
            "Building for architecture x86_64\n",
            "Building initial module for 5.15.0-102-generic\n",
            "Done.\n",
            "\n",
            "nvidia.ko:\n",
            "Running module version sanity check.\n",
            " - Original module\n",
            "   - No original module exists within this kernel\n",
            " - Installation\n",
            "   - Installing to /lib/modules/5.15.0-102-generic/updates/dkms/\n",
            "\n",
            "nvidia-modeset.ko:\n",
            "Running module version sanity check.\n",
            " - Original module\n",
            "   - No original module exists within this kernel\n",
            " - Installation\n",
            "   - Installing to /lib/modules/5.15.0-102-generic/updates/dkms/\n",
            "\n",
            "nvidia-drm.ko:\n",
            "Running module version sanity check.\n",
            " - Original module\n",
            "   - No original module exists within this kernel\n",
            " - Installation\n",
            "   - Installing to /lib/modules/5.15.0-102-generic/updates/dkms/\n",
            "\n",
            "nvidia-uvm.ko:\n",
            "Running module version sanity check.\n",
            " - Original module\n",
            "   - No original module exists within this kernel\n",
            " - Installation\n",
            "   - Installing to /lib/modules/5.15.0-102-generic/updates/dkms/\n",
            "\n",
            "nvidia-peermem.ko:\n",
            "Running module version sanity check.\n",
            " - Original module\n",
            "   - No original module exists within this kernel\n",
            " - Installation\n",
            "   - Installing to /lib/modules/5.15.0-102-generic/updates/dkms/\n",
            "\n",
            "depmod...\n",
            "Setting up cuda-toolkit-12-4 (12.4.1-1) ...\n",
            "Setting up nvidia-driver-550 (550.54.15-0ubuntu1) ...\n",
            "Setting up cuda-drivers-550 (550.54.15-1) ...\n",
            "Setting up cuda-drivers (550.54.15-1) ...\n",
            "Setting up cuda-runtime-12-4 (12.4.1-1) ...\n",
            "Setting up cuda-12-4 (12.4.1-1) ...\n",
            "Setting up cuda (12.4.1-1) ...\n",
            "Processing triggers for man-db (2.10.2-1) ...\n",
            "Processing triggers for fontconfig (2.13.1-4.2ubuntu5) ...\n",
            "Processing triggers for hicolor-icon-theme (0.17-2) ...\n",
            "Processing triggers for libc-bin (2.35-0ubuntu3.4) ...\n",
            "/sbin/ldconfig.real: /usr/local/lib/libtbbbind.so.3 is not a symbolic link\n",
            "\n",
            "/sbin/ldconfig.real: /usr/local/lib/libtbbmalloc.so.2 is not a symbolic link\n",
            "\n",
            "/sbin/ldconfig.real: /usr/local/lib/libtbbbind_2_5.so.3 is not a symbolic link\n",
            "\n",
            "/sbin/ldconfig.real: /usr/local/lib/libtbbmalloc_proxy.so.2 is not a symbolic link\n",
            "\n",
            "/sbin/ldconfig.real: /usr/local/lib/libtbb.so.12 is not a symbolic link\n",
            "\n",
            "/sbin/ldconfig.real: /usr/local/lib/libtbbbind_2_0.so.3 is not a symbolic link\n",
            "\n"
          ]
        }
      ]
    },
    {
      "cell_type": "markdown",
      "id": "5c0f80bd-c004-4d16-9f1b-974c971d2235",
      "metadata": {
        "id": "5c0f80bd-c004-4d16-9f1b-974c971d2235"
      },
      "source": [
        "The following command is used to install the CuPy library using the Python package manager 'pip'"
      ]
    },
    {
      "cell_type": "code",
      "source": [
        "!pip install cupy"
      ],
      "metadata": {
        "id": "k_a-SyqXcLKu",
        "outputId": "02dcb209-6b72-4e57-b9eb-9d05507323d0",
        "colab": {
          "base_uri": "https://localhost:8080/"
        }
      },
      "id": "k_a-SyqXcLKu",
      "execution_count": 7,
      "outputs": [
        {
          "output_type": "stream",
          "name": "stdout",
          "text": [
            "Collecting cupy\n",
            "  Using cached cupy-13.1.0.tar.gz (3.5 MB)\n",
            "  Preparing metadata (setup.py) ... \u001b[?25l\u001b[?25hdone\n",
            "Requirement already satisfied: numpy<1.29,>=1.22 in /usr/local/lib/python3.10/dist-packages (from cupy) (1.25.2)\n",
            "Requirement already satisfied: fastrlock>=0.5 in /usr/local/lib/python3.10/dist-packages (from cupy) (0.8.2)\n",
            "Building wheels for collected packages: cupy\n",
            "  \u001b[1;31merror\u001b[0m: \u001b[1msubprocess-exited-with-error\u001b[0m\n",
            "  \n",
            "  \u001b[31m×\u001b[0m \u001b[32mpython setup.py bdist_wheel\u001b[0m did not run successfully.\n",
            "  \u001b[31m│\u001b[0m exit code: \u001b[1;36m1\u001b[0m\n",
            "  \u001b[31m╰─>\u001b[0m See above for output.\n",
            "  \n",
            "  \u001b[1;35mnote\u001b[0m: This error originates from a subprocess, and is likely not a problem with pip.\n",
            "  Building wheel for cupy (setup.py) ... \u001b[?25lerror\n",
            "\u001b[31m  ERROR: Failed building wheel for cupy\u001b[0m\u001b[31m\n",
            "\u001b[0m\u001b[?25h  Running setup.py clean for cupy\n",
            "Failed to build cupy\n",
            "\u001b[31mERROR: Could not build wheels for cupy, which is required to install pyproject.toml-based projects\u001b[0m\u001b[31m\n",
            "\u001b[0m"
          ]
        }
      ]
    },
    {
      "cell_type": "markdown",
      "source": [
        "Query for some basic information about the system. `nvidia-smi` is like `top` for NVIDIA GPUs."
      ],
      "metadata": {
        "id": "ry-XIR6IZsff"
      },
      "id": "ry-XIR6IZsff"
    },
    {
      "cell_type": "code",
      "execution_count": 8,
      "id": "b74837c5-d1ed-4a7f-ba8c-a0d99c668093",
      "metadata": {
        "id": "b74837c5-d1ed-4a7f-ba8c-a0d99c668093",
        "outputId": "514c5ea0-1fc7-4b36-c740-324425304d65",
        "colab": {
          "base_uri": "https://localhost:8080/"
        }
      },
      "outputs": [
        {
          "output_type": "stream",
          "name": "stdout",
          "text": [
            "Sun Apr 21 04:22:47 2024       \n",
            "+---------------------------------------------------------------------------------------+\n",
            "| NVIDIA-SMI 535.104.05             Driver Version: 535.104.05   CUDA Version: 12.2     |\n",
            "|-----------------------------------------+----------------------+----------------------+\n",
            "| GPU  Name                 Persistence-M | Bus-Id        Disp.A | Volatile Uncorr. ECC |\n",
            "| Fan  Temp   Perf          Pwr:Usage/Cap |         Memory-Usage | GPU-Util  Compute M. |\n",
            "|                                         |                      |               MIG M. |\n",
            "|=========================================+======================+======================|\n",
            "|   0  Tesla T4                       Off | 00000000:00:04.0 Off |                    0 |\n",
            "| N/A   43C    P8               9W /  70W |      0MiB / 15360MiB |      0%      Default |\n",
            "|                                         |                      |                  N/A |\n",
            "+-----------------------------------------+----------------------+----------------------+\n",
            "                                                                                         \n",
            "+---------------------------------------------------------------------------------------+\n",
            "| Processes:                                                                            |\n",
            "|  GPU   GI   CI        PID   Type   Process name                            GPU Memory |\n",
            "|        ID   ID                                                             Usage      |\n",
            "|=======================================================================================|\n",
            "|  No running processes found                                                           |\n",
            "+---------------------------------------------------------------------------------------+\n"
          ]
        }
      ],
      "source": [
        "!nvidia-smi"
      ]
    },
    {
      "cell_type": "markdown",
      "id": "611fd29b-e458-4c99-ab63-cb456524d5e3",
      "metadata": {
        "id": "611fd29b-e458-4c99-ab63-cb456524d5e3"
      },
      "source": [
        "Check out the connection topology of the system."
      ]
    },
    {
      "cell_type": "code",
      "execution_count": 9,
      "id": "c03404cd-d681-46cd-b91a-1d1784eefcee",
      "metadata": {
        "id": "c03404cd-d681-46cd-b91a-1d1784eefcee",
        "outputId": "3202a6d7-fdb2-4083-ed22-190b706a1d9d",
        "colab": {
          "base_uri": "https://localhost:8080/"
        }
      },
      "outputs": [
        {
          "output_type": "stream",
          "name": "stdout",
          "text": [
            "\t\u001b[4mGPU0\tCPU Affinity\tNUMA Affinity\tGPU NUMA ID\u001b[0m\n",
            "GPU0\t X \t0-1\t\tN/A\t\tN/A\n",
            "\n",
            "Legend:\n",
            "\n",
            "  X    = Self\n",
            "  SYS  = Connection traversing PCIe as well as the SMP interconnect between NUMA nodes (e.g., QPI/UPI)\n",
            "  NODE = Connection traversing PCIe as well as the interconnect between PCIe Host Bridges within a NUMA node\n",
            "  PHB  = Connection traversing PCIe as well as a PCIe Host Bridge (typically the CPU)\n",
            "  PXB  = Connection traversing multiple PCIe bridges (without traversing the PCIe Host Bridge)\n",
            "  PIX  = Connection traversing at most a single PCIe bridge\n",
            "  NV#  = Connection traversing a bonded set of # NVLinks\n"
          ]
        }
      ],
      "source": [
        "!nvidia-smi topo -m"
      ]
    },
    {
      "cell_type": "markdown",
      "id": "fa2c68ba-47c7-4f75-ba06-2244fc1ce936",
      "metadata": {
        "id": "fa2c68ba-47c7-4f75-ba06-2244fc1ce936"
      },
      "source": [
        "Check out the type of allocated CPU"
      ]
    },
    {
      "cell_type": "code",
      "execution_count": 10,
      "id": "77ce24e3-22d0-4cd8-9691-132259ef2bdf",
      "metadata": {
        "id": "77ce24e3-22d0-4cd8-9691-132259ef2bdf",
        "outputId": "a3d41871-4598-4c98-fb70-50481f8374ec",
        "colab": {
          "base_uri": "https://localhost:8080/"
        }
      },
      "outputs": [
        {
          "output_type": "stream",
          "name": "stdout",
          "text": [
            "Architecture:            x86_64\n",
            "  CPU op-mode(s):        32-bit, 64-bit\n",
            "  Address sizes:         46 bits physical, 48 bits virtual\n",
            "  Byte Order:            Little Endian\n",
            "CPU(s):                  2\n",
            "  On-line CPU(s) list:   0,1\n",
            "Vendor ID:               GenuineIntel\n",
            "  Model name:            Intel(R) Xeon(R) CPU @ 2.00GHz\n",
            "    CPU family:          6\n",
            "    Model:               85\n",
            "    Thread(s) per core:  2\n",
            "    Core(s) per socket:  1\n",
            "    Socket(s):           1\n",
            "    Stepping:            3\n",
            "    BogoMIPS:            4000.37\n",
            "    Flags:               fpu vme de pse tsc msr pae mce cx8 apic sep mtrr pge mca cmov pat pse36 clf\n",
            "                         lush mmx fxsr sse sse2 ss ht syscall nx pdpe1gb rdtscp lm constant_tsc rep_\n",
            "                         good nopl xtopology nonstop_tsc cpuid tsc_known_freq pni pclmulqdq ssse3 fm\n",
            "                         a cx16 pcid sse4_1 sse4_2 x2apic movbe popcnt aes xsave avx f16c rdrand hyp\n",
            "                         ervisor lahf_lm abm 3dnowprefetch invpcid_single ssbd ibrs ibpb stibp fsgsb\n",
            "                         ase tsc_adjust bmi1 hle avx2 smep bmi2 erms invpcid rtm mpx avx512f avx512d\n",
            "                         q rdseed adx smap clflushopt clwb avx512cd avx512bw avx512vl xsaveopt xsave\n",
            "                         c xgetbv1 xsaves arat md_clear arch_capabilities\n",
            "Virtualization features: \n",
            "  Hypervisor vendor:     KVM\n",
            "  Virtualization type:   full\n",
            "Caches (sum of all):     \n",
            "  L1d:                   32 KiB (1 instance)\n",
            "  L1i:                   32 KiB (1 instance)\n",
            "  L2:                    1 MiB (1 instance)\n",
            "  L3:                    38.5 MiB (1 instance)\n",
            "NUMA:                    \n",
            "  NUMA node(s):          1\n",
            "  NUMA node0 CPU(s):     0,1\n",
            "Vulnerabilities:         \n",
            "  Gather data sampling:  Not affected\n",
            "  Itlb multihit:         Not affected\n",
            "  L1tf:                  Mitigation; PTE Inversion\n",
            "  Mds:                   Vulnerable; SMT Host state unknown\n",
            "  Meltdown:              Vulnerable\n",
            "  Mmio stale data:       Vulnerable\n",
            "  Retbleed:              Vulnerable\n",
            "  Spec rstack overflow:  Not affected\n",
            "  Spec store bypass:     Vulnerable\n",
            "  Spectre v1:            Vulnerable: __user pointer sanitization and usercopy barriers only; no swap\n",
            "                         gs barriers\n",
            "  Spectre v2:            Vulnerable, IBPB: disabled, STIBP: disabled, PBRSB-eIBRS: Not affected\n",
            "  Srbds:                 Not affected\n",
            "  Tsx async abort:       Vulnerable\n"
          ]
        }
      ],
      "source": [
        "!lscpu"
      ]
    },
    {
      "cell_type": "markdown",
      "source": [
        "### Import required packages"
      ],
      "metadata": {
        "id": "kEnCy_VAd1pX"
      },
      "id": "kEnCy_VAd1pX"
    },
    {
      "cell_type": "code",
      "source": [
        "import numpy as np\n",
        "import cupy as cp\n",
        "import math\n",
        "from time import perf_counter\n",
        "import time\n",
        "import cupy\n",
        "import numpy\n",
        "import os\n",
        "from time import time\n",
        "import matplotlib\n",
        "import matplotlib.pyplot as plt\n",
        "import IPython\n",
        "from IPython.display import Image, display"
      ],
      "metadata": {
        "id": "BYWwJFCdd6BG"
      },
      "id": "BYWwJFCdd6BG",
      "execution_count": 4,
      "outputs": []
    },
    {
      "cell_type": "markdown",
      "id": "c50a5376-6bd0-4d23-b61a-7a2954abab6c",
      "metadata": {
        "id": "c50a5376-6bd0-4d23-b61a-7a2954abab6c"
      },
      "source": [
        "### Introduction to CuPy"
      ]
    },
    {
      "cell_type": "markdown",
      "id": "2cbcc303-3c50-45c6-82f1-e7068e6d0665",
      "metadata": {
        "id": "2cbcc303-3c50-45c6-82f1-e7068e6d0665"
      },
      "source": [
        "NumPy is a widely used library for numerical computing in Python.\n",
        "  - it will measure the execution time of the QR decomposition operation (np.linalg.qr(A)) and provide with timing information based on the number of iterations specified (-n 5 in the following code cell). This is useful for comparing the performance of different code implementations or algorithms."
      ]
    },
    {
      "cell_type": "code",
      "execution_count": 5,
      "id": "dcf823dc-3fef-431f-9abb-ee827c0cf838",
      "metadata": {
        "id": "dcf823dc-3fef-431f-9abb-ee827c0cf838",
        "outputId": "26855324-6e86-4ab1-d2cb-aceaeafcd8fb",
        "colab": {
          "base_uri": "https://localhost:8080/"
        }
      },
      "outputs": [
        {
          "output_type": "stream",
          "name": "stdout",
          "text": [
            "49.1 ms ± 19.3 ms per loop (mean ± std. dev. of 7 runs, 5 loops each)\n"
          ]
        }
      ],
      "source": [
        "size = 512\n",
        "\n",
        "A = np.random.randn(size, size)\n",
        "\n",
        "%timeit -n 5 Q, R = np.linalg.qr(A)"
      ]
    },
    {
      "cell_type": "markdown",
      "id": "0c7dcb8c-7141-46f3-bd08-ea07261e9e65",
      "metadata": {
        "id": "0c7dcb8c-7141-46f3-bd08-ea07261e9e65"
      },
      "source": [
        "CuPy uses a NumPy-like interface. Porting a Numpy code to CuPy can be as simple as changing your import statement. In this workshop, we'll always use `import cupy as cp` for clarity."
      ]
    },
    {
      "cell_type": "code",
      "execution_count": 6,
      "id": "95d196d0-c618-4805-863a-3b57e873d807",
      "metadata": {
        "id": "95d196d0-c618-4805-863a-3b57e873d807",
        "outputId": "fd9be256-3721-49b5-d227-7d6a01bad20c",
        "colab": {
          "base_uri": "https://localhost:8080/"
        }
      },
      "outputs": [
        {
          "output_type": "stream",
          "name": "stdout",
          "text": [
            "16.1 ms ± 6.69 ms per loop (mean ± std. dev. of 7 runs, 5 loops each)\n"
          ]
        }
      ],
      "source": [
        "size = 512\n",
        "\n",
        "A = cp.random.randn(size, size)\n",
        "\n",
        "Q, R = cp.linalg.qr(A)\n",
        "%timeit -n 5 Q, R = cp.linalg.qr(A) ; cp.cuda.Device().synchronize()"
      ]
    },
    {
      "cell_type": "markdown",
      "id": "e954a9de-3519-400e-8a44-d59668bd26f2",
      "metadata": {
        "id": "e954a9de-3519-400e-8a44-d59668bd26f2"
      },
      "source": [
        "We already see a substantial speedup with no real code changes!\n",
        "\n",
        "Notice the additional call to `cp.cuda.Device().synchronize()` in the CuPy version. GPU kernel calls are asynchronous with respect to the CPU. Our call to `synchronize()` ensures the GPU finishes to completion, so we can accurately measure  the elapsed time. We don't generally need to add these calls to production CuPy codes.\n",
        "\n",
        "NumPy is typically used to perform computations on _arrays_ of data. The data is stored in the `numpy.ndarray` object. CuPy implements a similar class called the `cupy.ndarray`. But while the `numpy.ndarray` data resides in host memory, the contents of a `cupy.ndarray` persistent in GPU memory. CuPy provides several helper functions to convert between Cupy and NumPy `ndarrays` - facilitating data transfer to/from the GPU device."
      ]
    },
    {
      "cell_type": "code",
      "execution_count": 7,
      "id": "eca4b14c-fe6e-4ba7-82fc-0c50219e1358",
      "metadata": {
        "id": "eca4b14c-fe6e-4ba7-82fc-0c50219e1358",
        "outputId": "b0ca8003-6223-4f13-fb5f-331b513fb8f0",
        "colab": {
          "base_uri": "https://localhost:8080/"
        }
      },
      "outputs": [
        {
          "output_type": "stream",
          "name": "stdout",
          "text": [
            "A_cpu is a <class 'numpy.ndarray'>\n",
            "With initial values:\n",
            " [[1 2 3]\n",
            " [4 5 6]]\n",
            "A_gpu is a <class 'cupy.ndarray'>\n",
            "Squared values:\n",
            " [[ 1  4  9]\n",
            " [16 25 36]]\n"
          ]
        }
      ],
      "source": [
        "#Initialize the data on the host\n",
        "A_cpu = np.array([[1, 2, 3], [4, 5, 6]], np.int32)\n",
        "\n",
        "print(\"A_cpu is a\", type(A_cpu))\n",
        "print(\"With initial values:\\n\", A_cpu)\n",
        "\n",
        "#Copy data, host to device\n",
        "A_gpu = cp.asarray(A_cpu)\n",
        "print(\"A_gpu is a\", type(A_gpu))\n",
        "\n",
        "#Square the data on the device\n",
        "A_gpu = cp.square(A_gpu)\n",
        "\n",
        "#Copy data, device to host\n",
        "A_cpu = cp.asnumpy(A_gpu)\n",
        "\n",
        "print(\"Squared values:\\n\", A_cpu)\n"
      ]
    },
    {
      "cell_type": "markdown",
      "id": "3570d8dd-7f54-4d65-83b7-6cc38d6b4cc2",
      "metadata": {
        "id": "3570d8dd-7f54-4d65-83b7-6cc38d6b4cc2"
      },
      "source": [
        "Note that NumPy and CuPy ndarrys are not implicitly convertible."
      ]
    },
    {
      "cell_type": "code",
      "execution_count": 8,
      "id": "f7eacf74-5f07-42b0-9b6f-8af7a302d25a",
      "metadata": {
        "id": "f7eacf74-5f07-42b0-9b6f-8af7a302d25a",
        "outputId": "17670347-d1e2-45aa-9e5d-ca2883a4b9f5",
        "colab": {
          "base_uri": "https://localhost:8080/"
        }
      },
      "outputs": [
        {
          "output_type": "execute_result",
          "data": {
            "text/plain": [
              "array([[   1,   16,   81],\n",
              "       [ 256,  625, 1296]], dtype=int32)"
            ]
          },
          "metadata": {},
          "execution_count": 8
        }
      ],
      "source": [
        "#cp.square(A_cpu)\n",
        "cp.square(A_gpu)"
      ]
    },
    {
      "cell_type": "markdown",
      "id": "204ba905-52c8-44af-9bea-461cd63e13c4",
      "metadata": {
        "id": "204ba905-52c8-44af-9bea-461cd63e13c4"
      },
      "source": [
        "CuPy is useful for programming multi-GPU nodes as well. We can orchestrate computation, data movement, and other low-level CUDA operations with functions in the `cupy.cuda` namespace."
      ]
    },
    {
      "cell_type": "code",
      "execution_count": 9,
      "id": "d968a53d-3a98-4c2b-92b8-a780f5949d03",
      "metadata": {
        "id": "d968a53d-3a98-4c2b-92b8-a780f5949d03",
        "outputId": "61dd27cd-4290-4926-a14a-bfa14cd7a8e4",
        "colab": {
          "base_uri": "https://localhost:8080/"
        }
      },
      "outputs": [
        {
          "output_type": "stream",
          "name": "stdout",
          "text": [
            "[[1 2 3]\n",
            " [4 5 6]]\n"
          ]
        }
      ],
      "source": [
        "#Initialize array on GPU 0\n",
        "with cp.cuda.Device(0):\n",
        "    A_gpu_1 = cp.array([[1, 2, 3], [4, 5, 6]], cp.int32)\n",
        "\n",
        "# Synchronize devices\n",
        "cp.cuda.Device().synchronize()\n",
        "#Copy array from A_gpu_1 to A_gpu_0\n",
        "A_gpu_0 = cp.asarray(A_gpu_1)\n",
        "\n",
        "print(A_gpu_0)\n"
      ]
    },
    {
      "cell_type": "markdown",
      "id": "fc84591b-2329-44a8-a266-baa30866086b",
      "metadata": {
        "id": "fc84591b-2329-44a8-a266-baa30866086b"
      },
      "source": [
        "The GPU is a powerhouse of parallel computing performance, and can process math operations much more quickly than the CPU. This is easy to see by comparing performance of CuPy vs NumPy, particularly for dense linear algebra operations. Let's look at a multiplication of 4096x4096 matrices. Notice the similarity of the two versions of the code (NumPy and CuPy)."
      ]
    },
    {
      "cell_type": "code",
      "execution_count": 10,
      "id": "3c64595b-a9b7-43c4-a5ed-87b579aca4b6",
      "metadata": {
        "id": "3c64595b-a9b7-43c4-a5ed-87b579aca4b6",
        "outputId": "64120184-e5e9-4558-d2b9-2b3173bde7e7",
        "colab": {
          "base_uri": "https://localhost:8080/"
        }
      },
      "outputs": [
        {
          "output_type": "stream",
          "name": "stdout",
          "text": [
            "\n",
            "    Elapsed wall clock time for numpy = 2.0783 seconds.\n",
            "\n",
            "\n",
            "    Elapsed wall clock time for cupy = 0.0949794 seconds.\n",
            "\n"
          ]
        }
      ],
      "source": [
        "size = 4096\n",
        "\n",
        "start_time = perf_counter( )\n",
        "A_cpu = np.random.uniform(low=-1.0, high=1.0, size=(size,size) ).astype(np.float32)\n",
        "B_cpu = np.random.uniform(low=-1., high=1., size=(size,size) ).astype(np.float32)\n",
        "C_cpu = np.matmul(A_cpu,B_cpu)\n",
        "stop_time = perf_counter( )\n",
        "\n",
        "print('')\n",
        "print('    Elapsed wall clock time for numpy = %g seconds.' % (stop_time - start_time) )\n",
        "print('')\n",
        "\n",
        "del A_cpu\n",
        "del B_cpu\n",
        "del C_cpu\n",
        "\n",
        "\n",
        "\n",
        "A_gpu = cp.random.uniform(low=-1.0, high=1.0, size=(size,size) ).astype(cp.float32)\n",
        "B_gpu = cp.random.uniform(low=-1., high=1., size=(size,size) ).astype(cp.float32)\n",
        "C_gpu = cp.matmul(A_gpu,B_gpu) #Exclude one-time JIT overhead\n",
        "start_time = perf_counter( )\n",
        "C_gpu = cp.matmul(A_gpu,B_gpu)\n",
        "cp.cuda.Device(0).synchronize()\n",
        "stop_time = perf_counter( )\n",
        "\n",
        "print('')\n",
        "print('    Elapsed wall clock time for cupy = %g seconds.' % (stop_time - start_time) )\n",
        "print('')\n",
        "\n",
        "del A_gpu\n",
        "del B_gpu\n",
        "del C_gpu"
      ]
    },
    {
      "cell_type": "markdown",
      "id": "c1d9b000-e8fa-4f67-a219-4640aea54abf",
      "metadata": {
        "id": "c1d9b000-e8fa-4f67-a219-4640aea54abf"
      },
      "source": [
        "The GPU's strenghts in computational throughput and memory bandwidth can lead to terrific application speedups. But we need to be considerate of two types of overhead when evaluating our problem for acceleration on the GPU with CuPy: kernel overhead, and data movement overhead."
      ]
    },
    {
      "cell_type": "markdown",
      "source": [
        "### Raw kernels"
      ],
      "metadata": {
        "id": "zZMgzEhgltvl"
      },
      "id": "zZMgzEhgltvl"
    },
    {
      "cell_type": "markdown",
      "source": [
        "Raw kernels can be defined by the RawKernel class. By using raw kernels, you can define kernels from raw CUDA source.\n",
        "\n",
        "RawKernel object allows you to call the kernel with CUDA’s 'cuLaunchKernel' interface. In other words, you have control over grid size, block size, shared memory size and stream."
      ],
      "metadata": {
        "id": "YZZfDAJ4l0cQ"
      },
      "id": "YZZfDAJ4l0cQ"
    },
    {
      "cell_type": "code",
      "source": [
        "add_kernel = cp.RawKernel(r'''\n",
        "extern \"C\" __global__\n",
        "void my_add(const float* x1, const float* x2, float* y) {\n",
        "    int tid = blockDim.x * blockIdx.x + threadIdx.x;\n",
        "    y[tid] = x1[tid] + x2[tid];\n",
        "}\n",
        "''', 'my_add')\n",
        "x1 = cp.arange(25, dtype=cp.float32).reshape(5, 5)\n",
        "x2 = cp.arange(25, dtype=cp.float32).reshape(5, 5)\n",
        "y = cp.zeros((5, 5), dtype=cp.float32)\n",
        "add_kernel((5,), (5,), (x1, x2, y))  # grid, block and arguments\n",
        "y"
      ],
      "metadata": {
        "id": "UjMPrZYCmEde",
        "outputId": "a9944cd2-2884-4fde-a792-2addaff754e7",
        "colab": {
          "base_uri": "https://localhost:8080/"
        }
      },
      "id": "UjMPrZYCmEde",
      "execution_count": 11,
      "outputs": [
        {
          "output_type": "execute_result",
          "data": {
            "text/plain": [
              "array([[ 0.,  2.,  4.,  6.,  8.],\n",
              "       [10., 12., 14., 16., 18.],\n",
              "       [20., 22., 24., 26., 28.],\n",
              "       [30., 32., 34., 36., 38.],\n",
              "       [40., 42., 44., 46., 48.]], dtype=float32)"
            ]
          },
          "metadata": {},
          "execution_count": 11
        }
      ]
    },
    {
      "cell_type": "markdown",
      "source": [
        "Raw kernels operating on complex-valued arrays can be created as well:"
      ],
      "metadata": {
        "id": "3VNhUph7mPI5"
      },
      "id": "3VNhUph7mPI5"
    },
    {
      "cell_type": "code",
      "source": [
        "complex_kernel = cp.RawKernel(r'''\n",
        "#include <cupy/complex.cuh>\n",
        "extern \"C\" __global__\n",
        "void my_func(const complex<float>* x1, const complex<float>* x2,\n",
        "             complex<float>* y, float a) {\n",
        "    int tid = blockDim.x * blockIdx.x + threadIdx.x;\n",
        "    y[tid] = x1[tid] + a * x2[tid];\n",
        "}\n",
        "''', 'my_func')\n",
        "x1 = cupy.arange(25, dtype=cupy.complex64).reshape(5, 5)\n",
        "x2 = 1j*cupy.arange(25, dtype=cupy.complex64).reshape(5, 5)\n",
        "y = cupy.zeros((5, 5), dtype=cupy.complex64)\n",
        "complex_kernel((5,), (5,), (x1, x2, y, cupy.float32(2.0)))  # grid, block and arguments\n",
        "y"
      ],
      "metadata": {
        "id": "VttwjoSbmUjb",
        "outputId": "1f4b5206-eb80-4347-dfa0-1d9edb2c694a",
        "colab": {
          "base_uri": "https://localhost:8080/"
        }
      },
      "id": "VttwjoSbmUjb",
      "execution_count": 12,
      "outputs": [
        {
          "output_type": "execute_result",
          "data": {
            "text/plain": [
              "array([[ 0. +0.j,  1. +2.j,  2. +4.j,  3. +6.j,  4. +8.j],\n",
              "       [ 5.+10.j,  6.+12.j,  7.+14.j,  8.+16.j,  9.+18.j],\n",
              "       [10.+20.j, 11.+22.j, 12.+24.j, 13.+26.j, 14.+28.j],\n",
              "       [15.+30.j, 16.+32.j, 17.+34.j, 18.+36.j, 19.+38.j],\n",
              "       [20.+40.j, 21.+42.j, 22.+44.j, 23.+46.j, 24.+48.j]],\n",
              "      dtype=complex64)"
            ]
          },
          "metadata": {},
          "execution_count": 12
        }
      ]
    },
    {
      "cell_type": "markdown",
      "source": [
        "### Kernel Overhead"
      ],
      "metadata": {
        "id": "Ozq5HG5_faHN"
      },
      "id": "Ozq5HG5_faHN"
    },
    {
      "cell_type": "markdown",
      "source": [
        "CuPy compiles kernel codes on-the-fly using JIT compilation. Therefore, there is a compilation overhead the first time a given function is called with CuPy. The compiled kernel code is cached, so compilation overhead is avoided for subsequent executions of the function."
      ],
      "metadata": {
        "id": "nwXqdIEdfges"
      },
      "id": "nwXqdIEdfges"
    },
    {
      "cell_type": "code",
      "execution_count": 13,
      "id": "ae1a0d2b-da82-4e46-999c-55bbad4c0517",
      "metadata": {
        "id": "ae1a0d2b-da82-4e46-999c-55bbad4c0517",
        "outputId": "073cb849-3f01-47e0-d528-11cc877471e4",
        "colab": {
          "base_uri": "https://localhost:8080/"
        }
      },
      "outputs": [
        {
          "output_type": "stream",
          "name": "stdout",
          "text": [
            "9.6350\n",
            "0.0045\n",
            "0.0039\n",
            "0.0038\n",
            "0.0038\n"
          ]
        }
      ],
      "source": [
        "size = 512\n",
        "for _ in range(5):\n",
        "    A = cp.random.randn(size, size).astype(np.float32)\n",
        "    t1 = time()\n",
        "    cp.linalg.det(A)\n",
        "    cp.cuda.Device().synchronize()\n",
        "    t2 = time()\n",
        "    print('%.4f' % (t2 - t1))"
      ]
    },
    {
      "cell_type": "markdown",
      "id": "827d8d9b-e4b2-4376-a441-b6bbf9a78af8",
      "metadata": {
        "id": "827d8d9b-e4b2-4376-a441-b6bbf9a78af8"
      },
      "source": [
        "You may also notice a one-time overhead upon first calling a CuPy function in a program. This overhead is associated with the creation of a CUDA context by the CUDA driver, which happens the first time any CUDA API is invoked in a program.\n",
        "\n",
        "In addition, there is a CUDA kernel launch overhead that is penalized each time a GPU kernel is launched. The overhead is on the order of a few microseconds. For this reason, launching many small CUDA kernels in an application will generally lead to poor performance. The kernel launch overhead may dominate your runtime for very small problems, but for large datasets the overhead will be small compared to the actual GPU computation work."
      ]
    },
    {
      "cell_type": "code",
      "execution_count": 14,
      "id": "2061b6b0-169f-4e64-8556-b3fd86b97dca",
      "metadata": {
        "id": "2061b6b0-169f-4e64-8556-b3fd86b97dca",
        "outputId": "0b3e72ed-70d4-4720-f77c-0d784f1be894",
        "colab": {
          "base_uri": "https://localhost:8080/"
        }
      },
      "outputs": [
        {
          "output_type": "stream",
          "name": "stdout",
          "text": [
            "\n",
            "Input Matrix size: 64 x 64 \n",
            "numpy 0.000480\n",
            "cupy 0.000791\n",
            "\n",
            "Input Matrix size: 128 x 128 \n",
            "numpy 0.001446\n",
            "cupy 0.002008\n",
            "\n",
            "Input Matrix size: 256 x 256 \n",
            "numpy 0.005225\n",
            "cupy 0.004673\n",
            "\n",
            "Input Matrix size: 512 x 512 \n",
            "numpy 0.027985\n",
            "cupy 0.010903\n",
            "\n",
            "Input Matrix size: 1024 x 1024 \n",
            "numpy 0.184086\n",
            "cupy 0.028621\n",
            "\n",
            "Input Matrix size: 2048 x 2048 \n",
            "numpy 1.301149\n",
            "cupy 0.084633\n"
          ]
        }
      ],
      "source": [
        "for size in [64, 128, 256, 512, 1024, 2048]:\n",
        "    print(\"\\nInput Matrix size: %d\" % size, \"x %d \" % size)\n",
        "    for xp in [np, cp]:\n",
        "        A=xp.random.uniform(low=-1.0, high=1.0, size=(size,size) ).astype(xp.float32)\n",
        "        xp.linalg.qr(A)#Exclude potential one-time JIT overhead\n",
        "        t1 = time()\n",
        "        xp.linalg.qr(A)\n",
        "        cp.cuda.Device().synchronize()\n",
        "        t2 = time()\n",
        "        print(xp.__name__, '%f' % (t2 - t1))\n",
        "        del A"
      ]
    },
    {
      "cell_type": "markdown",
      "id": "ff335660-dfa6-4657-9489-7d31bb491d93",
      "metadata": {
        "id": "ff335660-dfa6-4657-9489-7d31bb491d93"
      },
      "source": [
        "It's clear that increasing the problem size can help amoritize the overhead of launching GPU kernels. Another common strategy is to merge multiple kernels together into a single combined kernel, reducing the total number of kernel launches in your program. CuPy supports kernel fusion in this manner via the `@cupy.fuse()` decorator.\n",
        "\n",
        "  - The following code is comparing the performance of the regular squared_diff function and the fused fused_squared_diff function in terms of execution time when applied to CuPy arrays x and y.\n",
        "  - The fused function is expected to have better performance due to optimization for GPU execution.\n",
        "  - The %timeit magic command is used to run each operation multiple times and measure the average execution time."
      ]
    },
    {
      "cell_type": "code",
      "execution_count": 15,
      "id": "689b1c62-62f6-4da9-a3de-3e5afd5beda6",
      "metadata": {
        "id": "689b1c62-62f6-4da9-a3de-3e5afd5beda6",
        "outputId": "ab40ea93-e9b0-44de-bcfe-cdbd5599f074",
        "colab": {
          "base_uri": "https://localhost:8080/"
        }
      },
      "outputs": [
        {
          "output_type": "stream",
          "name": "stdout",
          "text": [
            "The slowest run took 874.15 times longer than the fastest. This could mean that an intermediate result is being cached.\n",
            "7.69 ms ± 18.7 ms per loop (mean ± std. dev. of 7 runs, 10 loops each)\n",
            "The slowest run took 1003.94 times longer than the fastest. This could mean that an intermediate result is being cached.\n",
            "2.77 ms ± 6.74 ms per loop (mean ± std. dev. of 7 runs, 10 loops each)\n"
          ]
        }
      ],
      "source": [
        "def squared_diff(x, y):\n",
        "    return (x - y) * (x - y)\n",
        "\n",
        "@cp.fuse\n",
        "def fused_squared_diff(x, y):\n",
        "    return (x - y) * (x - y)\n",
        "\n",
        "size = 10000\n",
        "\n",
        "x = cp.arange(size)\n",
        "y = cp.arange(size)[::-1]\n",
        "\n",
        "%timeit -n 10 squared_diff(x, y); cp.cuda.Device().synchronize()\n",
        "%timeit -n 10 fused_squared_diff(x, y); cp.cuda.Device().synchronize()\n",
        "\n",
        "del x\n",
        "del y\n"
      ]
    },
    {
      "cell_type": "markdown",
      "source": [
        "### Streams and Events"
      ],
      "metadata": {
        "id": "yBhGzv-mowgB"
      },
      "id": "yBhGzv-mowgB"
    },
    {
      "cell_type": "markdown",
      "source": [
        "In this section we discuss basic usages for CUDA streams and events. For the API reference please see [Streams and events](https://docs.cupy.dev/en/stable/reference/cuda.html#stream-event-api).\n",
        "\n",
        "CuPy provides high-level Python APIs Stream and Event for creating streams and events, respectively. Data copies and kernel launches are enqueued onto the Current Stream, which can be queried via get_current_stream() and changed either by setting up a context manager:"
      ],
      "metadata": {
        "id": "3SRDKR-Zo4Fy"
      },
      "id": "3SRDKR-Zo4Fy"
    },
    {
      "cell_type": "code",
      "source": [
        "a_np = np.arange(10)\n",
        "s = cp.cuda.Stream()\n",
        "with s:\n",
        "    a_cp = cp.asarray(a_np)  # H2D transfer on stream s\n",
        "    b_cp = cp.sum(a_cp)      # kernel launched on stream s\n",
        "    assert s == cp.cuda.get_current_stream()\n",
        "\n",
        "# fall back to the previous stream in use (here the default stream)\n",
        "# when going out of the scope of s"
      ],
      "metadata": {
        "id": "cVQ0y4K3phu6"
      },
      "id": "cVQ0y4K3phu6",
      "execution_count": 16,
      "outputs": []
    },
    {
      "cell_type": "markdown",
      "source": [
        "or by using the use() method:"
      ],
      "metadata": {
        "id": "L9ReIyJjpo5D"
      },
      "id": "L9ReIyJjpo5D"
    },
    {
      "cell_type": "code",
      "source": [
        "s = cp.cuda.Stream()\n",
        "s.use()  # any subsequent operations are done on steam s\n",
        "\n",
        "b_np = cp.asnumpy(b_cp)\n",
        "assert s == cp.cuda.get_current_stream()\n",
        "cp.cuda.Stream.null.use()  # fall back to the default (null) stream\n",
        "\n",
        "assert cp.cuda.Stream.null == cp.cuda.get_current_stream()"
      ],
      "metadata": {
        "id": "8A6N_DQFpvkM"
      },
      "id": "8A6N_DQFpvkM",
      "execution_count": 17,
      "outputs": []
    },
    {
      "cell_type": "markdown",
      "source": [
        "- Events can be created either manually or through the record() method.\n",
        "- Event objects can be used for timing GPU activities (via get_elapsed_time()) or setting up inter-stream dependencies:"
      ],
      "metadata": {
        "id": "7eA1Vh5xp_sB"
      },
      "id": "7eA1Vh5xp_sB"
    },
    {
      "cell_type": "code",
      "source": [
        "e1 = cp.cuda.Event()\n",
        "e1.record()\n",
        "a_cp = b_cp * a_cp + 8\n",
        "e2 = cp.cuda.get_current_stream().record()\n",
        "\n",
        "# set up a stream order\n",
        "s2 = cp.cuda.Stream()\n",
        "s2.wait_event(e2)\n",
        "with s2:\n",
        "    # the a_cp is guaranteed updated when this copy (on s2) starts\n",
        "    a_np = cp.asnumpy(a_cp)\n",
        "\n",
        "# timing\n",
        "e2.synchronize()\n",
        "t = cp.cuda.get_elapsed_time(e1, e2)  # only include the compute time, not the copy time\n",
        "print('Compute time: %.4f' % (t2 - t1))"
      ],
      "metadata": {
        "id": "yQ1mv5ddqK7D",
        "outputId": "4245da67-61a3-4e50-cd5a-5282480e4b25",
        "colab": {
          "base_uri": "https://localhost:8080/"
        }
      },
      "id": "yQ1mv5ddqK7D",
      "execution_count": 18,
      "outputs": [
        {
          "output_type": "stream",
          "name": "stdout",
          "text": [
            "Compute time: 0.0846\n"
          ]
        }
      ]
    },
    {
      "cell_type": "markdown",
      "source": [
        "Just like the Device objects, Stream and Event objects can also be used for synchronization."
      ],
      "metadata": {
        "id": "freXE5awqbry"
      },
      "id": "freXE5awqbry"
    },
    {
      "cell_type": "markdown",
      "source": [
        "### Data Movement Overhead"
      ],
      "metadata": {
        "id": "Bwlf0koOfn18"
      },
      "id": "Bwlf0koOfn18"
    },
    {
      "cell_type": "markdown",
      "id": "b36e7785-3b82-4e6e-9742-76b1caed35c3",
      "metadata": {
        "id": "b36e7785-3b82-4e6e-9742-76b1caed35c3"
      },
      "source": [
        "Try to minimize data movement to or from the GPU. The FLOP rate and memory bandwidth of a GPU can process data much more quickly than it can be fed with data over the PCIe bus. This problem is being tackled with novel interconnect technologies like NVLink. But it's a real inbalance we have to deal with for now.\n",
        "Let's look at an example where we initialize our input data GPU and then computes the dot product. Note that the result of the multiplication, the C matrix, is available on the GPU in case we need it later.\n",
        "\n",
        "Notice again the similarity of the two parts of the code (NumPy and CuPy). They are virtually identical."
      ]
    },
    {
      "cell_type": "code",
      "execution_count": 19,
      "id": "0ebb0179-8137-4827-8eb2-2c960967593c",
      "metadata": {
        "id": "0ebb0179-8137-4827-8eb2-2c960967593c",
        "outputId": "b1cf3bee-39cc-435a-afba-524d498f44b6",
        "colab": {
          "base_uri": "https://localhost:8080/"
        }
      },
      "outputs": [
        {
          "output_type": "stream",
          "name": "stdout",
          "text": [
            "Iteration  0\n",
            "numpy = 2.10465 seconds\n",
            "cupy = 0.329243 seconds\n",
            "Speedup = 6.39\n",
            "\n",
            "Iteration  1\n",
            "numpy = 2.1014 seconds\n",
            "cupy = 0.043171 seconds\n",
            "Speedup = 48.68\n",
            "\n",
            "Iteration  2\n",
            "numpy = 2.15531 seconds\n",
            "cupy = 0.0429115 seconds\n",
            "Speedup = 50.23\n",
            "\n"
          ]
        }
      ],
      "source": [
        "size = int(1e8)\n",
        "\n",
        "for i in range(3):\n",
        "    print(\"Iteration \", i)\n",
        "    start_time = perf_counter( )\n",
        "    A_cpu=np.random.rand(size).astype(np.float32)\n",
        "    B_cpu=np.random.rand(size).astype(np.float32)\n",
        "    C_cpu = np.dot(A_cpu,B_cpu)\n",
        "    stop_time = perf_counter( )\n",
        "    cpu_time = stop_time - start_time\n",
        "    print('numpy = %g seconds' % cpu_time )\n",
        "\n",
        "    start_time = perf_counter( )\n",
        "    A_gpu=cp.random.rand(size).astype(cp.float32)\n",
        "    B_gpu=cp.random.rand(size).astype(cp.float32)\n",
        "    C_gpu = cp.dot(A_gpu,B_gpu)\n",
        "    cp.cuda.Device(0).synchronize()\n",
        "    stop_time = perf_counter( )\n",
        "    gpu_time = stop_time - start_time\n",
        "\n",
        "    print('cupy = %g seconds' % gpu_time )\n",
        "    print(\"Speedup = %.2f\" % (cpu_time/gpu_time))\n",
        "    print('')"
      ]
    },
    {
      "cell_type": "markdown",
      "id": "087ea831-f9e3-41c1-888d-8fed77d9fd1f",
      "metadata": {
        "id": "087ea831-f9e3-41c1-888d-8fed77d9fd1f"
      },
      "source": [
        "But what if the input data for the `dot` operation resides in the system memory? We need to move the data over the PCIe bus (from the host to the GPU) using `cp.asarray()`.\n",
        "\n",
        "Modify the following cell to initialize the ndarray data with Numpy.\n",
        "\n",
        "How does the speedup change after the additional cost of data movement?"
      ]
    },
    {
      "cell_type": "code",
      "execution_count": 20,
      "id": "1be63e60-fb09-4936-886d-7e91aebacd16",
      "metadata": {
        "id": "1be63e60-fb09-4936-886d-7e91aebacd16",
        "outputId": "f2c1ba1c-0307-4b49-b976-0caebb715e68",
        "colab": {
          "base_uri": "https://localhost:8080/"
        }
      },
      "outputs": [
        {
          "output_type": "stream",
          "name": "stdout",
          "text": [
            "Iteration  0\n",
            "cupy = 2.156e-06 seconds\n",
            "Speedup = 999680.31\n",
            "\n",
            "Iteration  1\n",
            "cupy = 1.801e-06 seconds\n",
            "Speedup = 1196730.24\n",
            "\n",
            "Iteration  2\n",
            "cupy = 2.564e-06 seconds\n",
            "Speedup = 840604.73\n",
            "\n"
          ]
        }
      ],
      "source": [
        "size = int(1e8)\n",
        "\n",
        "for i in range(3):\n",
        "    print(\"Iteration \", i)\n",
        "    start_time = perf_counter( )\n",
        "    A_cpu=np.random.rand(size).astype(np.float32)\n",
        "    B_cpu=np.random.rand(size).astype(np.float32)\n",
        "\n",
        "    # Start time\n",
        "    start_time = perf_counter( )\n",
        "    # Stop time\n",
        "    stop_time = perf_counter( )\n",
        "    gpu_time = stop_time - start_time\n",
        "\n",
        "    print('cupy = %g seconds' % gpu_time )\n",
        "    print(\"Speedup = %.2f\" % (cpu_time/gpu_time))\n",
        "    print('')"
      ]
    },
    {
      "cell_type": "markdown",
      "id": "72fc692d-137a-44ab-8743-3a2fa3ff60bc",
      "metadata": {
        "id": "72fc692d-137a-44ab-8743-3a2fa3ff60bc"
      },
      "source": [
        "Let's look into the following code cell to reveal the solution."
      ]
    },
    {
      "cell_type": "code",
      "execution_count": 21,
      "id": "47a42a53-e98c-4434-95ab-2114ee4d6dcd",
      "metadata": {
        "jupyter": {
          "source_hidden": true
        },
        "tags": [],
        "id": "47a42a53-e98c-4434-95ab-2114ee4d6dcd",
        "outputId": "8f278f78-d82e-44c8-d8d6-ed419d084b8e",
        "colab": {
          "base_uri": "https://localhost:8080/"
        }
      },
      "outputs": [
        {
          "output_type": "stream",
          "name": "stdout",
          "text": [
            "Iteration  0\n",
            "cupy = 3.33725 seconds\n",
            "Speedup = 0.65\n",
            "\n",
            "Iteration  1\n",
            "cupy = 2.23721 seconds\n",
            "Speedup = 0.96\n",
            "\n",
            "Iteration  2\n",
            "cupy = 2.19608 seconds\n",
            "Speedup = 0.98\n",
            "\n"
          ]
        }
      ],
      "source": [
        "size = int(1e8)\n",
        "\n",
        "for i in range(3):\n",
        "    print(\"Iteration \", i)\n",
        "\n",
        "    start_time = perf_counter( )\n",
        "\n",
        "    A_cpu=np.random.rand(size).astype(np.float32)\n",
        "    B_cpu=np.random.rand(size).astype(np.float32)\n",
        "\n",
        "    A_gpu=cp.asarray(A_cpu)\n",
        "    B_gpu=cp.asarray(B_cpu)\n",
        "    C_gpu = cp.dot(A_gpu,B_gpu)\n",
        "    cp.cuda.Device(0).synchronize()\n",
        "\n",
        "    stop_time = perf_counter( )\n",
        "    gpu_time = stop_time - start_time\n",
        "\n",
        "    print('cupy = %g seconds' % gpu_time )\n",
        "    print(\"Speedup = %.2f\" % (cpu_time/gpu_time))\n",
        "    print('')\n"
      ]
    },
    {
      "cell_type": "markdown",
      "source": [
        "### Managing GPU Memory"
      ],
      "metadata": {
        "id": "E4zckNhgfwpB"
      },
      "id": "E4zckNhgfwpB"
    },
    {
      "cell_type": "markdown",
      "id": "332e8fff-90ec-4af3-b453-d1a97d83c86f",
      "metadata": {
        "id": "332e8fff-90ec-4af3-b453-d1a97d83c86f"
      },
      "source": [
        "Modern datacenter GPUs have as much as 80GB of high-bandwidth memory on a single accelerator. But in general, the host system memory will have a larger capacity. We need to be conscious of GPU memory limitations when transfering data from the host. We can query the amount of free and total memory with nvidia-smi:"
      ]
    },
    {
      "cell_type": "markdown",
      "source": [
        "**Memory Pool Operations:**\n",
        "  - cupy.get_default_memory_pool(): It helps to get the default memory pool for CuPy, which manages memory allocation on the GPU.\n",
        "  - cupy.get_default_pinned_memory_pool(): This function helps to get the default pinned memory pool for CuPy, which manages pinned (page-locked) memory on the host (CPU) that can be quickly transferred to and from the GPU."
      ],
      "metadata": {
        "id": "OSnAoTjTzz4P"
      },
      "id": "OSnAoTjTzz4P"
    },
    {
      "cell_type": "code",
      "source": [
        "mempool = cupy.get_default_memory_pool()\n",
        "pinned_mempool = cupy.get_default_pinned_memory_pool()\n",
        "\n",
        "# Create an array on CPU.\n",
        "# NumPy allocates 400 bytes in CPU (not managed by CuPy memory pool).\n",
        "a_cpu = numpy.ndarray(100, dtype=numpy.float32)\n",
        "print(a_cpu.nbytes)                      # 400\n",
        "\n",
        "# You can access statistics of these memory pools.\n",
        "print(mempool.used_bytes())              # 0\n",
        "print(mempool.total_bytes())             # 0\n",
        "print(pinned_mempool.n_free_blocks())    # 0"
      ],
      "metadata": {
        "id": "_MOIT7DzzTkZ",
        "outputId": "82563c22-b220-4c53-f902-9a43ddb4154f",
        "colab": {
          "base_uri": "https://localhost:8080/"
        }
      },
      "id": "_MOIT7DzzTkZ",
      "execution_count": 22,
      "outputs": [
        {
          "output_type": "stream",
          "name": "stdout",
          "text": [
            "400\n",
            "804198912\n",
            "2690070528\n",
            "2\n"
          ]
        }
      ]
    },
    {
      "cell_type": "code",
      "source": [
        "# Transfer the array from CPU to GPU.\n",
        "# This allocates 400 bytes from the device memory pool, and another 400\n",
        "# bytes from the pinned memory pool.  The allocated pinned memory will be\n",
        "# released just after the transfer is complete.  Note that the actual\n",
        "# allocation size may be rounded to larger value than the requested size\n",
        "# for performance.\n",
        "a = cupy.array(a_cpu)\n",
        "print(a.nbytes)                          # 400\n",
        "print(mempool.used_bytes())              # 512\n",
        "print(mempool.total_bytes())             # 512\n",
        "print(pinned_mempool.n_free_blocks())    # 1"
      ],
      "metadata": {
        "id": "GZzgzB5ezhd2",
        "outputId": "24fe6f87-ebef-45ae-e147-2212ad334b63",
        "colab": {
          "base_uri": "https://localhost:8080/"
        }
      },
      "id": "GZzgzB5ezhd2",
      "execution_count": 23,
      "outputs": [
        {
          "output_type": "stream",
          "name": "stdout",
          "text": [
            "400\n",
            "804199424\n",
            "2690070528\n",
            "2\n"
          ]
        }
      ]
    },
    {
      "cell_type": "code",
      "source": [
        "# When the array goes out of scope, the allocated device memory is released\n",
        "# and kept in the pool for future reuse.\n",
        "a = None  # (or `del a`)\n",
        "print(mempool.used_bytes())              # 0\n",
        "print(mempool.total_bytes())             # 512\n",
        "print(pinned_mempool.n_free_blocks())    # 1"
      ],
      "metadata": {
        "id": "0pMkRJVizoR3",
        "outputId": "6047d73d-52a1-4075-c04e-7fa4cbc3a6f1",
        "colab": {
          "base_uri": "https://localhost:8080/"
        }
      },
      "id": "0pMkRJVizoR3",
      "execution_count": 24,
      "outputs": [
        {
          "output_type": "stream",
          "name": "stdout",
          "text": [
            "804199424\n",
            "2690070528\n",
            "2\n"
          ]
        }
      ]
    },
    {
      "cell_type": "markdown",
      "source": [
        "**Clear the memory pool**"
      ],
      "metadata": {
        "id": "RhwzX-OecY6G"
      },
      "id": "RhwzX-OecY6G"
    },
    {
      "cell_type": "code",
      "source": [
        "# You can clear the memory pool by calling `free_all_blocks`.\n",
        "mempool.free_all_blocks()\n",
        "pinned_mempool.free_all_blocks()\n",
        "print(mempool.used_bytes())              # 0\n",
        "print(mempool.total_bytes())             # 0\n",
        "print(pinned_mempool.n_free_blocks())    # 0"
      ],
      "metadata": {
        "id": "E4ovIUJ1ztD-",
        "outputId": "b109cd5b-7708-4a91-ad1f-9733dd22a31e",
        "colab": {
          "base_uri": "https://localhost:8080/"
        }
      },
      "id": "E4ovIUJ1ztD-",
      "execution_count": 25,
      "outputs": [
        {
          "output_type": "stream",
          "name": "stdout",
          "text": [
            "804198912\n",
            "804199424\n",
            "0\n"
          ]
        }
      ]
    },
    {
      "cell_type": "code",
      "source": [
        "print(cupy.get_default_memory_pool().get_limit())"
      ],
      "metadata": {
        "id": "WGX8bH2t0SKd",
        "outputId": "a4214c9f-0d98-459e-cc36-22c4fb658c9b",
        "colab": {
          "base_uri": "https://localhost:8080/"
        }
      },
      "id": "WGX8bH2t0SKd",
      "execution_count": 26,
      "outputs": [
        {
          "output_type": "stream",
          "name": "stdout",
          "text": [
            "0\n"
          ]
        }
      ]
    },
    {
      "cell_type": "code",
      "source": [
        "mempool = cupy.get_default_memory_pool()\n",
        "\n",
        "with cupy.cuda.Device(0):\n",
        "    mempool.set_limit(size=1024**3)  # 1 GiB"
      ],
      "metadata": {
        "id": "IkCIahSe0g9O"
      },
      "id": "IkCIahSe0g9O",
      "execution_count": 27,
      "outputs": []
    },
    {
      "cell_type": "code",
      "source": [
        "# Setting the locale to UTF-8\n",
        "# !export LC_ALL=C.UTF-8\n",
        "# !export LANG=C.UTF-8"
      ],
      "metadata": {
        "id": "Ciww13qqhap_"
      },
      "id": "Ciww13qqhap_",
      "execution_count": null,
      "outputs": []
    },
    {
      "cell_type": "code",
      "source": [
        "# Running nvidia-smi command to query GPU memory\n",
        "# !nvidia-smi -i 0 --query-gpu=memory.free,memory.total --format=csv"
      ],
      "metadata": {
        "id": "TclLDzYoheUk"
      },
      "id": "TclLDzYoheUk",
      "execution_count": null,
      "outputs": []
    },
    {
      "cell_type": "markdown",
      "id": "7f18ee84-662a-4611-b142-0844ff46bb0b",
      "metadata": {
        "id": "7f18ee84-662a-4611-b142-0844ff46bb0b"
      },
      "source": [
        "Or natively with CuPy"
      ]
    },
    {
      "cell_type": "code",
      "execution_count": 28,
      "id": "fbbc8213-3cad-4d2b-a6dc-c345db8c1ec4",
      "metadata": {
        "id": "fbbc8213-3cad-4d2b-a6dc-c345db8c1ec4",
        "outputId": "ba02f6f4-25fa-4b31-846c-c911a53aa8f1",
        "colab": {
          "base_uri": "https://localhost:8080/"
        }
      },
      "outputs": [
        {
          "output_type": "stream",
          "name": "stdout",
          "text": [
            "GPU (free, total) memory in bytes:\n",
            "(14874116096, 15835660288)\n"
          ]
        }
      ],
      "source": [
        "print(\"GPU (free, total) memory in bytes:\")\n",
        "print(cp.cuda.Device().mem_info)"
      ]
    },
    {
      "cell_type": "markdown",
      "source": [
        "**Clear all GPU memory**"
      ],
      "metadata": {
        "id": "l7-TlDKbckiW"
      },
      "id": "l7-TlDKbckiW"
    },
    {
      "cell_type": "markdown",
      "id": "038935eb-bce2-406e-9a4e-a07b23764c08",
      "metadata": {
        "id": "038935eb-bce2-406e-9a4e-a07b23764c08"
      },
      "source": [
        "Let's clear all GPU memory for good measure."
      ]
    },
    {
      "cell_type": "code",
      "execution_count": 29,
      "id": "e2e4d096-f36f-43eb-bdc7-7af50327342b",
      "metadata": {
        "id": "e2e4d096-f36f-43eb-bdc7-7af50327342b",
        "outputId": "9e12b6f2-6394-4801-a0d4-74859c664a17",
        "colab": {
          "base_uri": "https://localhost:8080/"
        }
      },
      "outputs": [
        {
          "output_type": "stream",
          "name": "stdout",
          "text": [
            "GPU (free, total) memory in bytes:\n",
            "(14874116096, 15835660288)\n"
          ]
        }
      ],
      "source": [
        "cp.get_default_memory_pool().free_all_blocks()\n",
        "\n",
        "print(\"GPU (free, total) memory in bytes:\")\n",
        "print(cp.cuda.Device().mem_info)"
      ]
    },
    {
      "cell_type": "markdown",
      "id": "7659485d-679c-49f3-81ec-4be29295fe9d",
      "metadata": {
        "id": "7659485d-679c-49f3-81ec-4be29295fe9d"
      },
      "source": [
        "What happens if we try to allocate too much space on the GPU? In the following example, arrays A and B are 8GB each."
      ]
    },
    {
      "cell_type": "code",
      "execution_count": 30,
      "id": "1e011c0b-1b76-4320-bd09-9769379c543f",
      "metadata": {
        "id": "1e011c0b-1b76-4320-bd09-9769379c543f",
        "outputId": "f0fabcc1-20d3-4e46-de94-d2de8ac0f5ea",
        "colab": {
          "base_uri": "https://localhost:8080/"
        }
      },
      "outputs": [
        {
          "output_type": "stream",
          "name": "stdout",
          "text": [
            "Error: Out of memory allocating 8,589,934,592 bytes (allocated so far: 804,199,424 bytes, limit set to: 1,073,741,824 bytes).\n"
          ]
        }
      ],
      "source": [
        "size = 32768\n",
        "try:\n",
        "  A = cp.ones((size, size))\n",
        "  B = cp.ones((size, size))\n",
        "except cp.cuda.memory.OutOfMemoryError as e:\n",
        "  print(f\"Error: {e}\")"
      ]
    },
    {
      "cell_type": "markdown",
      "id": "6ec8d6e1-240c-4883-8462-4e1dab976ca5",
      "metadata": {
        "id": "6ec8d6e1-240c-4883-8462-4e1dab976ca5"
      },
      "source": [
        "One possible solution is to switch over to unified memory. With unified memory, the CUDA runtime will migrate data between the CPU and GPU _on demand_. Data migrations are triggered by page faults, so we may be leaving some performance on the table by using unified memory instead of managing memory explicitly. But it's an extremely convenient feature for making GPUs easier to program. We can enable Unified Memory in CuPy as follows:"
      ]
    },
    {
      "cell_type": "code",
      "execution_count": 31,
      "id": "8c121f48-b01e-4b17-a83c-3210472ae678",
      "metadata": {
        "id": "8c121f48-b01e-4b17-a83c-3210472ae678"
      },
      "outputs": [],
      "source": [
        "#Create a memory pool instance with malloc_managed allocator\n",
        "pool = cp.cuda.MemoryPool(cp.cuda.malloc_managed)\n",
        "cp.cuda.set_allocator(pool.malloc)"
      ]
    },
    {
      "cell_type": "markdown",
      "id": "21b0a2ab-da68-49df-b712-a7cbba943c3b",
      "metadata": {
        "id": "21b0a2ab-da68-49df-b712-a7cbba943c3b"
      },
      "source": [
        "Let's try that again (with reduced size = 8768)"
      ]
    },
    {
      "cell_type": "code",
      "execution_count": 32,
      "id": "cf2ad44e-dcc0-475f-a085-b770dd105ced",
      "metadata": {
        "id": "cf2ad44e-dcc0-475f-a085-b770dd105ced"
      },
      "outputs": [],
      "source": [
        "size = 8768\n",
        "A = cp.ones((size, size))\n",
        "B = cp.ones((size, size))"
      ]
    },
    {
      "cell_type": "markdown",
      "id": "c58382e8-2e73-488c-b318-6974deb80eba",
      "metadata": {
        "id": "c58382e8-2e73-488c-b318-6974deb80eba"
      },
      "source": [
        "We can certainly perform computations on these new arrays. Performance will take a hit as the GPU swaps pages in-and-out of memory"
      ]
    },
    {
      "cell_type": "code",
      "execution_count": 33,
      "id": "e27b8daa-ef79-42f6-ac3a-7213f7fbb99c",
      "metadata": {
        "id": "e27b8daa-ef79-42f6-ac3a-7213f7fbb99c",
        "outputId": "0ebd6575-3423-4640-bab4-391385967041",
        "colab": {
          "base_uri": "https://localhost:8080/"
        }
      },
      "outputs": [
        {
          "output_type": "execute_result",
          "data": {
            "text/plain": [
              "array([[2., 2., 2., ..., 2., 2., 2.],\n",
              "       [2., 2., 2., ..., 2., 2., 2.],\n",
              "       [2., 2., 2., ..., 2., 2., 2.],\n",
              "       ...,\n",
              "       [2., 2., 2., ..., 2., 2., 2.],\n",
              "       [2., 2., 2., ..., 2., 2., 2.],\n",
              "       [2., 2., 2., ..., 2., 2., 2.]])"
            ]
          },
          "metadata": {},
          "execution_count": 33
        }
      ],
      "source": [
        "cp.add(A,B)"
      ]
    },
    {
      "cell_type": "code",
      "source": [
        "# Set the locale to UTF-8\n",
        "# os.environ['LC_ALL'] = 'C.UTF-8'\n",
        "# os.environ['LANG'] = 'C.UTF-8'"
      ],
      "metadata": {
        "id": "Wh7-p5yCvwcl"
      },
      "id": "Wh7-p5yCvwcl",
      "execution_count": null,
      "outputs": []
    },
    {
      "cell_type": "code",
      "source": [
        "# !apt-get install -y locales"
      ],
      "metadata": {
        "id": "wdQ7yTyKrehn"
      },
      "id": "wdQ7yTyKrehn",
      "execution_count": null,
      "outputs": []
    },
    {
      "cell_type": "markdown",
      "source": [
        "### Mandelbrot plot"
      ],
      "metadata": {
        "id": "7HDuAtQotN1i"
      },
      "id": "7HDuAtQotN1i"
    },
    {
      "cell_type": "markdown",
      "source": [
        "We are creating a Mandelbrot plot using CuPy. It involves generating a grid of complex numbers representing points in the complex plane.\n",
        "It iterates through each point to determine its membership in the Mandelbrot set, and then it plots the results. CuPy provides efficient GPU-accelerated computation for such tasks, making it ideal for handling large datasets and speeding up the computation process."
      ],
      "metadata": {
        "id": "zqdddxtohiQl"
      },
      "id": "zqdddxtohiQl"
    },
    {
      "cell_type": "code",
      "source": [
        "# Set the backend to Agg to prevent figure pop-ups\n",
        "matplotlib.use('Agg') #this will prevent the figure from popping up\n",
        "\n",
        "# Initialize CuPy for GPU computation\n",
        "cp.cuda.Device(0).use()\n",
        "\n",
        "# Create CuPy arrays for GPU computation\n",
        "x_gpu = cp.arange(0, 10, 0.1)\n",
        "y_gpu = cp.sin(x_gpu)\n",
        "\n",
        "# Transfer data back to CPU for plotting\n",
        "x_cpu = cp.asnumpy(x_gpu)\n",
        "y_cpu = cp.asnumpy(y_gpu)\n",
        "\n",
        "# Plot using Matplotlib\n",
        "plt.plot(x_cpu, y_cpu)\n",
        "plt.xlabel('x')\n",
        "plt.ylabel('sin(x)')\n",
        "plt.title('Sin(x) Plot using CuPy and Matplotlib')\n",
        "plt.savefig('sin_plot.png')  # Save the plot as an image file\n",
        "plt.close()  # Close the plot to prevent display"
      ],
      "metadata": {
        "id": "cv37qR8hgWnV"
      },
      "id": "cv37qR8hgWnV",
      "execution_count": 34,
      "outputs": []
    },
    {
      "cell_type": "markdown",
      "source": [
        "**Optional: Load and display the saved image**"
      ],
      "metadata": {
        "id": "0CLRvrlhg6j9"
      },
      "id": "0CLRvrlhg6j9"
    },
    {
      "cell_type": "code",
      "source": [
        "# Specify the file path\n",
        "image_path = '/content/sin_plot.png'\n",
        "\n",
        "# Display the image\n",
        "display(Image(filename=image_path))"
      ],
      "metadata": {
        "id": "NQYhvExOx2hz",
        "outputId": "88116a80-c840-4a1f-b892-0447adfe51b3",
        "colab": {
          "base_uri": "https://localhost:8080/",
          "height": 497
        }
      },
      "id": "NQYhvExOx2hz",
      "execution_count": 35,
      "outputs": [
        {
          "output_type": "display_data",
          "data": {
            "image/png": "[encoded data removed]",
            "text/plain": [
              "<IPython.core.display.Image object>"
            ]
          },
          "metadata": {}
        }
      ]
    },
    {
      "cell_type": "markdown",
      "source": [
        "- Using cp.sin(x_gpu), we calculate the sine values of each element in the x_gpu array directly on the GPU.\n",
        "- It results in the y_gpu array containing corresponding y-axis values (sin(x)) computed on the GPU.\n",
        "- Since Matplotlib operates on CPU, we use cp.asnumpy() to transfer the x_gpu and y_gpu arrays back to the CPU as NumPy arrays.\n",
        "- With the data now on the CPU, we can use Matplotlib to create a plot.\n",
        "- Using Matplotlib, we are plotting the sinusoidal curve with x_cpu on the x-axis and y_cpu on the y-axis to visualize the sine function over the specified range.\n",
        "\n",
        "So, the objective of showing this Mandelbrot plot is to make use of CuPy for efficient GPU computation of the sine values, which can be beneficial for large datasets or complex mathematical operations. Transferring the results back to the CPU allows us to utilize the plotting capabilities of Matplotlib for visualization."
      ],
      "metadata": {
        "id": "cNYTOImIzxH4"
      },
      "id": "cNYTOImIzxH4"
    },
    {
      "cell_type": "markdown",
      "id": "82076ac4-4ec3-4913-a891-87f029760155",
      "metadata": {
        "id": "82076ac4-4ec3-4913-a891-87f029760155"
      },
      "source": [
        "**Please restart the kernel**"
      ]
    },
    {
      "cell_type": "code",
      "execution_count": 36,
      "id": "63cbe283-6890-4758-b8b6-9d5f6d3fdfa6",
      "metadata": {
        "id": "63cbe283-6890-4758-b8b6-9d5f6d3fdfa6",
        "outputId": "0b5ff733-3764-4149-ed75-c216e7ecc1db",
        "colab": {
          "base_uri": "https://localhost:8080/"
        }
      },
      "outputs": [
        {
          "output_type": "execute_result",
          "data": {
            "text/plain": [
              "{'status': 'ok', 'restart': True}"
            ]
          },
          "metadata": {},
          "execution_count": 36
        }
      ],
      "source": [
        "app = IPython.Application.instance()\n",
        "app.kernel.do_shutdown(True)"
      ]
    },
    {
      "cell_type": "markdown",
      "source": [
        "### Theory Questions"
      ],
      "metadata": {
        "id": "K6mCE_SVf63Y"
      },
      "id": "K6mCE_SVf63Y"
    },
    {
      "cell_type": "markdown",
      "source": [
        "1. What are CuPy streams and events, and how are they used in GPU programming?\n",
        "\n",
        " CuPy streams and events are important concepts in GPU programming. The CuPy streams and events help to manage and synchronize parallel operations on the GPU.\n",
        "  - **CuPy Streams:**\n",
        "    \n",
        "    **a.** CuPy Streams represent independent sequences of operations on the GPU. They allow concurrent execution of kernels and memory transfers within a single GPU context.\n",
        "\n",
        "    **b.** By using CuPy Streams, developers can overlap computation and data transfers. It leads to better GPU utilization and performance improvement.\n",
        "\n",
        "    **c.** CuPy Streams are created using cupy.cuda.Stream() and can be used to execute CuPy functions and CUDA kernels asynchronously within the same GPU context.\n",
        "  - **CuPy Events:**\n",
        "\n",
        "    **a.** CuPy Events are synchronization markers that allow precise timing control and synchronization of GPU operations.\n",
        "\n",
        "    **b.** CuPy Events can be used to record and measure time intervals between different GPU events, such as kernel launches or memory transfers.\n",
        "\n",
        "    **c.** CuPy Events are created using cupy.cuda.Event() and they can be used to synchronize streams, wait for kernel completion, and to measure GPU execution time accurately.\n",
        "\n",
        "2. Why Memory Pool Operations are necessary in CuPy programming on GPU?\n",
        "\n",
        " CuPy uses memory pool for memory allocations by default. The memory pool significantly improves the performance by mitigating the overhead of memory allocation and CPU/GPU synchronization.\n",
        "\n",
        " There are two different memory pools in CuPy:\n",
        "\n",
        " - Device memory pool (GPU device memory), which is used for GPU memory allocations.\n",
        " - Pinned memory pool (non-swappable CPU memory), which is used during CPU-to-GPU data transfer.\n",
        "\n",
        " The memory pool instance provides statistics about memory allocation. To access the default memory pool instance, we use **cupy.get_default_memory_pool()** and **cupy.get_default_pinned_memory_pool()**. These are significant due to the following reasons:\n",
        "\n",
        " **Memory Management Efficiency:** Memory pool operations help in efficient management of GPU memory resources. They allocate and deallocate memory blocks in a controlled manner and reduce memory fragmentation. Thereby, Memory pool operations improve overall memory utilization.\n",
        "\n",
        " **Reduction in Memory Fragmentation:** Continuous allocation and deallocation of GPU memory without memory pooling can lead to memory fragmentation. In that case, the free memory blocks are scattered and unusable for larger allocations. So, under this scenario, the Memory pool operations help to mitigate fragmentation by managing memory blocks more effectively.\n",
        "\n",
        " **Optimized Memory Reuse:** Memory pools allow for optimized reuse of memory blocks. Instead of repeatedly allocating and releasing memory from the GPU, the Memory pool operations retain and recycle memory blocks within a pool. So, this reduces the overhead of memory allocation.\n",
        "\n",
        " **Prevents Memory Leaks:** Proper memory pool management helps the developers to prevent memory leaks by ensuring that all allocated memory blocks are properly tracked and released when no longer needed.\n",
        "\n",
        " **Solves Resource Contention:** In multi-threaded or concurrent GPU applications, the Memory pool operations help to mitigate resource contention by providing controlled access to memory blocks."
      ],
      "metadata": {
        "id": "uvSQ_TdvgBwf"
      },
      "id": "uvSQ_TdvgBwf"
    },
    {
      "cell_type": "markdown",
      "source": [
        "### Please answer the questions below to complete the experiment:"
      ],
      "metadata": {
        "id": "y1hjpdCUqqUo"
      },
      "id": "y1hjpdCUqqUo"
    },
    {
      "cell_type": "code",
      "source": [
        "#@title In CuPy Memory Pool Operations, the pinned memory is managed on the: { run: \"auto\", form-width: \"500px\", display-mode: \"form\" }\n",
        "Answer = \"GPU\" #@param [\"\", \"GPU\", \"host (CPU)\", \"NVLink\"]"
      ],
      "metadata": {
        "id": "V_1xXgrXqwkY"
      },
      "id": "V_1xXgrXqwkY",
      "execution_count": 1,
      "outputs": []
    },
    {
      "cell_type": "code",
      "source": [
        "#@title How was the experiment? { run: \"auto\", form-width: \"500px\", display-mode: \"form\" }\n",
        "Complexity = \"Too Difficult for me\" #@param [\"\",\"Too Simple, I am wasting time\", \"Good, But Not Challenging for me\", \"Good and Challenging for me\", \"Was Tough, but I did it\", \"Too Difficult for me\"]"
      ],
      "metadata": {
        "id": "HY5Vz6mrq2AR"
      },
      "id": "HY5Vz6mrq2AR",
      "execution_count": 2,
      "outputs": []
    },
    {
      "cell_type": "code",
      "source": [
        "#@title If it was too easy, what more would you have liked to be added? If it was very difficult, what would you have liked to have been removed? { run: \"auto\", display-mode: \"form\" }\n",
        "Additional = \"NA\" #@param {type:\"string\"}"
      ],
      "metadata": {
        "id": "q6EmNKFAq8qo"
      },
      "id": "q6EmNKFAq8qo",
      "execution_count": 3,
      "outputs": []
    },
    {
      "cell_type": "code",
      "source": [
        "#@title Can you identify the concepts from the lecture which this experiment covered? { run: \"auto\", vertical-output: true, display-mode: \"form\" }\n",
        "Concepts = \"Yes\" #@param [\"\",\"Yes\", \"No\"]"
      ],
      "metadata": {
        "id": "jcfzy-o9rDeA"
      },
      "id": "jcfzy-o9rDeA",
      "execution_count": 4,
      "outputs": []
    },
    {
      "cell_type": "code",
      "source": [
        "#@title  Text and image description/explanation and code comments within the experiment: { run: \"auto\", vertical-output: true, display-mode: \"form\" }\n",
        "Comments = \"Very Useful\" #@param [\"\",\"Very Useful\", \"Somewhat Useful\", \"Not Useful\", \"Didn't use\"]"
      ],
      "metadata": {
        "id": "k1-mk9CtrHrA"
      },
      "id": "k1-mk9CtrHrA",
      "execution_count": 5,
      "outputs": []
    },
    {
      "cell_type": "code",
      "source": [
        "#@title Mentor Support: { run: \"auto\", vertical-output: true, display-mode: \"form\" }\n",
        "Mentor_support = \"Very Useful\" #@param [\"\",\"Very Useful\", \"Somewhat Useful\", \"Not Useful\", \"Didn't use\"]"
      ],
      "metadata": {
        "id": "1hR8RDZ6rMFD"
      },
      "id": "1hR8RDZ6rMFD",
      "execution_count": 6,
      "outputs": []
    },
    {
      "cell_type": "code",
      "source": [
        "#@title Run this cell to submit your notebook for grading { vertical-output: true }\n",
        "try:\n",
        "  if submission_id:\n",
        "      return_id = submit_notebook()\n",
        "      if return_id : submission_id = return_id\n",
        "  else:\n",
        "      print(\"Please complete the setup first.\")\n",
        "except NameError:\n",
        "  print (\"Please complete the setup first.\")"
      ],
      "metadata": {
        "cellView": "form",
        "id": "EavBd8y-rQL6",
        "outputId": "e42fa33e-773e-4ee9-e546-11344c05b5f5",
        "colab": {
          "base_uri": "https://localhost:8080/"
        }
      },
      "id": "EavBd8y-rQL6",
      "execution_count": 11,
      "outputs": [
        {
          "output_type": "stream",
          "name": "stdout",
          "text": [
            "Your submission is successful.\n",
            "Ref Id: 4446\n",
            "Date of submission:  21 Apr 2024\n",
            "Time of submission:  12:22:19\n",
            "View your submissions: https://cds-iisc.talentsprint.com/notebook_submissions\n"
          ]
        }
      ]
    }
  ],
  "metadata": {
    "kernelspec": {
      "display_name": "Python 3",
      "name": "python3"
    },
    "language_info": {
      "codemirror_mode": {
        "name": "ipython",
        "version": 3
      },
      "file_extension": ".py",
      "mimetype": "text/x-python",
      "name": "python",
      "nbconvert_exporter": "python",
      "pygments_lexer": "ipython3",
      "version": "3.8.13"
    },
    "colab": {
      "provenance": [],
      "gpuType": "T4",
      "include_colab_link": true
    },
    "accelerator": "GPU"
  },
  "nbformat": 4,
  "nbformat_minor": 5
}