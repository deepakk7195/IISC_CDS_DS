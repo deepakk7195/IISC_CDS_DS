{
  "nbformat": 4,
  "nbformat_minor": 0,
  "metadata": {
    "colab": {
      "private_outputs": true,
      "provenance": [],
      "include_colab_link": true
    },
    "kernelspec": {
      "display_name": "Python 3",
      "language": "python",
      "name": "python3"
    },
    "language_info": {
      "codemirror_mode": {
        "name": "ipython",
        "version": 3
      },
      "file_extension": ".py",
      "mimetype": "text/x-python",
      "name": "python",
      "nbconvert_exporter": "python",
      "pygments_lexer": "ipython3",
      "version": "3.6.7rc1"
    }
  },
  "cells": [
    {
      "cell_type": "markdown",
      "metadata": {
        "id": "view-in-github",
        "colab_type": "text"
      },
      "source": [
        "<a href=\"https://colab.research.google.com/github/deepakk7195/IISC_CDS_DS/blob/foundations_of_ds/Mini_Project_1.ipynb\" target=\"_parent\"><img src=\"https://colab.research.google.com/assets/colab-badge.svg\" alt=\"Open In Colab\"/></a>"
      ]
    },
    {
      "cell_type": "markdown",
      "metadata": {
        "id": "aUUu9l_JfJ92"
      },
      "source": [
        "# Advanced Certification Program in Computational Data Science\n",
        "\n",
        "##  A program by IISc and TalentSprint\n",
        "\n",
        "### Mini Project Notebook 1 : Data analytics\n",
        "\n"
      ]
    },
    {
      "cell_type": "markdown",
      "metadata": {
        "id": "SL3yrUc-XrLS"
      },
      "source": [
        "## Learning Objectives"
      ]
    },
    {
      "cell_type": "markdown",
      "metadata": {
        "id": "nljJR6CwfZN_"
      },
      "source": [
        "\n",
        "\n",
        "At the end of the experiment, you will be able to :\n",
        "\n",
        "\n",
        "* understand the requirements for a “clean” dataset, ready for use in statistical analysis\n",
        "\n",
        "* use Python libraries like Pandas, Numpy, and Matplotlib to perform the  data-preprocessing steps\n",
        "\n",
        "* obtain probability and statistics based insights from the data\n"
      ]
    },
    {
      "cell_type": "markdown",
      "metadata": {
        "id": "pMh1cTQ0Y0wZ"
      },
      "source": [
        "## Dataset"
      ]
    },
    {
      "cell_type": "markdown",
      "metadata": {
        "id": "dlCSHY5_Y0wb"
      },
      "source": [
        "The dataset chosen for this experiment is the **Play Store** dataset which is  publicly available and created with this [methodology](https://nycdatascience.com/blog/student-works/google-play-store-everything-that-you-need-to-know-about-the-android-market/)  \n",
        "\n",
        "This dataset consists of 10841 records. Each record is made up of 13 fields.\n",
        "\n",
        "**For example**, Each record consists of App, Category, Rating, Reviews, Size, Installs, Type, Price, Content Rating, Genres, Last Updated, Current Ver, and Android Ver."
      ]
    },
    {
      "cell_type": "markdown",
      "metadata": {
        "id": "KovpIBt2Ztv8"
      },
      "source": [
        "## Problem Statement"
      ]
    },
    {
      "cell_type": "markdown",
      "metadata": {
        "id": "GYdLgvhhZtwA"
      },
      "source": [
        "Before we can derive any meaningful insights from the Play Store data, it is essential to pre-process the data and make it suitable for further analysis. This pre-processing step forms a major part of data wrangling (or data munging) and ensures better quality data. It consists of the transformation and mapping of data from a \"raw\" data form into another format so that it is more valuable for a variety of downstream purposes such as analytics. Data analysts typically spend a sizeable amount of time in the process of data wrangling, compared to the actual analysis of the data."
      ]
    },
    {
      "cell_type": "markdown",
      "metadata": {
        "id": "SqM_j0MiZtv-"
      },
      "source": [
        "After data munging is performed, several actionable insights can be derived from the Play Store apps data. Such insights could help to unlock the enormous potential to drive app-making businesses to success."
      ]
    },
    {
      "cell_type": "code",
      "metadata": {
        "id": "4Gi2zCP0ZtwB"
      },
      "source": [
        "#@title Download the data\n",
        "!wget -qq https://cdn.iisc.talentsprint.com/CDS/Datasets/googleplaystore.csv"
      ],
      "execution_count": null,
      "outputs": []
    },
    {
      "cell_type": "markdown",
      "metadata": {
        "id": "epVoy2b_Z05e"
      },
      "source": [
        "#### Import required packages"
      ]
    },
    {
      "cell_type": "code",
      "metadata": {
        "id": "z1RX1oi_Z4Nu"
      },
      "source": [
        "import numpy as np\n",
        "import seaborn as sns\n",
        "import pandas as pd\n",
        "from matplotlib import pyplot as plt"
      ],
      "execution_count": null,
      "outputs": []
    },
    {
      "cell_type": "markdown",
      "metadata": {
        "id": "YmOJDVdp9PYo"
      },
      "source": [
        "#### Load the dataset"
      ]
    },
    {
      "cell_type": "code",
      "metadata": {
        "id": "6DrVCIg54LZp"
      },
      "source": [
        "# YOUR CODE HERE\n",
        "df_play_store_data = pd.read_csv('/content/googleplaystore.csv')\n",
        "df_play_store_data.head(2)"
      ],
      "execution_count": null,
      "outputs": []
    },
    {
      "cell_type": "markdown",
      "metadata": {
        "id": "li5KS0i3pQqq"
      },
      "source": [
        "## Pre-processing"
      ]
    },
    {
      "cell_type": "markdown",
      "metadata": {
        "id": "VSrwuDKposoF"
      },
      "source": [
        "### Task 1: Data Cleaning\n",
        "\n",
        "* Check whether there are any null values and figure out how you want to handle them?\n",
        "  \n",
        "    **Hint:** isnan(), dropna(), fillna()\n",
        "* If there is any duplication of a record, how would you like to handle it?\n",
        "\n",
        "    Hint: [drop_duplicates](https://pandas.pydata.org/pandas-docs/stable/reference/api/pandas.DataFrame.drop_duplicates.html)\n",
        "\n",
        "* Are there any non-English apps? And how to filter them?\n",
        "\n",
        "* In the size column, multiply 1,000,000 with M in the cell and multiply by 1000 if we have K in the cell."
      ]
    },
    {
      "cell_type": "code",
      "metadata": {
        "id": "rgCf41v3FHLw"
      },
      "source": [
        "# YOUR CODE HERE\n",
        "print(df_play_store_data.columns)\n",
        "print(df_play_store_data.shape)"
      ],
      "execution_count": null,
      "outputs": []
    },
    {
      "cell_type": "code",
      "source": [
        "# Handling Nulls -\n",
        "df_play_store_data.isnull().sum()"
      ],
      "metadata": {
        "id": "f4T26I4MWII2"
      },
      "execution_count": null,
      "outputs": []
    },
    {
      "cell_type": "code",
      "source": [
        "#Filling the Null values with not specified\n",
        "df_play_store_data['Rating'] = df_play_store_data['Rating'].fillna(0)\n",
        "df_play_store_data['Type'] = df_play_store_data['Type'].fillna(\"Not Specified\")\n",
        "df_play_store_data['Content Rating'] = df_play_store_data['Content Rating'].fillna(\"Not Specified\")\n",
        "df_play_store_data['Current Ver'] = df_play_store_data['Current Ver'].fillna(\"Not Specified\")\n",
        "df_play_store_data['Android Ver'] = df_play_store_data['Android Ver'].fillna(\"Not Specified\")"
      ],
      "metadata": {
        "id": "b4AoqxSPWIFf"
      },
      "execution_count": null,
      "outputs": []
    },
    {
      "cell_type": "code",
      "source": [
        "# Find number of duplicate rows\n",
        "print(f\"Size of dataset before removing duplicate rows = {len(df_play_store_data)}\")\n",
        "duplicate_rows = df_play_store_data.duplicated()\n",
        "print(f\"Number of duplicate rows = {duplicate_rows.sum()}\")\n",
        "\n",
        "#Remove duplicate rows\n",
        "##df_play_store_data.drop_duplicates(inpalce=True)\n",
        "df_play_store_data = df_play_store_data.drop_duplicates(keep='first')\n",
        "print(f\"Size of dataset after removing duplicate rows = {len(df_play_store_data)}\")"
      ],
      "metadata": {
        "id": "0t3RRkBQWID5"
      },
      "execution_count": null,
      "outputs": []
    },
    {
      "cell_type": "code",
      "source": [
        "#Removing Non-English Characters from the App column\n",
        "df_play_store_data[df_play_store_data['App'].map(lambda x: x.isascii())]\n",
        "df_play_store_data.head(2)"
      ],
      "metadata": {
        "id": "gyAQySpTWICF"
      },
      "execution_count": null,
      "outputs": []
    },
    {
      "cell_type": "code",
      "source": [
        "def value_to_float(x):\n",
        "    if type(x) == float or type(x) == int:\n",
        "        return x\n",
        "    if 'K' in x:\n",
        "        if len(x) > 1:\n",
        "            return float(x.replace('K', '')) * 1000\n",
        "        return 1000.0\n",
        "    if 'M' in x:\n",
        "        if len(x) > 1:\n",
        "            return float(x.replace('M', '')) * 1000000\n",
        "        return 1000000.0\n",
        "    return(x)\n",
        "df_play_store_data['Size'] = df_play_store_data['Size'].apply(value_to_float)"
      ],
      "metadata": {
        "id": "DZtfYni-WIAO"
      },
      "execution_count": null,
      "outputs": []
    },
    {
      "cell_type": "code",
      "source": [
        "# ??? What to do with remaining textual values of size"
      ],
      "metadata": {
        "id": "lBmfKptsWH-H"
      },
      "execution_count": null,
      "outputs": []
    },
    {
      "cell_type": "markdown",
      "metadata": {
        "id": "UrPzlHc4-zIR"
      },
      "source": [
        "## Visualization"
      ]
    },
    {
      "cell_type": "markdown",
      "metadata": {
        "id": "qFgtC_jCpJL1"
      },
      "source": [
        "### Task 2: Perform the  following tasks:"
      ]
    },
    {
      "cell_type": "markdown",
      "metadata": {
        "id": "5QQ2WUQX9XYy"
      },
      "source": [
        "##### Exercise 1: Find the number of apps in various categories by using an appropriate plot."
      ]
    },
    {
      "cell_type": "code",
      "source": [
        "# df_play_store_data[df_play_store_data['Category'] == '1.9'].sum()\n",
        "print((df_play_store_data['Category'] == '1.9').sum())\n",
        "df_play_store_data = df_play_store_data[df_play_store_data['Category'] != '1.9']"
      ],
      "metadata": {
        "id": "_SmrgTlsXX8K"
      },
      "execution_count": null,
      "outputs": []
    },
    {
      "cell_type": "code",
      "metadata": {
        "id": "zcRjzr9YRo72"
      },
      "source": [
        "dfg = df_play_store_data.groupby(['Category'])['App'].count()\n",
        "dfg.plot(kind='bar', title='Apps in Categories', ylabel='No: Of Apps',xlabel='Category', figsize=(20, 5))"
      ],
      "execution_count": null,
      "outputs": []
    },
    {
      "cell_type": "code",
      "source": [
        "df_play_store_data.head(3)"
      ],
      "metadata": {
        "id": "uo7eD4e1YlAD"
      },
      "execution_count": null,
      "outputs": []
    },
    {
      "cell_type": "markdown",
      "metadata": {
        "id": "uzzEnMv25vGn"
      },
      "source": [
        "##### Exercise 2: Explore the distribution of free and paid apps across different categories\n",
        "\n",
        "**Hint:** Stacked Bar Graph, [link](https://matplotlib.org/3.1.1/gallery/lines_bars_and_markers/bar_stacked.html)"
      ]
    },
    {
      "cell_type": "code",
      "metadata": {
        "id": "UzxR7Gj4Rrbw"
      },
      "source": [
        "# YOUR CODE HERE\n",
        "# exer2 = df_play_store_data.groupby(['Category','Type'])['App'].count()\n",
        "# print(type(exer2))\n",
        "# print(exer2[:2])\n",
        "exer2 = df_play_store_data.groupby(['Category','Type'])['App'].size().unstack()\n",
        "print(type(exer2))\n",
        "exer2.plot(kind='bar', stacked=True,figsize=(20, 10),color=['red','blue','green'],\\\n",
        "           title='distribution of free and paid apps across different categories')"
      ],
      "execution_count": null,
      "outputs": []
    },
    {
      "cell_type": "markdown",
      "metadata": {
        "id": "OFNIQ4dj59Ep"
      },
      "source": [
        "##### Exercise 3: Represent the distribution of app rating on a scale of 1-5 using an appropriate plot\n",
        "\n",
        "**Hint:** histogram / strip plot"
      ]
    },
    {
      "cell_type": "code",
      "metadata": {
        "id": "0ZDWxb_JRtBl"
      },
      "source": [
        "# YOUR CODE HERE\n",
        "df_play_store_data['Rating'].unique()\n",
        "# exer3 = df_play_store_data.groupby(['Rating']).count()\n",
        "# exer3 = df_play_store_data.hist(column = 'Rating')\n",
        "df_play_store_data.plot(kind = 'hist', title = 'Histogram of ratings',bins = 5)"
      ],
      "execution_count": null,
      "outputs": []
    },
    {
      "cell_type": "markdown",
      "metadata": {
        "id": "mWglBy3pDK3g"
      },
      "source": [
        "\n",
        "##### Exercise 4: Identify outliers of the rating column by plotting the boxplot category wise and handle them.\n",
        "\n",
        "**Hint:** Removing outliers using Z-score, quantile [link](https://kanoki.org/2020/04/23/how-to-remove-outliers-in-python/)"
      ]
    },
    {
      "cell_type": "code",
      "metadata": {
        "id": "ehVoOe9ARv0w"
      },
      "source": [
        "# Identifying outiers using Boxplot -\n",
        "plt.figure(figsize=(12, 6))\n",
        "sns.boxplot(x='Rating', y='Category', data=df_play_store_data, sym='b.')\n",
        "plt.title('Boxplot of Ratings by Category with Outliers')\n",
        "plt.show()"
      ],
      "execution_count": null,
      "outputs": []
    },
    {
      "cell_type": "code",
      "source": [
        "# Removing outliers using z-score -\n",
        "# Calculating z-score for the ratings -\n",
        "from scipy import stats\n",
        "df_play_store_data['z_score']=stats.zscore(df_play_store_data['Rating'])\n",
        "print(df_play_store_data['z_score'].nunique())\n",
        "print(df_play_store_data['z_score'].unique())\n",
        "\n",
        "print(\"1 - \",df_play_store_data.shape)\n",
        "# Any absolute value of z-score above 3 is considered as an Outlier\n",
        "df_play_store_data1 = df_play_store_data.loc[df_play_store_data['z_score'].abs()<=3]\n",
        "print(\"2 - \",df_play_store_data1.shape)"
      ],
      "metadata": {
        "id": "jK4zJ5xsu6tQ"
      },
      "execution_count": null,
      "outputs": []
    },
    {
      "cell_type": "code",
      "source": [],
      "metadata": {
        "id": "ByOmQwJcu6pq"
      },
      "execution_count": null,
      "outputs": []
    },
    {
      "cell_type": "code",
      "source": [
        "df_play_store_data.head(1)"
      ],
      "metadata": {
        "id": "9_qygdwAu6nM"
      },
      "execution_count": null,
      "outputs": []
    },
    {
      "cell_type": "code",
      "source": [
        "df_play_store_data.Installs.unique()"
      ],
      "metadata": {
        "id": "Bueb7MIzKQOT"
      },
      "execution_count": null,
      "outputs": []
    },
    {
      "cell_type": "markdown",
      "metadata": {
        "id": "yiOWt855DsZ8"
      },
      "source": [
        "##### Exercise 5: Plot the barplot of all the categories indicating no. of installs"
      ]
    },
    {
      "cell_type": "code",
      "metadata": {
        "id": "s3LW5CejRyBc"
      },
      "source": [
        "# YOUR CODE HERE\n",
        "# Replacing ++, by null\n",
        "df_play_store_data['Installs'] = df_play_store_data['Installs'].str.replace('+', '', regex=False)\n",
        "df_play_store_data['Installs'] = df_play_store_data['Installs'].str.replace(',', '', regex=False)\n",
        "df_play_store_data['Installs'] = df_play_store_data['Installs'].astype(int)\n",
        "exer5 = df_play_store_data.groupby(['Category'])['App'].count()"
      ],
      "execution_count": null,
      "outputs": []
    },
    {
      "cell_type": "code",
      "source": [
        "fig, ax = plt.subplots(figsize=(20, 5))\n",
        "bar_plot = exer5.plot(kind='bar', title='No of installs per category', ylabel='No: Of Installs', xlabel='Category', ax=ax)\n",
        "\n",
        "#Adding text in each bar -\n",
        "for p in bar_plot.patches:\n",
        "    bar_plot.annotate(str(p.get_height()), (p.get_x() + p.get_width() / 2., p.get_height()),ha='center', va='center', xytext=(0, 10),\\\n",
        "                      textcoords='offset points')\n",
        "plt.show()"
      ],
      "metadata": {
        "id": "9lsva6iEMQBr"
      },
      "execution_count": null,
      "outputs": []
    },
    {
      "cell_type": "markdown",
      "metadata": {
        "id": "nLNboJI1bDhL"
      },
      "source": [
        "## Insights\n"
      ]
    },
    {
      "cell_type": "markdown",
      "metadata": {
        "id": "boBhK2SdGXlW"
      },
      "source": [
        "### Task 3: Derive the below insights"
      ]
    },
    {
      "cell_type": "markdown",
      "metadata": {
        "id": "AtVLkGB_ANwf"
      },
      "source": [
        "##### Exercise 1: Does the price correlate with the size of the app?\n",
        "\n",
        "  **Hint:** plot the scatterplot of `Size` and `Price`"
      ]
    },
    {
      "cell_type": "code",
      "source": [
        "print(df_play_store_data['Price'].unique())\n",
        "df_play_store_data['Price'] = df_play_store_data['Price'].str.replace('$', '', regex=False)"
      ],
      "metadata": {
        "id": "xZ5jch22MYtF"
      },
      "execution_count": null,
      "outputs": []
    },
    {
      "cell_type": "code",
      "source": [
        "print(df_play_store_data['Price'].unique())"
      ],
      "metadata": {
        "id": "m_eU5C--NIWF"
      },
      "execution_count": null,
      "outputs": []
    },
    {
      "cell_type": "code",
      "source": [
        "print(df_play_store_data['Price'].unique())\n",
        "df_play_store_data['Price'] = df_play_store_data['Price'].str.replace('$', '', regex=False)"
      ],
      "metadata": {
        "id": "Z-hbiuiiNbd3"
      },
      "execution_count": null,
      "outputs": []
    },
    {
      "cell_type": "code",
      "source": [
        "df_play_store_data['Price'] = df_play_store_data['Price'].astype(float)"
      ],
      "metadata": {
        "id": "K9uRfLDLNtRC"
      },
      "execution_count": null,
      "outputs": []
    },
    {
      "cell_type": "code",
      "source": [
        "(df_play_store_data['Size'] == 'Varies with device').sum() #1526\n",
        "df_play_store_data['Size'] = df_play_store_data['Size'].str.replace(\"k\", '000', regex=False)\n",
        "df_play_store_data['Size'] = df_play_store_data['Size'].str.replace(\"8.5000\", '8500', regex=False)"
      ],
      "metadata": {
        "id": "FHhWJYrlOrGk"
      },
      "execution_count": null,
      "outputs": []
    },
    {
      "cell_type": "code",
      "source": [
        "print(type(df_play_store_data['Size']))\n",
        "srs = df_play_store_data['Size']\n",
        "numeric_values = pd.to_numeric(srs, errors='coerce')\n",
        "mean_value = numeric_values.mean()\n",
        "median = numeric_values.median()\n",
        "mode = numeric_values.mode()[0]\n",
        "print(mean_value,median,mode) #448757.14285714284,411000.0,79000.0\n",
        "\n",
        "#replacing impure values by mean\n",
        "srs = srs.apply(lambda x: mean_value if pd.to_numeric(x, errors='coerce') is None else x)"
      ],
      "metadata": {
        "id": "4tBhETwFgt8v"
      },
      "execution_count": null,
      "outputs": []
    },
    {
      "cell_type": "code",
      "source": [
        "# Converting copy of the Size column into numeric -\n",
        "srs = pd.to_numeric(srs, errors='coerce')\n",
        "# print(srs.unique())\n",
        "srs = srs.fillna(mean_value)"
      ],
      "metadata": {
        "id": "PEkVXHQYR9n6"
      },
      "execution_count": null,
      "outputs": []
    },
    {
      "cell_type": "code",
      "source": [
        "print(srs.unique())"
      ],
      "metadata": {
        "id": "VV3LJRIe5f0_"
      },
      "execution_count": null,
      "outputs": []
    },
    {
      "cell_type": "code",
      "source": [
        "# Trying to get rid of . using round -\n",
        "srs = round(srs)\n",
        "print(srs.unique())"
      ],
      "metadata": {
        "id": "TnzrgXim5dKf"
      },
      "execution_count": null,
      "outputs": []
    },
    {
      "cell_type": "code",
      "source": [
        "# Getting rid of . as -\n",
        "srs = srs.astype(str).replace('\\.','',regex=True).astype(int)\n",
        "print(srs.unique())"
      ],
      "metadata": {
        "id": "CGRWa2Kq6MkL"
      },
      "execution_count": null,
      "outputs": []
    },
    {
      "cell_type": "code",
      "source": [
        "print(srs.apply(lambda x: isinstance(x, int)).all())"
      ],
      "metadata": {
        "id": "jBShx5go8IvV"
      },
      "execution_count": null,
      "outputs": []
    },
    {
      "cell_type": "code",
      "source": [
        "srs1 = srs/10\n",
        "print(srs1.apply(lambda x: isinstance(x, int)).all())\n",
        "print(srs1.unique())"
      ],
      "metadata": {
        "id": "oBcQWRZM9fHb"
      },
      "execution_count": null,
      "outputs": []
    },
    {
      "cell_type": "code",
      "source": [
        "srs2 = srs.astype(str).str[:-1].astype(int)\n",
        "print(srs2.apply(lambda x: isinstance(x, int)).all())"
      ],
      "metadata": {
        "id": "EbzMEu_Z-ioF"
      },
      "execution_count": null,
      "outputs": []
    },
    {
      "cell_type": "code",
      "source": [
        "print(srs2.unique())"
      ],
      "metadata": {
        "id": "Hszr1fzD-ilK"
      },
      "execution_count": null,
      "outputs": []
    },
    {
      "cell_type": "code",
      "source": [],
      "metadata": {
        "id": "MAf8PlfI-iiA"
      },
      "execution_count": null,
      "outputs": []
    },
    {
      "cell_type": "code",
      "source": [
        "# Assigning the dataframe columns values of srs -\n",
        "df_play_store_data['Size'] = srs2\n",
        "print(df_play_store_data['Size'].unique())"
      ],
      "metadata": {
        "id": "qlE0yA1tNNVJ"
      },
      "execution_count": null,
      "outputs": []
    },
    {
      "cell_type": "code",
      "metadata": {
        "id": "tDhPtmBCJC41"
      },
      "source": [
        "# YOUR CODE HERE\n",
        "df_play_store_data.plot.scatter(x='Size', y='Price', title='Scatter Plot: Size vs Price', xlabel='Size', ylabel='Price', figsize=(20,10))\n",
        "plt.show()"
      ],
      "execution_count": null,
      "outputs": []
    },
    {
      "cell_type": "markdown",
      "metadata": {
        "id": "QqBPcp9rDcRh"
      },
      "source": [
        "##### Exercise 2: Find the popular app categories based on rating and no. of installs\n",
        "\n",
        "**Hint:** [df.groupby.agg()](https://pandas.pydata.org/pandas-docs/version/0.22/generated/pandas.core.groupby.DataFrameGroupBy.agg.html); Taking the average rating could be another approach\n",
        "\n"
      ]
    },
    {
      "cell_type": "code",
      "metadata": {
        "id": "xWftl4eC2jNU"
      },
      "source": [
        "# YOUR CODE HERE\n"
      ],
      "execution_count": null,
      "outputs": []
    },
    {
      "cell_type": "markdown",
      "metadata": {
        "id": "Kksy2sD4CMKQ"
      },
      "source": [
        "##### Exercise 3: How many apps are produced in each year category-wise ?\n",
        "\n",
        "  * Create a `Year` column by slicing the values of `Last Updated` column and find the Year with most no. of apps produced\n",
        "\n",
        "    **For example**, slice the year `2017` from `February 8, 2017`\n",
        "\n",
        "  * Find the categories which have a consistent rating in each year\n",
        "\n",
        "      **Hint:** `sns.countplot`"
      ]
    },
    {
      "cell_type": "code",
      "metadata": {
        "id": "3ZpnlYfHCO3P"
      },
      "source": [
        "# YOUR CODE HERE\n",
        "df_play_store_data['Year'] = df_play_store_data['Last Updated'].str.split(pat=',').str[-1]\n",
        "plt.figure(figsize=(10,10))\n",
        "sns.countplot(x='Year',hue='Category', data=df_play_store_data)\n",
        "plt.title('Number of Apps Produced Every Year by Category')\n",
        "plt.xlabel('Year')\n",
        "plt.ylabel('Number of Apps')\n",
        "plt.legend(title='Category')\n",
        "plt.show()"
      ],
      "execution_count": null,
      "outputs": []
    },
    {
      "cell_type": "markdown",
      "metadata": {
        "id": "TnhRhfWadnGK"
      },
      "source": [
        "##### Exercise 4: Identify the highest paid apps with a good rating"
      ]
    },
    {
      "cell_type": "code",
      "metadata": {
        "id": "9LmV1w_JdvRg"
      },
      "source": [
        "# YOUR CODE HERE\n",
        "df_play_store_data['Price']=pd.to_numeric(df_play_store_data['Price'], errors='coerce')\n",
        "df_play_store_data['Rating']=pd.to_numeric(df_play_store_data['Rating'], errors='coerce')\n",
        "df_play_store_data.sort_values(by=['Price', 'Rating'], ascending=[False, False])\n",
        "df_play_store_data.head(3)"
      ],
      "execution_count": null,
      "outputs": []
    },
    {
      "cell_type": "markdown",
      "metadata": {
        "id": "NSCEb0GX5-d1"
      },
      "source": [
        "##### Exercise 5: Are the top-rated apps genuine ? How about checking reviews count of top-rated apps ?"
      ]
    },
    {
      "cell_type": "code",
      "metadata": {
        "id": "n8kGpmMmx7HI"
      },
      "source": [
        "# YOUR CODE HERE\n",
        "df_play_store_data['Reviews'] = df_play_store_data['Reviews'].astype('int')\n",
        "df_play_store_data['Rating_Bins'] = pd.qcut(df_play_store_data['Rating'], 5)\n",
        "df_play_store_data_groups = df_play_store_data.groupby(['Rating_Bins'])['Reviews'].median()\n",
        "df_play_store_data_groups.plot(kind='bar')"
      ],
      "execution_count": null,
      "outputs": []
    },
    {
      "cell_type": "markdown",
      "metadata": {
        "id": "rXQfqIixzC4_"
      },
      "source": [
        "##### Exercise 6: If the number of reviews of an app is very low, what could be the reason for its top-rating ?"
      ]
    },
    {
      "cell_type": "code",
      "metadata": {
        "id": "J_gj_f-UzGEF"
      },
      "source": [
        "# YOUR CODE HERE\n",
        "df_play_store_data['Reviews'] = pd.to_numeric(df_play_store_data['Reviews'], errors='coerce', downcast='integer')\n",
        "app_reviews = df_play_store_data['Reviews']\n",
        "\n",
        "# Rating is the float value\n",
        "app_rating = df_play_store_data['Rating']\n",
        "\n",
        "# data\n",
        "data_dict = {'App_Reviews': app_reviews,\n",
        "             'App_Rating': app_rating }\n",
        "\n",
        "# construct a dataframe object\n",
        "insignt6_df = pd.DataFrame(data_dict)\n",
        "insignt6_df_sorted = insignt6_df.sort_values(by='App_Reviews', ascending=True)\n",
        "\n",
        "# plot\n",
        "plt.figure(figsize=(15,10))\n",
        "sns.countplot(x='App_Rating', data=insignt6_df_sorted)\n",
        "plt.title('Ratings vs Number of Apps')\n",
        "plt.xlabel('Rating')\n",
        "plt.ylabel('Number of Apps')\n",
        "plt.show()"
      ],
      "execution_count": null,
      "outputs": []
    },
    {
      "cell_type": "markdown",
      "source": [
        "##### Exercise 7: What is the 95% confidence interval for the rating of apps in the Google Play Store?"
      ],
      "metadata": {
        "id": "OGMPVx-oLVDM"
      }
    },
    {
      "cell_type": "code",
      "metadata": {
        "id": "PCqAHD0OLyFj"
      },
      "source": [
        "# YOUR CODE HERE\n",
        "import math\n",
        "\n",
        "std_df_play_store_data = round(df_play_store_data['Rating'].std(),2)\n",
        "print('Std. deviation of Rating column is ' + str((std_df_play_store_data)))\n",
        "\n",
        "ce = round(1.96*(std_df_play_store_data / math.sqrt(df_play_store_data.shape[0])),2)\n",
        "print('Confidence interval of Rating column is ' + str(ce))\n",
        "\n",
        "print('Hence, the 95% confidence interval of Rating of Apps is {0} ± {1} or ({2},{3})'.format(str(std_df_play_store_data), str(ce), std_df_play_store_data - ce, std_df_play_store_data + ce))"
      ],
      "execution_count": null,
      "outputs": []
    },
    {
      "cell_type": "markdown",
      "source": [
        "##### Exercise 8: Test if there is a statistically significant difference in the ratings between free and paid apps using a t-test\n",
        "\n",
        "Steps:\n",
        "\n",
        "* Set the null hypothesis and alternate hypothesis\n",
        "* Separate the ratings of free and paid apps.\n",
        "* Perform t-test: Use an independent samples t-test.\n",
        "* Interpret results based on the p-value, decide whether to reject or fail to reject the null hypothesis."
      ],
      "metadata": {
        "id": "yTwkV1aqJ2VL"
      }
    },
    {
      "cell_type": "code",
      "metadata": {
        "id": "cxxay7xvLA2U"
      },
      "source": [
        "# YOUR CODE HERE\n"
      ],
      "execution_count": null,
      "outputs": []
    }
  ]
}