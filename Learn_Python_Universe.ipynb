{
 "cells": [
  {
   "cell_type": "code",
   "execution_count": null,
   "id": "a817f24f",
   "metadata": {},
   "outputs": [],
   "source": [
    "# conda install -c nvidia -c rapidsai -c numba -c conda-forge -c defaults cudf\n",
    "# !pip install cudf-cu11==22.12 rmm-cu11==22.12 dask-cudf-cu11==22.12 --extra-index-url=https://pypi.ngc.nvidia.com/"
   ]
  },
  {
   "cell_type": "code",
   "execution_count": 1,
   "id": "1d84e3b8",
   "metadata": {},
   "outputs": [],
   "source": [
    "# %load_ext cudf.pandas\n",
    "import pandas as pd\n",
    "import numpy as np\n",
    "import warnings\n",
    "warnings.filterwarnings('ignore')\n",
    "import json\n",
    "pd.pandas.set_option('display.max_columns',None)\n",
    "import time\n",
    "from datetime import datetime\n",
    "import sympy as sym   # Solving Calculus, Limits, \n",
    "import matplotlib.pyplot as plt\n",
    "# import tnrange\n",
    "# import tqdm_notebook\n",
    "# import nb_black -> Automatic code formatter?"
   ]
  },
  {
   "cell_type": "code",
   "execution_count": null,
   "id": "e12a96be",
   "metadata": {},
   "outputs": [],
   "source": [
    "# !pip install collections"
   ]
  },
  {
   "cell_type": "markdown",
   "id": "94759d02",
   "metadata": {},
   "source": [
    "# BASICS "
   ]
  },
  {
   "cell_type": "markdown",
   "id": "eb82ed3b",
   "metadata": {},
   "source": [
    "## Lists, Strings - "
   ]
  },
  {
   "cell_type": "markdown",
   "id": "3f3a4196",
   "metadata": {},
   "source": [
    "### To implement 0[1] time complexity solution, use the counter. "
   ]
  },
  {
   "cell_type": "code",
   "execution_count": null,
   "id": "63d4c05a",
   "metadata": {},
   "outputs": [],
   "source": [
    "from collections import counter\n",
    "sents = \"TalentSprint is a digital platform designed to transform the lives of professionals in the new economy. Its blended bootcamps offer deeptech skills.\"\n",
    "words = sents.lower().split()\n",
    "sen_map = Counter(words)\n",
    "# If you want to convert the result into a regular dictionary:\n",
    "sen_map_dict = dict(sen_map)\n",
    "print(sen_map)\n",
    "print(sen_map_dict)"
   ]
  },
  {
   "cell_type": "markdown",
   "id": "c5a80ac6",
   "metadata": {},
   "source": [
    "### Popular methods - \n",
    "- append - Entire string is added ||| adds one element to the end of the list.\n",
    "- extend - String added charcter by character individually ||| adds multiple elements to the end of the list, with those elements individually added to the list\n",
    "- insert - Given value at given index -> insert(index,value)\n",
    "- pop - deleting a value\n",
    "- count(value) - Counts Occurances\n",
    "- lst.sort() just sorts the list in place returning None but sorted(lst) returns sorted list \n",
    "- c_lst = o_lst  copy by reference & c_lst = o_lst.copy()  copy by value\n",
    "- + => Concatenation -> [1,2,3] + [2],[1,2,3] + ['A','B']\n",
    "in statement - if i in lst\n",
    "any() - Only through Generator expression => any(item in test_list for item in test_list) ??\n",
    "find() - Usually in strings, to search a substring & return index of 1st value of the substring in main string.\n",
    "counter() - \n",
    "list.index(value)"
   ]
  },
  {
   "cell_type": "code",
   "execution_count": 2,
   "id": "97b671bd",
   "metadata": {},
   "outputs": [
    {
     "name": "stdout",
     "output_type": "stream",
     "text": [
      "0 2 6 1 3 6 2 4 6 3 5 6 4 6 6 5 9 6 "
     ]
    },
    {
     "data": {
      "text/plain": [
       "29"
      ]
     },
     "execution_count": 2,
     "metadata": {},
     "output_type": "execute_result"
    }
   ],
   "source": [
    "nums = [2,3,4,5,6,9] # len = 5\n",
    "nums2 = [6,7,5,456,34,4]\n",
    "num = nums+nums2\n",
    "# print(nums*nums2) #NOT POSSIBLE here in list but possible in numpy array\n",
    "for i in range(len(nums)):\n",
    "    print(i,nums[i],len(nums),end = ' ')\n",
    "# for i in range(len(nums)):\n",
    "#     print(nums[i],end = ' ')\n",
    "# nums.sum() - Not supported unlike for numpy arrays\n",
    "sum(nums)\n",
    "# count(nums) # Not Supported"
   ]
  },
  {
   "cell_type": "code",
   "execution_count": 3,
   "id": "5e09d20a",
   "metadata": {},
   "outputs": [],
   "source": [
    "nums[0:-1]  #[2, 3, 4, 5, 6]\n",
    "nums[:-1]#[2, 3, 4, 5, 6]\n",
    "nums[0:1]\n",
    "nums.count(4)\n",
    "nums.insert(5,4)\n",
    "#nums.find([4,5,6]) # XX - Can't use on list"
   ]
  },
  {
   "cell_type": "code",
   "execution_count": 5,
   "id": "01cb5906",
   "metadata": {},
   "outputs": [
    {
     "data": {
      "text/plain": [
       "7"
      ]
     },
     "execution_count": 5,
     "metadata": {},
     "output_type": "execute_result"
    }
   ],
   "source": [
    "srt = 'thisisdeepakkhadke'\n",
    "srt.find('e')"
   ]
  },
  {
   "cell_type": "code",
   "execution_count": 7,
   "id": "2aaff2c3",
   "metadata": {},
   "outputs": [
    {
     "name": "stdout",
     "output_type": "stream",
     "text": [
      "The substring 'popular' was found at index 12\n"
     ]
    }
   ],
   "source": [
    "my_string = \"Python is a popular programming language popular\"\n",
    "substring = \"popular\"\n",
    "index = my_string.find(substring)\n",
    "if index != -1:\n",
    "    print(f\"The substring '{substring}' was found at index {index}\")\n",
    "else:\n",
    "    print(f\"The substring '{substring}' was not found in the string.\")"
   ]
  },
  {
   "cell_type": "code",
   "execution_count": 8,
   "id": "d4f96598",
   "metadata": {},
   "outputs": [],
   "source": [
    "import numpy as np\n",
    "ar=np.array([1,0,0,1])\n",
    "arr2=np.array([1,0,0,0])\n",
    "arr3=np.array([0,0,0,0])"
   ]
  },
  {
   "cell_type": "code",
   "execution_count": null,
   "id": "48f8c028",
   "metadata": {},
   "outputs": [],
   "source": [
    "# Calculate the sum of the elements in the diagonal of a following matrix / 2D array, and logic \n",
    "# should be dynamic enough to work on any NxN matrix\n",
    "# 1  2  3\n",
    "# 4  5  6\n",
    "# 7  8  9\n",
    "sum1 = 1 + 5 + 9\n",
    "sum2 = 3 + 5 + 7"
   ]
  },
  {
   "cell_type": "code",
   "execution_count": 9,
   "id": "f2f72d17",
   "metadata": {},
   "outputs": [
    {
     "name": "stdout",
     "output_type": "stream",
     "text": [
      "List Matrix -  [[1, 2, 3], [4, 5, 6], [7, 8, 9]]\n",
      "Numpy Array -  [[1 2 3]\n",
      " [4 5 6]\n",
      " [7 8 9]]\n",
      "Sum of the main diagonal: 15\n",
      "Sum of the other diagonal: 15\n"
     ]
    }
   ],
   "source": [
    "def sum_diag(matrix):\n",
    "    if not matrix:\n",
    "        return 0\n",
    "    main_diag_sum = sum(matrix[i][i] for i in range(len(matrix)))\n",
    "    cross_diag_sum = sum(matrix[i][len(matrix)-i-1] for i in range(len(matrix)))\n",
    "    return main_diag_sum,cross_diag_sum\n",
    "matrix = [\n",
    "    [1, 2, 3],\n",
    "    [4, 5, 6],\n",
    "    [7, 8, 9]\n",
    "]  \n",
    "print(\"List Matrix - \",matrix)\n",
    "arr = np.array(matrix)\n",
    "print(\"Numpy Array - \",arr)\n",
    "main_diagonal_sum, other_diagonal_sum = sum_diag(matrix)\n",
    "print(f\"Sum of the main diagonal: {main_diagonal_sum}\")\n",
    "print(f\"Sum of the other diagonal: {other_diagonal_sum}\")"
   ]
  },
  {
   "cell_type": "code",
   "execution_count": 10,
   "id": "bc67dc27",
   "metadata": {},
   "outputs": [
    {
     "name": "stdout",
     "output_type": "stream",
     "text": [
      "[1 0 0 1] <class 'numpy.ndarray'>\n",
      "[[1 0 0 1]] <class 'numpy.ndarray'>\n"
     ]
    }
   ],
   "source": [
    "dcd=np.array([1,0,0,1])\n",
    "print(dcd,type(dcd))\n",
    "jhdsbcd = np.array([dcd])\n",
    "print(jhdsbcd,type(jhdsbcd))"
   ]
  },
  {
   "cell_type": "code",
   "execution_count": 11,
   "id": "f594e6c8",
   "metadata": {},
   "outputs": [
    {
     "name": "stdout",
     "output_type": "stream",
     "text": [
      "<class 'numpy.ndarray'>\n"
     ]
    },
    {
     "data": {
      "text/plain": [
       "array([[1, 0, 0, 0],\n",
       "       [1, 0, 0, 1],\n",
       "       [1, 0, 0, 2]])"
      ]
     },
     "execution_count": 11,
     "metadata": {},
     "output_type": "execute_result"
    }
   ],
   "source": [
    "for i in range(0,3):\n",
    "    tl_vec=np.array([1,0,0,i])\n",
    "    if i==0:\n",
    "        tlmat = np.array([tl_vec])\n",
    "    else:\n",
    "        tlmat = np.vstack([tlmat,tl_vec])\n",
    "print(type(tlmat))\n",
    "tlmat"
   ]
  },
  {
   "cell_type": "code",
   "execution_count": 12,
   "id": "f846d41e",
   "metadata": {},
   "outputs": [
    {
     "data": {
      "text/plain": [
       "[3, 0, 0, 3]"
      ]
     },
     "execution_count": 12,
     "metadata": {},
     "output_type": "execute_result"
    }
   ],
   "source": [
    "if len(tlmat)>0:\n",
    "    plmat = list(tlmat.sum(axis=0))\n",
    "plmat"
   ]
  },
  {
   "cell_type": "code",
   "execution_count": 13,
   "id": "6d62ba4a",
   "metadata": {},
   "outputs": [],
   "source": [
    "tlmat,plmat\n",
    "PROL_RULES = [\"prolrule1\",\"prolrule2\",\"prolrule3\",\"prolrule4\"]"
   ]
  },
  {
   "cell_type": "code",
   "execution_count": 14,
   "id": "ca1b3ce4",
   "metadata": {},
   "outputs": [
    {
     "data": {
      "text/plain": [
       "{'prolrule1': 3, 'prolrule2': 0, 'prolrule3': 0, 'prolrule4': 3}"
      ]
     },
     "execution_count": 14,
     "metadata": {},
     "output_type": "execute_result"
    }
   ],
   "source": [
    "result = {PROL_RULES[i]:plmat[i] for i in range(len(PROL_RULES))}\n",
    "result"
   ]
  },
  {
   "cell_type": "markdown",
   "id": "b2caf426",
   "metadata": {},
   "source": [
    "#### Numpy Array Matrix Properties Vs List array properties - \n",
    "1. Data Type Homogeneity:\n",
    "Lists can contain elements of mixed data types.\n",
    "NumPy arrays are homogeneous; they contain elements of the same data type.\n",
    "2. Element-Wise Operations:\n",
    "Lists do not inherently support element-wise operations (e.g., division or multiplication. Addition supported).\n",
    "NumPy arrays support element-wise operations.\n",
    "3. Size and Shape Flexibility:\n",
    "Lists can have varying sizes and shapes within a nested structure.\n",
    "NumPy arrays have fixed sizes and shapes once created.\n",
    "Ex. my_list = [[1, 2], [3, 4, 5], [6]] but not possible with array\n",
    "4. Performance:\n",
    "Lists <<< numerical computations <<< NumPy arrays.\n",
    "NumPy arrays are optimized for performance.\n",
    "5. Built-in Functions:\n",
    "Lists have basic built-in functions.\n",
    "NumPy arrays provide a wide range of mathematical and array manipulation functions. Aggregation\n",
    "6. Slicing and Indexing:\n",
    "Lists support basic slicing and indexing.\n",
    "NumPy arrays support advanced slicing and indexing, including boolean indexing\n",
    "result = my_array[my_array > 2]"
   ]
  },
  {
   "cell_type": "code",
   "execution_count": 15,
   "id": "8b275515",
   "metadata": {},
   "outputs": [
    {
     "name": "stdout",
     "output_type": "stream",
     "text": [
      "0 5\n",
      "1 2\n",
      "2 3\n",
      "3 8\n",
      "4 6\n",
      "5 1\n",
      "6 0\n",
      "7 9\n"
     ]
    }
   ],
   "source": [
    "# Range Funciton -\n",
    "a = [5,2,3,8,6,1,0,9] # size=8\n",
    "# for i in range(len(a)): #range(3) generates 0,1,2\n",
    "#     print(i,a[i])\n",
    "# for i in a:\n",
    "#     print(i)\n",
    "for i in range(0,len(a)):\n",
    "    print(i,a[i])"
   ]
  },
  {
   "cell_type": "code",
   "execution_count": 17,
   "id": "70bc8072",
   "metadata": {},
   "outputs": [
    {
     "data": {
      "text/plain": [
       "2"
      ]
     },
     "execution_count": 17,
     "metadata": {},
     "output_type": "execute_result"
    }
   ],
   "source": [
    "myarr = [4,6,3,4,7,2,233,64]\n",
    "myarr.count(myarr[3])"
   ]
  },
  {
   "cell_type": "code",
   "execution_count": 20,
   "id": "42fc2ac6",
   "metadata": {},
   "outputs": [
    {
     "name": "stdout",
     "output_type": "stream",
     "text": [
      "<callable_iterator object at 0x00000231917F6730>\n",
      "[(0, 1), (1, 2), (4, 5)]\n"
     ]
    }
   ],
   "source": [
    "#You are given string & substring.\n",
    "#Your task is to find all he indices of the start and end of substring in string. Return -1,-1 if not found\n",
    "import re\n",
    "def find_substring_indices(big_string, small_string):\n",
    "    matches = re.finditer('(?={})'.format(re.escape(small_string)),big_string)\n",
    "    print(matches)\n",
    "    indices = [(match.start(), match.start() + len(small_string) - 1) for match in matches]\n",
    "    if indices:\n",
    "        return indices\n",
    "    else:\n",
    "        return [-1,-1]\n",
    "\n",
    "big_string = \"aaadaa\"\n",
    "small_string = \"aa\"\n",
    "\n",
    "indices = find_substring_indices(big_string, small_string)\n",
    "print(indices)"
   ]
  },
  {
   "cell_type": "code",
   "execution_count": 21,
   "id": "2a6588c8",
   "metadata": {},
   "outputs": [
    {
     "name": "stdout",
     "output_type": "stream",
     "text": [
      "[1, 2, 3, 4, 5, 6]\n"
     ]
    }
   ],
   "source": [
    "# Funciton to flatten a nested list - \n",
    "def flatten(lst):\n",
    "    result = []\n",
    "    for i in lst:\n",
    "        if isinstance(i, list):\n",
    "            result.extend(flatten(i))\n",
    "        else:   \n",
    "            result.append(i)\n",
    "    return result\n",
    "\n",
    "nested_list = [1, [2, 3, [4, 5]], 6]\n",
    "print(flatten(nested_list))  # Output: [1, 2, 3, 4, 5, 6]"
   ]
  },
  {
   "cell_type": "code",
   "execution_count": 24,
   "id": "0a7c0eb7",
   "metadata": {},
   "outputs": [
    {
     "name": "stdout",
     "output_type": "stream",
     "text": [
      "[1, 2, 3, 4, 5, 6]\n"
     ]
    }
   ],
   "source": [
    "# Flatten list using recursive function - \n",
    "def recur_flaten(lst):\n",
    "    result = []\n",
    "    for i in lst:\n",
    "        if isinstance(i,list):\n",
    "            result.extend(flatten(i))\n",
    "        else:\n",
    "            result.append(i)\n",
    "    return result\n",
    "mylst = [1, [2, [3, 4], 5], 6]\n",
    "d = recur_flaten(mylst)\n",
    "print(d)"
   ]
  },
  {
   "cell_type": "code",
   "execution_count": null,
   "id": "8c581417",
   "metadata": {},
   "outputs": [],
   "source": [
    "myarr = [4,6,3,4,7,2,233,64]\n",
    "for val in myarr: \n",
    "    print(\"val - \",val) # iterate by value\n",
    "for i in range(len(myarr)): \n",
    "    print(\"val - \",myarr[i]) # iterate by value  \n",
    "for i in range(len(myarr)): \n",
    "    print(\"index - \",i) # iterate by index \n",
    "for idx,val in enumerate(myarr): \n",
    "    print(\"idx-val - \",idx,val) # iterate by both\n",
    "for idx,val in enumerate(range(len(myarr))): \n",
    "    print(\"range idx-val - \",idx,val) # iterating by both but here val is also idx, thus non sense\n",
    "# for idx,val in enumerate(len(myarr)): \n",
    "#     print(\"idx-val - \",idx,val) # Wrong\n",
    "# for i in myarr[i]:\n",
    "#     print(i) # IndexError: list index out of range"
   ]
  },
  {
   "cell_type": "code",
   "execution_count": 27,
   "id": "75f84b10",
   "metadata": {},
   "outputs": [
    {
     "name": "stdout",
     "output_type": "stream",
     "text": [
      "{'H': 1, 'e': 1, 'l': 3, 'o': 2, ' ': 1, 'W': 1, 'r': 1, 'd': 1}\n",
      "['l']\n",
      "['o']\n"
     ]
    }
   ],
   "source": [
    "inputstr = \"Hello World\"\n",
    "freq = {}\n",
    "for i in inputstr:\n",
    "\tif i in freq:\n",
    "\t\tfreq[i] = freq[i]+1\n",
    "\telse:\n",
    "\t\tfreq[i] = 1\n",
    "print(freq)\n",
    "\n",
    "for key in freq:\n",
    "\tif freq[key] >= 2:\n",
    "\t\tprint(list(key))"
   ]
  },
  {
   "cell_type": "code",
   "execution_count": null,
   "id": "80fdf380",
   "metadata": {},
   "outputs": [],
   "source": [
    "# Counting no of times a key is present in a list using dictionary object - \n",
    "counts = dict() # == counts = {}\n",
    "# names = ['steve', 'mark', 'steve', 'zhen', 'mark'] #These are keys of counts\n",
    "names = \"Hello World\"\n",
    "for name in names:\n",
    "#     print(counts.get(name, 0))\n",
    "    counts[name] = counts.get(name,0)+1 # '0' is default\n",
    "print(counts)"
   ]
  },
  {
   "cell_type": "code",
   "execution_count": null,
   "id": "74d33874",
   "metadata": {},
   "outputs": [],
   "source": [
    "#Most repeated character in a string,list using with/without enumerate -\n",
    "def most_repeated(s):\n",
    "    char_count = {}\n",
    "    for char in s:\n",
    "        if char in char_count:\n",
    "            char_count[char] += 1\n",
    "        else:\n",
    "            char_count[char] = 1\n",
    "    max_char = max(char_count, key=char_count.get) #.get method of a dictionary to get value\n",
    "    print(char_count.get)\n",
    "    print(char_count)\n",
    "    return max_char\n",
    "string = \"aabbbcdddde\"\n",
    "print(most_repeated(string))"
   ]
  },
  {
   "cell_type": "code",
   "execution_count": null,
   "id": "5cefde52",
   "metadata": {},
   "outputs": [],
   "source": [
    "def find_common_elements(list1, list2):\n",
    "    common_elements = []\n",
    "    for item in list1:\n",
    "        if item in list2:\n",
    "            common_elements.append(item)\n",
    "    return common_elements\n",
    "def find_common_elements(list1, list2):\n",
    "    set1 = set(list1)\n",
    "    set2 = set(list2)\n",
    "    common_elements = list(set1.intersection(set2))\n",
    "    return common_elements\n",
    "def common_elements(list1, list2):\n",
    "    return list(set(list1) &amp; set(list2))"
   ]
  },
  {
   "cell_type": "code",
   "execution_count": null,
   "id": "9b4f5023",
   "metadata": {},
   "outputs": [],
   "source": [
    "#Write a function to compute the Fibonacci series up to n.\n",
    "def fibonacci(n):\n",
    "    series = [0, 1]\n",
    "    while len(series) < n:\n",
    "        series.append(series[-1] + series[-2])\n",
    "    return series\n",
    "number = 10\n",
    "print(fibonacci(number))\n",
    "\n",
    "# Fibonacci recursive - \n",
    "def fibonacci(n):\n",
    "    if n <= 0:\n",
    "        return 0\n",
    "    elif n == 1:\n",
    "        return 1\n",
    "    else:\n",
    "        return fibonacci(n - 1) + fibonacci(n - 2)\n",
    "# Number of Fibonacci numbers to generate\n",
    "n = 10\n",
    "# Generate and print the first n Fibonacci numbers\n",
    "for i in range(n):\n",
    "    print(fibonacci(i), end=\" \")\n",
    "In this program, the fibonacci function is defined recursively. It returns the n-th Fibonacci number. \n",
    "The base cases are when n is 0 or 1, in which the function returns 0 and 1, respectively. \n",
    "For larger values of n, the function recursively "
   ]
  },
  {
   "cell_type": "code",
   "execution_count": null,
   "id": "a90d160f",
   "metadata": {},
   "outputs": [],
   "source": [
    "# If 2 Strings are in rotation- \n",
    "def are_rotations(str1, str2):\n",
    "    if len(str1) == len(str2):\n",
    "        return False\n",
    "    return str1 in str1 + str2\n",
    "s1 = \"abcde\"\n",
    "s2 = \"cdeabiovhjsdabcde\"\n",
    "print(\"1 - \",are_rotations(s1, s2))\n",
    "lst1 = [4,5,6,7,7,8]\n",
    "lst2 = [7,8,4,5,6,7]\n",
    "print(\"2 - \",are_rotations(lst1,lst2)) \n",
    "# WILL WORK FOR STRINGS BUT NOT FOR LISTS, AS STRINGS ARE IMMUTABLE UNLIKE LIST."
   ]
  },
  {
   "cell_type": "code",
   "execution_count": null,
   "id": "6c335964",
   "metadata": {},
   "outputs": [],
   "source": [
    "lst3 = lst1+lst2\n",
    "print(lst3)\n",
    "print(lst1 in lst3)\n",
    "print(s1 in s2)"
   ]
  },
  {
   "cell_type": "code",
   "execution_count": null,
   "id": "a963d095",
   "metadata": {},
   "outputs": [],
   "source": [
    "# Child list in a parent list. Ordered or just all elements are present\n",
    "#1. Orderly / Contiguous manner - \n",
    "def is_sublist(sublist, parent_list):\n",
    "    for i in range(len(parent_list) - len(sublist) + 1):\n",
    "        if parent_list[i:i + len(sublist)] == sublist: # slicing list & checking if the slice is sublist\n",
    "            return True\n",
    "    return False\n",
    "\n",
    "# Plain check - \n",
    "def is_sublist(sublist, parent_list):\n",
    "    return all(item in sublist for item in parent_list)\n",
    "\n",
    "#Converting in Set - \n",
    "def is_sublist(sublist, parent_list):\n",
    "    return set(sublist).issubset(set(parent_list))\n",
    "\n",
    "# Converting in String - \n",
    "def is_sublist(sublist, parent_list):\n",
    "    sublist_str = ''.join(map(str, sublist))\n",
    "    parent_list_str = ''.join(map(str, parent_list))\n",
    "    return sublist_str in parent_list_str"
   ]
  },
  {
   "cell_type": "code",
   "execution_count": null,
   "id": "0e35255f",
   "metadata": {},
   "outputs": [],
   "source": [
    "sublist = [1,2,3,4]\n",
    "parent_list = [1,2,3,4,5,6,7]\n",
    "a = all(item in parent_list for item in sublist)\n",
    "b = all(sublist[i]==parent_list[j] for i,j in enumerate(range(len(sublist))))\n",
    "print(a)\n",
    "print(b)"
   ]
  },
  {
   "cell_type": "code",
   "execution_count": null,
   "id": "f2879ff3",
   "metadata": {},
   "outputs": [],
   "source": [
    "# If a string has all unique characters - \n",
    "st1 = 'iugcfbdsjchsdiahds'\n",
    "def has_unique_chars(s):\n",
    "    return len(s) == len(set(s))\n",
    "has_unique_chars(st1)"
   ]
  },
  {
   "cell_type": "code",
   "execution_count": null,
   "id": "55a7945d",
   "metadata": {},
   "outputs": [],
   "source": [
    "# Move all 0s in a int list to the end - \n",
    "def move_zeros(nums):\n",
    "    count = nums.count(0)\n",
    "    nums = [num for num in nums if num != 0]\n",
    "    nums.extend([0] * count)\n",
    "    return nums\n",
    "numbers = [1, 2, 0, 4, 0, 5, 6, 0]\n",
    "print(move_zeros(numbers))"
   ]
  },
  {
   "cell_type": "code",
   "execution_count": null,
   "id": "168cd789",
   "metadata": {},
   "outputs": [],
   "source": [
    "a = '123'\n",
    "i = len(a) - 2\n",
    "n1 = int(a[i]) if i >= 0 else 0\n",
    "print(n1)"
   ]
  },
  {
   "cell_type": "code",
   "execution_count": null,
   "id": "e0d77cbf",
   "metadata": {},
   "outputs": [],
   "source": [
    "# Write a function that returns the sum of two numbers represented as strings\n",
    "def add_strings(num1, num2):\n",
    "    res, carry, i, j = \"\", 0, len(num1) - 1, len(num2) - 1\n",
    "    while i >= 0 or j >= 0 or carry:\n",
    "        n1 = int(num1[i]) if i >= 0 else 0\n",
    "        n2 = int(num2[j]) if j >= 0 else 0\n",
    "        temp_sum = n1 + n2 + carry\n",
    "        res = str(temp_sum % 10) + res\n",
    "        carry = temp_sum // 10\n",
    "        i, j = i - 1, j - 1\n",
    "    return res\n",
    "n1 = \"123\"\n",
    "n2 = \"789\"\n",
    "print(add_strings(n1, n2))"
   ]
  },
  {
   "cell_type": "code",
   "execution_count": null,
   "id": "ff98d1f8",
   "metadata": {},
   "outputs": [],
   "source": [
    "# Returning grams out of ngrams - \n",
    "tokens = [\"my\",\"name\",\"is\",\"deepak\",\"khadke\",\".\",\"I\",\"am\",\"from\",\"jalgaon\",\"\"]\n",
    "def ngrams(tokens,n):\n",
    "    l = len(tokens)\n",
    "    grams = [tokens[i:i+n] for i in range(l-n+1)]\n",
    "    return grams\n",
    "print(ngrams(tokens,3))\n",
    "# Using generator instead of the list - \n",
    "def gen_ngrams(tokens,n):\n",
    "    l = len(tokens)\n",
    "    for i in range(l-n+1):\n",
    "        yield tokens[i:i+n]\n",
    "ngrams_gen = gen_ngrams(tokens,3)\n",
    "print(ngrams_gen)\n",
    "print([i for i in ngrams_gen])\n",
    "print(type(ngrams_gen))"
   ]
  },
  {
   "cell_type": "markdown",
   "id": "14be731e",
   "metadata": {},
   "source": [
    "#### Higher Order Functions"
   ]
  },
  {
   "cell_type": "code",
   "execution_count": null,
   "id": "a44cf6d9",
   "metadata": {},
   "outputs": [],
   "source": [
    "list(zip(range(5),range(3))) # Zipping Tuples. Not ind-val like dict. Happens only in dict object"
   ]
  },
  {
   "cell_type": "code",
   "execution_count": null,
   "id": "9fde8f01",
   "metadata": {},
   "outputs": [],
   "source": [
    "dict(zip([1,2,3,4],[4,5,6]))"
   ]
  },
  {
   "cell_type": "code",
   "execution_count": null,
   "id": "42d41067",
   "metadata": {},
   "outputs": [],
   "source": [
    "set(zip(\"hello\",[1,2,3]))"
   ]
  },
  {
   "cell_type": "markdown",
   "id": "d763c50f",
   "metadata": {},
   "source": [
    "#### Generator Comprehension - Round brackets"
   ]
  },
  {
   "cell_type": "code",
   "execution_count": null,
   "id": "a744feff",
   "metadata": {},
   "outputs": [],
   "source": [
    "print((val for val in range(1, 20+1) if n % val == 0))"
   ]
  },
  {
   "cell_type": "markdown",
   "id": "5f376a36",
   "metadata": {},
   "source": [
    "#### List Comprehension - Square Brackets\n"
   ]
  },
  {
   "cell_type": "code",
   "execution_count": null,
   "id": "57081141",
   "metadata": {},
   "outputs": [],
   "source": [
    "response = [1,2,3,4]\n",
    "plmat = list(np.zeros([1,len(response)]))\n",
    "print(plmat)"
   ]
  },
  {
   "cell_type": "code",
   "execution_count": null,
   "id": "67b2a54a",
   "metadata": {},
   "outputs": [],
   "source": [
    "lst = [i**2 for i in range(1,11)]\n",
    "['E' if e %2 == 0 else 'O' for e in lst]\n",
    "['P' if e > 0 else 'N' if e < 0 else 'Z' for e in lst]\n",
    "print([(i,j,i*j) for i in range(1,6)  for j in range(1,7)])"
   ]
  },
  {
   "cell_type": "markdown",
   "id": "e5c036b1",
   "metadata": {},
   "source": [
    "### Python Iterator, Generator & Decorator - \n",
    "- generates a value (iterator object) on demand\n",
    "- genrators are slower than list comprehension\n",
    "- generators are memory efficient\n",
    "- when to use: whenever, you need to do manipulation on set of values and return the output as a single value\n",
    "- Iterable - An object that can be looped over, iterated over. Ex. List,set,tuples, dictionaries,strings. But, every iterable is not neccessarily be an iterator. But a list itself is not an iterator. Becomes after iter(), thus next() will work only after converting.\n",
    "- Iterator => Obj that can be iterated upon. They contain countable no of values.\n",
    "- Lazy Evaluation - Call by need\n",
    "- Iterator Protocol\n",
    "- next() - Built in function used to return next item in an iterator\n",
    "- iter() - Convert an iterable into iterator\n",
    "- yield() - when used in place of return in a def, it is a Generator\n",
    "decorator is a design pattern and a function that allows you to modify or extend the behavior of callable objects  without permanently modifying their code"
   ]
  },
  {
   "cell_type": "markdown",
   "id": "2b380a29",
   "metadata": {},
   "source": [
    "### Numpy"
   ]
  },
  {
   "cell_type": "markdown",
   "id": "1472168b",
   "metadata": {},
   "source": [
    "Inbulit methods => np.mean(), np.max(), np.min(), np.std(), np.sum(), np.cumsum(), np.reshape(), np.median(), np.where(), np.mod(), np.argmax(), etc."
   ]
  },
  {
   "cell_type": "code",
   "execution_count": null,
   "id": "3573dff6",
   "metadata": {},
   "outputs": [],
   "source": [
    "# Sample Input\n",
    "# 1 2 3 4 5 6 7 8 9\n",
    "# Sample Output\n",
    "# [ [ 1 2 3 ]\n",
    "# [ 4 5 6 ]\n",
    "# [ 7 8 9 ] ]\n",
    "import numpy\n",
    "def arrays(arr):\n",
    "    arr1 = numpy.array(arr, dtype = int)\n",
    "    arr2 = arr1.reshape(3, 3)\n",
    "    return arr2\n",
    "arr = input().strip().split(' ')\n",
    "result = arrays(arr)\n",
    "print(result)"
   ]
  },
  {
   "cell_type": "code",
   "execution_count": null,
   "id": "493f3352",
   "metadata": {},
   "outputs": [],
   "source": [
    "lst = [1, 2, 3, 1, 2, 3]\n",
    "lst.sort()\n",
    "print(lst)"
   ]
  },
  {
   "cell_type": "code",
   "execution_count": null,
   "id": "a9468641",
   "metadata": {},
   "outputs": [],
   "source": [
    "lst1 = [1, 2, 3]\n",
    "lst2 = [4,5,6]\n",
    "lst3=lst1+lst2\n",
    "lst3"
   ]
  },
  {
   "cell_type": "code",
   "execution_count": null,
   "id": "e10df365",
   "metadata": {},
   "outputs": [],
   "source": [
    "mystr = 'my name is deepak khadke'\n",
    "s = mystr.split(\" \")  # ['my', 'name', 'is', 'deepak', 'khadke']\n",
    "s"
   ]
  },
  {
   "cell_type": "code",
   "execution_count": null,
   "id": "d63dc0ee",
   "metadata": {},
   "outputs": [],
   "source": [
    "aaa = 'my name is deepak khadke 87236432'\n",
    "bbb = ' '.join(aaa)\n",
    "print(bbb)\n",
    "print(bbb[::-1])\n",
    "print(bbb.split(\" \"))"
   ]
  },
  {
   "cell_type": "code",
   "execution_count": null,
   "id": "3f1944c0",
   "metadata": {},
   "outputs": [],
   "source": [
    "sum([int(item) for item in input('Enter numbers: ').split(' ')])"
   ]
  },
  {
   "cell_type": "markdown",
   "id": "d09e6fa7",
   "metadata": {},
   "source": [
    "### Tuple, Dictionary"
   ]
  },
  {
   "cell_type": "raw",
   "id": "760501b9",
   "metadata": {},
   "source": [
    "§ Looping thro' = for kv in students.items(): ---------- Here tuple format. Key will be 1st element of the tuple and all values will be the 2nd element forming either a list or tuple again. Both elements will be separated by comma\n",
    "§  for k,v in students.items(): ------------------------------- Here no comma, Both Key Values appear in front of another\n",
    "§ Students.keys(), students.values(), students.items()"
   ]
  },
  {
   "cell_type": "code",
   "execution_count": null,
   "id": "01fba080",
   "metadata": {},
   "outputs": [],
   "source": [
    "dictionary = {'Name': 'Tanu', 'Sex': 'Male', 'Age': 23, 'Height': 5.8, 'Occupation': 'Student'}"
   ]
  },
  {
   "cell_type": "code",
   "execution_count": null,
   "id": "f6ed56f1",
   "metadata": {},
   "outputs": [],
   "source": [
    "for i,j in dictionary.items():\n",
    "#     print(i)\n",
    "#     print(j)\n",
    "    print(i,j)"
   ]
  },
  {
   "cell_type": "code",
   "execution_count": null,
   "id": "800b1c27",
   "metadata": {},
   "outputs": [],
   "source": [
    "## Very very basic - \n",
    "keys = ['red', 'green', 'blue']\n",
    "values = ['#FF0000','#008000', '#0000FF']\n",
    "color_dictionary = dict(zip(keys, values))\n",
    "print(color_dictionary)\n",
    "\n",
    "# Converting into a DICTIONARY & dataframe - \n",
    "group1 = [5, 7, 3, 4, 8]\n",
    "group2 = [9, 12, 11, 13, 10]\n",
    "group3 = [14, 16, 19, 17, 15]\n",
    "data = {'Group 1': group1, 'Group 2': group2, 'Group 3': group3}\n",
    "df = pd.DataFrame(data)\n",
    "\n",
    "# Using zip - \n",
    "group1 = [5, 7, 3, 4, 8]\n",
    "group2 = [9, 12, 11, 13, 10]\n",
    "group3 = [14, 16, 19, 17, 15]\n",
    "data = list(zip(group1, group2, group3))\n",
    "df = pd.DataFrame(data, columns=['Group 1', 'Group 2', 'Group 3'])"
   ]
  },
  {
   "cell_type": "code",
   "execution_count": null,
   "id": "b956a09b",
   "metadata": {},
   "outputs": [],
   "source": [
    "# Q.1 Sorting the dictionary - DIFFERENFCE IN sort() & sorted() methods of LISTS\n",
    "#By sort() - \n",
    "keys = list(dictionary.keys())\n",
    "keys.sort()\n",
    "sorted_dict = {i: dictionary[i] for i in keys}\n",
    "print(sorted_dict)\n",
    "#By sorted() - \n",
    "keyss = sorted(keys)\n",
    "sorted_dict1 = {i: dictionary[i] for i in keyss}\n",
    "print(sorted_dict1)"
   ]
  },
  {
   "cell_type": "raw",
   "id": "19793aa6",
   "metadata": {},
   "source": [
    "# Merging 2- \n",
    "\n",
    "# Python code to merge dict using update() method\n",
    "1] def Merge(dict1, dict2):\n",
    "    return(dict2.update(dict1))\n",
    "2] res = {**dict1, **dict2}\n",
    "3] res = dict1 | dict2\n",
    "4] for i in dict2.keys():\n",
    "        dict1[i]=dict2[i]\n",
    "5] merged_dict = dict(dict1.items() | dict2.items())\n",
    "Write a Python function to merge two dictionaries. If both dictionaries have the same key, prefer the second dictionary's value.\n",
    "def merge_dicts(dict1, dict2):\n",
    "    merged = dict1.copy()\n",
    "    merged.update(dict2)\n",
    "    return merged"
   ]
  },
  {
   "cell_type": "code",
   "execution_count": null,
   "id": "a67d65ad",
   "metadata": {},
   "outputs": [],
   "source": [
    "#Q.2] Merging multiple - \n",
    "dic1={1:10, 2:20}\n",
    "dic2={3:30, 4:40}\n",
    "dic3={5:50,6:60}\n",
    "dic4 = {}\n",
    "for d in (dic1, dic2, dic3): dic4.update(d)\n",
    "print(dic4)"
   ]
  },
  {
   "cell_type": "code",
   "execution_count": null,
   "id": "06602687",
   "metadata": {},
   "outputs": [],
   "source": [
    "# Q.3 ITERATING IN JSON FILE : NESTED DICTIONARIES\n",
    "country = {\n",
    "    \"country1\": {\n",
    "        \"dept1\": {\"count\": 50},\n",
    "        \"dept2\": {\"count\": 20},\n",
    "        \"dept3\": {\"count\": 5},\n",
    "        \"dept4\": {\"count\": 55}\n",
    "    },\n",
    "    \"country2\": {\n",
    "        \"dept1\": {\"count\":  50},\n",
    "        \"dept2\": {\"count\": 20},\n",
    "        \"dept3\": {},\n",
    "        \"dept4\": {\"count\": 55}\n",
    "    }\n",
    "}"
   ]
  },
  {
   "cell_type": "code",
   "execution_count": null,
   "id": "79d923ef",
   "metadata": {},
   "outputs": [],
   "source": [
    "count={}\n",
    "for key,val in country.items():\n",
    "    print(key,type(key))\n",
    "    print(val)\n",
    "    value=val\n",
    "    for key1,val1 in value.items():\n",
    "        if key1 in count:\n",
    "            if len(val1)>0:\n",
    "                count[key1]=count[key1]+val1['count']\n",
    "        else:\n",
    "            if len(val1)>0:\n",
    "                count[key1]=val1['count']\n",
    "print(count)"
   ]
  },
  {
   "cell_type": "code",
   "execution_count": null,
   "id": "b4723b01",
   "metadata": {},
   "outputs": [],
   "source": [
    "#Q.3 - Remove Duplicate values out of a dictionary - \n",
    "for key,value in student_data.items():\n",
    "    if value not in result.values():\n",
    "        result[key] = value\n",
    "print(result)"
   ]
  },
  {
   "cell_type": "code",
   "execution_count": null,
   "id": "8220731e",
   "metadata": {},
   "outputs": [],
   "source": [
    "#Q.4 combine two dictionary by adding values for common keys - \n",
    "from collections import Counter\n",
    "d1 = {'a': 100, 'b': 200, 'c':300}\n",
    "d2 = {'a': 300, 'b': 200, 'd':400}\n",
    "d = Counter(d1) + Counter(d2)\n",
    "print(d)"
   ]
  },
  {
   "cell_type": "code",
   "execution_count": null,
   "id": "e701033d",
   "metadata": {},
   "outputs": [],
   "source": [
    "test_dict = {\"Gfg\": [5, 7, 5, 4, 5],\n",
    "             \"is\": [6, 7, 4, 3, 3],\n",
    "             \"Best\": [9, 9, 6, 5, 5]}\n",
    "words = [i for i in test_dict.keys()]\n",
    "val = [test_dict.get(i) for i in words]\n",
    "print(\"VAL - \",val)\n",
    "print(words)\n",
    "for i in words:\n",
    "    v = test_dict.get(i)\n",
    "    print(v)        "
   ]
  },
  {
   "cell_type": "code",
   "execution_count": null,
   "id": "8bda9912",
   "metadata": {},
   "outputs": [],
   "source": [
    "# Maximum no of Unique values -\n",
    "unique_counts = [(key, len(set(values))) for key, values in test_dict.items()]\n",
    "print(unique_counts)\n",
    "maxval = 0\n",
    "tp = ''\n",
    "for tpl in unique_counts:\n",
    "    if tpl[1] > maxval:\n",
    "        maxval = tpl[1]\n",
    "        tp = tpl\n",
    "print(tp)  "
   ]
  },
  {
   "cell_type": "code",
   "execution_count": null,
   "id": "7a02000b",
   "metadata": {},
   "outputs": [],
   "source": [
    "data = {'1': ['a', 'b'], '2': ['c', 'd']}\n",
    "list(data)"
   ]
  },
  {
   "cell_type": "code",
   "execution_count": null,
   "id": "55c862b3",
   "metadata": {},
   "outputs": [],
   "source": [
    "#$$$$$  create and display all combinations of letters, selecting each letter from a different key \n",
    "# in a dictionary\n",
    "data = {'1': ['a', 'b'], '2': ['c', 'd']}\n",
    "lst = []\n",
    "for i,v in enumerate(list(data)[:-1]):\n",
    "    for letter1 in data[list(data)[i]]:\n",
    "        for letter2 in data[list(data)[i+1]]:\n",
    "            lst.append(letter1+letter2)\n",
    "#             print(\"Loopwise Values - \",lst) \n",
    "print(\"Final list - \",lst)"
   ]
  },
  {
   "cell_type": "code",
   "execution_count": null,
   "id": "bd00227b",
   "metadata": {},
   "outputs": [],
   "source": [
    "counts = {'chunk' : 1, 'jeff' : 42, 'jan' : 100}\n",
    "for key in counts:\n",
    "    print(key, counts[key])\n",
    "for i in counts:\n",
    "    print(counts.get(i))"
   ]
  },
  {
   "cell_type": "code",
   "execution_count": null,
   "id": "d275216a",
   "metadata": {},
   "outputs": [],
   "source": [
    "counts = dict()\n",
    "print('Enter a line of text:')\n",
    "line = input(' ')\n",
    "words = line.split()\n",
    "print('Words:', words) #list\n",
    "print('Counting...')\n",
    "for word in words:\n",
    "    counts[word] = counts.get(word, 0) + 1\n",
    "print('Counts', counts)"
   ]
  },
  {
   "cell_type": "code",
   "execution_count": null,
   "id": "5d5b7709",
   "metadata": {},
   "outputs": [],
   "source": [
    "dict1 = {'chunk' : [45,3,4,'m','ok'], 'jeff' : 42, 'jan' : 100}\n",
    "print(list(dict1))\n",
    "print(list(dict1.keys())) # Both are equal.\n",
    "print(list(dict1.values()))\n",
    "print(list(dict1.items()))"
   ]
  },
  {
   "cell_type": "code",
   "execution_count": null,
   "id": "6740f173",
   "metadata": {},
   "outputs": [],
   "source": [
    "a = list(dict1.items())\n",
    "print(a[0])\n",
    "print(a[0][1])\n",
    "print(a[0][1][0])"
   ]
  },
  {
   "cell_type": "raw",
   "id": "72645568",
   "metadata": {},
   "source": [
    "Group By -\n",
    "1] By default, 2 default variables having names = group_name & group_data.\n",
    "   PK -> group_name $ the corresponding data -> group_data.\n",
    "2] .groups gives you all PKs in group_name. The object is not series or df but ->         pandas.io.formats.printing.PrettyDicty. Now we know that unlike list, dictionary is not ordered, thus it is neither directly subscriptable or callable, thus [0] won't work.\n",
    "3] .keys() prints all PK as .groups becomes a Dictionary Object. What works is found below. \n",
    "4] Understand list[] and list(). () is calling the list method and [] is used for indexing,slicing,accessing elements. \n",
    "5] Group By object must be iterated to get the Keys & Values and convert into dictionary/dataframes. \n",
    "6] Group By will preserve the order in which observations are sorted within each group\n",
    "7] By default NA values are excluded from group keys during the groupby. Pass dropna=False to avoid.\n",
    "8] In the case of grouping by multiple keys, the group name will be a tuple:\n",
    "9] When you do Aggregation, keys of the groups appear in the index by default."
   ]
  },
  {
   "cell_type": "code",
   "execution_count": null,
   "id": "37581e90",
   "metadata": {},
   "outputs": [],
   "source": [
    "# Alt 1st element - \n",
    "first_group_name = list(oo.groups.keys())[0]\n",
    "first_group = oo.get_group(first_group_name)\n",
    "first_group"
   ]
  },
  {
   "cell_type": "markdown",
   "id": "45e8b28f",
   "metadata": {},
   "source": [
    "Getting a group by it's value - \n",
    "- grouped.get_group(value of the PK)"
   ]
  },
  {
   "cell_type": "code",
   "execution_count": null,
   "id": "e2c26106",
   "metadata": {},
   "outputs": [],
   "source": [
    "#Converting the object into dataframe\n",
    "grouped_df = Experian_df.groupby('ID', as_index=False).apply(pd.DataFrame)"
   ]
  },
  {
   "cell_type": "code",
   "execution_count": null,
   "id": "842bf216",
   "metadata": {},
   "outputs": [],
   "source": [
    "grouped_df.shape"
   ]
  },
  {
   "cell_type": "code",
   "execution_count": null,
   "id": "4b8aa22f",
   "metadata": {},
   "outputs": [],
   "source": [
    "# Convert GroupBy object to a dictionary\n",
    "group_dict = {}\n",
    "for group_name, group_data in oo:\n",
    "    group_dict[group_name] = group_data.to_dict(orient='list')"
   ]
  },
  {
   "cell_type": "code",
   "execution_count": null,
   "id": "4111a808",
   "metadata": {},
   "outputs": [],
   "source": [
    "# Into a list - \n",
    "group_list = [group_data for group_name, group_data in Experian_df.groupby('group_column')]"
   ]
  },
  {
   "cell_type": "code",
   "execution_count": null,
   "id": "828ea556",
   "metadata": {},
   "outputs": [],
   "source": [
    "type(oo.groups)"
   ]
  },
  {
   "cell_type": "markdown",
   "id": "1485ddc3",
   "metadata": {},
   "source": [
    "Inbuilt Methods - \n",
    "- any()\n",
    "- all()\n",
    "- count()\n",
    "- idxmax(),idxmin() - Index of the max & min value in each group\n",
    "- cov() - Covariance of the group\n",
    "- max(), mean(), median()\n",
    "- nunique() - No of Unique values\n",
    "- size() - Size of each group\n",
    "- Apply multiple functions at once -> grouped[[\"C\", \"D\"]].agg([\"sum\", \"mean\", \"std\"])"
   ]
  },
  {
   "cell_type": "markdown",
   "id": "1180cc43",
   "metadata": {},
   "source": [
    "pandas Index objects support duplicate values. If a non-unique index is used as the group key in a groupby operation, all values for the same index value will be considered to be in one group and thus the output of aggregation functions will only contain unique index values:"
   ]
  },
  {
   "cell_type": "code",
   "execution_count": null,
   "id": "bd506f7f",
   "metadata": {},
   "outputs": [],
   "source": [
    "lst = [1, 2, 3, 1, 2, 3]\n",
    "s = pd.Series([1, 2, 3, 10, 20, 30], lst) #lst assigned as index\n",
    "grouped = s.groupby(level=0)"
   ]
  },
  {
   "cell_type": "code",
   "execution_count": null,
   "id": "ee20151a",
   "metadata": {},
   "outputs": [],
   "source": [
    "grouped.first()"
   ]
  },
  {
   "cell_type": "code",
   "execution_count": null,
   "id": "c5372b30",
   "metadata": {},
   "outputs": [],
   "source": [
    "grouped.last()"
   ]
  },
  {
   "cell_type": "code",
   "execution_count": null,
   "id": "c65dd042",
   "metadata": {},
   "outputs": [],
   "source": [
    "grouped.sum()"
   ]
  },
  {
   "cell_type": "markdown",
   "id": "6d5b4232",
   "metadata": {},
   "source": [
    "# Interview Questions - "
   ]
  },
  {
   "cell_type": "raw",
   "id": "6426eb78",
   "metadata": {},
   "source": [
    "Common elements in 2 lists - \n",
    "common_elements = list(set(list1) & set(list2))"
   ]
  },
  {
   "cell_type": "code",
   "execution_count": null,
   "id": "a141e543",
   "metadata": {},
   "outputs": [],
   "source": [
    "# Find index of 1st non repeating integer in the array\n",
    "# Can use dictionary to keep track of freq of each integer. Then iterate in array to find the 1st.\n",
    "def first_nonrepeating_int(arr):\n",
    "    freq_dict = {} # num & it's freq\n",
    "    # Count freq of each integer\n",
    "    for index, num in enumerate(arr):\n",
    "        if num in freq_dict:\n",
    "            freq_dict[num]+=1\n",
    "        else:\n",
    "            freq_dict[num]=1\n",
    "    #Fetching the 1st - \n",
    "    for index, num in enumerate(arr):\n",
    "        if freq_dict[num]==1:\n",
    "            return index\n",
    "    return -1"
   ]
  },
  {
   "cell_type": "code",
   "execution_count": null,
   "id": "38951952",
   "metadata": {},
   "outputs": [],
   "source": [
    "def first_non_repeated(s):\n",
    "    char_count = {}\n",
    "    for char in s:\n",
    "        if char in char_count:\n",
    "            char_count[char] += 1\n",
    "        else:\n",
    "            char_count[char] = 1\n",
    "    for char in s:\n",
    "        if char_count[char] == 1:\n",
    "            return char,s.index(char)\n",
    "    return None\n",
    "string = \"swiss\"\n",
    "print(first_non_repeated(string))"
   ]
  },
  {
   "cell_type": "code",
   "execution_count": null,
   "id": "8bb5b8f9",
   "metadata": {},
   "outputs": [],
   "source": [
    "#Question 15: Rotate an array to the right by a given number of steps\n",
    "def rotate_array(arr, k):\n",
    "    n = len(arr) #5\n",
    "    k = k % n  \n",
    "    return arr[-k:] + arr[:-k]\n",
    "a = [1,2,3,4,5]\n",
    "b = rotate_array(a,1)\n",
    "b"
   ]
  },
  {
   "cell_type": "code",
   "execution_count": null,
   "id": "7b5ac498",
   "metadata": {},
   "outputs": [],
   "source": [
    "#Question 18: Implement a binary search algorithm\n",
    "def binary_search(arr, target):\n",
    "    left, right = 0 , len(arr) - 1\n",
    "    while left <= right:\n",
    "        mid = (left + right) // 2\n",
    "        if arr[mid] == target:\n",
    "            return mid\n",
    "        elif arr[mid] < target:\n",
    "            left = mid + 1\n",
    "        else:\n",
    "            right = mid - 1\n",
    "    return -1\n",
    "a = [1,2,3,4,5,6]\n",
    "binary_search(a,3)"
   ]
  },
  {
   "cell_type": "code",
   "execution_count": null,
   "id": "78776522",
   "metadata": {},
   "outputs": [],
   "source": [
    "#Question 19: Calculate the power of a number using recursion.\n",
    "def power(x, n):\n",
    "    if n == 0:\n",
    "        return 1\n",
    "    elif n % 2 == 0:\n",
    "        return power(x, n // 2) ** 2\n",
    "    else:\n",
    "        return x * power(x, n - 1)\n",
    "power(a,10)"
   ]
  },
  {
   "cell_type": "code",
   "execution_count": null,
   "id": "17eb2afe",
   "metadata": {},
   "outputs": [],
   "source": [
    "#30. Question: Write a function to find the two numbers in a list that sum up to a specific target\n",
    "def two_sum(nums, target):\n",
    "    num_dict = {}\n",
    "    for i, num in enumerate(nums):\n",
    "        print(i,num)\n",
    "        complement = target - num\n",
    "        num_dict[num] = i\n",
    "        if complement in num_dict:\n",
    "            return [num_dict[complement], i]   \n",
    "    return None\n",
    "numbers = [2, 7, 11, 15]\n",
    "target_value = 9\n",
    "print(two_sum(numbers, target_value))  # Output: [0, 1]"
   ]
  },
  {
   "cell_type": "code",
   "execution_count": null,
   "id": "9abe04e3",
   "metadata": {},
   "outputs": [],
   "source": []
  },
  {
   "cell_type": "code",
   "execution_count": null,
   "id": "23f95e64",
   "metadata": {},
   "outputs": [],
   "source": []
  },
  {
   "cell_type": "code",
   "execution_count": null,
   "id": "148b2076",
   "metadata": {},
   "outputs": [],
   "source": []
  },
  {
   "cell_type": "code",
   "execution_count": null,
   "id": "bb2982c3",
   "metadata": {},
   "outputs": [],
   "source": []
  },
  {
   "cell_type": "code",
   "execution_count": null,
   "id": "e244f38c",
   "metadata": {},
   "outputs": [],
   "source": []
  },
  {
   "cell_type": "code",
   "execution_count": null,
   "id": "ebc6835a",
   "metadata": {},
   "outputs": [],
   "source": []
  },
  {
   "cell_type": "code",
   "execution_count": null,
   "id": "f266fdcc",
   "metadata": {},
   "outputs": [],
   "source": []
  },
  {
   "cell_type": "markdown",
   "id": "6cceeb66",
   "metadata": {},
   "source": [
    "### Sumit Mittal's DSA problems - "
   ]
  },
  {
   "cell_type": "code",
   "execution_count": null,
   "id": "9348d180",
   "metadata": {},
   "outputs": [],
   "source": [
    "def get_appscore(phat) :\n",
    "\tlog_odds = math.log(phat / (1 - phat))\n",
    "\tfactor = 50 / math.log(2);\n",
    "\toffset = 600 - (factor * math.log(50))\n",
    "\tapp_score = int(round(offset + (factor * log_odds), 0))\n",
    "\treturn app_score\n"
   ]
  },
  {
   "cell_type": "code",
   "execution_count": null,
   "id": "85721534",
   "metadata": {},
   "outputs": [],
   "source": [
    "# Example dataset (replace this with your data)\n",
    "data = pd.DataFrame({\n",
    "    'Characteristic': ['Age', 'Income', 'Credit Score'],\n",
    "    'Baseline': [30, 40, 700],\n",
    "    'Current': [32, 42, 680]\n",
    "})\n",
    "\n",
    "# Define the number of bins for histograms\n",
    "num_bins = 10\n",
    "\n",
    "# Function to calculate PSI for a characteristic\n",
    "def calculate_psi(baseline, current):\n",
    "    # Create histograms for both populations\n",
    "    baseline_hist, _ = np.histogram(baseline, bins=num_bins)\n",
    "    current_hist, _ = np.histogram(current, bins=num_bins)\n",
    "    # Calculate the percentage of each population in each bin\n",
    "    p_baseline = baseline_hist / len(baseline)\n",
    "    p_current = current_hist / len(current)\n",
    "    \n",
    "    # Handle cases where p_baseline or p_current is zero\n",
    "    p_baseline = np.where(p_baseline == 0, 1e-10, p_baseline)\n",
    "    p_current = np.where(p_current == 0, 1e-10, p_current)\n",
    "    \n",
    "    # Calculate the PSI value for the characteristic\n",
    "    psi = np.sum((p_current - p_baseline) * np.log(p_current / p_baseline))\n",
    "    \n",
    "    return psi\n",
    "# Calculate PSI for each characteristic\n",
    "psi_values = []\n",
    "for row in data.itertuples(index=False):\n",
    "    psi = calculate_psi(list(row.Baseline), list(row.Current))\n",
    "    psi_values.append(psi)\n",
    "\n",
    "# Add PSI values to the dataset\n",
    "data['PSI'] = psi_values\n",
    "\n",
    "# Display the results\n",
    "print(\"Characteristic Analysis Report:\")\n",
    "print(data[['Characteristic', 'PSI']])           "
   ]
  },
  {
   "cell_type": "code",
   "execution_count": null,
   "id": "edb32eab",
   "metadata": {},
   "outputs": [],
   "source": [
    "predicted_probabilities = [0.1, 0.4, 0.6, 0.8, 0.3, 0.9]\n",
    "true_labels = [0, 0, 1, 1, 0, 1]\n",
    "data = list(zip(predicted_probabilities, true_labels))"
   ]
  },
  {
   "cell_type": "code",
   "execution_count": null,
   "id": "07c2d8ec",
   "metadata": {},
   "outputs": [],
   "source": [
    "data_sorted = sorted(data, key=lambda x: x[0], reverse=True)\n",
    "positives = [item[0] for item in data_sorted if item[1] == 1]\n",
    "negatives = [item[0] for item in data_sorted if item[1] == 0]"
   ]
  },
  {
   "cell_type": "code",
   "execution_count": null,
   "id": "3abe641d",
   "metadata": {},
   "outputs": [],
   "source": [
    "print(\"1 - \",positives)\n",
    "print(\"2 - \",negatives)\n",
    "total_positives = sum(true_labels)\n",
    "print(\"3 - \",total_positives)\n",
    "total_negatives = len(true_labels) - total_positives\n",
    "print(\"4 - \",total_negatives)\n",
    "print(\"5 - \",np.cumsum(positives))\n",
    "print(\"6 - \",np.cumsum(negatives))"
   ]
  },
  {
   "cell_type": "code",
   "execution_count": null,
   "id": "a58f51d5",
   "metadata": {},
   "outputs": [],
   "source": [
    "cp_pos = np.cumsum(positives) / total_positives\n",
    "cp_neg = np.cumsum(negatives) / total_negatives\n",
    "print(cp_pos)\n",
    "print(cp_neg)\n",
    "ks = max(cp_pos - cp_neg)"
   ]
  },
  {
   "cell_type": "code",
   "execution_count": null,
   "id": "f131dbd4",
   "metadata": {},
   "outputs": [],
   "source": [
    "print(ks)"
   ]
  },
  {
   "cell_type": "markdown",
   "id": "5bb39e00",
   "metadata": {},
   "source": [
    "### Neetcode's Leetcode Problems - "
   ]
  },
  {
   "cell_type": "code",
   "execution_count": null,
   "id": "0deb2ee3",
   "metadata": {},
   "outputs": [],
   "source": [
    "# Self Product of an array w/o the respective positioned number - \n",
    "nums = [2,3,4,5,6]\n",
    "def productexceptself(nums):\n",
    "    res = [1]*(len(nums))\n",
    "    prefix=1\n",
    "    for i in range(len(nums)):\n",
    "        res[i]=prefix\n",
    "        prefix*=nums[i]\n",
    "    postfix=1\n",
    "    for i in range(len(nums)-1,-1,-1): #? \n",
    "        res[i]*=postfix\n",
    "        postfix*=nums[i]\n",
    "    return res\n",
    "prod = productexceptself(nums)\n",
    "prod"
   ]
  },
  {
   "cell_type": "code",
   "execution_count": null,
   "id": "806683ff",
   "metadata": {},
   "outputs": [],
   "source": [
    "nums = [1,2,3,4,5]\n",
    "res = [1]*(len(nums))\n",
    "res"
   ]
  },
  {
   "cell_type": "markdown",
   "id": "0b5105ba",
   "metadata": {},
   "source": [
    "#### Find continuos subarray(min 1 number) having largest sum & return it"
   ]
  },
  {
   "cell_type": "markdown",
   "id": "9064b377",
   "metadata": {},
   "source": [
    "- Brute Force => just compute every single subarray from start to end. Repeat for every number following on. But time complexty very very high\n",
    "- Solution - \n",
    "- prev lesser value doesn't matter. Thus ignore. Calculate max sum upto a number where the number is decreasing the max sum value. Calculate such max values and return."
   ]
  },
  {
   "cell_type": "code",
   "execution_count": null,
   "id": "cca20a27",
   "metadata": {},
   "outputs": [],
   "source": [
    "nums = [2,3,4,5,6]\n",
    "def contiguoussubarray(nums):\n",
    "    maxsub = nums[0]\n",
    "    cursum = 0\n",
    "    for n in nums:\n",
    "        if cursum < 0:\n",
    "            cursum = 0\n",
    "        cursum+=n\n",
    "        maxsub=max(maxsub,cursum)\n",
    "    return maxsub          "
   ]
  },
  {
   "cell_type": "code",
   "execution_count": null,
   "id": "dde80212",
   "metadata": {},
   "outputs": [],
   "source": [
    "prod = contiguoussubarray(nums)\n",
    "prod"
   ]
  },
  {
   "cell_type": "markdown",
   "id": "60457744",
   "metadata": {},
   "source": [
    "### Maximum Product subarray - Dynamic Programming"
   ]
  },
  {
   "cell_type": "code",
   "execution_count": null,
   "id": "5674761f",
   "metadata": {},
   "outputs": [],
   "source": [
    "nums = [2,3,4,5,6,-6,-4,0,-4,5,6,-7,0,-5,-2,2]\n",
    "def contiguoussubarrayprod(nums):\n",
    "    res=max(nums) # coz when array has 0 Or -1, res becomes invalid.\n",
    "    currmin,currmax=1\n",
    "    for n in nums:\n",
    "        if n==0:\n",
    "            currmin,currmax=1\n",
    "            continue\n",
    "        tmp=n*currmax # to keep track of what currmax is and what currmin is\n",
    "        currmax = max(n*currmax,n*currmin,n)\n",
    "        currmin = min(tmp,n*currmin,n)\n",
    "        res=max(res,currmax)\n",
    "    return res"
   ]
  },
  {
   "cell_type": "code",
   "execution_count": null,
   "id": "54178d38",
   "metadata": {},
   "outputs": [],
   "source": [
    "prod = contiguoussubarrayprod(nums)\n",
    "prod"
   ]
  },
  {
   "cell_type": "code",
   "execution_count": null,
   "id": "ab539907",
   "metadata": {},
   "outputs": [],
   "source": [
    "arr = [1,2,3,4,5]\n",
    "for i in arr:\n",
    "    if i==2:\n",
    "        continue\n",
    "    print(i)"
   ]
  },
  {
   "cell_type": "code",
   "execution_count": null,
   "id": "e6edcd34",
   "metadata": {},
   "outputs": [],
   "source": [
    "def removeDuplicates(array):\n",
    "    size = len(array)\n",
    "    insertIndex = 1\n",
    "    for i in range(1, size):\n",
    "        if array[i - 1] != array[i]:\n",
    "            # Updating insertIndex in our main array\n",
    "            array[insertIndex] = array[i]\n",
    "            # Incrementing insertIndex count by 1\n",
    "            insertIndex = insertIndex + 1\n",
    "            print(array)\n",
    "    return insertIndex"
   ]
  },
  {
   "cell_type": "code",
   "execution_count": null,
   "id": "b79c3cea",
   "metadata": {},
   "outputs": [],
   "source": [
    "array_1 = [1,2,2,3,3,4]\n",
    "removeDuplicates(array_1)"
   ]
  },
  {
   "cell_type": "code",
   "execution_count": null,
   "id": "51049f11",
   "metadata": {},
   "outputs": [],
   "source": []
  },
  {
   "cell_type": "code",
   "execution_count": null,
   "id": "05733bcc",
   "metadata": {},
   "outputs": [],
   "source": [
    "#pythagorean -\n",
    "def hasPythagoreanTriplet(nums):\n",
    "    squared_nums = set([num * num for num in nums])  # Create a set of squared values\n",
    "    for i in range(len(nums)):\n",
    "        for j in range(i + 1, len(nums)):\n",
    "            # Calculate the sum of squares of two numbers\n",
    "            sum_of_squares = nums[i] * nums[i] + nums[j] * nums[j]\n",
    "            if sum_of_squares in squared_nums:\n",
    "                return True            \n",
    "    return False"
   ]
  },
  {
   "cell_type": "code",
   "execution_count": null,
   "id": "f0fc323a",
   "metadata": {},
   "outputs": [],
   "source": [
    "input_nums = [3, 5, 5, 6, 13, 9,12]\n",
    "result = hasPythagoreanTriplet(input_nums)\n",
    "print(result)  # Output: True"
   ]
  },
  {
   "cell_type": "code",
   "execution_count": null,
   "id": "2a1fc08b",
   "metadata": {},
   "outputs": [],
   "source": [
    "# Denominations & Amount - Dynamic Programming\n",
    "denominations = [1,2,5]\n",
    "amount = 5"
   ]
  },
  {
   "cell_type": "code",
   "execution_count": null,
   "id": "9a13a726",
   "metadata": {},
   "outputs": [],
   "source": [
    "solution = [0] * (amount + 1)\n",
    "solution[0] = 1\n",
    "for den in denominations:\n",
    "    for i in range(den, amount + 1): #1 to 6? -- 1-5\n",
    "        #print(i)\n",
    "        solution[i] += solution[i - den] \n",
    "        print(solution)\n",
    "print(solution[len(solution) - 1])"
   ]
  },
  {
   "cell_type": "code",
   "execution_count": null,
   "id": "0eff1c98",
   "metadata": {},
   "outputs": [],
   "source": [
    "# Missing element in a continuos array\n",
    "list1 = [1,5,6,3,4]\n",
    "def findmissing(list1):\n",
    "    currsum = sum(list1) #19\n",
    "    correctsum = ((len(list1)+1)*(len(list1)+2))/2\n",
    "    return correctsum-currsum\n",
    "findmissing(list1)"
   ]
  },
  {
   "cell_type": "code",
   "execution_count": null,
   "id": "9cf82613",
   "metadata": {},
   "outputs": [],
   "source": [
    "#Given an array arr[], find the maximum difference in consecutive values and their index - \n",
    "# myarr = [4,6,3,4,7,2,233,64,56,77,22,0,86,54]\n",
    "myarr = [5, 70, 40, 50, 12, 38, 98]\n",
    "lambai = len(myarr)\n",
    "maxdiff = 0\n",
    "for i in range(1,len(myarr)):\n",
    "#     maxdiff = max(maxdiff,myarr[i]-myarr[i-1]\n",
    "      if maxdiff < myarr[i]-myarr[i-1]:\n",
    "        maxdiff = myarr[i]-myarr[i-1]\n",
    "        jmax = i\n",
    "        imax = i-1\n",
    "print(\"Maxdiff - \",maxdiff) \n",
    "print(\"Max j - \",jmax)\n",
    "print(\"Max i - \",imax)   "
   ]
  },
  {
   "cell_type": "code",
   "execution_count": null,
   "id": "f0a73b7c",
   "metadata": {},
   "outputs": [],
   "source": [
    "# Maximum difference max(j – i) such that arr[j] > arr[i]-  \n",
    "myarr = [4,6,3,4,7,2,233,64,56,77,22,0,86] \n",
    "\n",
    "n = len(myarr) # 13\n",
    "left_min = [0] * n\n",
    "left_min[0] = myarr[0]\n",
    "for i in range(1, n):\n",
    "    left_min[i] = min(left_min[i - 1], myarr[i])\n",
    "\n",
    "right_max = [0]*n\n",
    "right_max[n-1] = myarr[n-1]\n",
    "for i in range(n-2,-1,-1):\n",
    "    right_max[i] = max(right_max[i+1],myarr[i])\n",
    "\n",
    "i, j, max_diff = 0, 0, -1\n",
    "while i < n and j < n:\n",
    "    if left_min[i] < right_max[j]:\n",
    "        max_diff = max(max_diff, j - i)\n",
    "        j += 1\n",
    "    else:\n",
    "        i += 1\n",
    "print(i,j,max_diff)"
   ]
  },
  {
   "cell_type": "code",
   "execution_count": null,
   "id": "274779ef",
   "metadata": {},
   "outputs": [],
   "source": [
    "def max_index_diff(array):\n",
    "    n = len(array)\n",
    "    max_diff = 0# why -1 here?\n",
    "    for i in range(0, n):\n",
    "        j = n - 1\n",
    "        while(j > i):\n",
    "            if array[j] > array[i] and max_diff < (j - i):\n",
    "                max_diff = j - i\n",
    "            j -= 1\n",
    "\n",
    "    return max_diff"
   ]
  },
  {
   "cell_type": "code",
   "execution_count": null,
   "id": "5a2e5c14",
   "metadata": {},
   "outputs": [],
   "source": [
    "max_distance(myarr)"
   ]
  },
  {
   "cell_type": "code",
   "execution_count": null,
   "id": "b9c92f0f",
   "metadata": {},
   "outputs": [],
   "source": [
    "myarr = [4,6,3,4,7,2,233,64,56,77,22,0,86] \n",
    "myarr1 = myarr.sort\n",
    "myarr1"
   ]
  },
  {
   "cell_type": "code",
   "execution_count": null,
   "id": "0d52ea76",
   "metadata": {},
   "outputs": [],
   "source": [
    "#the longest consecutive subsequence in a list of numbers.\n",
    "def longest_consecutive_subsequence(nums):\n",
    "    if not nums:\n",
    "        return []\n",
    "    nums = sorted(set(nums))\n",
    "    longest_streak = []\n",
    "    current_streak = [nums[0]]\n",
    "    for i in range(1, len(nums)):\n",
    "        if nums[i] - nums[i - 1] == 1:\n",
    "            current_streak.append(nums[i])\n",
    "        else:\n",
    "            if len(current_streak) > len(longest_streak):\n",
    "                longest_streak = current_streak\n",
    "            current_streak = [nums[i]]\n",
    "\n",
    "    return longest_streak if len(longest_streak) > len(current_streak) else current_streak\n",
    "\n",
    "numbers = [1, 2, 3, 5, 6, 7, 8, 10]\n",
    "print(longest_consecutive_subsequence(numbers))"
   ]
  }
 ],
 "metadata": {
  "kernelspec": {
   "display_name": "Python 3 (ipykernel)",
   "language": "python",
   "name": "python3"
  },
  "language_info": {
   "codemirror_mode": {
    "name": "ipython",
    "version": 3
   },
   "file_extension": ".py",
   "mimetype": "text/x-python",
   "name": "python",
   "nbconvert_exporter": "python",
   "pygments_lexer": "ipython3",
   "version": "3.9.13"
  }
 },
 "nbformat": 4,
 "nbformat_minor": 5
}
