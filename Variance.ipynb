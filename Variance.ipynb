{
  "nbformat": 4,
  "nbformat_minor": 0,
  "metadata": {
    "colab": {
      "provenance": [],
      "include_colab_link": true
    },
    "kernelspec": {
      "name": "python3",
      "display_name": "Python 3"
    },
    "language_info": {
      "name": "python"
    }
  },
  "cells": [
    {
      "cell_type": "markdown",
      "metadata": {
        "id": "view-in-github",
        "colab_type": "text"
      },
      "source": [
        "<a href=\"https://colab.research.google.com/github/deepakk7195/IISC_CDS_DS/blob/foundations_of_ds/Variance.ipynb\" target=\"_parent\"><img src=\"https://colab.research.google.com/assets/colab-badge.svg\" alt=\"Open In Colab\"/></a>"
      ]
    },
    {
      "cell_type": "markdown",
      "source": [
        "#Calculating the Variance"
      ],
      "metadata": {
        "id": "BUXREic9laG4"
      }
    },
    {
      "cell_type": "markdown",
      "source": [
        "In statistics, the variance is a measure of how far individual (numeric) values in a dataset are from the mean or average value. The variance is often used to quantify spread or dispersion. Spread is a characteristic of a sample or population that describes how much variability there is in it.\n",
        "\n",
        "A high variance tells us that the values in our dataset are far from their mean. So, our data will have high levels of variability. On the other hand, a low variance tells us that the values are quite close to the mean. In this case, the data will have low levels of variability.\n",
        "\n",
        "To calculate the variance in a dataset, we first need to find the difference between each individual value and the mean. The variance is the average of the squares of those differences. We can express the variance with the following math expression:\n",
        "\n",
        "![varience_equation.png](data:image/png;base64,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)"
      ],
      "metadata": {
        "id": "OiHeIjUol1Jk"
      }
    },
    {
      "cell_type": "markdown",
      "source": [
        "#Coding a variance() Function in Python"
      ],
      "metadata": {
        "id": "5h9EC-INp36W"
      }
    },
    {
      "cell_type": "markdown",
      "source": [
        "To calculate the variance, we're going to code a Python function called variance(). This function will take some data and return its variance. Inside variance(), we're going to calculate the mean of the data and the square deviations from the mean. Finally, we're going to calculate the variance by finding the average of the deviations.\n",
        "\n",
        "Here's a possible implementation for variance():"
      ],
      "metadata": {
        "id": "NLV7ebYMp-d9"
      }
    },
    {
      "cell_type": "code",
      "source": [
        "def variance(data):\n",
        "  # Number of observations\n",
        "  n = len(data)\n",
        "  # Mean of the data\n",
        "  mean = sum(data) / n\n",
        "  # Square deviations\n",
        "  deviations = [(x - mean) ** 2 for x in data]\n",
        "  # Variance\n",
        "  variance = sum(deviations) / n\n",
        "  return variance\n",
        "variance([4, 8, 6, 5, 3, 2, 8, 9, 2, 5])\n"
      ],
      "metadata": {
        "id": "bpLydEG-p_ht"
      },
      "execution_count": null,
      "outputs": []
    },
    {
      "cell_type": "markdown",
      "source": [
        "* We first calculate the number of observations (n) in our data using the built-in function len(). Then, we calculate the mean of the data, dividing the total sum of the observations by the number of observations.\n",
        "\n",
        "* The next step is to calculate the square deviations from the mean. To do that, we use a list comprehension that creates a list of square deviations using the expression (x - mean) ** 2 where x stands for every observation in our data.\n",
        "\n",
        "* Finally, we calculate the variance by summing the deviations and dividing them by the number of observations n.\n",
        "\n",
        "* In this case, variance() will calculate the population variance because we're using n instead of n - 1 to calculate the mean of the deviations. If we're working with a sample and we want to estimate the variance of the population, then we'll need to update the expression variance = sum(deviations) / n to variance = sum(deviations) / (n - 1)."
      ],
      "metadata": {
        "id": "hbyY9zW8u114"
      }
    },
    {
      "cell_type": "markdown",
      "source": [
        "\n",
        "\n",
        "We can refactor our function to make it more concise and efficient. Here's an example:"
      ],
      "metadata": {
        "id": "dnC6rByTu-oH"
      }
    },
    {
      "cell_type": "code",
      "source": [
        "def variance(data, ddof=0):\n",
        "  n = len(data)\n",
        "  mean = sum(data) / n\n",
        "  return sum((x - mean) ** 2 for x in data) / (n - ddof)\n",
        "print(variance([4, 8, 6, 5, 3, 2, 8, 9, 2, 5]))\n",
        "variance([4, 8, 6, 5, 3, 2, 8, 9, 2, 5], ddof=1)\n"
      ],
      "metadata": {
        "id": "Cer19_Weu2yY"
      },
      "execution_count": null,
      "outputs": []
    },
    {
      "cell_type": "markdown",
      "source": [
        "In this case, we remove some intermediate steps and temporary variables like deviations and variance. We also turn the list comprehension into a generator expression, which is much more efficient in terms of memory consumption.\n",
        "\n",
        "Note that this implementation takes a second argument called ddof which defaults to 0. This argument allows us to set the degrees of freedom that we want to use when calculating the variance. For example, ddof=0 will allow us to calculate the variance of a population. Meanwhile, ddof=1 will allow us to estimate the population variance using a sample of data."
      ],
      "metadata": {
        "id": "OArtQQClvj_N"
      }
    },
    {
      "cell_type": "markdown",
      "source": [
        "#Using Python's pvariance() and variance()"
      ],
      "metadata": {
        "id": "bFXNzSxQvoeJ"
      }
    },
    {
      "cell_type": "markdown",
      "source": [
        "Python includes a standard module called statistics that provides some functions for calculating basic statistics of data. In this case, the statistics.pvariance() and statistics.variance() are the functions that we can use to calculate the variance of a population and of a sample respectively.\n",
        "\n",
        "Here's how Python's pvariance() works:"
      ],
      "metadata": {
        "id": "BIQ5jRZHvtxU"
      }
    },
    {
      "cell_type": "code",
      "source": [
        "import statistics\n",
        "statistics.pvariance([4, 8, 6, 5, 3, 2, 8, 9, 2, 5])\n"
      ],
      "metadata": {
        "id": "xeRFzhjVvbJb"
      },
      "execution_count": null,
      "outputs": []
    },
    {
      "cell_type": "markdown",
      "source": [
        "We just need to import the statistics module and then call pvariance() with our data as an argument. That will return the variance of the population.\n",
        "\n",
        "On the other hand, we can use Python's variance() to calculate the variance of a sample and use it to estimate the variance of the entire population. That's because variance() uses n - 1 instead of n to calculate the variance. Here's how it works:"
      ],
      "metadata": {
        "id": "OhWR6OIMv4ca"
      }
    },
    {
      "cell_type": "code",
      "source": [
        "import statistics\n",
        "statistics.variance([4, 8, 6, 5, 3, 2, 8, 9, 2, 5])"
      ],
      "metadata": {
        "id": "WgolxXUtvyqn"
      },
      "execution_count": null,
      "outputs": []
    },
    {
      "cell_type": "markdown",
      "source": [
        "This is the sample variance S^2. So, the result of using Python's variance() should be an unbiased estimate of the population variance σ2, provided that the observations are representative of the entire population."
      ],
      "metadata": {
        "id": "XHTpBawtwBbC"
      }
    }
  ]
}