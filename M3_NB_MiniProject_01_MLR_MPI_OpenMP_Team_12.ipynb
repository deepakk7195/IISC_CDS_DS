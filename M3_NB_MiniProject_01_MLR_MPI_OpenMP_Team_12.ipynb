{
  "nbformat": 4,
  "nbformat_minor": 5,
  "metadata": {
    "colab": {
      "provenance": [],
      "include_colab_link": true
    },
    "kernelspec": {
      "display_name": "Python 3",
      "name": "python3"
    },
    "language_info": {
      "codemirror_mode": {
        "name": "ipython",
        "version": 3
      },
      "file_extension": ".py",
      "mimetype": "text/x-python",
      "name": "python",
      "nbconvert_exporter": "python",
      "pygments_lexer": "ipython3",
      "version": "3.6.7rc1"
    }
  },
  "cells": [
    {
      "cell_type": "markdown",
      "metadata": {
        "id": "view-in-github",
        "colab_type": "text"
      },
      "source": [
        "<a href=\"https://colab.research.google.com/github/deepakk7195/IISC_CDS_DS/blob/Scalable_ML_GenAI/M3_NB_MiniProject_01_MLR_MPI_OpenMP_Team_12.ipynb\" target=\"_parent\"><img src=\"https://colab.research.google.com/assets/colab-badge.svg\" alt=\"Open In Colab\"/></a>"
      ]
    },
    {
      "cell_type": "markdown",
      "metadata": {
        "id": "heated-queens"
      },
      "source": [
        "# Advanced Certification Program in Computational Data Science\n",
        "## A program by IISc and TalentSprint\n",
        "### Mini-Project: Implementation of Multiple Linear Regression using MPI and OpenMP"
      ],
      "id": "heated-queens"
    },
    {
      "cell_type": "code",
      "source": [
        "from google.colab import drive\n",
        "drive.mount('/content/drive')"
      ],
      "metadata": {
        "id": "_V93bxqHpDEV",
        "colab": {
          "base_uri": "https://localhost:8080/"
        },
        "outputId": "6afdfe1f-cff1-4f1d-abbe-615adb38b729"
      },
      "id": "_V93bxqHpDEV",
      "execution_count": null,
      "outputs": [
        {
          "output_type": "stream",
          "name": "stdout",
          "text": [
            "Drive already mounted at /content/drive; to attempt to forcibly remount, call drive.mount(\"/content/drive\", force_remount=True).\n"
          ]
        }
      ]
    },
    {
      "cell_type": "markdown",
      "metadata": {
        "id": "military-proportion"
      },
      "source": [
        "## Learning Objectives"
      ],
      "id": "military-proportion"
    },
    {
      "cell_type": "markdown",
      "metadata": {
        "id": "durable-grounds"
      },
      "source": [
        "At the end of the mini-project, you will be able to :\n",
        "\n",
        "* understand the collective communication operations like scatter, gather, broadcast\n",
        "* understand the blocking and non-blocking communication\n",
        "* implement multiple linear regression and run it using MPI\n",
        "* implement the multiple linear regression based predictions using OpenMP"
      ],
      "id": "durable-grounds"
    },
    {
      "cell_type": "markdown",
      "metadata": {
        "id": "growing-queens"
      },
      "source": [
        "### Dataset"
      ],
      "id": "growing-queens"
    },
    {
      "cell_type": "markdown",
      "metadata": {
        "id": "yLwz-D_xVT8o"
      },
      "source": [
        "The dataset chosen for this mini-project is [Combined Cycle Power Plant](https://archive.ics.uci.edu/ml/datasets/combined+cycle+power+plant). The dataset is made up of 9568 records and 5 columns. Each record contains the values for Ambient Temperature, Exhaust Vaccum, Ambient Pressure, Relative Humidity and Energy Output.\n",
        "\n",
        "Predicting full load electrical power output of a base load power plant is important in order to maximize the profit from the available megawatt hours.  The base load operation of a power plant is influenced by four main parameters, which are used as input variables in the dataset, such as ambient temperature, atmospheric pressure, relative humidity, and exhaust steam pressure. These parameters affect electrical power output, which is considered as the target variable.\n",
        "\n",
        "**Note:** The data was collected over a six year period (2006-11)."
      ],
      "id": "yLwz-D_xVT8o"
    },
    {
      "cell_type": "markdown",
      "metadata": {
        "id": "dominant-residence"
      },
      "source": [
        "## Information"
      ],
      "id": "dominant-residence"
    },
    {
      "cell_type": "markdown",
      "metadata": {
        "id": "coated-timing"
      },
      "source": [
        "#### MPI in a Nutshell\n",
        "\n",
        "MPI stands for \"Message Passing Interface\". It is a library of functions (in C / Python) or subroutines (in Fortran) that you insert into source code to perform data communication between processes. MPI was developed over two years of discussions led by the MPI Forum, a group of roughly sixty people representing some forty organizations.\n",
        "\n",
        "To know more about MPI click [here](https://hpc-tutorials.llnl.gov/mpi/)\n",
        "\n",
        "\n",
        "#### Multiple Linear Regression\n",
        "\n",
        "Multiple regression is an extension of simple linear regression. It is used when we want to predict the value of a variable based on the value of two or more other variables. The variable we want to predict is called the dependent variable (or sometimes, the outcome, target or criterion variable). The variables we are using to predict the value of the dependent variable are called the independent variables (or sometimes, the predictor, explanatory or regressor variables)."
      ],
      "id": "coated-timing"
    },
    {
      "cell_type": "markdown",
      "metadata": {
        "id": "global-savings"
      },
      "source": [
        "**Note:** We will be using the mpi4py Python package for MPI based code implementation"
      ],
      "id": "global-savings"
    },
    {
      "cell_type": "markdown",
      "metadata": {
        "id": "ndQNKsjS7c04"
      },
      "source": [
        "## Grading = 20 Points"
      ],
      "id": "ndQNKsjS7c04"
    },
    {
      "cell_type": "markdown",
      "metadata": {
        "id": "green-deviation"
      },
      "source": [
        "**Run the below code to install mpi4py package**"
      ],
      "id": "green-deviation"
    },
    {
      "cell_type": "code",
      "metadata": {
        "id": "designing-marketing",
        "scrolled": true,
        "colab": {
          "base_uri": "https://localhost:8080/"
        },
        "outputId": "dc53ebc3-692d-4624-866a-f41e793de56f"
      },
      "source": [
        "!pip install mpi4py"
      ],
      "id": "designing-marketing",
      "execution_count": null,
      "outputs": [
        {
          "output_type": "stream",
          "name": "stdout",
          "text": [
            "Requirement already satisfied: mpi4py in /usr/local/lib/python3.10/dist-packages (3.1.6)\n"
          ]
        }
      ]
    },
    {
      "cell_type": "markdown",
      "metadata": {
        "id": "dedicated-thong"
      },
      "source": [
        "#### Importing Necessary Packages"
      ],
      "id": "dedicated-thong"
    },
    {
      "cell_type": "code",
      "metadata": {
        "id": "reported-acrobat",
        "scrolled": true
      },
      "source": [
        "# Importing pandas\n",
        "import pandas as pd\n",
        "# Importing Numpy\n",
        "import numpy as np\n",
        "# Importing MPI from mpi4py package\n",
        "from mpi4py import MPI\n",
        "# Importing sqrt function from the Math\n",
        "from math import sqrt\n",
        "# Importing Decimal, ROUND_HALF_UP functions from the decimal package\n",
        "from decimal import Decimal, ROUND_HALF_UP\n",
        "import time"
      ],
      "id": "reported-acrobat",
      "execution_count": null,
      "outputs": []
    },
    {
      "cell_type": "markdown",
      "metadata": {
        "id": "standing-zimbabwe"
      },
      "source": [
        "#### Downloading the data"
      ],
      "id": "standing-zimbabwe"
    },
    {
      "cell_type": "code",
      "metadata": {
        "id": "universal-jonathan",
        "scrolled": true
      },
      "source": [
        "#@title Download the data\n",
        "!wget -qq https://cdn.iisc.talentsprint.com/CDS/Datasets/PowerPlantData.csv"
      ],
      "id": "universal-jonathan",
      "execution_count": null,
      "outputs": []
    },
    {
      "cell_type": "markdown",
      "metadata": {
        "id": "forty-still"
      },
      "source": [
        "### Overview\n",
        "\n",
        "* Load the data and perform data pre-processing\n",
        "* Identify the features, target and split the data into train and test\n",
        "* Implement multiple Linear Regression by estimating the coefficients on the given data\n",
        "* Use MPI package to distribute the data and implement `communicator`\n",
        "* Define functions for each objective and make a script (.py) file to execute using MPI command\n",
        "* Use OpenMP component to predict the data and calculate the error on the predicted data\n",
        "* Implement the Linear Regression from `sklearn` and compare the results"
      ],
      "id": "forty-still"
    },
    {
      "cell_type": "markdown",
      "metadata": {
        "id": "early-peace"
      },
      "source": [
        "#### Exercise 1: Load data (1 point)\n",
        "\n",
        "Write a function that takes the filename as input and loads the data in a pandas dataframe with the column names as Ambient Temperature, Exhaust Vaccum, Ambient Pressure, Relative Humidity and Energy Output respectively.\n",
        "\n",
        "**Hint:** read_csv()\n"
      ],
      "id": "early-peace"
    },
    {
      "cell_type": "code",
      "metadata": {
        "id": "differential-vacation",
        "scrolled": true
      },
      "source": [
        "FILENAME = \"/content/PowerPlantData.csv\" # File path\n",
        "\n",
        "# YOUR CODE HERE to Define a function to load the data"
      ],
      "id": "differential-vacation",
      "execution_count": null,
      "outputs": []
    },
    {
      "cell_type": "code",
      "source": [
        "df = pd.read_csv(FILENAME)"
      ],
      "metadata": {
        "id": "VONLUvpWPZdw"
      },
      "id": "VONLUvpWPZdw",
      "execution_count": null,
      "outputs": []
    },
    {
      "cell_type": "code",
      "source": [
        "df.head()"
      ],
      "metadata": {
        "id": "3dg8ilzOPgc8",
        "colab": {
          "base_uri": "https://localhost:8080/",
          "height": 206
        },
        "outputId": "e7234905-7f85-48b5-df89-01bf5769815e"
      },
      "id": "3dg8ilzOPgc8",
      "execution_count": null,
      "outputs": [
        {
          "output_type": "execute_result",
          "data": {
            "text/plain": [
              "      AT      V       AP     RH      PE\n",
              "0   8.34  40.77  1010.84  90.01  480.48\n",
              "1  23.64  58.49  1011.40  74.20  445.75\n",
              "2  29.74  56.90  1007.15  41.91  438.76\n",
              "3  19.07  49.69  1007.22  76.79  453.09\n",
              "4  11.80  40.66  1017.13  97.20  464.43"
            ],
            "text/html": [
              "\n",
              "  <div id=\"df-479c9e49-825b-4df7-9e1c-ee82e6bc11a8\" class=\"colab-df-container\">\n",
              "    <div>\n",
              "<style scoped>\n",
              "    .dataframe tbody tr th:only-of-type {\n",
              "        vertical-align: middle;\n",
              "    }\n",
              "\n",
              "    .dataframe tbody tr th {\n",
              "        vertical-align: top;\n",
              "    }\n",
              "\n",
              "    .dataframe thead th {\n",
              "        text-align: right;\n",
              "    }\n",
              "</style>\n",
              "<table border=\"1\" class=\"dataframe\">\n",
              "  <thead>\n",
              "    <tr style=\"text-align: right;\">\n",
              "      <th></th>\n",
              "      <th>AT</th>\n",
              "      <th>V</th>\n",
              "      <th>AP</th>\n",
              "      <th>RH</th>\n",
              "      <th>PE</th>\n",
              "    </tr>\n",
              "  </thead>\n",
              "  <tbody>\n",
              "    <tr>\n",
              "      <th>0</th>\n",
              "      <td>8.34</td>\n",
              "      <td>40.77</td>\n",
              "      <td>1010.84</td>\n",
              "      <td>90.01</td>\n",
              "      <td>480.48</td>\n",
              "    </tr>\n",
              "    <tr>\n",
              "      <th>1</th>\n",
              "      <td>23.64</td>\n",
              "      <td>58.49</td>\n",
              "      <td>1011.40</td>\n",
              "      <td>74.20</td>\n",
              "      <td>445.75</td>\n",
              "    </tr>\n",
              "    <tr>\n",
              "      <th>2</th>\n",
              "      <td>29.74</td>\n",
              "      <td>56.90</td>\n",
              "      <td>1007.15</td>\n",
              "      <td>41.91</td>\n",
              "      <td>438.76</td>\n",
              "    </tr>\n",
              "    <tr>\n",
              "      <th>3</th>\n",
              "      <td>19.07</td>\n",
              "      <td>49.69</td>\n",
              "      <td>1007.22</td>\n",
              "      <td>76.79</td>\n",
              "      <td>453.09</td>\n",
              "    </tr>\n",
              "    <tr>\n",
              "      <th>4</th>\n",
              "      <td>11.80</td>\n",
              "      <td>40.66</td>\n",
              "      <td>1017.13</td>\n",
              "      <td>97.20</td>\n",
              "      <td>464.43</td>\n",
              "    </tr>\n",
              "  </tbody>\n",
              "</table>\n",
              "</div>\n",
              "    <div class=\"colab-df-buttons\">\n",
              "\n",
              "  <div class=\"colab-df-container\">\n",
              "    <button class=\"colab-df-convert\" onclick=\"convertToInteractive('df-479c9e49-825b-4df7-9e1c-ee82e6bc11a8')\"\n",
              "            title=\"Convert this dataframe to an interactive table.\"\n",
              "            style=\"display:none;\">\n",
              "\n",
              "  <svg xmlns=\"http://www.w3.org/2000/svg\" height=\"24px\" viewBox=\"0 -960 960 960\">\n",
              "    <path d=\"M120-120v-720h720v720H120Zm60-500h600v-160H180v160Zm220 220h160v-160H400v160Zm0 220h160v-160H400v160ZM180-400h160v-160H180v160Zm440 0h160v-160H620v160ZM180-180h160v-160H180v160Zm440 0h160v-160H620v160Z\"/>\n",
              "  </svg>\n",
              "    </button>\n",
              "\n",
              "  <style>\n",
              "    .colab-df-container {\n",
              "      display:flex;\n",
              "      gap: 12px;\n",
              "    }\n",
              "\n",
              "    .colab-df-convert {\n",
              "      background-color: #E8F0FE;\n",
              "      border: none;\n",
              "      border-radius: 50%;\n",
              "      cursor: pointer;\n",
              "      display: none;\n",
              "      fill: #1967D2;\n",
              "      height: 32px;\n",
              "      padding: 0 0 0 0;\n",
              "      width: 32px;\n",
              "    }\n",
              "\n",
              "    .colab-df-convert:hover {\n",
              "      background-color: #E2EBFA;\n",
              "      box-shadow: 0px 1px 2px rgba(60, 64, 67, 0.3), 0px 1px 3px 1px rgba(60, 64, 67, 0.15);\n",
              "      fill: #174EA6;\n",
              "    }\n",
              "\n",
              "    .colab-df-buttons div {\n",
              "      margin-bottom: 4px;\n",
              "    }\n",
              "\n",
              "    [theme=dark] .colab-df-convert {\n",
              "      background-color: #3B4455;\n",
              "      fill: #D2E3FC;\n",
              "    }\n",
              "\n",
              "    [theme=dark] .colab-df-convert:hover {\n",
              "      background-color: #434B5C;\n",
              "      box-shadow: 0px 1px 3px 1px rgba(0, 0, 0, 0.15);\n",
              "      filter: drop-shadow(0px 1px 2px rgba(0, 0, 0, 0.3));\n",
              "      fill: #FFFFFF;\n",
              "    }\n",
              "  </style>\n",
              "\n",
              "    <script>\n",
              "      const buttonEl =\n",
              "        document.querySelector('#df-479c9e49-825b-4df7-9e1c-ee82e6bc11a8 button.colab-df-convert');\n",
              "      buttonEl.style.display =\n",
              "        google.colab.kernel.accessAllowed ? 'block' : 'none';\n",
              "\n",
              "      async function convertToInteractive(key) {\n",
              "        const element = document.querySelector('#df-479c9e49-825b-4df7-9e1c-ee82e6bc11a8');\n",
              "        const dataTable =\n",
              "          await google.colab.kernel.invokeFunction('convertToInteractive',\n",
              "                                                    [key], {});\n",
              "        if (!dataTable) return;\n",
              "\n",
              "        const docLinkHtml = 'Like what you see? Visit the ' +\n",
              "          '<a target=\"_blank\" href=https://colab.research.google.com/notebooks/data_table.ipynb>data table notebook</a>'\n",
              "          + ' to learn more about interactive tables.';\n",
              "        element.innerHTML = '';\n",
              "        dataTable['output_type'] = 'display_data';\n",
              "        await google.colab.output.renderOutput(dataTable, element);\n",
              "        const docLink = document.createElement('div');\n",
              "        docLink.innerHTML = docLinkHtml;\n",
              "        element.appendChild(docLink);\n",
              "      }\n",
              "    </script>\n",
              "  </div>\n",
              "\n",
              "\n",
              "<div id=\"df-82ac21c6-d204-4e5a-ac4c-cd88ff6d6125\">\n",
              "  <button class=\"colab-df-quickchart\" onclick=\"quickchart('df-82ac21c6-d204-4e5a-ac4c-cd88ff6d6125')\"\n",
              "            title=\"Suggest charts\"\n",
              "            style=\"display:none;\">\n",
              "\n",
              "<svg xmlns=\"http://www.w3.org/2000/svg\" height=\"24px\"viewBox=\"0 0 24 24\"\n",
              "     width=\"24px\">\n",
              "    <g>\n",
              "        <path d=\"M19 3H5c-1.1 0-2 .9-2 2v14c0 1.1.9 2 2 2h14c1.1 0 2-.9 2-2V5c0-1.1-.9-2-2-2zM9 17H7v-7h2v7zm4 0h-2V7h2v10zm4 0h-2v-4h2v4z\"/>\n",
              "    </g>\n",
              "</svg>\n",
              "  </button>\n",
              "\n",
              "<style>\n",
              "  .colab-df-quickchart {\n",
              "      --bg-color: #E8F0FE;\n",
              "      --fill-color: #1967D2;\n",
              "      --hover-bg-color: #E2EBFA;\n",
              "      --hover-fill-color: #174EA6;\n",
              "      --disabled-fill-color: #AAA;\n",
              "      --disabled-bg-color: #DDD;\n",
              "  }\n",
              "\n",
              "  [theme=dark] .colab-df-quickchart {\n",
              "      --bg-color: #3B4455;\n",
              "      --fill-color: #D2E3FC;\n",
              "      --hover-bg-color: #434B5C;\n",
              "      --hover-fill-color: #FFFFFF;\n",
              "      --disabled-bg-color: #3B4455;\n",
              "      --disabled-fill-color: #666;\n",
              "  }\n",
              "\n",
              "  .colab-df-quickchart {\n",
              "    background-color: var(--bg-color);\n",
              "    border: none;\n",
              "    border-radius: 50%;\n",
              "    cursor: pointer;\n",
              "    display: none;\n",
              "    fill: var(--fill-color);\n",
              "    height: 32px;\n",
              "    padding: 0;\n",
              "    width: 32px;\n",
              "  }\n",
              "\n",
              "  .colab-df-quickchart:hover {\n",
              "    background-color: var(--hover-bg-color);\n",
              "    box-shadow: 0 1px 2px rgba(60, 64, 67, 0.3), 0 1px 3px 1px rgba(60, 64, 67, 0.15);\n",
              "    fill: var(--button-hover-fill-color);\n",
              "  }\n",
              "\n",
              "  .colab-df-quickchart-complete:disabled,\n",
              "  .colab-df-quickchart-complete:disabled:hover {\n",
              "    background-color: var(--disabled-bg-color);\n",
              "    fill: var(--disabled-fill-color);\n",
              "    box-shadow: none;\n",
              "  }\n",
              "\n",
              "  .colab-df-spinner {\n",
              "    border: 2px solid var(--fill-color);\n",
              "    border-color: transparent;\n",
              "    border-bottom-color: var(--fill-color);\n",
              "    animation:\n",
              "      spin 1s steps(1) infinite;\n",
              "  }\n",
              "\n",
              "  @keyframes spin {\n",
              "    0% {\n",
              "      border-color: transparent;\n",
              "      border-bottom-color: var(--fill-color);\n",
              "      border-left-color: var(--fill-color);\n",
              "    }\n",
              "    20% {\n",
              "      border-color: transparent;\n",
              "      border-left-color: var(--fill-color);\n",
              "      border-top-color: var(--fill-color);\n",
              "    }\n",
              "    30% {\n",
              "      border-color: transparent;\n",
              "      border-left-color: var(--fill-color);\n",
              "      border-top-color: var(--fill-color);\n",
              "      border-right-color: var(--fill-color);\n",
              "    }\n",
              "    40% {\n",
              "      border-color: transparent;\n",
              "      border-right-color: var(--fill-color);\n",
              "      border-top-color: var(--fill-color);\n",
              "    }\n",
              "    60% {\n",
              "      border-color: transparent;\n",
              "      border-right-color: var(--fill-color);\n",
              "    }\n",
              "    80% {\n",
              "      border-color: transparent;\n",
              "      border-right-color: var(--fill-color);\n",
              "      border-bottom-color: var(--fill-color);\n",
              "    }\n",
              "    90% {\n",
              "      border-color: transparent;\n",
              "      border-bottom-color: var(--fill-color);\n",
              "    }\n",
              "  }\n",
              "</style>\n",
              "\n",
              "  <script>\n",
              "    async function quickchart(key) {\n",
              "      const quickchartButtonEl =\n",
              "        document.querySelector('#' + key + ' button');\n",
              "      quickchartButtonEl.disabled = true;  // To prevent multiple clicks.\n",
              "      quickchartButtonEl.classList.add('colab-df-spinner');\n",
              "      try {\n",
              "        const charts = await google.colab.kernel.invokeFunction(\n",
              "            'suggestCharts', [key], {});\n",
              "      } catch (error) {\n",
              "        console.error('Error during call to suggestCharts:', error);\n",
              "      }\n",
              "      quickchartButtonEl.classList.remove('colab-df-spinner');\n",
              "      quickchartButtonEl.classList.add('colab-df-quickchart-complete');\n",
              "    }\n",
              "    (() => {\n",
              "      let quickchartButtonEl =\n",
              "        document.querySelector('#df-82ac21c6-d204-4e5a-ac4c-cd88ff6d6125 button');\n",
              "      quickchartButtonEl.style.display =\n",
              "        google.colab.kernel.accessAllowed ? 'block' : 'none';\n",
              "    })();\n",
              "  </script>\n",
              "</div>\n",
              "\n",
              "    </div>\n",
              "  </div>\n"
            ],
            "application/vnd.google.colaboratory.intrinsic+json": {
              "type": "dataframe",
              "variable_name": "df",
              "summary": "{\n  \"name\": \"df\",\n  \"rows\": 9568,\n  \"fields\": [\n    {\n      \"column\": \"AT\",\n      \"properties\": {\n        \"dtype\": \"number\",\n        \"std\": 7.452473229611079,\n        \"min\": 1.81,\n        \"max\": 37.11,\n        \"num_unique_values\": 2773,\n        \"samples\": [\n          11.02,\n          15.61,\n          16.31\n        ],\n        \"semantic_type\": \"\",\n        \"description\": \"\"\n      }\n    },\n    {\n      \"column\": \"V\",\n      \"properties\": {\n        \"dtype\": \"number\",\n        \"std\": 12.707892998326809,\n        \"min\": 25.36,\n        \"max\": 81.56,\n        \"num_unique_values\": 634,\n        \"samples\": [\n          76.2,\n          69.05,\n          39.13\n        ],\n        \"semantic_type\": \"\",\n        \"description\": \"\"\n      }\n    },\n    {\n      \"column\": \"AP\",\n      \"properties\": {\n        \"dtype\": \"number\",\n        \"std\": 5.938783705811606,\n        \"min\": 992.89,\n        \"max\": 1033.3,\n        \"num_unique_values\": 2517,\n        \"samples\": [\n          1000.98,\n          1002.2,\n          1024.55\n        ],\n        \"semantic_type\": \"\",\n        \"description\": \"\"\n      }\n    },\n    {\n      \"column\": \"RH\",\n      \"properties\": {\n        \"dtype\": \"number\",\n        \"std\": 14.600268756728953,\n        \"min\": 25.56,\n        \"max\": 100.16,\n        \"num_unique_values\": 4546,\n        \"samples\": [\n          66.5,\n          99.14,\n          89.19\n        ],\n        \"semantic_type\": \"\",\n        \"description\": \"\"\n      }\n    },\n    {\n      \"column\": \"PE\",\n      \"properties\": {\n        \"dtype\": \"number\",\n        \"std\": 17.06699499980342,\n        \"min\": 420.26,\n        \"max\": 495.76,\n        \"num_unique_values\": 4836,\n        \"samples\": [\n          447.69,\n          443.89,\n          443.02\n        ],\n        \"semantic_type\": \"\",\n        \"description\": \"\"\n      }\n    }\n  ]\n}"
            }
          },
          "metadata": {},
          "execution_count": 7
        }
      ]
    },
    {
      "cell_type": "markdown",
      "metadata": {
        "id": "italian-expense"
      },
      "source": [
        "#### Exercise 2: Explore data (1 point)\n",
        "\n",
        "Write a function that takes the data loaded using the above defined function as input and explore it.\n",
        "\n",
        "**Hint:** You can define and check for following things in the dataset inside a function\n",
        "\n",
        "- checking for the number of rows and columns\n",
        "- summary of the dataset\n",
        "- check for the null values\n",
        "- check for the duplicate values"
      ],
      "id": "italian-expense"
    },
    {
      "cell_type": "code",
      "metadata": {
        "id": "local-quarter",
        "scrolled": true,
        "colab": {
          "base_uri": "https://localhost:8080/"
        },
        "outputId": "cb021874-8072-44aa-d5be-6f843f956893"
      },
      "source": [
        "# YOUR CODE HERE for rows, columns and summary\n",
        "\n",
        "def getNecessaryAttributesRequired(df):\n",
        "    rows, columns = df.shape\n",
        "    #print(rows, columns)\n",
        "    summary = df.describe()\n",
        "\n",
        "    return rows, columns, summary\n",
        "\n",
        "r, c, s = getNecessaryAttributesRequired(df)\n",
        "print(r, c, s)"
      ],
      "id": "local-quarter",
      "execution_count": null,
      "outputs": [
        {
          "output_type": "stream",
          "name": "stdout",
          "text": [
            "9568 5                 AT            V           AP           RH           PE\n",
            "count  9568.000000  9568.000000  9568.000000  9568.000000  9568.000000\n",
            "mean     19.651231    54.305804  1013.259078    73.308978   454.365009\n",
            "std       7.452473    12.707893     5.938784    14.600269    17.066995\n",
            "min       1.810000    25.360000   992.890000    25.560000   420.260000\n",
            "25%      13.510000    41.740000  1009.100000    63.327500   439.750000\n",
            "50%      20.345000    52.080000  1012.940000    74.975000   451.550000\n",
            "75%      25.720000    66.540000  1017.260000    84.830000   468.430000\n",
            "max      37.110000    81.560000  1033.300000   100.160000   495.760000\n"
          ]
        }
      ]
    },
    {
      "cell_type": "code",
      "source": [
        "df.columns"
      ],
      "metadata": {
        "id": "jwtn0Y_NVo7B",
        "colab": {
          "base_uri": "https://localhost:8080/"
        },
        "outputId": "cb0db27c-867a-4b8d-fc6d-8b902a004f45"
      },
      "id": "jwtn0Y_NVo7B",
      "execution_count": null,
      "outputs": [
        {
          "output_type": "execute_result",
          "data": {
            "text/plain": [
              "Index(['AT', 'V', 'AP', 'RH', 'PE'], dtype='object')"
            ]
          },
          "metadata": {},
          "execution_count": 9
        }
      ]
    },
    {
      "cell_type": "code",
      "source": [
        "df.info()"
      ],
      "metadata": {
        "id": "m20-So7wSv7C",
        "colab": {
          "base_uri": "https://localhost:8080/"
        },
        "outputId": "5e9aefb2-8e6c-4a18-9132-770b81d43f4e"
      },
      "id": "m20-So7wSv7C",
      "execution_count": null,
      "outputs": [
        {
          "output_type": "stream",
          "name": "stdout",
          "text": [
            "<class 'pandas.core.frame.DataFrame'>\n",
            "RangeIndex: 9568 entries, 0 to 9567\n",
            "Data columns (total 5 columns):\n",
            " #   Column  Non-Null Count  Dtype  \n",
            "---  ------  --------------  -----  \n",
            " 0   AT      9568 non-null   float64\n",
            " 1   V       9568 non-null   float64\n",
            " 2   AP      9568 non-null   float64\n",
            " 3   RH      9568 non-null   float64\n",
            " 4   PE      9568 non-null   float64\n",
            "dtypes: float64(5)\n",
            "memory usage: 373.9 KB\n"
          ]
        }
      ]
    },
    {
      "cell_type": "code",
      "source": [
        "\n",
        "def extractNullColumnsFromDataFrame(df):\n",
        "    number_of_null_values_per_column = df.isnull().sum()\n",
        "    total_number_of_null_values = number_of_null_values_per_column.sum()\n",
        "\n",
        "    return number_of_null_values_per_column, total_number_of_null_values\n",
        "\n",
        "null_per_column, total_number_null_vals = extractNullColumnsFromDataFrame(df)\n",
        "\n",
        "print(null_per_column, total_number_null_vals)\n"
      ],
      "metadata": {
        "id": "d-27gHzJR07z",
        "colab": {
          "base_uri": "https://localhost:8080/"
        },
        "outputId": "dd62a3e1-ed96-4b2c-b094-37bba49f032b"
      },
      "id": "d-27gHzJR07z",
      "execution_count": null,
      "outputs": [
        {
          "output_type": "stream",
          "name": "stdout",
          "text": [
            "AT    0\n",
            "V     0\n",
            "AP    0\n",
            "RH    0\n",
            "PE    0\n",
            "dtype: int64 0\n"
          ]
        }
      ]
    },
    {
      "cell_type": "markdown",
      "metadata": {
        "id": "whole-retailer"
      },
      "source": [
        "#### Exercise 3: Handle missing data (1 point)\n",
        "\n",
        "After exploring the dataset if there are any null values present in the dataset then define a function that takes data loaded using the above defined function as input and handle the null values accordingly.\n",
        "\n",
        "**Hint:**\n",
        "\n",
        "- Drop the records containing the null values - dropna()\n",
        "- Replace the null values with the mean/median/mode - fillna()"
      ],
      "id": "whole-retailer"
    },
    {
      "cell_type": "code",
      "metadata": {
        "id": "incorporated-child",
        "scrolled": true
      },
      "source": [
        "# Function to handle missing data\n",
        "\n",
        "# YOUR CODE HERE\n",
        "\n",
        "# Comment: Nothing is required here."
      ],
      "id": "incorporated-child",
      "execution_count": null,
      "outputs": []
    },
    {
      "cell_type": "markdown",
      "metadata": {
        "id": "loaded-arbitration"
      },
      "source": [
        "#### Exercise 4: Scale the data (1 point)\n",
        "\n",
        "Write a function that takes the data after handling the missing data as input and returns the standardized data.\n",
        "\n",
        "**Hint:**\n",
        "\n",
        "- standardization of the data  can be performed using the below formula\n",
        "\n",
        "$ (x - mean(x)) / std(x) $"
      ],
      "id": "loaded-arbitration"
    },
    {
      "cell_type": "code",
      "metadata": {
        "id": "extraordinary-qatar",
        "scrolled": true,
        "colab": {
          "base_uri": "https://localhost:8080/"
        },
        "outputId": "4ddcca10-17fd-4eae-d002-76dc4d4efffe"
      },
      "source": [
        "# Defining a function to standardize the data\n",
        "\n",
        "def standardizeExceptTarget(df):\n",
        "  \"\"\"\n",
        "  Standardizes the data in a Pandas DataFrame.\n",
        "\n",
        "  Args:\n",
        "      df (pandas.DataFrame): The DataFrame to standardize.\n",
        "\n",
        "  Returns:\n",
        "      pandas.DataFrame: The standardized DataFrame.\n",
        "  \"\"\"\n",
        "  result = df.copy()  # Create a copy to avoid modifying the original DataFrame\n",
        "  for col in ['AT', 'V', 'AP', 'RH']:\n",
        "    if pd.api.types.is_numeric_dtype(result[col]):  # Check for numeric columns\n",
        "      # Calculate mean and standard deviation\n",
        "      mean = result[col].mean()\n",
        "      std = result[col].std()\n",
        "      # Standardize the data (subtract mean and divide by standard deviation)\n",
        "      result[col] = (result[col] - mean) / std\n",
        "  return result\n",
        "\n",
        "def standardize(df):\n",
        "  \"\"\"\n",
        "  Standardizes the data in a Pandas DataFrame.\n",
        "\n",
        "  Args:\n",
        "      df (pandas.DataFrame): The DataFrame to standardize.\n",
        "\n",
        "  Returns:\n",
        "      pandas.DataFrame: The standardized DataFrame.\n",
        "  \"\"\"\n",
        "  result = df.copy()  # Create a copy to avoid modifying the original DataFrame\n",
        "  for col in result.columns:\n",
        "    if pd.api.types.is_numeric_dtype(result[col]):  # Check for numeric columns\n",
        "      # Calculate mean and standard deviation\n",
        "      mean = result[col].mean()\n",
        "      std = result[col].std()\n",
        "      # Standardize the data (subtract mean and divide by standard deviation)\n",
        "      result[col] = (result[col] - mean) / std\n",
        "  return result\n",
        "\n",
        "#df_standardized = standardize(df.copy())\n",
        "#print(df_standardized)\n",
        "\n",
        "#df = df_standardized\n",
        "\n",
        "df_standardized1 = standardizeExceptTarget(df.copy())\n",
        "print(df_standardized1)\n",
        "\n",
        "df = df_standardized1\n",
        "\n",
        "\n",
        "# YOUR CODE HERE"
      ],
      "id": "extraordinary-qatar",
      "execution_count": null,
      "outputs": [
        {
          "output_type": "stream",
          "name": "stdout",
          "text": [
            "            AT         V        AP        RH      PE\n",
            "0    -1.517782 -1.065149 -0.407336  1.143885  480.48\n",
            "1     0.535228  0.329260 -0.313040  0.061028  445.75\n",
            "2     1.353748  0.204141 -1.028675 -2.150575  438.76\n",
            "3    -0.077992 -0.363223 -1.016888  0.238422  453.09\n",
            "4    -1.053507 -1.073805  0.651804  1.636341  464.43\n",
            "...        ...       ...       ...       ...     ...\n",
            "9563 -0.608017 -0.423816 -0.245686 -0.025957  462.59\n",
            "9564  1.846202  1.860591 -0.498263 -0.930735  432.90\n",
            "9565 -0.491277 -0.862913  0.158437  0.366502  465.96\n",
            "9566 -0.268532  0.437854  0.895962  1.461687  450.93\n",
            "9567  0.540595 -0.236530 -0.235583 -0.141708  451.67\n",
            "\n",
            "[9568 rows x 5 columns]\n"
          ]
        }
      ]
    },
    {
      "cell_type": "markdown",
      "metadata": {
        "id": "thermal-rehabilitation"
      },
      "source": [
        "#### Exercise 5: Feature selection (1 point)\n",
        "\n",
        "Write a function that takes scaled data as input and returns the features and target variable values\n",
        "\n",
        "**Hint:**\n",
        "\n",
        "- Features: AmbientTemperature, ExhaustVaccum, AmbientPressure, RelativeHumidity\n",
        "- Target Variable: EnergyOutput"
      ],
      "id": "thermal-rehabilitation"
    },
    {
      "cell_type": "code",
      "metadata": {
        "id": "terminal-starter",
        "scrolled": true
      },
      "source": [
        "# Define a function\n",
        "def select_X_y(df):\n",
        "  \"\"\"\n",
        "  Extracts features (X) and target variable (y) from a DataFrame.\n",
        "\n",
        "  Args:\n",
        "      df (pandas.DataFrame): The DataFrame containing features and target variable.\n",
        "\n",
        "  Returns:\n",
        "      tuple: A tuple containing two DataFrames:\n",
        "          - X: The DataFrame containing features (all columns except the last).\n",
        "          - y: The DataFrame containing the target variable (last column).\n",
        "  \"\"\"\n",
        "  X = df.iloc[:, :-1]  # Select all columns except the last\n",
        "  y = df.iloc[:, -1]  # Select the last column\n",
        "  return X, y\n",
        "\n",
        "# Example usage (assuming your DataFrame is named 'df')\n",
        "X, y = select_X_y(df.copy())\n",
        "\n",
        "# YOUR CODE HERE"
      ],
      "id": "terminal-starter",
      "execution_count": null,
      "outputs": []
    },
    {
      "cell_type": "code",
      "source": [
        "print(X, y)"
      ],
      "metadata": {
        "id": "sG3niRSuWesr",
        "colab": {
          "base_uri": "https://localhost:8080/"
        },
        "outputId": "6ce61d7b-8944-4ddf-ec37-8e550433a675"
      },
      "id": "sG3niRSuWesr",
      "execution_count": null,
      "outputs": [
        {
          "output_type": "stream",
          "name": "stdout",
          "text": [
            "            AT         V        AP        RH\n",
            "0    -1.517782 -1.065149 -0.407336  1.143885\n",
            "1     0.535228  0.329260 -0.313040  0.061028\n",
            "2     1.353748  0.204141 -1.028675 -2.150575\n",
            "3    -0.077992 -0.363223 -1.016888  0.238422\n",
            "4    -1.053507 -1.073805  0.651804  1.636341\n",
            "...        ...       ...       ...       ...\n",
            "9563 -0.608017 -0.423816 -0.245686 -0.025957\n",
            "9564  1.846202  1.860591 -0.498263 -0.930735\n",
            "9565 -0.491277 -0.862913  0.158437  0.366502\n",
            "9566 -0.268532  0.437854  0.895962  1.461687\n",
            "9567  0.540595 -0.236530 -0.235583 -0.141708\n",
            "\n",
            "[9568 rows x 4 columns] 0       480.48\n",
            "1       445.75\n",
            "2       438.76\n",
            "3       453.09\n",
            "4       464.43\n",
            "         ...  \n",
            "9563    462.59\n",
            "9564    432.90\n",
            "9565    465.96\n",
            "9566    450.93\n",
            "9567    451.67\n",
            "Name: PE, Length: 9568, dtype: float64\n"
          ]
        }
      ]
    },
    {
      "cell_type": "markdown",
      "metadata": {
        "id": "timely-bruce"
      },
      "source": [
        "#### Exercise 6: Correlation (1 point)\n",
        "\n",
        "Calculate correlation between the variables"
      ],
      "id": "timely-bruce"
    },
    {
      "cell_type": "code",
      "metadata": {
        "id": "durable-making",
        "scrolled": true,
        "colab": {
          "base_uri": "https://localhost:8080/"
        },
        "outputId": "0aaf96e2-19be-4ee0-fc97-c692adad86b7"
      },
      "source": [
        "# YOUR CODE HERE\n",
        "# Pearson correlation (default)\n",
        "pearson_corr = df.corr()\n",
        "\n",
        "# Spearman's rank correlation\n",
        "spearman_corr = df.corr(method='spearman')\n",
        "\n",
        "# Kendall's rank correlation\n",
        "kendall_corr = df.corr(method='kendall')\n",
        "\n",
        "print(\"Pearson correlation:\")\n",
        "print(pearson_corr)\n",
        "\n",
        "print(\"\\nSpearman's rank correlation:\")\n",
        "print(spearman_corr)\n",
        "\n",
        "print(\"\\nKendall's rank correlation:\")\n",
        "print(kendall_corr)"
      ],
      "id": "durable-making",
      "execution_count": null,
      "outputs": [
        {
          "output_type": "stream",
          "name": "stdout",
          "text": [
            "Pearson correlation:\n",
            "          AT         V        AP        RH        PE\n",
            "AT  1.000000  0.844107 -0.507549 -0.542535 -0.948128\n",
            "V   0.844107  1.000000 -0.413502 -0.312187 -0.869780\n",
            "AP -0.507549 -0.413502  1.000000  0.099574  0.518429\n",
            "RH -0.542535 -0.312187  0.099574  1.000000  0.389794\n",
            "PE -0.948128 -0.869780  0.518429  0.389794  1.000000\n",
            "\n",
            "Spearman's rank correlation:\n",
            "          AT         V        AP        RH        PE\n",
            "AT  1.000000  0.850620 -0.518790 -0.542706 -0.944412\n",
            "V   0.850620  1.000000 -0.426129 -0.304938 -0.883702\n",
            "AP -0.518790 -0.426129  1.000000  0.086776  0.542531\n",
            "RH -0.542706 -0.304938  0.086776  1.000000  0.389640\n",
            "PE -0.944412 -0.883702  0.542531  0.389640  1.000000\n",
            "\n",
            "Kendall's rank correlation:\n",
            "          AT         V        AP        RH        PE\n",
            "AT  1.000000  0.644291 -0.360763 -0.377179 -0.795787\n",
            "V   0.644291  1.000000 -0.294533 -0.202913 -0.684200\n",
            "AP -0.360763 -0.294533  1.000000  0.058466  0.381276\n",
            "RH -0.377179 -0.202913  0.058466  1.000000  0.263391\n",
            "PE -0.795787 -0.684200  0.381276  0.263391  1.000000\n"
          ]
        }
      ]
    },
    {
      "cell_type": "code",
      "source": [
        "import matplotlib.pyplot as plt\n",
        "import seaborn as sns\n",
        "\n",
        "def plot():\n",
        "    plt.figure(figsize=(10, 6))  # Adjust figure size as needed\n",
        "    sns.heatmap(df.corr(), annot=True, cmap='coolwarm')  # Customize colormap if desired\n",
        "    plt.title(\"Correlation Heatmap\")\n",
        "    plt.show()\n",
        "\n",
        "plot()"
      ],
      "metadata": {
        "id": "6na21scVw5gu",
        "colab": {
          "base_uri": "https://localhost:8080/",
          "height": 545
        },
        "outputId": "2deabea8-6c14-4bf4-baa0-9b9b3cf2a6e1"
      },
      "id": "6na21scVw5gu",
      "execution_count": null,
      "outputs": [
        {
          "output_type": "display_data",
          "data": {
            "text/plain": [
              "<Figure size 1000x600 with 2 Axes>"
            ],
            "image/png": "[encoded data removed]"
          },
          "metadata": {}
        }
      ]
    },
    {
      "cell_type": "markdown",
      "metadata": {
        "id": "honest-remainder"
      },
      "source": [
        "#### Exercise 7: Estimate the coefficients (2 points)\n",
        "\n",
        "Write a function that takes features and target as input and returns the estimated coefficient values\n",
        "\n",
        "**Hint:**\n",
        "\n",
        "- Calculate the estimated coefficients using the below formula\n",
        "\n",
        "$ β = (X^T X)^{-1} X^T y $\n",
        "\n",
        "- transpose(), np.linalg.inv()"
      ],
      "id": "honest-remainder"
    },
    {
      "cell_type": "code",
      "metadata": {
        "id": "dimensional-victory",
        "scrolled": true,
        "colab": {
          "base_uri": "https://localhost:8080/"
        },
        "outputId": "0c32efda-b2b6-490d-cc37-247a77a78da3"
      },
      "source": [
        "# Calculating the coeffients\n",
        "\n",
        "# YOUR CODE HERE\n",
        "\n",
        "def calculate_beta(X, y):\n",
        "  \"\"\"\n",
        "  Calculates the beta coefficient using the formula β = (X^T * X)^-1 * X^T * y.\n",
        "\n",
        "  Args:\n",
        "      X (numpy.ndarray): The features matrix (2D array).\n",
        "      y (numpy.ndarray): The target variable (1D array).\n",
        "\n",
        "  Returns:\n",
        "      numpy.ndarray: The beta coefficient vector.\n",
        "  \"\"\"\n",
        "  # Calculate transpose of X\n",
        "  X_transpose = X.T\n",
        "\n",
        "  # Calculate pseudo-inverse of (X^T * X) using np.linalg.pinv for better stability\n",
        "  X_pinv = np.linalg.pinv(X_transpose.dot(X))\n",
        "\n",
        "  # Calculate beta using the formula\n",
        "  beta = X_pinv.dot(X_transpose.dot(y))\n",
        "\n",
        "  return beta\n",
        "\n",
        "  # Usage\n",
        "beta = calculate_beta(X, y)\n",
        "\n",
        "print(\"Beta coefficient: {}\".format(beta.size))\n",
        "print(beta)"
      ],
      "id": "dimensional-victory",
      "execution_count": null,
      "outputs": [
        {
          "output_type": "stream",
          "name": "stdout",
          "text": [
            "Beta coefficient: 4\n",
            "[-14.73736349  -2.97258487   0.36869717  -2.30763238]\n"
          ]
        }
      ]
    },
    {
      "cell_type": "code",
      "source": [],
      "metadata": {
        "id": "AhWEWuqdXqE3"
      },
      "id": "AhWEWuqdXqE3",
      "execution_count": null,
      "outputs": []
    },
    {
      "cell_type": "markdown",
      "metadata": {
        "id": "interior-bennett"
      },
      "source": [
        "#### Exercise 8: Fit the data to estimate the coefficients (2 points)\n",
        "\n",
        "Write a function named fit which takes features and targets as input and returns the intercept and coefficient values.\n",
        "\n",
        "**Hint:**\n",
        "\n",
        "- create a dummy column in the features dataframe which is made up of all ones\n",
        "- convert the features dataframe into numpy array\n",
        "- call the estimated coefficients function which is defined above\n",
        "- np.ones(), np.concatenate()"
      ],
      "id": "interior-bennett"
    },
    {
      "cell_type": "code",
      "metadata": {
        "id": "local-texas",
        "scrolled": true,
        "colab": {
          "base_uri": "https://localhost:8080/"
        },
        "outputId": "0d398111-5d44-46e1-ee6c-bb51cda62c24"
      },
      "source": [
        "# defining a fit function\n",
        "\n",
        "def estimated_coefficients(X, y):\n",
        "  \"\"\"\n",
        "  Calculates the estimated coefficients for linear regression using the closed-form solution.\n",
        "\n",
        "  Args:\n",
        "      X (numpy.ndarray): The features matrix (2D array).\n",
        "      y (numpy.ndarray): The target variable vector (1D array).\n",
        "\n",
        "  Returns:\n",
        "      numpy.ndarray: The estimated coefficients vector.\n",
        "  \"\"\"\n",
        "\n",
        "  # Calculate the transpose of X\n",
        "  X_transpose = X.T\n",
        "\n",
        "  # Calculate the coefficients using the closed-form solution\n",
        "  coefficients = np.linalg.pinv(X_transpose.dot(X)).dot(X_transpose.dot(y))\n",
        "\n",
        "  return coefficients\n",
        "\n",
        "def fit(features, target):\n",
        "  \"\"\"\n",
        "  Fits a linear regression model and returns the intercept and coefficients.\n",
        "\n",
        "  Args:\n",
        "      features (pandas.DataFrame): The DataFrame containing features.\n",
        "      target (pandas.Series): The Series containing the target variable.\n",
        "\n",
        "  Returns:\n",
        "      tuple: A tuple containing the intercept (float) and coefficients (numpy.ndarray).\n",
        "  \"\"\"\n",
        "\n",
        "  # Add a dummy column of ones for the intercept\n",
        "  #features['intercept'] = 1  # Add a column of ones\n",
        "  features.insert(0, 'intercept',1)\n",
        "\n",
        "  # Convert features to a NumPy array\n",
        "  X1 = features.to_numpy()\n",
        "\n",
        "  # Call the estimated coefficients function (assuming it's defined elsewhere)\n",
        "  #coefficients = estimated_coefficients(X, target)  # Replace with your coefficients function\n",
        "  coefficients = calculate_beta(X1, target)\n",
        "  print(coefficients)\n",
        "\n",
        "  # Separate intercept and coefficients\n",
        "  intercept = coefficients[0]\n",
        "  coefficients = coefficients[1:]\n",
        "\n",
        "  return intercept, coefficients\n",
        "\n",
        "# Example usage (assuming you have features and target)\n",
        "intercept, coefficients = fit(X.copy(), y.copy())\n",
        "#intercept, coefficients = fit(X, y)\n",
        "\n",
        "print(\"Intercept:\", intercept)\n",
        "print(\"Coefficients:\", coefficients)"
      ],
      "id": "local-texas",
      "execution_count": null,
      "outputs": [
        {
          "output_type": "stream",
          "name": "stdout",
          "text": [
            "[ 4.54365009e+02 -1.47373635e+01 -2.97258487e+00  3.68697175e-01\n",
            " -2.30763238e+00]\n",
            "Intercept: 454.3650094063546\n",
            "Coefficients: [-14.73736349  -2.97258487   0.36869717  -2.30763238]\n"
          ]
        }
      ]
    },
    {
      "cell_type": "code",
      "source": [
        "print(beta)"
      ],
      "metadata": {
        "id": "IbRqf1KUlyqg",
        "colab": {
          "base_uri": "https://localhost:8080/"
        },
        "outputId": "3622f5ea-3e3b-4331-96d8-346422a904d8"
      },
      "id": "IbRqf1KUlyqg",
      "execution_count": null,
      "outputs": [
        {
          "output_type": "stream",
          "name": "stdout",
          "text": [
            "[-14.73736349  -2.97258487   0.36869717  -2.30763238]\n"
          ]
        }
      ]
    },
    {
      "cell_type": "markdown",
      "metadata": {
        "id": "hybrid-quick"
      },
      "source": [
        "#### Exercise 9: Predict the data on estimated coefficients (1 point)\n",
        "\n",
        "Write a function named predict which takes features, intercept and coefficient values as input and returns the predicted values.\n",
        "\n",
        "**Hint:**\n",
        "\n",
        "- Fit the intercept, coefficients values in the below equation\n",
        "\n",
        "  $y = b_0 + b_1*x + ... + b_i*x_i$"
      ],
      "id": "hybrid-quick"
    },
    {
      "cell_type": "code",
      "source": [
        "X.head()"
      ],
      "metadata": {
        "id": "fXYFXdBveFe1",
        "colab": {
          "base_uri": "https://localhost:8080/",
          "height": 206
        },
        "outputId": "9952c4fc-ca39-46e5-c538-c7d93f2163de"
      },
      "id": "fXYFXdBveFe1",
      "execution_count": null,
      "outputs": [
        {
          "output_type": "execute_result",
          "data": {
            "text/plain": [
              "         AT         V        AP        RH\n",
              "0 -1.517782 -1.065149 -0.407336  1.143885\n",
              "1  0.535228  0.329260 -0.313040  0.061028\n",
              "2  1.353748  0.204141 -1.028675 -2.150575\n",
              "3 -0.077992 -0.363223 -1.016888  0.238422\n",
              "4 -1.053507 -1.073805  0.651804  1.636341"
            ],
            "text/html": [
              "\n",
              "  <div id=\"df-f93e688e-62ff-43f8-8da8-6d5f97724945\" class=\"colab-df-container\">\n",
              "    <div>\n",
              "<style scoped>\n",
              "    .dataframe tbody tr th:only-of-type {\n",
              "        vertical-align: middle;\n",
              "    }\n",
              "\n",
              "    .dataframe tbody tr th {\n",
              "        vertical-align: top;\n",
              "    }\n",
              "\n",
              "    .dataframe thead th {\n",
              "        text-align: right;\n",
              "    }\n",
              "</style>\n",
              "<table border=\"1\" class=\"dataframe\">\n",
              "  <thead>\n",
              "    <tr style=\"text-align: right;\">\n",
              "      <th></th>\n",
              "      <th>AT</th>\n",
              "      <th>V</th>\n",
              "      <th>AP</th>\n",
              "      <th>RH</th>\n",
              "    </tr>\n",
              "  </thead>\n",
              "  <tbody>\n",
              "    <tr>\n",
              "      <th>0</th>\n",
              "      <td>-1.517782</td>\n",
              "      <td>-1.065149</td>\n",
              "      <td>-0.407336</td>\n",
              "      <td>1.143885</td>\n",
              "    </tr>\n",
              "    <tr>\n",
              "      <th>1</th>\n",
              "      <td>0.535228</td>\n",
              "      <td>0.329260</td>\n",
              "      <td>-0.313040</td>\n",
              "      <td>0.061028</td>\n",
              "    </tr>\n",
              "    <tr>\n",
              "      <th>2</th>\n",
              "      <td>1.353748</td>\n",
              "      <td>0.204141</td>\n",
              "      <td>-1.028675</td>\n",
              "      <td>-2.150575</td>\n",
              "    </tr>\n",
              "    <tr>\n",
              "      <th>3</th>\n",
              "      <td>-0.077992</td>\n",
              "      <td>-0.363223</td>\n",
              "      <td>-1.016888</td>\n",
              "      <td>0.238422</td>\n",
              "    </tr>\n",
              "    <tr>\n",
              "      <th>4</th>\n",
              "      <td>-1.053507</td>\n",
              "      <td>-1.073805</td>\n",
              "      <td>0.651804</td>\n",
              "      <td>1.636341</td>\n",
              "    </tr>\n",
              "  </tbody>\n",
              "</table>\n",
              "</div>\n",
              "    <div class=\"colab-df-buttons\">\n",
              "\n",
              "  <div class=\"colab-df-container\">\n",
              "    <button class=\"colab-df-convert\" onclick=\"convertToInteractive('df-f93e688e-62ff-43f8-8da8-6d5f97724945')\"\n",
              "            title=\"Convert this dataframe to an interactive table.\"\n",
              "            style=\"display:none;\">\n",
              "\n",
              "  <svg xmlns=\"http://www.w3.org/2000/svg\" height=\"24px\" viewBox=\"0 -960 960 960\">\n",
              "    <path d=\"M120-120v-720h720v720H120Zm60-500h600v-160H180v160Zm220 220h160v-160H400v160Zm0 220h160v-160H400v160ZM180-400h160v-160H180v160Zm440 0h160v-160H620v160ZM180-180h160v-160H180v160Zm440 0h160v-160H620v160Z\"/>\n",
              "  </svg>\n",
              "    </button>\n",
              "\n",
              "  <style>\n",
              "    .colab-df-container {\n",
              "      display:flex;\n",
              "      gap: 12px;\n",
              "    }\n",
              "\n",
              "    .colab-df-convert {\n",
              "      background-color: #E8F0FE;\n",
              "      border: none;\n",
              "      border-radius: 50%;\n",
              "      cursor: pointer;\n",
              "      display: none;\n",
              "      fill: #1967D2;\n",
              "      height: 32px;\n",
              "      padding: 0 0 0 0;\n",
              "      width: 32px;\n",
              "    }\n",
              "\n",
              "    .colab-df-convert:hover {\n",
              "      background-color: #E2EBFA;\n",
              "      box-shadow: 0px 1px 2px rgba(60, 64, 67, 0.3), 0px 1px 3px 1px rgba(60, 64, 67, 0.15);\n",
              "      fill: #174EA6;\n",
              "    }\n",
              "\n",
              "    .colab-df-buttons div {\n",
              "      margin-bottom: 4px;\n",
              "    }\n",
              "\n",
              "    [theme=dark] .colab-df-convert {\n",
              "      background-color: #3B4455;\n",
              "      fill: #D2E3FC;\n",
              "    }\n",
              "\n",
              "    [theme=dark] .colab-df-convert:hover {\n",
              "      background-color: #434B5C;\n",
              "      box-shadow: 0px 1px 3px 1px rgba(0, 0, 0, 0.15);\n",
              "      filter: drop-shadow(0px 1px 2px rgba(0, 0, 0, 0.3));\n",
              "      fill: #FFFFFF;\n",
              "    }\n",
              "  </style>\n",
              "\n",
              "    <script>\n",
              "      const buttonEl =\n",
              "        document.querySelector('#df-f93e688e-62ff-43f8-8da8-6d5f97724945 button.colab-df-convert');\n",
              "      buttonEl.style.display =\n",
              "        google.colab.kernel.accessAllowed ? 'block' : 'none';\n",
              "\n",
              "      async function convertToInteractive(key) {\n",
              "        const element = document.querySelector('#df-f93e688e-62ff-43f8-8da8-6d5f97724945');\n",
              "        const dataTable =\n",
              "          await google.colab.kernel.invokeFunction('convertToInteractive',\n",
              "                                                    [key], {});\n",
              "        if (!dataTable) return;\n",
              "\n",
              "        const docLinkHtml = 'Like what you see? Visit the ' +\n",
              "          '<a target=\"_blank\" href=https://colab.research.google.com/notebooks/data_table.ipynb>data table notebook</a>'\n",
              "          + ' to learn more about interactive tables.';\n",
              "        element.innerHTML = '';\n",
              "        dataTable['output_type'] = 'display_data';\n",
              "        await google.colab.output.renderOutput(dataTable, element);\n",
              "        const docLink = document.createElement('div');\n",
              "        docLink.innerHTML = docLinkHtml;\n",
              "        element.appendChild(docLink);\n",
              "      }\n",
              "    </script>\n",
              "  </div>\n",
              "\n",
              "\n",
              "<div id=\"df-e842e577-49bb-42e5-98e3-7c11cc6b3bcf\">\n",
              "  <button class=\"colab-df-quickchart\" onclick=\"quickchart('df-e842e577-49bb-42e5-98e3-7c11cc6b3bcf')\"\n",
              "            title=\"Suggest charts\"\n",
              "            style=\"display:none;\">\n",
              "\n",
              "<svg xmlns=\"http://www.w3.org/2000/svg\" height=\"24px\"viewBox=\"0 0 24 24\"\n",
              "     width=\"24px\">\n",
              "    <g>\n",
              "        <path d=\"M19 3H5c-1.1 0-2 .9-2 2v14c0 1.1.9 2 2 2h14c1.1 0 2-.9 2-2V5c0-1.1-.9-2-2-2zM9 17H7v-7h2v7zm4 0h-2V7h2v10zm4 0h-2v-4h2v4z\"/>\n",
              "    </g>\n",
              "</svg>\n",
              "  </button>\n",
              "\n",
              "<style>\n",
              "  .colab-df-quickchart {\n",
              "      --bg-color: #E8F0FE;\n",
              "      --fill-color: #1967D2;\n",
              "      --hover-bg-color: #E2EBFA;\n",
              "      --hover-fill-color: #174EA6;\n",
              "      --disabled-fill-color: #AAA;\n",
              "      --disabled-bg-color: #DDD;\n",
              "  }\n",
              "\n",
              "  [theme=dark] .colab-df-quickchart {\n",
              "      --bg-color: #3B4455;\n",
              "      --fill-color: #D2E3FC;\n",
              "      --hover-bg-color: #434B5C;\n",
              "      --hover-fill-color: #FFFFFF;\n",
              "      --disabled-bg-color: #3B4455;\n",
              "      --disabled-fill-color: #666;\n",
              "  }\n",
              "\n",
              "  .colab-df-quickchart {\n",
              "    background-color: var(--bg-color);\n",
              "    border: none;\n",
              "    border-radius: 50%;\n",
              "    cursor: pointer;\n",
              "    display: none;\n",
              "    fill: var(--fill-color);\n",
              "    height: 32px;\n",
              "    padding: 0;\n",
              "    width: 32px;\n",
              "  }\n",
              "\n",
              "  .colab-df-quickchart:hover {\n",
              "    background-color: var(--hover-bg-color);\n",
              "    box-shadow: 0 1px 2px rgba(60, 64, 67, 0.3), 0 1px 3px 1px rgba(60, 64, 67, 0.15);\n",
              "    fill: var(--button-hover-fill-color);\n",
              "  }\n",
              "\n",
              "  .colab-df-quickchart-complete:disabled,\n",
              "  .colab-df-quickchart-complete:disabled:hover {\n",
              "    background-color: var(--disabled-bg-color);\n",
              "    fill: var(--disabled-fill-color);\n",
              "    box-shadow: none;\n",
              "  }\n",
              "\n",
              "  .colab-df-spinner {\n",
              "    border: 2px solid var(--fill-color);\n",
              "    border-color: transparent;\n",
              "    border-bottom-color: var(--fill-color);\n",
              "    animation:\n",
              "      spin 1s steps(1) infinite;\n",
              "  }\n",
              "\n",
              "  @keyframes spin {\n",
              "    0% {\n",
              "      border-color: transparent;\n",
              "      border-bottom-color: var(--fill-color);\n",
              "      border-left-color: var(--fill-color);\n",
              "    }\n",
              "    20% {\n",
              "      border-color: transparent;\n",
              "      border-left-color: var(--fill-color);\n",
              "      border-top-color: var(--fill-color);\n",
              "    }\n",
              "    30% {\n",
              "      border-color: transparent;\n",
              "      border-left-color: var(--fill-color);\n",
              "      border-top-color: var(--fill-color);\n",
              "      border-right-color: var(--fill-color);\n",
              "    }\n",
              "    40% {\n",
              "      border-color: transparent;\n",
              "      border-right-color: var(--fill-color);\n",
              "      border-top-color: var(--fill-color);\n",
              "    }\n",
              "    60% {\n",
              "      border-color: transparent;\n",
              "      border-right-color: var(--fill-color);\n",
              "    }\n",
              "    80% {\n",
              "      border-color: transparent;\n",
              "      border-right-color: var(--fill-color);\n",
              "      border-bottom-color: var(--fill-color);\n",
              "    }\n",
              "    90% {\n",
              "      border-color: transparent;\n",
              "      border-bottom-color: var(--fill-color);\n",
              "    }\n",
              "  }\n",
              "</style>\n",
              "\n",
              "  <script>\n",
              "    async function quickchart(key) {\n",
              "      const quickchartButtonEl =\n",
              "        document.querySelector('#' + key + ' button');\n",
              "      quickchartButtonEl.disabled = true;  // To prevent multiple clicks.\n",
              "      quickchartButtonEl.classList.add('colab-df-spinner');\n",
              "      try {\n",
              "        const charts = await google.colab.kernel.invokeFunction(\n",
              "            'suggestCharts', [key], {});\n",
              "      } catch (error) {\n",
              "        console.error('Error during call to suggestCharts:', error);\n",
              "      }\n",
              "      quickchartButtonEl.classList.remove('colab-df-spinner');\n",
              "      quickchartButtonEl.classList.add('colab-df-quickchart-complete');\n",
              "    }\n",
              "    (() => {\n",
              "      let quickchartButtonEl =\n",
              "        document.querySelector('#df-e842e577-49bb-42e5-98e3-7c11cc6b3bcf button');\n",
              "      quickchartButtonEl.style.display =\n",
              "        google.colab.kernel.accessAllowed ? 'block' : 'none';\n",
              "    })();\n",
              "  </script>\n",
              "</div>\n",
              "\n",
              "    </div>\n",
              "  </div>\n"
            ],
            "application/vnd.google.colaboratory.intrinsic+json": {
              "type": "dataframe",
              "variable_name": "X",
              "summary": "{\n  \"name\": \"X\",\n  \"rows\": 9568,\n  \"fields\": [\n    {\n      \"column\": \"AT\",\n      \"properties\": {\n        \"dtype\": \"number\",\n        \"std\": 1.0,\n        \"min\": -2.3940013788177064,\n        \"max\": 2.3426811844609805,\n        \"num_unique_values\": 2773,\n        \"samples\": [\n          -1.1581700358206326,\n          -0.542267118952384,\n          -0.4483385695389257\n        ],\n        \"semantic_type\": \"\",\n        \"description\": \"\"\n      }\n    },\n    {\n      \"column\": \"V\",\n      \"properties\": {\n        \"dtype\": \"number\",\n        \"std\": 1.0,\n        \"min\": -2.2777815114234086,\n        \"max\": 2.1446668053352864,\n        \"num_unique_values\": 634,\n        \"samples\": [\n          1.7228816989682652,\n          1.1602392529749432,\n          -1.19420298256634\n        ],\n        \"semantic_type\": \"\",\n        \"description\": \"\"\n      }\n    },\n    {\n      \"column\": \"AP\",\n      \"properties\": {\n        \"dtype\": \"number\",\n        \"std\": 1.0,\n        \"min\": -3.429840045752908,\n        \"max\": 3.374583553721734,\n        \"num_unique_values\": 2517,\n        \"samples\": [\n          -2.067608248679161,\n          -1.8621789789103105,\n          1.901217889395994\n        ],\n        \"semantic_type\": \"\",\n        \"description\": \"\"\n      }\n    },\n    {\n      \"column\": \"RH\",\n      \"properties\": {\n        \"dtype\": \"number\",\n        \"std\": 1.0,\n        \"min\": -3.2704177326052895,\n        \"max\": 1.8390772529317707,\n        \"num_unique_values\": 4546,\n        \"samples\": [\n          -0.4663597606496964,\n          1.769215525247484,\n          1.087721220876254\n        ],\n        \"semantic_type\": \"\",\n        \"description\": \"\"\n      }\n    }\n  ]\n}"
            }
          },
          "metadata": {},
          "execution_count": 21
        }
      ]
    },
    {
      "cell_type": "code",
      "source": [
        "X.shape"
      ],
      "metadata": {
        "id": "-1pGrJXqegCu",
        "colab": {
          "base_uri": "https://localhost:8080/"
        },
        "outputId": "5dfe6975-a055-4296-e6de-937045054b1b"
      },
      "id": "-1pGrJXqegCu",
      "execution_count": null,
      "outputs": [
        {
          "output_type": "execute_result",
          "data": {
            "text/plain": [
              "(9568, 4)"
            ]
          },
          "metadata": {},
          "execution_count": 22
        }
      ]
    },
    {
      "cell_type": "code",
      "source": [
        "rows, cols = X.shape"
      ],
      "metadata": {
        "id": "dcJN-KFBeqWl"
      },
      "id": "dcJN-KFBeqWl",
      "execution_count": null,
      "outputs": []
    },
    {
      "cell_type": "code",
      "source": [
        "print(rows, cols)"
      ],
      "metadata": {
        "id": "1siEhRKjhBlC",
        "colab": {
          "base_uri": "https://localhost:8080/"
        },
        "outputId": "051d2f8d-9942-4b03-90d8-80a9433a0045"
      },
      "id": "1siEhRKjhBlC",
      "execution_count": null,
      "outputs": [
        {
          "output_type": "stream",
          "name": "stdout",
          "text": [
            "9568 4\n"
          ]
        }
      ]
    },
    {
      "cell_type": "code",
      "source": [
        " # fucntion to predict the values\n",
        "\n",
        "def predictMP(X1, intercept, coefficients):\n",
        "  \"\"\"\n",
        "  Predicts target values for new features using a linear regression model.\n",
        "  y = b_0 + b_1*x + ... + b_i*x_i\n",
        "  Args:\n",
        "      X (numpy.ndarray): The features matrix (2D array) for new data points.\n",
        "      coefficients (numpy.ndarray): The model coefficients (1D array).\n",
        "\n",
        "  Returns:\n",
        "      numpy.ndarray: The predicted target values (1D array).\n",
        "  \"\"\"\n",
        "\n",
        "  # Add a column of ones for the intercept term (if not already included)\n",
        "  #if X1.shape[1] != len(coefficients):\n",
        "    #X1 = np.concatenate((X1, np.ones((X1.shape[0], 1))), axis=1)\n",
        "    #print('if condition was executed')\n",
        "\n",
        "  intercept_array = np.full(X1.shape[0], intercept)\n",
        "  # Calculate predicted target values\n",
        "  y_pred = X1.dot(coefficients) + intercept_array\n",
        "\n",
        "  return y_pred"
      ],
      "metadata": {
        "id": "Ihgo2RgfFttb"
      },
      "id": "Ihgo2RgfFttb",
      "execution_count": null,
      "outputs": []
    },
    {
      "cell_type": "code",
      "metadata": {
        "id": "buried-attention",
        "scrolled": true
      },
      "source": [
        " # fucntion to predict the values\n",
        "\n",
        "def predict(X1, intercept, coefficients):\n",
        "  \"\"\"\n",
        "  Predicts target values for new features using a linear regression model.\n",
        "  y = b_0 + b_1*x + ... + b_i*x_i\n",
        "  Args:\n",
        "      X (numpy.ndarray): The features matrix (2D array) for new data points.\n",
        "      coefficients (numpy.ndarray): The model coefficients (1D array).\n",
        "\n",
        "  Returns:\n",
        "      numpy.ndarray: The predicted target values (1D array).\n",
        "  \"\"\"\n",
        "\n",
        "  # Add a column of ones for the intercept term (if not already included)\n",
        "  if X1.shape[1] != len(coefficients):\n",
        "    X1 = np.concatenate((X1, np.ones((X1.shape[0], 1))), axis=1)\n",
        "    print('if condition was executed')\n",
        "\n",
        "  intercept_array = np.full(X1.shape[0], intercept)\n",
        "  # Calculate predicted target values\n",
        "  y_pred = X1.dot(coefficients) + intercept_array\n",
        "\n",
        "  return y_pred\n",
        "\n",
        "i = intercept\n",
        "c = coefficients\n",
        "\n"
      ],
      "id": "buried-attention",
      "execution_count": null,
      "outputs": []
    },
    {
      "cell_type": "code",
      "source": [
        "print(i.shape)\n",
        "print(c.shape)"
      ],
      "metadata": {
        "id": "xE68PxgCvqYU",
        "colab": {
          "base_uri": "https://localhost:8080/"
        },
        "outputId": "4a7683b3-70b6-4446-d796-c870095e76b6"
      },
      "id": "xE68PxgCvqYU",
      "execution_count": null,
      "outputs": [
        {
          "output_type": "stream",
          "name": "stdout",
          "text": [
            "()\n",
            "(4,)\n"
          ]
        }
      ]
    },
    {
      "cell_type": "code",
      "source": [
        "y_hat = predict(X, i, c )"
      ],
      "metadata": {
        "id": "zpQ4TUuSgJsn"
      },
      "id": "zpQ4TUuSgJsn",
      "execution_count": null,
      "outputs": []
    },
    {
      "cell_type": "code",
      "source": [
        "print(y_hat)"
      ],
      "metadata": {
        "id": "cNDC2k16hTqJ",
        "colab": {
          "base_uri": "https://localhost:8080/"
        },
        "outputId": "cf671446-7713-478e-ec96-d3d8ba707c54"
      },
      "id": "cNDC2k16hTqJ",
      "execution_count": null,
      "outputs": [
        {
          "output_type": "stream",
          "name": "stdout",
          "text": [
            "0       477.109516\n",
            "1       445.242168\n",
            "2       438.390979\n",
            "3       455.669000\n",
            "4       469.547144\n",
            "           ...    \n",
            "9563    464.554722\n",
            "9564    423.590183\n",
            "9565    463.382888\n",
            "9566    453.978216\n",
            "9567    447.341325\n",
            "Length: 9568, dtype: float64\n"
          ]
        }
      ]
    },
    {
      "cell_type": "code",
      "source": [],
      "metadata": {
        "id": "FITZ5zmcRa8v"
      },
      "id": "FITZ5zmcRa8v",
      "execution_count": null,
      "outputs": []
    },
    {
      "cell_type": "markdown",
      "metadata": {
        "id": "rolled-consultancy"
      },
      "source": [
        "#### Exercise 10: Root mean squared error (1 point)\n",
        "\n",
        "Write a function to calculate the RMSE error.\n",
        "\n",
        "**Hint:**\n",
        "\n",
        "- [How to calculate the RSME error](https://towardsdatascience.com/what-does-rmse-really-mean-806b65f2e48e)"
      ],
      "id": "rolled-consultancy"
    },
    {
      "cell_type": "code",
      "metadata": {
        "id": "phantom-alabama",
        "scrolled": true
      },
      "source": [
        "# Define a function to calculate the error\n",
        "\n",
        "# YOUR CODE HERE\n",
        "\n",
        "def calculateRMSE(y_true, y_pred):\n",
        "  \"\"\"\n",
        "  Calculates the Root Mean Squared Error (RMSE) between true and predicted values.\n",
        "\n",
        "  Args:\n",
        "      y_true (numpy.ndarray): The ground truth target values (1D array).\n",
        "      y_pred (numpy.ndarray): The predicted target values (1D array).\n",
        "\n",
        "  Returns:\n",
        "      float: The Root Mean Squared Error (RMSE).\n",
        "  \"\"\"\n",
        "\n",
        "  # Calculate squared errors\n",
        "  squared_errors = np.square(y_true - y_pred)\n",
        "\n",
        "  # Mean squared error\n",
        "  mse = np.mean(squared_errors)\n",
        "\n",
        "  # Root Mean Squared Error\n",
        "  rmse = np.sqrt(mse)\n",
        "\n",
        "  return rmse\n",
        "\n"
      ],
      "id": "phantom-alabama",
      "execution_count": null,
      "outputs": []
    },
    {
      "cell_type": "code",
      "source": [
        "\n",
        "rmse_error = calculateRMSE(y, y_hat)"
      ],
      "metadata": {
        "id": "7sPOqe7BLZOp"
      },
      "id": "7sPOqe7BLZOp",
      "execution_count": null,
      "outputs": []
    },
    {
      "cell_type": "code",
      "source": [
        "print(rmse_error)"
      ],
      "metadata": {
        "id": "-GB3_nS6LMg7",
        "colab": {
          "base_uri": "https://localhost:8080/"
        },
        "outputId": "d7737623-fefc-47af-e27a-fb2eb79acff6"
      },
      "id": "-GB3_nS6LMg7",
      "execution_count": null,
      "outputs": [
        {
          "output_type": "stream",
          "name": "stdout",
          "text": [
            "4.557126016749484\n"
          ]
        }
      ]
    },
    {
      "cell_type": "markdown",
      "metadata": {
        "id": "experimental-discrimination"
      },
      "source": [
        "#### Exercise 11: Split the data into train and test (1 point)\n",
        "\n",
        "Write a function named train_test_split which takes features and targets as input and returns the train and test sets respectively.\n",
        "\n",
        "**Hint:**\n",
        "\n",
        "- Shuffle the data\n",
        "- Consider 70 % of data as a train set and the rest of the data as a test set"
      ],
      "id": "experimental-discrimination"
    },
    {
      "cell_type": "code",
      "metadata": {
        "id": "dangerous-salmon",
        "scrolled": true
      },
      "source": [
        "# YOUR CODE HERE\n",
        "from sklearn.utils import shuffle\n",
        "\n",
        "def train_test_split(features, targets, test_size=0.3, random_state=None):\n",
        "  \"\"\"\n",
        "  Splits features and targets into training and testing sets.\n",
        "\n",
        "  Args:\n",
        "      features (numpy.ndarray): The features matrix (2D array).\n",
        "      targets (numpy.ndarray): The target values array (1D array).\n",
        "      test_size (float, optional): Proportion of the data for the test set. Defaults to 0.3 (30%).\n",
        "      random_state (int, optional): Seed for shuffling the data before splitting. Defaults to None.\n",
        "\n",
        "  Returns:\n",
        "      tuple: A tuple of four NumPy arrays containing the training and testing splits for features and targets.\n",
        "          (X_train, X_test, y_train, y_test)\n",
        "  \"\"\"\n",
        "\n",
        "  # Shuffle data (important for unbiased splitting)\n",
        "  features, targets = shuffle(features, targets, random_state=random_state)\n",
        "\n",
        "  # Split data into training and testing sets\n",
        "  split_index = int(len(features) * (1 - test_size))\n",
        "  X_train, X_test = features[:split_index], features[split_index:]\n",
        "  y_train, y_test = targets[:split_index], targets[split_index:]\n",
        "\n",
        "  return X_train, X_test, y_train, y_test\n"
      ],
      "id": "dangerous-salmon",
      "execution_count": null,
      "outputs": []
    },
    {
      "cell_type": "code",
      "source": [
        "X_train, X_test, y_train, y_test = train_test_split(X, y)"
      ],
      "metadata": {
        "id": "orzn5qKrinU0"
      },
      "id": "orzn5qKrinU0",
      "execution_count": null,
      "outputs": []
    },
    {
      "cell_type": "code",
      "source": [
        "X_test.shape"
      ],
      "metadata": {
        "id": "QBkJUFL3u7UG",
        "colab": {
          "base_uri": "https://localhost:8080/"
        },
        "outputId": "eb5836f0-1afd-4f0e-8a08-a2a351a02f77"
      },
      "id": "QBkJUFL3u7UG",
      "execution_count": null,
      "outputs": [
        {
          "output_type": "execute_result",
          "data": {
            "text/plain": [
              "(2871, 4)"
            ]
          },
          "metadata": {},
          "execution_count": 35
        }
      ]
    },
    {
      "cell_type": "code",
      "source": [],
      "metadata": {
        "id": "xnv1FPeYvN-q"
      },
      "id": "xnv1FPeYvN-q",
      "execution_count": null,
      "outputs": []
    },
    {
      "cell_type": "code",
      "source": [
        "\n",
        "y_test_hat = predict(X_test, intercept, coefficients )\n",
        "\n",
        "rmse_test = calculateRMSE(y_test_hat, y_test)"
      ],
      "metadata": {
        "id": "CJMl3XMhuGUR"
      },
      "id": "CJMl3XMhuGUR",
      "execution_count": null,
      "outputs": []
    },
    {
      "cell_type": "code",
      "source": [
        "print(rmse_test)"
      ],
      "metadata": {
        "colab": {
          "base_uri": "https://localhost:8080/"
        },
        "id": "ykRd2Vd_xXey",
        "outputId": "db17bccf-0f81-46d3-b254-f30cf4f7d51d"
      },
      "id": "ykRd2Vd_xXey",
      "execution_count": null,
      "outputs": [
        {
          "output_type": "stream",
          "name": "stdout",
          "text": [
            "4.52706700571005\n"
          ]
        }
      ]
    },
    {
      "cell_type": "markdown",
      "metadata": {
        "id": "living-operation"
      },
      "source": [
        "#### Exercise 12: Implement predict using OpenMP (1 point)\n",
        "\n",
        "Get the predictions for test data and calculate the test error(RMSE) by implementing the OpenMP (pymp)\n",
        "\n",
        "**Hints:**\n",
        "\n",
        "* Using the pymp.Parallel implement the predict function (use from above)\n",
        "\n",
        "* Call the predict function by passing test data as an argument\n",
        "\n",
        "* calculate the error (RMSE) by comparing the Actual test data and predicted test data"
      ],
      "id": "living-operation"
    },
    {
      "cell_type": "code",
      "source": [
        "!pip -qq install pymp-pypi"
      ],
      "metadata": {
        "id": "H9G7UoPQ2EjZ"
      },
      "id": "H9G7UoPQ2EjZ",
      "execution_count": null,
      "outputs": []
    },
    {
      "cell_type": "code",
      "source": [
        "\n",
        "import pymp\n",
        "from pymp import Parallel\n",
        "from pymp import shared"
      ],
      "metadata": {
        "id": "k4m9k3yT19DK"
      },
      "id": "k4m9k3yT19DK",
      "execution_count": null,
      "outputs": []
    },
    {
      "cell_type": "code",
      "source": [
        "def predictMP1(X1, intercept, coefficients):\n",
        "  \"\"\"\n",
        "  Predicts target values for new features using a linear regression model.\n",
        "  y = b_0 + b_1*x + ... + b_i*x_i\n",
        "  Args:\n",
        "      X (numpy.ndarray): The features matrix (2D array) for new data points.\n",
        "      coefficients (numpy.ndarray): The model coefficients (1D array).\n",
        "\n",
        "  Returns:\n",
        "      numpy.ndarray: The predicted target values (1D array).\n",
        "  \"\"\"\n",
        "\n",
        "  # Add a column of ones for the intercept term (if not already included)\n",
        "  y_pred = X1.dot(coefficients) + intercept\n",
        "\n",
        "  return y_pred"
      ],
      "metadata": {
        "id": "P7ZTBHcqH6hO"
      },
      "id": "P7ZTBHcqH6hO",
      "execution_count": null,
      "outputs": []
    },
    {
      "cell_type": "code",
      "source": [
        "# Parallelize prediction\n",
        "# Working Code\n",
        "num_threads = 4\n",
        "predictions = pymp.shared.array(len(X_test), dtype=int)\n",
        "\n",
        "\n",
        "# Function to make predictions on a subset of the data\n",
        "def predict_subset(start_idx, end_idx, data, predictions):\n",
        "    for i in range(start_idx, end_idx):\n",
        "        predictions[i] = predictMP1(data.iloc[i], intercept, coefficients)\n",
        "\n",
        "\n",
        "with pymp.Parallel(num_threads) as p:\n",
        "    start_idx = p.thread_num * (len(X_test) // num_threads)\n",
        "    end_idx = start_idx + (len(X_test) // num_threads) + (len(X_test) % num_threads)\n",
        "    predict_subset(start_idx, end_idx, X_test, predictions)\n",
        "\n",
        "# Aggregate results\n",
        "# shared array and lists are possible checks to be done\n",
        "# compare with sklearn\n",
        "# dot products via columns\n",
        "final_predictions = list(predictions)\n"
      ],
      "metadata": {
        "id": "82sz1ABkDA5z"
      },
      "id": "82sz1ABkDA5z",
      "execution_count": null,
      "outputs": []
    },
    {
      "cell_type": "code",
      "source": [
        "print(final_predictions)"
      ],
      "metadata": {
        "id": "5ORmIjoYKuRI",
        "colab": {
          "base_uri": "https://localhost:8080/"
        },
        "outputId": "a171d551-29d6-4f50-9e90-934dccf35156"
      },
      "id": "5ORmIjoYKuRI",
      "execution_count": null,
      "outputs": [
        {
          "output_type": "stream",
          "name": "stdout",
          "text": [
            "[449, 442, 479, 435, 447, 429, 430, 482, 463, 461, 479, 439, 448, 466, 430, 428, 427, 466, 429, 437, 456, 447, 449, 461, 429, 425, 467, 467, 446, 461, 444, 454, 459, 475, 448, 468, 461, 431, 465, 438, 467, 429, 463, 436, 448, 473, 433, 442, 456, 464, 425, 438, 438, 438, 466, 439, 452, 450, 447, 441, 445, 446, 427, 457, 444, 454, 431, 465, 426, 442, 455, 463, 438, 438, 461, 440, 474, 469, 463, 472, 456, 441, 450, 441, 472, 430, 466, 443, 448, 449, 430, 472, 472, 452, 445, 428, 439, 442, 459, 474, 482, 459, 438, 432, 446, 424, 453, 459, 476, 473, 451, 460, 462, 437, 452, 432, 436, 441, 444, 460, 468, 455, 435, 432, 442, 471, 450, 449, 475, 461, 430, 443, 436, 446, 467, 444, 443, 425, 472, 472, 445, 444, 460, 460, 481, 431, 474, 454, 470, 439, 439, 454, 459, 458, 444, 470, 476, 433, 444, 447, 470, 483, 478, 466, 422, 456, 428, 441, 473, 436, 472, 475, 465, 456, 473, 474, 466, 481, 471, 460, 477, 446, 467, 466, 440, 431, 464, 451, 464, 432, 460, 447, 493, 434, 452, 451, 480, 437, 451, 476, 456, 462, 468, 437, 474, 470, 427, 462, 441, 440, 460, 427, 473, 471, 457, 475, 440, 467, 469, 439, 448, 444, 481, 483, 464, 476, 441, 437, 445, 444, 478, 479, 451, 475, 422, 440, 437, 441, 441, 449, 459, 440, 436, 432, 438, 451, 476, 437, 446, 436, 445, 471, 467, 465, 477, 490, 440, 477, 481, 467, 447, 455, 480, 459, 441, 441, 426, 477, 455, 469, 439, 471, 453, 477, 442, 441, 432, 426, 443, 468, 469, 488, 479, 482, 447, 434, 437, 467, 464, 441, 446, 468, 442, 440, 479, 477, 454, 478, 466, 442, 443, 442, 472, 427, 446, 471, 486, 427, 485, 433, 467, 461, 462, 447, 476, 478, 445, 445, 461, 452, 472, 472, 442, 465, 427, 450, 437, 463, 473, 463, 443, 474, 447, 485, 434, 428, 480, 426, 444, 431, 475, 428, 439, 438, 441, 428, 449, 486, 479, 430, 441, 483, 451, 462, 464, 437, 441, 450, 450, 433, 453, 472, 465, 463, 452, 446, 439, 466, 455, 472, 470, 471, 474, 465, 441, 446, 444, 474, 441, 435, 439, 462, 485, 480, 434, 466, 435, 468, 468, 440, 487, 450, 462, 436, 427, 481, 446, 470, 461, 461, 456, 452, 453, 437, 484, 455, 451, 470, 427, 448, 437, 466, 478, 464, 461, 478, 459, 482, 455, 433, 450, 449, 471, 479, 434, 421, 459, 443, 442, 480, 462, 476, 427, 448, 450, 438, 440, 475, 454, 482, 476, 451, 442, 468, 429, 451, 433, 428, 441, 427, 466, 464, 445, 425, 451, 480, 451, 476, 437, 467, 431, 427, 432, 477, 430, 466, 471, 476, 473, 432, 476, 435, 480, 468, 437, 442, 464, 447, 447, 486, 439, 446, 468, 478, 462, 443, 432, 465, 432, 443, 468, 430, 437, 445, 445, 448, 433, 483, 447, 476, 432, 468, 477, 485, 432, 433, 440, 447, 456, 448, 461, 440, 487, 436, 465, 471, 475, 472, 464, 458, 464, 456, 450, 434, 437, 477, 446, 439, 429, 444, 476, 456, 434, 460, 434, 470, 443, 456, 460, 437, 467, 444, 446, 485, 454, 431, 453, 457, 435, 462, 437, 445, 461, 464, 434, 483, 430, 462, 478, 469, 456, 477, 444, 433, 458, 470, 446, 467, 469, 435, 473, 434, 480, 450, 448, 467, 445, 473, 436, 460, 465, 439, 426, 480, 450, 464, 446, 467, 471, 464, 454, 446, 450, 461, 476, 462, 431, 431, 447, 443, 478, 466, 433, 481, 479, 456, 470, 452, 459, 485, 467, 439, 457, 440, 469, 472, 467, 469, 436, 467, 447, 476, 463, 451, 469, 432, 444, 470, 481, 453, 437, 475, 431, 452, 469, 465, 488, 471, 446, 459, 465, 462, 439, 463, 481, 463, 451, 434, 469, 450, 443, 446, 460, 456, 443, 469, 445, 470, 465, 447, 467, 473, 426, 466, 482, 472, 470, 462, 446, 428, 446, 462, 438, 433, 427, 481, 456, 434, 451, 453, 472, 465, 437, 464, 458, 443, 482, 469, 474, 462, 457, 451, 443, 473, 470, 439, 468, 477, 449, 471, 435, 430, 460, 479, 480, 475, 433, 433, 465, 467, 472, 476, 448, 442, 431, 483, 446, 438, 476, 437, 440, 477, 454, 480, 484, 454, 438, 462, 446, 449, 441, 468, 453, 479, 439, 443, 437, 445, 483, 457, 469, 474, 452, 445, 439, 447, 476, 461, 444, 451, 468, 434, 461, 450, 447, 436, 439, 438, 454, 438, 444, 469, 446, 447, 437, 437, 444, 434, 441, 465, 455, 433, 427, 480, 451, 439, 433, 475, 451, 460, 479, 476, 470, 434, 433, 432, 447, 458, 464, 439, 466, 427, 471, 474, 452, 471, 464, 449, 444, 444, 464, 455, 451, 470, 449, 439, 466, 464, 479, 438, 466, 445, 435, 430, 469, 472, 443, 461, 441, 482, 444, 465, 481, 483, 472, 466, 466, 441, 431, 445, 442, 441, 453, 478, 433, 466, 466, 430, 447, 466, 458, 485, 439, 481, 483, 447, 450, 468, 473, 451, 483, 469, 476, 466, 458, 450, 469, 465, 476, 445, 447, 468, 470, 448, 443, 484, 431, 478, 429, 441, 468, 445, 445, 440, 428, 426, 453, 467, 437, 449, 450, 455, 432, 446, 445, 438, 438, 447, 449, 482, 443, 430, 471, 440, 439, 452, 444, 440, 467, 440, 439, 444, 436, 444, 451, 459, 440, 445, 448, 480, 475, 471, 440, 435, 454, 456, 438, 440, 433, 474, 465, 463, 457, 431, 455, 466, 469, 464, 476, 434, 480, 439, 466, 435, 469, 483, 450, 439, 469, 462, 433, 454, 441, 443, 471, 446, 465, 434, 467, 446, 427, 433, 465, 435, 428, 447, 475, 446, 474, 434, 474, 450, 456, 482, 437, 467, 470, 441, 432, 428, 435, 437, 454, 466, 478, 482, 462, 442, 465, 470, 430, 477, 461, 439, 439, 436, 463, 474, 432, 487, 451, 470, 445, 444, 438, 470, 453, 466, 452, 435, 440, 455, 449, 447, 443, 474, 449, 480, 476, 455, 467, 480, 478, 452, 437, 475, 474, 467, 455, 438, 442, 437, 451, 434, 471, 460, 467, 462, 470, 478, 443, 440, 477, 478, 447, 478, 465, 445, 432, 479, 451, 464, 456, 460, 481, 471, 468, 435, 462, 437, 483, 427, 474, 463, 471, 475, 444, 466, 445, 468, 430, 480, 471, 431, 436, 450, 471, 433, 450, 441, 466, 475, 458, 442, 444, 451, 427, 470, 433, 439, 440, 469, 472, 472, 428, 440, 470, 468, 463, 440, 437, 476, 427, 470, 466, 427, 476, 453, 457, 472, 433, 446, 444, 435, 432, 472, 449, 446, 483, 448, 463, 464, 477, 452, 447, 441, 425, 453, 480, 464, 444, 468, 440, 461, 439, 439, 472, 460, 448, 464, 445, 427, 468, 470, 449, 432, 442, 483, 472, 439, 450, 442, 455, 442, 471, 479, 441, 481, 428, 450, 440, 448, 431, 468, 476, 430, 485, 469, 433, 463, 463, 457, 445, 435, 455, 470, 437, 447, 457, 430, 437, 468, 462, 477, 462, 447, 477, 434, 446, 449, 440, 430, 470, 436, 434, 435, 449, 447, 478, 483, 440, 439, 449, 436, 448, 435, 476, 451, 472, 477, 437, 459, 445, 480, 445, 447, 444, 485, 469, 433, 436, 457, 444, 444, 482, 444, 455, 438, 466, 432, 442, 454, 450, 434, 472, 463, 457, 427, 459, 469, 430, 433, 427, 474, 432, 458, 467, 469, 436, 456, 446, 453, 457, 438, 443, 445, 451, 442, 444, 449, 469, 470, 470, 465, 449, 431, 474, 448, 459, 472, 441, 455, 440, 429, 430, 434, 467, 457, 472, 476, 436, 468, 437, 479, 486, 434, 475, 455, 439, 457, 438, 445, 432, 443, 443, 436, 477, 428, 448, 453, 479, 442, 474, 437, 430, 470, 471, 455, 482, 430, 434, 432, 437, 438, 474, 462, 480, 439, 435, 470, 473, 459, 474, 447, 435, 445, 479, 467, 464, 446, 439, 452, 472, 471, 449, 472, 428, 471, 443, 474, 433, 473, 438, 432, 462, 469, 436, 461, 439, 441, 429, 445, 479, 439, 437, 466, 433, 449, 483, 435, 433, 475, 470, 446, 478, 469, 441, 448, 478, 476, 445, 452, 473, 478, 450, 442, 472, 448, 428, 475, 466, 461, 442, 446, 446, 442, 453, 467, 430, 483, 467, 463, 454, 440, 432, 468, 482, 468, 446, 466, 465, 448, 442, 467, 472, 439, 431, 433, 437, 426, 438, 464, 440, 435, 451, 453, 444, 472, 471, 476, 469, 438, 442, 466, 441, 441, 443, 433, 451, 480, 471, 471, 450, 475, 432, 453, 469, 461, 436, 473, 435, 476, 440, 460, 444, 483, 473, 448, 444, 467, 465, 427, 450, 455, 435, 459, 450, 464, 426, 433, 446, 440, 463, 478, 450, 432, 431, 485, 484, 445, 466, 440, 481, 434, 443, 447, 465, 447, 427, 454, 430, 434, 439, 432, 466, 480, 483, 445, 439, 456, 465, 456, 452, 463, 469, 440, 433, 473, 450, 428, 433, 436, 469, 471, 463, 462, 471, 447, 435, 455, 472, 435, 452, 461, 434, 428, 440, 429, 476, 434, 462, 456, 467, 431, 471, 479, 462, 431, 476, 450, 478, 436, 468, 460, 482, 487, 430, 430, 441, 471, 468, 462, 477, 446, 435, 450, 442, 478, 449, 466, 440, 463, 431, 467, 469, 429, 439, 461, 483, 453, 444, 440, 439, 470, 471, 469, 484, 436, 462, 482, 429, 422, 469, 459, 443, 439, 440, 461, 445, 449, 440, 450, 461, 455, 455, 439, 425, 445, 447, 464, 439, 472, 454, 446, 445, 434, 430, 441, 435, 456, 465, 459, 459, 459, 450, 483, 480, 476, 452, 488, 465, 446, 474, 464, 440, 445, 443, 469, 441, 445, 473, 476, 469, 451, 428, 478, 440, 442, 443, 482, 457, 472, 460, 434, 470, 466, 464, 466, 444, 447, 428, 471, 435, 435, 446, 468, 441, 438, 432, 446, 452, 434, 477, 454, 469, 447, 435, 466, 453, 475, 444, 444, 456, 437, 450, 437, 451, 472, 479, 468, 455, 443, 441, 433, 479, 435, 471, 436, 446, 464, 453, 455, 438, 449, 465, 444, 430, 437, 447, 472, 478, 435, 478, 463, 443, 448, 476, 435, 439, 439, 472, 440, 446, 431, 448, 438, 464, 428, 462, 450, 459, 429, 427, 464, 460, 426, 445, 475, 437, 434, 454, 445, 434, 467, 453, 482, 430, 449, 476, 451, 428, 451, 473, 449, 466, 429, 471, 443, 428, 441, 478, 465, 473, 437, 434, 452, 441, 474, 433, 455, 433, 431, 444, 462, 478, 465, 457, 483, 429, 439, 473, 433, 435, 479, 464, 477, 442, 468, 440, 480, 450, 484, 430, 474, 464, 466, 465, 482, 437, 480, 444, 437, 434, 450, 444, 487, 461, 438, 448, 436, 446, 441, 433, 441, 480, 445, 464, 473, 443, 469, 487, 441, 466, 468, 427, 448, 426, 453, 450, 434, 448, 437, 440, 474, 480, 464, 463, 463, 460, 438, 469, 470, 439, 440, 432, 461, 468, 447, 437, 472, 471, 472, 478, 470, 446, 483, 439, 479, 434, 479, 436, 440, 482, 475, 442, 454, 448, 430, 437, 426, 434, 448, 462, 427, 436, 441, 450, 468, 473, 432, 426, 445, 438, 466, 431, 478, 463, 437, 466, 456, 431, 449, 439, 428, 430, 440, 430, 440, 435, 473, 446, 476, 448, 461, 445, 460, 433, 470, 478, 442, 447, 483, 456, 477, 427, 457, 445, 432, 469, 461, 467, 441, 445, 435, 476, 447, 452, 476, 461, 446, 459, 438, 482, 477, 439, 442, 486, 478, 432, 480, 456, 476, 474, 475, 472, 434, 449, 452, 471, 473, 429, 440, 460, 486, 440, 443, 465, 431, 468, 437, 477, 439, 466, 452, 475, 477, 464, 466, 427, 431, 429, 437, 443, 444, 429, 444, 429, 469, 458, 465, 481, 432, 466, 438, 458, 473, 429, 448, 445, 436, 425, 470, 473, 440, 452, 472, 446, 455, 442, 479, 473, 445, 443, 466, 451, 463, 465, 454, 453, 466, 476, 450, 467, 450, 452, 451, 466, 444, 441, 454, 471, 470, 480, 444, 434, 450, 430, 471, 442, 436, 469, 456, 435, 477, 433, 436, 465, 473, 486, 444, 455, 483, 441, 467, 450, 453, 452, 457, 471, 432, 467, 465, 441, 453, 426, 469, 446, 433, 435, 452, 430, 473, 436, 444, 435, 442, 445, 432, 445, 442, 428, 462, 436, 451, 444, 447, 439, 476, 446, 448, 432, 444, 428, 463, 453, 476, 470, 478, 473, 472, 442, 477, 434, 462, 466, 439, 439, 472, 441, 472, 465, 468, 433, 480, 434, 464, 459, 443, 449, 443, 466, 464, 446, 433, 449, 443, 445, 442, 429, 442, 443, 468, 442, 447, 450, 454, 471, 431, 434, 434, 439, 434, 464, 470, 464, 445, 483, 441, 447, 449, 438, 468, 464, 476, 483, 461, 429, 459, 458, 448, 457, 447, 432, 478, 435, 442, 467, 447, 461, 438, 446, 442, 486, 450, 463, 448, 438, 466, 480, 481, 430, 442, 457, 458, 471, 447, 445, 443, 431, 464, 449, 428, 448, 472, 426, 467, 443, 448, 437, 471, 471, 458, 450, 428, 468, 452, 440, 453, 429, 441, 439, 451, 471, 438, 442, 437, 453, 442, 469, 472, 471, 466, 436, 478, 471, 454, 449, 474, 440, 485, 469, 466, 441, 442, 471, 452, 436, 434, 466, 432, 437, 480, 439, 469, 433, 472, 454, 451, 435, 437, 473, 450, 475, 461, 436, 443, 473, 444, 468, 442, 447, 458, 428, 449, 471, 436, 481, 468, 477, 451, 471, 464, 431, 482, 469, 440, 472, 472, 448, 430, 457, 484, 438, 430, 447, 428, 452, 477, 433, 447, 463, 446, 467, 445, 480, 465, 425, 445, 467, 474, 431, 467, 471, 431, 448, 442, 471, 474, 443, 481, 481, 463, 443, 434, 466, 472, 465, 465, 465, 475, 441, 437, 443, 430, 474, 488, 444, 437, 429, 434, 464, 433, 452, 445, 464, 441, 448, 466, 453, 464, 456, 455, 493, 439, 445, 461, 437, 450, 471, 433, 471, 469, 462, 452, 477, 441, 453, 438, 452, 470, 474, 434, 470, 453, 434, 437, 433, 470, 465, 445, 460, 432, 474, 470, 475, 447, 443, 464, 447, 448, 440, 476, 469, 437, 444, 431, 471, 426, 458, 467, 433, 477, 465, 430, 441, 480, 466, 441, 441, 476, 445, 450, 438, 469, 433, 468, 438, 438, 475, 469, 483, 457, 462, 456, 464, 435, 478, 441, 467, 466, 468, 442, 467, 481, 442, 426, 470, 484, 436, 472, 483, 427, 446, 444, 453, 436, 444, 442, 443, 444, 433, 474, 465, 441, 439, 473, 448, 450, 452, 443, 469, 425, 437, 441, 474, 483, 429, 449, 437, 480, 464, 471, 464, 431, 473, 480, 451, 461, 487, 463, 463, 446, 435, 450, 470, 462, 438, 469, 473, 442, 436, 475, 441, 468, 428, 468, 466, 432, 440, 426, 432, 434, 468, 452, 468, 469, 475, 437, 448, 459, 482, 436, 428, 454, 445, 477, 486, 459, 447, 454, 434, 436, 444, 451, 446, 452, 480, 439, 448, 467, 439, 450, 442, 456, 466, 473, 440, 463, 472, 455, 442, 467, 471, 480, 484, 455, 433, 469, 473, 457, 436, 442, 449, 432, 473, 473, 443, 475, 474, 482, 477, 449, 446, 472, 456, 448, 441, 479, 437, 444, 475, 442, 447, 474, 425, 483, 472, 433, 444, 480, 447, 448, 446, 439, 445, 469, 469, 439, 444, 440, 472, 473, 446, 442, 472, 443, 471, 481, 466, 477, 476, 473, 475, 472, 434, 481, 454, 434, 453, 452, 450, 430, 472, 478, 441, 451, 433, 442, 433, 456, 445, 439, 440, 445, 467, 469, 466, 437, 429, 439, 451, 480, 483, 465, 468, 427, 436, 447, 445, 453, 465, 454, 478, 436, 466, 454, 433, 435, 429, 475, 466, 437, 485, 479, 438, 443, 457, 473, 468, 468, 437, 456, 431, 439, 430, 436, 477, 471, 428, 460, 431, 426, 433, 435, 434, 467, 482, 457, 430, 471, 428, 467, 482, 443, 437, 428, 466, 479, 440, 448, 426, 434, 479, 468, 440, 449, 476, 442, 477, 480, 447, 468, 445, 450, 428, 437, 441, 447, 439, 441, 448, 428, 474, 442, 453, 438, 466, 477, 473, 452, 435, 441, 483, 448, 468, 442, 467, 464, 429, 459, 434, 465, 458, 428, 448, 446, 442, 459, 461, 467, 439, 457, 459, 482, 433, 449, 479, 456, 440, 458, 440, 425, 477, 472, 439, 463, 434, 476, 476, 451, 466, 484, 447, 435, 480, 465, 442, 473, 472, 439, 483, 465, 472, 433, 472, 427, 463, 440, 473, 445, 450, 481, 442, 439, 448, 441, 465, 456, 466, 427, 447, 433, 449, 460, 446, 462, 426, 422, 440, 451, 435, 460, 462, 469, 466, 451, 440, 445, 450, 440, 451, 435, 443, 478, 456, 470, 445, 441, 466, 461, 479, 439, 446, 460, 469, 441, 458, 466, 435, 471, 444, 447, 432, 441, 432, 464, 444, 450, 480, 437, 441, 447, 442, 462, 435, 476, 436, 445, 480, 445, 478, 458, 453, 437, 432, 440, 444, 433, 468, 464, 431, 480, 447, 444, 482, 428, 461, 445, 440, 468, 439, 436, 442, 444, 446, 431, 448, 433, 461, 469, 460, 450, 429, 489, 430, 445, 438, 467, 473, 449, 470, 452, 451, 455, 439, 445, 460, 446, 450, 457, 440, 443, 431, 429, 466, 452, 437, 448, 444, 466, 461, 470, 454, 446, 464, 445, 433, 476, 441, 439, 481]\n"
          ]
        }
      ]
    },
    {
      "cell_type": "code",
      "source": [
        "predictions.shape\n",
        "pred_mp = np.full(predictions.shape[0], predictions)"
      ],
      "metadata": {
        "id": "VXK4qv60FVf3"
      },
      "id": "VXK4qv60FVf3",
      "execution_count": null,
      "outputs": []
    },
    {
      "cell_type": "code",
      "source": [
        "print(pred_mp)"
      ],
      "metadata": {
        "colab": {
          "base_uri": "https://localhost:8080/"
        },
        "id": "QaT-cU7NJ-sa",
        "outputId": "c2eb2db3-8aab-4616-8c80-b8e5077f895c"
      },
      "id": "QaT-cU7NJ-sa",
      "execution_count": null,
      "outputs": [
        {
          "output_type": "stream",
          "name": "stdout",
          "text": [
            "[449 442 479 ... 441 439 481]\n"
          ]
        }
      ]
    },
    {
      "cell_type": "code",
      "source": [
        "rmse_using_pymp = calculateRMSE(pred_mp, y_test)\n",
        "print(rmse_using_pymp)"
      ],
      "metadata": {
        "colab": {
          "base_uri": "https://localhost:8080/"
        },
        "id": "fp-2kK_8KCyz",
        "outputId": "5da54856-ccbd-4312-bc61-dc69bddb462c"
      },
      "id": "fp-2kK_8KCyz",
      "execution_count": null,
      "outputs": [
        {
          "output_type": "stream",
          "name": "stdout",
          "text": [
            "4.553983952133997\n"
          ]
        }
      ]
    },
    {
      "cell_type": "code",
      "source": [
        "#num_threads = 100\n",
        "\n",
        "# Assuming X_test is your pandas dataframe\n",
        "#X_test_array = X_test.to_numpy()  # Convert dataframe to NumPy array\n",
        "\n",
        "#with pymp.Parallel(num_threads) as p:\n",
        "    #print(type(p))\n",
        "    #shared_X_test = pymp.shared.array(X_test_array)  # Share the NumPy array\n",
        "    #y_pred_local = predict(X_test, intercept, coefficients)\n",
        "\n",
        "\n",
        "#master_array = 0\n",
        "'''\n",
        "shared_array = pymp.shared.array((2891,), dtype='int32')\n",
        "\n",
        "def convertForMP(num_threads1):\n",
        "    num_threads = num_threads1\n",
        "\n",
        "    # Assuming X_test is your pandas dataframe\n",
        "    X_test_array = X_test.to_numpy()  # Convert dataframe to NumPy array\n",
        "\n",
        "    with pymp.Parallel(num_threads) as p:\n",
        "        print(type(p))\n",
        "        #shared_X_test = pymp.shared.array(X_test_array)  # Share the NumPy array\n",
        "        y_pred_local = predict(X_test, intercept, coefficients)\n",
        "        #shared_array.append(y_pred_local)\n",
        "\n",
        "\n",
        "convertForMP(100)\n",
        "\n",
        "print(shared_array)\n",
        "\n",
        "# Further processing of y_pred_local (if needed)\n",
        "'''"
      ],
      "metadata": {
        "id": "dF0lL80L6GAj",
        "colab": {
          "base_uri": "https://localhost:8080/",
          "height": 72
        },
        "outputId": "5bc98497-af0b-463a-a38b-7250f884748c"
      },
      "id": "dF0lL80L6GAj",
      "execution_count": null,
      "outputs": [
        {
          "output_type": "execute_result",
          "data": {
            "text/plain": [
              "\"\\nshared_array = pymp.shared.array((2891,), dtype='int32')\\n\\ndef convertForMP(num_threads1):\\n    num_threads = num_threads1\\n\\n    # Assuming X_test is your pandas dataframe\\n    X_test_array = X_test.to_numpy()  # Convert dataframe to NumPy array\\n\\n    with pymp.Parallel(num_threads) as p:\\n        print(type(p))\\n        #shared_X_test = pymp.shared.array(X_test_array)  # Share the NumPy array\\n        y_pred_local = predict(X_test, intercept, coefficients)\\n        #shared_array.append(y_pred_local)\\n\\n\\nconvertForMP(100)\\n\\nprint(shared_array)\\n\\n# Further processing of y_pred_local (if needed)\\n\""
            ],
            "application/vnd.google.colaboratory.intrinsic+json": {
              "type": "string"
            }
          },
          "metadata": {},
          "execution_count": 46
        }
      ]
    },
    {
      "cell_type": "code",
      "source": [
        "!pip install pymp-pypi"
      ],
      "metadata": {
        "id": "1PndfF9b_mkN",
        "colab": {
          "base_uri": "https://localhost:8080/"
        },
        "outputId": "e605757e-a862-48bd-c273-704e8ba646c4"
      },
      "id": "1PndfF9b_mkN",
      "execution_count": null,
      "outputs": [
        {
          "output_type": "stream",
          "name": "stdout",
          "text": [
            "Requirement already satisfied: pymp-pypi in /usr/local/lib/python3.10/dist-packages (0.5.0)\n"
          ]
        }
      ]
    },
    {
      "cell_type": "code",
      "source": [
        "import pymp\n",
        "# YOUR CODE HERE\n",
        "# Importing pandas\n",
        "import pandas as pd\n",
        "# Importing Numpy\n",
        "import numpy as np\n",
        "# Importing MPI from mpi4py package\n",
        "from mpi4py import MPI\n",
        "# Importing sqrt function from the Math\n",
        "from math import sqrt\n",
        "# Importing Decimal, ROUND_HALF_UP functions from the decimal package\n",
        "from decimal import Decimal, ROUND_HALF_UP\n",
        "import time\n",
        "from sklearn import datasets"
      ],
      "metadata": {
        "id": "o8DSppnV_wQa"
      },
      "id": "o8DSppnV_wQa",
      "execution_count": null,
      "outputs": []
    },
    {
      "cell_type": "code",
      "source": [
        "!pip -qq install mpi4py"
      ],
      "metadata": {
        "id": "DJox9__x1uPA"
      },
      "id": "DJox9__x1uPA",
      "execution_count": null,
      "outputs": []
    },
    {
      "cell_type": "markdown",
      "metadata": {
        "id": "covered-canon"
      },
      "source": [
        "#### Exercise 13: Create a communicator (1 point)\n",
        "\n",
        "Create a comunicator and define the rank and size"
      ],
      "id": "covered-canon"
    },
    {
      "cell_type": "code",
      "source": [
        "%%writefile rank.py\n",
        "from mpi4py import MPI # Importing mpi4py package from MPI module\n",
        "\n",
        "# Define a function\n",
        "\n",
        "\n",
        "# end of the function\n",
        "\n",
        "def main():\n",
        "    # creating the communicator\n",
        "    comm = MPI.COMM_WORLD\n",
        "    # number of the process running the code i.e rank\n",
        "    rank = comm.Get_rank()\n",
        "    # total number of processes running i.e size\n",
        "    size = comm.Get_size()\n",
        "    # Displaying the rank and size of a communicator\n",
        "    print(\"rank is {} and size is {}\".format(rank,size))\n",
        "\n",
        "# invoke the function\n",
        "main()"
      ],
      "metadata": {
        "colab": {
          "base_uri": "https://localhost:8080/"
        },
        "id": "HLLUu3dM1ZOM",
        "outputId": "e7e53b75-0ea7-486c-cddb-3ba605242329"
      },
      "id": "HLLUu3dM1ZOM",
      "execution_count": null,
      "outputs": [
        {
          "output_type": "stream",
          "name": "stdout",
          "text": [
            "Overwriting rank.py\n"
          ]
        }
      ]
    },
    {
      "cell_type": "code",
      "source": [
        "from mpi4py import MPI\n",
        "\n",
        "def main():\n",
        "    comm = MPI.COMM_WORLD\n",
        "    rank = comm.Get_rank()\n",
        "    size = comm.Get_size()\n",
        "\n",
        "    # Only the root process prints\n",
        "    if rank == 0:\n",
        "        print(\"rank is {} and size is {}\".format(rank, size))\n",
        "\n",
        "    # Add barrier to ensure output flushing\n",
        "    comm.Barrier()\n",
        "    MPI.Finalize()\n",
        "\n",
        "if __name__ == \"__main__\":\n",
        "    main()\n"
      ],
      "metadata": {
        "colab": {
          "base_uri": "https://localhost:8080/"
        },
        "id": "dXnEiD-6_aJ4",
        "outputId": "bb0b9dba-25c9-4554-9bef-4646a9f6bac8"
      },
      "id": "dXnEiD-6_aJ4",
      "execution_count": null,
      "outputs": [
        {
          "output_type": "stream",
          "name": "stdout",
          "text": [
            "rank is 0 and size is 1\n"
          ]
        }
      ]
    },
    {
      "cell_type": "code",
      "source": [
        "!mpirun --allow-run-as-root --oversubscribe -np 4 python rank.py"
      ],
      "metadata": {
        "id": "rOlQmfdI1c6u",
        "colab": {
          "base_uri": "https://localhost:8080/"
        },
        "outputId": "534ca3b9-c515-4dd8-a09b-f32e46963a4e"
      },
      "id": "rOlQmfdI1c6u",
      "execution_count": null,
      "outputs": [
        {
          "output_type": "stream",
          "name": "stdout",
          "text": [
            "rank is 0 and size is 4\n",
            "rank is 2 and size is 4\n",
            "rank is 3 and size is 4\n",
            "rank is 1 and size is 4\n"
          ]
        }
      ]
    },
    {
      "cell_type": "code",
      "metadata": {
        "id": "radio-origin",
        "scrolled": true,
        "colab": {
          "base_uri": "https://localhost:8080/"
        },
        "outputId": "a55dd905-5512-45ec-c5aa-cc9da672356c"
      },
      "source": [
        "%%writefile rank_miniproject.py\n",
        "from mpi4py import MPI\n",
        "def main():\n",
        "    # YOUR CODE HERE# Creating a communicator\n",
        "    comm = MPI.COMM_WORLD\n",
        "    # number of the process running the code\n",
        "    rank = comm.Get_rank()\n",
        "    # total number of processes running\n",
        "    size = comm.Get_size()\n",
        "    #return rank, size\n",
        "    print(\"rank is {} and size is {}\".format(rank,size))\n",
        "    #master process\n",
        "    if rank == 0:\n",
        "        # Generate a dictionary with arbitrary data in it\n",
        "        data = 129\n",
        "        # master process sends data to worker processes by\n",
        "        # going through the ranks of all worker processes\n",
        "        for i in range(1, size):\n",
        "            # Sending data\n",
        "            comm.send(data, dest=i, tag=i)\n",
        "            # Displaying the results\n",
        "            print('Process {} sent data:'.format(rank), data)\n",
        "    # worker processes\n",
        "    else:\n",
        "        # each worker process receives data from master process\n",
        "        data = comm.recv(source=0, tag=rank)\n",
        "        # Displaying the results\n",
        "        print('Process {} received data:'.format(rank), data)\n",
        "\n",
        "main()\n"
      ],
      "id": "radio-origin",
      "execution_count": null,
      "outputs": [
        {
          "output_type": "stream",
          "name": "stdout",
          "text": [
            "Overwriting rank_miniproject.py\n"
          ]
        }
      ]
    },
    {
      "cell_type": "code",
      "source": [
        "!mpirun --allow-run-as-root --oversubscribe -np 4 python rank_miniproject.py"
      ],
      "metadata": {
        "id": "-TWDkuIu0X4N",
        "colab": {
          "base_uri": "https://localhost:8080/"
        },
        "outputId": "0de1a2e4-ed94-4f72-e8aa-f650ea4c83e9"
      },
      "id": "-TWDkuIu0X4N",
      "execution_count": null,
      "outputs": [
        {
          "output_type": "stream",
          "name": "stdout",
          "text": [
            "rank is 2 and size is 4\n",
            "rank is 1 and size is 4\n",
            "rank is 3 and size is 4\n",
            "rank is 0 and size is 4\n",
            "Process 0 sent data: 129\n",
            "Process 1 received data: 129\n",
            "Process 0 sent data: 129\n",
            "Process 2 received data: 129\n",
            "Process 0 sent data: 129\n",
            "Process 3 received data: 129\n"
          ]
        }
      ]
    },
    {
      "cell_type": "markdown",
      "metadata": {
        "id": "miniature-plaza"
      },
      "source": [
        "#### Exercise 14: Divide the data into slices (1 point)\n",
        "\n",
        "Write a function named dividing_data which takes train features set, train target set, and size of workers as inputs and returns the sliced data for each worker.\n",
        "\n",
        "![img](https://cdn.iisc.talentsprint.com/CDS/Images/MiniProject_MPI_DataSlice.JPG)\n",
        "\n",
        "For Example, if there are 4 processes, slice the data into 4 equal parts with 25% ratio\n",
        "\n",
        "**Hint:**\n",
        "\n",
        "- Divide the Data equally among the workers\n",
        "  - Create an empty list\n",
        "  - Iterate over the size of workers\n",
        "  - Append each slice of data to the list"
      ],
      "id": "miniature-plaza"
    },
    {
      "cell_type": "code",
      "metadata": {
        "id": "signal-medicaid",
        "scrolled": true
      },
      "source": [
        "def dividing_data0(x_train, y_train, size_of_workers):\n",
        "    # Size of the slice\n",
        "    slice_for_each_worker = int(Decimal(x_train.shape[0]/size_of_workers).quantize(Decimal('1.'), rounding = ROUND_HALF_UP))\n",
        "    print('Slice of data for each worker: {}'.format(slice_for_each_worker))\n",
        "    # YOUR CODE HERE\n"
      ],
      "id": "signal-medicaid",
      "execution_count": null,
      "outputs": []
    },
    {
      "cell_type": "code",
      "source": [
        "masterlist = []\n",
        "t1 = ()"
      ],
      "metadata": {
        "id": "0tloeDrQpL1m"
      },
      "id": "0tloeDrQpL1m",
      "execution_count": null,
      "outputs": []
    },
    {
      "cell_type": "code",
      "source": [
        "features_slice1 = []\n",
        "target_slice1 = []\n",
        "\n",
        "def dividing_data(train_features, train_target, num_workers):\n",
        "    # Calculate the number of samples per worker\n",
        "    samples_per_worker = len(train_features) // num_workers\n",
        "\n",
        "    # Create an empty list to store sliced data for each worker\n",
        "    sliced_data = []\n",
        "\n",
        "    # Iterate over the number of workers\n",
        "    for i in range(num_workers):\n",
        "        # Calculate the start and end indices for slicing the data\n",
        "        start_idx = i * samples_per_worker\n",
        "        end_idx = (i + 1) * samples_per_worker if i < num_workers - 1 else None\n",
        "\n",
        "        # Slice the train features and train target data for the current worker\n",
        "        features_slice = train_features[start_idx:end_idx]\n",
        "        target_slice = train_target[start_idx:end_idx]\n",
        "\n",
        "        features_slice1 = train_features[start_idx:end_idx]\n",
        "        target_slice1 = train_target[start_idx:end_idx]\n",
        "\n",
        "        t1 = (features_slice1, target_slice1)\n",
        "        masterlist.append(t1)\n",
        "\n",
        "        # Append the sliced data to the list\n",
        "        sliced_data.append((features_slice, target_slice))\n",
        "\n",
        "\n",
        "    return sliced_data\n",
        "\n"
      ],
      "metadata": {
        "id": "HAVo1yBv-No-"
      },
      "id": "HAVo1yBv-No-",
      "execution_count": null,
      "outputs": []
    },
    {
      "cell_type": "code",
      "source": [
        "sliced_data = dividing_data(X_train, y_train, 4)"
      ],
      "metadata": {
        "id": "XmWbGkLD-Y6s"
      },
      "id": "XmWbGkLD-Y6s",
      "execution_count": null,
      "outputs": []
    },
    {
      "cell_type": "code",
      "source": [
        "sliced_data"
      ],
      "metadata": {
        "id": "joRKHZn0jucY",
        "colab": {
          "base_uri": "https://localhost:8080/"
        },
        "outputId": "876ddf5f-ca9b-4a9d-ea21-5257c4bed568"
      },
      "id": "joRKHZn0jucY",
      "execution_count": null,
      "outputs": [
        {
          "output_type": "execute_result",
          "data": {
            "text/plain": [
              "[(            AT         V        AP        RH\n",
              "  8369 -1.006543 -1.221745  0.013626  1.489084\n",
              "  5576  1.428891  1.196437 -0.245686 -1.567024\n",
              "  353  -1.372864 -1.015574  2.751560  0.967175\n",
              "  7296  1.584544  1.799212 -0.673383 -0.938269\n",
              "  4462  1.088064  1.438019 -0.710428  0.798001\n",
              "  ...        ...       ...       ...       ...\n",
              "  1957  0.054850  0.613335  1.170429 -0.075271\n",
              "  1708 -1.706981 -1.036034  2.344070  0.778138\n",
              "  3112 -0.794532 -0.974654  2.988983 -0.574577\n",
              "  6111  0.843850  1.804721 -0.890600  0.788412\n",
              "  8054  1.227615  1.236570 -0.420806 -1.623188\n",
              "  \n",
              "  [1674 rows x 4 columns],\n",
              "  8369    474.15\n",
              "  5576    431.12\n",
              "  353     478.12\n",
              "  7296    435.56\n",
              "  4462    429.25\n",
              "           ...  \n",
              "  1957    451.81\n",
              "  1708    479.06\n",
              "  3112    466.29\n",
              "  6111    432.88\n",
              "  8054    435.45\n",
              "  Name: PE, Length: 1674, dtype: float64),\n",
              " (            AT         V        AP        RH\n",
              "  5708  0.778100  1.238144 -0.346717  0.628141\n",
              "  4326 -0.398691 -0.090165  0.178643  0.322667\n",
              "  1785  0.618421  1.196437  0.028781 -1.375247\n",
              "  1296  0.282962  0.469330  0.959948  0.804850\n",
              "  5002 -0.614726 -0.269581  0.180327  1.836338\n",
              "  ...        ...       ...       ...       ...\n",
              "  7044  1.277263  1.576516 -1.473210  0.596634\n",
              "  7682 -1.001175 -1.042329  1.362387  0.114451\n",
              "  7783  1.698600  0.954855 -0.616133 -0.643069\n",
              "  5300  1.237008  0.226961 -0.870393 -0.617727\n",
              "  1436 -0.728782 -0.725990  1.684002  0.760330\n",
              "  \n",
              "  [1674 rows x 4 columns],\n",
              "  5708    430.20\n",
              "  4326    456.29\n",
              "  1785    442.56\n",
              "  1296    446.86\n",
              "  5002    464.37\n",
              "           ...  \n",
              "  7044    433.03\n",
              "  7682    474.63\n",
              "  7783    428.44\n",
              "  5300    435.57\n",
              "  1436    466.47\n",
              "  Name: PE, Length: 1674, dtype: float64),\n",
              " (            AT         V        AP        RH\n",
              "  3584 -0.165211  0.758127  1.214209  0.079521\n",
              "  7584 -0.241696 -0.615822 -0.920909  0.704167\n",
              "  8528 -0.620094 -0.833797  1.988778  0.680879\n",
              "  1921 -1.689537 -1.017148  1.461734  0.701427\n",
              "  8061  0.586217  1.828328 -0.829981  0.726769\n",
              "  ...        ...       ...       ...       ...\n",
              "  5151  1.548314  1.101221  0.269571 -2.343038\n",
              "  6263  0.778100  1.064236 -0.638023 -1.050596\n",
              "  3113  0.195743 -0.855831 -0.531940 -0.732108\n",
              "  1864 -0.770379 -1.106856  0.634965  0.864438\n",
              "  3170  0.308457  0.522840  0.330189  0.121986\n",
              "  \n",
              "  [1674 rows x 4 columns],\n",
              "  3584    450.55\n",
              "  7584    458.16\n",
              "  8528    463.12\n",
              "  1921    487.71\n",
              "  8061    438.52\n",
              "           ...  \n",
              "  5151    430.48\n",
              "  6263    429.95\n",
              "  3113    447.83\n",
              "  1864    466.24\n",
              "  3170    450.38\n",
              "  Name: PE, Length: 1674, dtype: float64),\n",
              " (            AT         V        AP        RH\n",
              "  6894  0.606345 -0.463948 -0.808091  0.197327\n",
              "  9326  0.761998  1.371132 -0.585823  0.306229\n",
              "  7609 -1.033379 -1.139906  0.023729  1.315114\n",
              "  6856  0.240024 -0.245186 -0.700325  0.796631\n",
              "  6225 -0.027002 -0.627626  0.022045  1.795242\n",
              "  ...        ...       ...       ...       ...\n",
              "  1263 -0.940793 -1.026591  1.268092  0.708961\n",
              "  6118  1.159181  1.166535 -0.668332 -1.036212\n",
              "  3315 -1.372864 -1.015574  2.685890  0.896629\n",
              "  7348 -0.247063 -0.732285  1.525720 -2.018386\n",
              "  7310 -0.571788 -1.180039 -0.754208 -0.454716\n",
              "  \n",
              "  [1675 rows x 4 columns],\n",
              "  6894    442.62\n",
              "  9326    435.23\n",
              "  7609    474.56\n",
              "  6856    446.17\n",
              "  6225    452.82\n",
              "           ...  \n",
              "  1263    465.78\n",
              "  6118    429.28\n",
              "  3315    474.75\n",
              "  7348    471.00\n",
              "  7310    461.39\n",
              "  Name: PE, Length: 1675, dtype: float64)]"
            ]
          },
          "metadata": {},
          "execution_count": 59
        }
      ]
    },
    {
      "cell_type": "code",
      "source": [
        "#print(masterlist)\n",
        "tp1 = masterlist[0]\n",
        "(a,b) = tp1\n",
        "print(a)"
      ],
      "metadata": {
        "id": "zBimyer9pfgx",
        "colab": {
          "base_uri": "https://localhost:8080/"
        },
        "outputId": "fd5fcae4-69c9-45ba-f473-bec71da87321"
      },
      "id": "zBimyer9pfgx",
      "execution_count": null,
      "outputs": [
        {
          "output_type": "stream",
          "name": "stdout",
          "text": [
            "            AT         V        AP        RH\n",
            "8369 -1.006543 -1.221745  0.013626  1.489084\n",
            "5576  1.428891  1.196437 -0.245686 -1.567024\n",
            "353  -1.372864 -1.015574  2.751560  0.967175\n",
            "7296  1.584544  1.799212 -0.673383 -0.938269\n",
            "4462  1.088064  1.438019 -0.710428  0.798001\n",
            "...        ...       ...       ...       ...\n",
            "1957  0.054850  0.613335  1.170429 -0.075271\n",
            "1708 -1.706981 -1.036034  2.344070  0.778138\n",
            "3112 -0.794532 -0.974654  2.988983 -0.574577\n",
            "6111  0.843850  1.804721 -0.890600  0.788412\n",
            "8054  1.227615  1.236570 -0.420806 -1.623188\n",
            "\n",
            "[1674 rows x 4 columns]\n"
          ]
        }
      ]
    },
    {
      "cell_type": "code",
      "source": [
        "print(b)"
      ],
      "metadata": {
        "colab": {
          "base_uri": "https://localhost:8080/"
        },
        "id": "zxG-n6myYi_q",
        "outputId": "f5428423-34b0-47ba-eae2-d9dca64b796b"
      },
      "id": "zxG-n6myYi_q",
      "execution_count": null,
      "outputs": [
        {
          "output_type": "stream",
          "name": "stdout",
          "text": [
            "8369    474.15\n",
            "5576    431.12\n",
            "353     478.12\n",
            "7296    435.56\n",
            "4462    429.25\n",
            "         ...  \n",
            "1957    451.81\n",
            "1708    479.06\n",
            "3112    466.29\n",
            "6111    432.88\n",
            "8054    435.45\n",
            "Name: PE, Length: 1674, dtype: float64\n"
          ]
        }
      ]
    },
    {
      "cell_type": "code",
      "source": [
        "len(masterlist)\n",
        "tp1"
      ],
      "metadata": {
        "colab": {
          "base_uri": "https://localhost:8080/"
        },
        "id": "7m3gzi7lpl48",
        "outputId": "2138499b-676f-44b2-af00-58c44521d476"
      },
      "id": "7m3gzi7lpl48",
      "execution_count": null,
      "outputs": [
        {
          "output_type": "execute_result",
          "data": {
            "text/plain": [
              "(            AT         V        AP        RH\n",
              " 8369 -1.006543 -1.221745  0.013626  1.489084\n",
              " 5576  1.428891  1.196437 -0.245686 -1.567024\n",
              " 353  -1.372864 -1.015574  2.751560  0.967175\n",
              " 7296  1.584544  1.799212 -0.673383 -0.938269\n",
              " 4462  1.088064  1.438019 -0.710428  0.798001\n",
              " ...        ...       ...       ...       ...\n",
              " 1957  0.054850  0.613335  1.170429 -0.075271\n",
              " 1708 -1.706981 -1.036034  2.344070  0.778138\n",
              " 3112 -0.794532 -0.974654  2.988983 -0.574577\n",
              " 6111  0.843850  1.804721 -0.890600  0.788412\n",
              " 8054  1.227615  1.236570 -0.420806 -1.623188\n",
              " \n",
              " [1674 rows x 4 columns],\n",
              " 8369    474.15\n",
              " 5576    431.12\n",
              " 353     478.12\n",
              " 7296    435.56\n",
              " 4462    429.25\n",
              "          ...  \n",
              " 1957    451.81\n",
              " 1708    479.06\n",
              " 3112    466.29\n",
              " 6111    432.88\n",
              " 8054    435.45\n",
              " Name: PE, Length: 1674, dtype: float64)"
            ]
          },
          "metadata": {},
          "execution_count": 62
        }
      ]
    },
    {
      "cell_type": "markdown",
      "metadata": {
        "id": "changing-conditioning"
      },
      "source": [
        "#### Exercise 15: Prepare the data in root worker to assign data for all the workers (1 point)\n",
        "\n",
        "- When it is the root worker, perform the below operation:\n",
        "    - Store the features and target values in separate variables\n",
        "    - Split the data into train and test sets using the train_test_split function defined above\n",
        "    - Divide the data among the workers using the dividing_data function above"
      ],
      "id": "changing-conditioning"
    },
    {
      "cell_type": "code",
      "metadata": {
        "id": "hybrid-tamil",
        "scrolled": true,
        "colab": {
          "base_uri": "https://localhost:8080/"
        },
        "outputId": "3cb0ee94-39df-4ee1-8488-5da7042dafa3"
      },
      "source": [
        "\n",
        "%%writefile prepareData.py\n",
        "from mpi4py import MPI\n",
        "import pandas as pd\n",
        "# Importing Numpy\n",
        "import numpy as np\n",
        "# Importing MPI from mpi4py package\n",
        "from mpi4py import MPI\n",
        "# Importing sqrt function from the Math\n",
        "from math import sqrt\n",
        "# Importing Decimal, ROUND_HALF_UP functions from the decimal package\n",
        "from decimal import Decimal, ROUND_HALF_UP\n",
        "import time\n",
        "\n",
        "from sklearn.utils import shuffle\n",
        "\n",
        "# start function block\n",
        "\n",
        "# Note: Scaled data save it to the csv file and load the data.\n",
        "\n",
        "FILENAME = \"/content/PowerPlantData.csv\"\n",
        "df = pd.read_csv(FILENAME)\n",
        "\n",
        "def getNecessaryAttributesRequired(df):\n",
        "    rows, columns = df.shape\n",
        "    #\tprint(rows, columns)\n",
        "    summary = df.describe()\n",
        "    return rows, columns, summary\n",
        "\n",
        "def extractNullColumnsFromDataFrame(df):\n",
        "    number_of_null_values_per_column = df.isnull().sum()\n",
        "    total_number_of_null_values = number_of_null_values_per_column.sum()\n",
        "    return number_of_null_values_per_column, total_number_of_null_values\n",
        "\n",
        "\n",
        "def standardizeExceptTarget(df):\n",
        "    result = df.copy()  # Create a copy to avoid modifying the original DataFrame\n",
        "    for col in ['AT', 'V', 'AP', 'RH']:\n",
        "        if pd.api.types.is_numeric_dtype(result[col]):  # Check for numeric columns\n",
        "            # Calculate mean and standard deviation\n",
        "            mean = result[col].mean()\n",
        "            std = result[col].std()\n",
        "            # Standardize the data (subtract mean and divide by standard deviation)\n",
        "            result[col] = (result[col] - mean) / std\n",
        "    return result\n",
        "\n",
        "def select_X_y(df):\n",
        "    X = df.iloc[:, :-1]  # Select all columns except the last\n",
        "    y = df.iloc[:, -1]  # Select the last column\n",
        "    return X, y\n",
        "\n",
        "\n",
        "r, c, s = getNecessaryAttributesRequired(df)\n",
        "print(r, c, s)\n",
        "null_per_column, total_number_null_vals = extractNullColumnsFromDataFrame(df)\n",
        "print(null_per_column, total_number_null_vals)\n",
        "\n",
        "df_standardized1 = standardizeExceptTarget(df.copy())\n",
        "print(df_standardized1)\n",
        "df = df_standardized1\n",
        "# Example usage (assuming your DataFrame is named 'df')\n",
        "X, y = select_X_y(df.copy())\n",
        "\n",
        "\n",
        "# end function block\n",
        "\n",
        "def train_test_split(features, targets, test_size=0.3, random_state=None):\n",
        "  \"\"\"\n",
        "  Splits features and targets into training and testing sets.\n",
        "\n",
        "  Args:\n",
        "      features (numpy.ndarray): The features matrix (2D array).\n",
        "      targets (numpy.ndarray): The target values array (1D array).\n",
        "      test_size (float, optional): Proportion of the data for the test set. Defaults to 0.3 (30%).\n",
        "      random_state (int, optional): Seed for shuffling the data before splitting. Defaults to None.\n",
        "\n",
        "  Returns:\n",
        "      tuple: A tuple of four NumPy arrays containing the training and testing splits for features and targets.\n",
        "          (X_train, X_test, y_train, y_test)\n",
        "  \"\"\"\n",
        "\n",
        "  # Shuffle data (important for unbiased splitting)\n",
        "  features, targets = shuffle(features, targets, random_state=random_state)\n",
        "\n",
        "  # Split data into training and testing sets\n",
        "  split_index = int(len(features) * (1 - test_size))\n",
        "  X_train, X_test = features[:split_index], features[split_index:]\n",
        "  y_train, y_test = targets[:split_index], targets[split_index:]\n",
        "\n",
        "  return X_train, X_test, y_train, y_test\n",
        "\n",
        "masterlist1 = []\n",
        "t11 = ()\n",
        "features_slice1 = []\n",
        "target_slice1 = []\n",
        "\n",
        "def dividing_data(train_features, train_target, num_workers):\n",
        "    # Calculate the number of samples per worker\n",
        "    samples_per_worker = len(train_features) // num_workers\n",
        "\n",
        "    # Create an empty list to store sliced data for each worker\n",
        "    sliced_data = []\n",
        "\n",
        "    # Iterate over the number of workers\n",
        "    for i in range(num_workers):\n",
        "        # Calculate the start and end indices for slicing the data\n",
        "        start_idx = i * samples_per_worker\n",
        "        end_idx = (i + 1) * samples_per_worker if i < num_workers - 1 else None\n",
        "\n",
        "        # Slice the train features and train target data for the current worker\n",
        "        features_slice = train_features[start_idx:end_idx]\n",
        "        target_slice = train_target[start_idx:end_idx]\n",
        "\n",
        "        features_slice1 = train_features[start_idx:end_idx]\n",
        "        target_slice1 = train_target[start_idx:end_idx]\n",
        "\n",
        "        t11 = (features_slice1, target_slice1)\n",
        "        masterlist1.append(t11)\n",
        "\n",
        "        # Append the sliced data to the list\n",
        "        sliced_data.append((features_slice, target_slice))\n",
        "\n",
        "    return sliced_data\n",
        "\n",
        "\n",
        "# YOUR CODE HERE\n",
        "def prepareDataAtRootAndSendToEveryBody(X, y):\n",
        "    # YOUR CODE HERE# Creating a communicator\n",
        "    comm = MPI.COMM_WORLD\n",
        "    # number of the process running the code\n",
        "    rank = comm.Get_rank()\n",
        "    # total number of processes running\n",
        "    size = comm.Get_size()\n",
        "    #return rank, size\n",
        "    print(rank, size)\n",
        "    # master process\n",
        "    if rank == 0:\n",
        "        # Generate a dictionary with arbitrary data in it\n",
        "\n",
        "        X_train1, X_test1, y_train1, y_test1 = train_test_split(X, y)\n",
        "\n",
        "        silced_data1 = dividing_data(X_train1, y_train1, size)\n",
        "        print(silced_data1)\n",
        "\n",
        "        # for item in masterlist:\n",
        "        #     # each of this tuple contains feature and test data\n",
        "        #     comm.send(item, dest=i, tag=i)\n",
        "\n",
        "        #     # Displaying the results\n",
        "        #     print('Process {} sent data:'.format(rank), item)\n",
        "        #     print(item)\n",
        "\n",
        "        # # master process sends data to worker processes by\n",
        "        # # going through the ranks of all worker processes\n",
        "\n",
        "        # for i in range(1, size):\n",
        "        #     # Sending data\n",
        "        #     comm.send(silced_data1, dest=i, tag=i)\n",
        "\n",
        "        #     # Displaying the results\n",
        "        #     print('Process {} sent data:'.format(rank), silced_data1)\n",
        "\n",
        "    # worker processes\n",
        "    else:\n",
        "        # each worker process receives data from master process\n",
        "        # item = comm.recv(source=0, tag=rank)\n",
        "        print('Process {} else rank:'.format(rank))\n",
        "\n",
        "prepareDataAtRootAndSendToEveryBody(X, y)"
      ],
      "id": "hybrid-tamil",
      "execution_count": null,
      "outputs": [
        {
          "output_type": "stream",
          "name": "stdout",
          "text": [
            "Overwriting prepareData.py\n"
          ]
        }
      ]
    },
    {
      "cell_type": "code",
      "source": [
        "!mpirun --allow-run-as-root --oversubscribe -np 4 python prepareData.py"
      ],
      "metadata": {
        "id": "oHWN5AHjFL-P",
        "colab": {
          "base_uri": "https://localhost:8080/"
        },
        "outputId": "8e56041f-4a23-43e0-ff50-dea229bcc5f2"
      },
      "id": "oHWN5AHjFL-P",
      "execution_count": null,
      "outputs": [
        {
          "output_type": "stream",
          "name": "stdout",
          "text": [
            "9568 5                 AT            V           AP           RH           PE\n",
            "count  9568.000000  9568.000000  9568.000000  9568.000000  9568.000000\n",
            "mean     19.651231    54.305804  1013.259078    73.308978   454.365009\n",
            "std       7.452473    12.707893     5.938784    14.600269    17.066995\n",
            "min       1.810000    25.360000   992.890000    25.560000   420.260000\n",
            "25%      13.510000    41.740000  1009.100000    63.327500   439.750000\n",
            "50%      20.345000    52.080000  1012.940000    74.975000   451.550000\n",
            "75%      25.720000    66.540000  1017.260000    84.830000   468.430000\n",
            "max      37.110000    81.560000  1033.300000   100.160000   495.760000\n",
            "AT    0\n",
            "V     0\n",
            "AP    0\n",
            "RH    0\n",
            "PE    0\n",
            "dtype: int64 0\n",
            "            AT         V        AP        RH      PE\n",
            "0    -1.517782 -1.065149 -0.407336  1.143885  480.48\n",
            "1     0.535228  0.329260 -0.313040  0.061028  445.75\n",
            "2     1.353748  0.204141 -1.028675 -2.150575  438.76\n",
            "3    -0.077992 -0.363223 -1.016888  0.238422  453.09\n",
            "4    -1.053507 -1.073805  0.651804  1.636341  464.43\n",
            "...        ...       ...       ...       ...     ...\n",
            "9563 -0.608017 -0.423816 -0.245686 -0.025957  462.59\n",
            "9564  1.846202  1.860591 -0.498263 -0.930735  432.90\n",
            "9565 -0.491277 -0.862913  0.158437  0.366502  465.96\n",
            "9566 -0.268532  0.437854  0.895962  1.461687  450.93\n",
            "9567  0.540595 -0.236530 -0.235583 -0.141708  451.67\n",
            "\n",
            "[9568 rows x 5 columns]\n",
            "1 4\n",
            "Process 1 else rank:\n",
            "9568 5                 AT            V           AP           RH           PE\n",
            "count  9568.000000  9568.000000  9568.000000  9568.000000  9568.000000\n",
            "mean     19.651231    54.305804  1013.259078    73.308978   454.365009\n",
            "std       7.452473    12.707893     5.938784    14.600269    17.066995\n",
            "min       1.810000    25.360000   992.890000    25.560000   420.260000\n",
            "25%      13.510000    41.740000  1009.100000    63.327500   439.750000\n",
            "50%      20.345000    52.080000  1012.940000    74.975000   451.550000\n",
            "75%      25.720000    66.540000  1017.260000    84.830000   468.430000\n",
            "max      37.110000    81.560000  1033.300000   100.160000   495.760000\n",
            "AT    0\n",
            "V     0\n",
            "AP    0\n",
            "RH    0\n",
            "PE    0\n",
            "dtype: int64 0\n",
            "            AT         V        AP        RH      PE\n",
            "0    -1.517782 -1.065149 -0.407336  1.143885  480.48\n",
            "1     0.535228  0.329260 -0.313040  0.061028  445.75\n",
            "2     1.353748  0.204141 -1.028675 -2.150575  438.76\n",
            "3    -0.077992 -0.363223 -1.016888  0.238422  453.09\n",
            "4    -1.053507 -1.073805  0.651804  1.636341  464.43\n",
            "...        ...       ...       ...       ...     ...\n",
            "9563 -0.608017 -0.423816 -0.245686 -0.025957  462.59\n",
            "9564  1.846202  1.860591 -0.498263 -0.930735  432.90\n",
            "9565 -0.491277 -0.862913  0.158437  0.366502  465.96\n",
            "9566 -0.268532  0.437854  0.895962  1.461687  450.93\n",
            "9567  0.540595 -0.236530 -0.235583 -0.141708  451.67\n",
            "\n",
            "[9568 rows x 5 columns]\n",
            "0 4\n",
            "9568 5                 AT            V           AP           RH           PE\n",
            "count  9568.000000  9568.000000  9568.000000  9568.000000  9568.000000\n",
            "mean     19.651231    54.305804  1013.259078    73.308978   454.365009\n",
            "std       7.452473    12.707893     5.938784    14.600269    17.066995\n",
            "min       1.810000    25.360000   992.890000    25.560000   420.260000\n",
            "25%      13.510000    41.740000  1009.100000    63.327500   439.750000\n",
            "50%      20.345000    52.080000  1012.940000    74.975000   451.550000\n",
            "75%      25.720000    66.540000  1017.260000    84.830000   468.430000\n",
            "max      37.110000    81.560000  1033.300000   100.160000   495.760000\n",
            "AT    0\n",
            "V     0\n",
            "AP    0\n",
            "RH    0\n",
            "PE    0\n",
            "dtype: int64 0\n",
            "9568 5                 AT            V           AP           RH           PE\n",
            "count  9568.000000  9568.000000  9568.000000  9568.000000  9568.000000\n",
            "mean     19.651231    54.305804  1013.259078    73.308978   454.365009\n",
            "std       7.452473    12.707893     5.938784    14.600269    17.066995\n",
            "min       1.810000    25.360000   992.890000    25.560000   420.260000\n",
            "25%      13.510000    41.740000  1009.100000    63.327500   439.750000\n",
            "50%      20.345000    52.080000  1012.940000    74.975000   451.550000\n",
            "75%      25.720000    66.540000  1017.260000    84.830000   468.430000\n",
            "max      37.110000    81.560000  1033.300000   100.160000   495.760000\n",
            "AT    0\n",
            "V     0\n",
            "AP    0\n",
            "RH    0\n",
            "PE    0\n",
            "dtype: int64 0\n",
            "[(            AT         V        AP        RH\n",
            "1851  1.394003  1.018595  0.725893 -2.408790\n",
            "7807  0.186350  1.194076 -0.368607  1.137720\n",
            "7340  1.478539  1.460053 -1.516990 -1.410178\n",
            "8039  0.940462  1.515137 -1.070771  1.778119\n",
            "4399  0.555355 -0.326238 -1.336819  0.171985\n",
            "...        ...       ...       ...       ...\n",
            "6096 -1.343343 -1.176891  0.309983  1.263745\n",
            "5427 -1.227946 -1.062789  1.818709  0.187738\n",
            "4237  0.870687  1.470283 -0.971424  0.576087\n",
            "5682  0.458743 -0.334895 -1.070771  0.936354\n",
            "5754 -0.807951 -0.850322  1.492043  0.754166\n",
            "\n",
            "[1674 rows x 4 columns], 1851    434.83\n",
            "7807    439.53\n",
            "7340    432.76\n",
            "8039    433.62\n",
            "4399    435.49\n",
            "         ...  \n",
            "6096    479.81\n",
            "5427    482.85\n",
            "4237    433.25\n",
            "5682    442.97\n",
            "5754    468.28\n",
            "Name: PE, Length: 1674, dtype: float64), (            AT         V        AP        RH\n",
            "4982  0.380916  0.548021  1.067714 -1.110184\n",
            "3507  0.009228 -0.637069 -0.457851  0.303489\n",
            "2224  0.715034  1.390805 -1.122970  1.184980\n",
            "3919  0.619763  0.466182 -0.238951  0.307599\n",
            "3948  0.092422  1.191716 -0.084037  1.215116\n",
            "...        ...       ...       ...       ...\n",
            "3191  1.438283  1.714226 -1.062352 -0.505400\n",
            "4685  0.778100  1.411264 -0.306305  0.495266\n",
            "3570  1.702625  1.627665 -1.766200 -2.087563\n",
            "9004 -0.715364 -1.064362  1.891115  0.036371\n",
            "5975 -0.477859  0.877738  0.097818  0.836356\n",
            "\n",
            "[1674 rows x 4 columns], 4982    448.51\n",
            "3507    449.33\n",
            "2224    432.06\n",
            "3919    438.99\n",
            "3948    442.73\n",
            "         ...  \n",
            "3191    435.01\n",
            "4685    434.92\n",
            "3570    433.07\n",
            "9004    457.92\n",
            "5975    454.88\n",
            "Name: PE, Length: 1674, dtype: float64), (            AT         V        AP        RH\n",
            "5368 -0.142400 -1.161940 -0.791253 -0.321842\n",
            "695   1.669079  1.266472 -1.604550 -1.209497\n",
            "6271  0.605003  0.846261  0.104554 -0.982789\n",
            "5731  0.179641 -0.329386 -0.747473  1.552096\n",
            "886   1.211513  1.260177 -0.799672 -1.888936\n",
            "...        ...       ...       ...       ...\n",
            "3055 -1.527175 -1.071445  1.156958  0.876081\n",
            "6929  1.545630  1.312113 -1.021940 -0.408827\n",
            "7979  0.562064 -0.400995 -0.026786 -1.958113\n",
            "4137  1.168574  0.979249  0.749467 -1.418397\n",
            "8502 -0.848206 -1.173743  0.112973  0.782932\n",
            "\n",
            "[1674 rows x 4 columns], 5368    462.56\n",
            "695     434.64\n",
            "6271    442.32\n",
            "5731    448.07\n",
            "886     430.48\n",
            "         ...  \n",
            "3055    484.97\n",
            "6929    431.01\n",
            "7979    445.44\n",
            "4137    433.88\n",
            "8502    471.23\n",
            "Name: PE, Length: 1674, dtype: float64), (            AT         V        AP        RH\n",
            "3189  0.331268  0.755766 -0.614449  1.200048\n",
            "2106  0.143411  1.125615 -0.338298  0.944573\n",
            "6494  0.952539  0.316669  0.048987 -1.906744\n",
            "9340 -0.994466 -1.050198  1.677266  0.371981\n",
            "1791  1.389977  0.632221 -1.343554 -0.751286\n",
            "...        ...       ...       ...       ...\n",
            "5697 -0.672425 -1.158792 -0.302937 -0.096504\n",
            "9520 -1.025328 -1.009279  0.756202 -0.454716\n",
            "7593 -1.642573 -1.191842  0.331873  1.188404\n",
            "7684  1.202120  1.215323 -0.579088 -0.110202\n",
            "8989 -1.413119 -1.004557  0.901013  0.407597\n",
            "\n",
            "[1675 rows x 4 columns], 3189    447.77\n",
            "2106    447.89\n",
            "6494    444.09\n",
            "9340    475.32\n",
            "1791    435.94\n",
            "         ...  \n",
            "5697    467.80\n",
            "9520    469.08\n",
            "7593    486.91\n",
            "7684    440.53\n",
            "8989    482.95\n",
            "Name: PE, Length: 1675, dtype: float64)]\n",
            "            AT         V        AP        RH      PE\n",
            "0    -1.517782 -1.065149 -0.407336  1.143885  480.48\n",
            "1     0.535228  0.329260 -0.313040  0.061028  445.75\n",
            "2     1.353748  0.204141 -1.028675 -2.150575  438.76\n",
            "3    -0.077992 -0.363223 -1.016888  0.238422  453.09\n",
            "4    -1.053507 -1.073805  0.651804  1.636341  464.43\n",
            "...        ...       ...       ...       ...     ...\n",
            "9563 -0.608017 -0.423816 -0.245686 -0.025957  462.59\n",
            "9564  1.846202  1.860591 -0.498263 -0.930735  432.90\n",
            "9565 -0.491277 -0.862913  0.158437  0.366502  465.96\n",
            "9566 -0.268532  0.437854  0.895962  1.461687  450.93\n",
            "9567  0.540595 -0.236530 -0.235583 -0.141708  451.67\n",
            "\n",
            "[9568 rows x 5 columns]\n",
            "2 4\n",
            "Process 2 else rank:\n",
            "            AT         V        AP        RH      PE\n",
            "0    -1.517782 -1.065149 -0.407336  1.143885  480.48\n",
            "1     0.535228  0.329260 -0.313040  0.061028  445.75\n",
            "2     1.353748  0.204141 -1.028675 -2.150575  438.76\n",
            "3    -0.077992 -0.363223 -1.016888  0.238422  453.09\n",
            "4    -1.053507 -1.073805  0.651804  1.636341  464.43\n",
            "...        ...       ...       ...       ...     ...\n",
            "9563 -0.608017 -0.423816 -0.245686 -0.025957  462.59\n",
            "9564  1.846202  1.860591 -0.498263 -0.930735  432.90\n",
            "9565 -0.491277 -0.862913  0.158437  0.366502  465.96\n",
            "9566 -0.268532  0.437854  0.895962  1.461687  450.93\n",
            "9567  0.540595 -0.236530 -0.235583 -0.141708  451.67\n",
            "\n",
            "[9568 rows x 5 columns]\n",
            "3 4\n",
            "Process 3 else rank:\n"
          ]
        }
      ]
    },
    {
      "cell_type": "markdown",
      "metadata": {
        "id": "breathing-baking"
      },
      "source": [
        "#### Exercise 16: Scatter and gather the data (1 point)\n",
        "\n",
        "Perform the below operations:\n",
        "\n",
        "- Send slices of the training set(the features data X and the expected target data Y) to every worker including the root worker\n",
        "    - **Hint:** scatter()\n",
        "    - use `barrier()` to block workers until all workers in the group reach a Barrier, to scatter from root worker.\n",
        "- Every worker should get the predicted target Y(yhat) for each slice\n",
        "- Get the new coefficient of each instance in a slice\n",
        "    - **Hint:** fit function defined above\n",
        "- Gather the new coefficient from each worker\n",
        "    - **Hint:** gather()\n",
        "    - Take the mean of the gathered coefficients\n",
        "- Calculate the root mean square error for the test set\n",
        "\n",
        "To know more about `scatter`, `gather` and `barrier` click [here](https://nyu-cds.github.io/python-mpi/05-collectives/)"
      ],
      "id": "breathing-baking"
    },
    {
      "cell_type": "code",
      "metadata": {
        "id": "consistent-union",
        "scrolled": true,
        "colab": {
          "base_uri": "https://localhost:8080/"
        },
        "outputId": "74d8aeef-108b-4394-8f18-de316f4ceeb1"
      },
      "source": [
        "%%writefile scatter1.py\n",
        "from os import sendfile\n",
        "# YOUR CODE HERE\n",
        "\n",
        "\n",
        "from mpi4py import MPI\n",
        "import pandas as pd\n",
        "# Importing Numpy\n",
        "import numpy as np\n",
        "# Importing MPI from mpi4py package\n",
        "from mpi4py import MPI\n",
        "# Importing sqrt function from the Math\n",
        "from math import sqrt\n",
        "# Importing Decimal, ROUND_HALF_UP functions from the decimal package\n",
        "from decimal import Decimal, ROUND_HALF_UP\n",
        "import time\n",
        "\n",
        "from sklearn.utils import shuffle\n",
        "\n",
        "# start function block\n",
        "\n",
        "# Note: Scaled data save it to the csv file and load the data.\n",
        "\n",
        "FILENAME = \"/content/PowerPlantData.csv\"\n",
        "df = pd.read_csv(FILENAME)\n",
        "\n",
        "def getNecessaryAttributesRequired(df):\n",
        "    rows, columns = df.shape\n",
        "    #\tprint(rows, columns)\n",
        "    summary = df.describe()\n",
        "    return rows, columns, summary\n",
        "\n",
        "def extractNullColumnsFromDataFrame(df):\n",
        "    number_of_null_values_per_column = df.isnull().sum()\n",
        "    total_number_of_null_values = number_of_null_values_per_column.sum()\n",
        "    return number_of_null_values_per_column, total_number_of_null_values\n",
        "\n",
        "\n",
        "def standardizeExceptTarget(df):\n",
        "    result = df.copy()  # Create a copy to avoid modifying the original DataFrame\n",
        "    for col in ['AT', 'V', 'AP', 'RH']:\n",
        "        if pd.api.types.is_numeric_dtype(result[col]):  # Check for numeric columns\n",
        "            # Calculate mean and standard deviation\n",
        "            mean = result[col].mean()\n",
        "            std = result[col].std()\n",
        "            # Standardize the data (subtract mean and divide by standard deviation)\n",
        "            result[col] = (result[col] - mean) / std\n",
        "    return result\n",
        "\n",
        "def select_X_y(df):\n",
        "    X = df.iloc[:, :-1]  # Select all columns except the last\n",
        "    y = df.iloc[:, -1]  # Select the last column\n",
        "    return X, y\n",
        "\n",
        "\n",
        "r, c, s = getNecessaryAttributesRequired(df)\n",
        "print(r, c, s)\n",
        "null_per_column, total_number_null_vals = extractNullColumnsFromDataFrame(df)\n",
        "print(null_per_column, total_number_null_vals)\n",
        "\n",
        "df_standardized1 = standardizeExceptTarget(df.copy())\n",
        "print(df_standardized1)\n",
        "df = df_standardized1\n",
        "# Example usage (assuming your DataFrame is named 'df')\n",
        "X, y = select_X_y(df.copy())\n",
        "\n",
        "\n",
        "# end function block\n",
        "\n",
        "def train_test_split(features, targets, test_size=0.3, random_state=None):\n",
        "  \"\"\"\n",
        "  Splits features and targets into training and testing sets.\n",
        "\n",
        "  Args:\n",
        "      features (numpy.ndarray): The features matrix (2D array).\n",
        "      targets (numpy.ndarray): The target values array (1D array).\n",
        "      test_size (float, optional): Proportion of the data for the test set. Defaults to 0.3 (30%).\n",
        "      random_state (int, optional): Seed for shuffling the data before splitting. Defaults to None.\n",
        "\n",
        "  Returns:\n",
        "      tuple: A tuple of four NumPy arrays containing the training and testing splits for features and targets.\n",
        "          (X_train, X_test, y_train, y_test)\n",
        "  \"\"\"\n",
        "\n",
        "  # Shuffle data (important for unbiased splitting)\n",
        "  features, targets = shuffle(features, targets, random_state=random_state)\n",
        "\n",
        "  # Split data into training and testing sets\n",
        "  split_index = int(len(features) * (1 - test_size))\n",
        "  X_train, X_test = features[:split_index], features[split_index:]\n",
        "  y_train, y_test = targets[:split_index], targets[split_index:]\n",
        "\n",
        "  return X_train, X_test, y_train, y_test\n",
        "\n",
        "masterlist1 = []\n",
        "t11 = ()\n",
        "features_slice1 = []\n",
        "target_slice1 = []\n",
        "\n",
        "def dividing_data(train_features, train_target, num_workers):\n",
        "    # Calculate the number of samples per worker\n",
        "    samples_per_worker = len(train_features) // num_workers\n",
        "\n",
        "    # Create an empty list to store sliced data for each worker\n",
        "    sliced_data = []\n",
        "\n",
        "    # Iterate over the number of workers\n",
        "    for i in range(num_workers):\n",
        "        # Calculate the start and end indices for slicing the data\n",
        "        start_idx = i * samples_per_worker\n",
        "        end_idx = (i + 1) * samples_per_worker if i < num_workers - 1 else None\n",
        "\n",
        "        # Slice the train features and train target data for the current worker\n",
        "        features_slice = train_features[start_idx:end_idx]\n",
        "        target_slice = train_target[start_idx:end_idx]\n",
        "\n",
        "        features_slice1 = train_features[start_idx:end_idx]\n",
        "        target_slice1 = train_target[start_idx:end_idx]\n",
        "\n",
        "        t11 = (features_slice1, target_slice1)\n",
        "        masterlist1.append(t11)\n",
        "\n",
        "        # Append the sliced data to the list\n",
        "        sliced_data.append((features_slice, target_slice))\n",
        "\n",
        "    return sliced_data\n",
        "\n",
        "\n",
        "# YOUR CODE HERE\n",
        "def prepareDataAtRootAndSendToEveryBody(X, y):\n",
        "    # YOUR CODE HERE# Creating a communicator\n",
        "    comm = MPI.COMM_WORLD\n",
        "    # number of the process running the code\n",
        "    rank = comm.Get_rank()\n",
        "    # total number of processes running\n",
        "    size = comm.Get_size()\n",
        "    #return rank, size\n",
        "    print(rank, size)\n",
        "    # master process\n",
        "    if rank == 0:\n",
        "        # Generate a dictionary with arbitrary data in it\n",
        "\n",
        "        X_train1, X_test1, y_train1, y_test1 = train_test_split(X, y)\n",
        "#Stan\n",
        "        sliced_data1 = dividing_data(X_train1, y_train1, size)\n",
        "        print(sliced_data1)\n",
        "        return sliced_data1\n",
        "#Stan\n",
        "\n",
        "        # for item in masterlist:\n",
        "        #     # each of this tuple contains feature and test data\n",
        "        #     comm.send(item, dest=i, tag=i)\n",
        "\n",
        "        #     # Displaying the results\n",
        "        #     print('Process {} sent data:'.format(rank), item)\n",
        "        #     print(item)\n",
        "\n",
        "        # # master process sends data to worker processes by\n",
        "        # # going through the ranks of all worker processes\n",
        "\n",
        "        # for i in range(1, size):\n",
        "        #     # Sending data\n",
        "        #     comm.send(silced_data1, dest=i, tag=i)\n",
        "\n",
        "        #     # Displaying the results\n",
        "        #     print('Process {} sent data:'.format(rank), silced_data1)\n",
        "\n",
        "    # worker processes\n",
        "    else:\n",
        "        # each worker process receives data from master process\n",
        "        # item = comm.recv(source=0, tag=rank)\n",
        "        print('Process {} else rank:'.format(rank))\n",
        "#Stan\n",
        "sliced_data1 = prepareDataAtRootAndSendToEveryBody(X, y)\n",
        "#Stan\n",
        "\n",
        "print(len(masterlist1))\n",
        "\n",
        "def main(sliced_data1, num_workers):\n",
        "    # communicator\n",
        "    comm = MPI.COMM_WORLD\n",
        "    rank = comm.Get_rank()   # number of the process running the code\n",
        "    size = comm.Get_size()   # total number of processes running\n",
        "    # numDataPerRank = len(sliced_data1) // num_workers   # Number of elements in a array for each rank\n",
        "    # data = None # Starting with an empty  data\n",
        "    #if rank == 0:\n",
        "\n",
        "        # for item in masterlist:\n",
        "        #     # each of this tuple contains feature and test data\n",
        "\n",
        "        #     # Displaying the results\n",
        "        #     print(item)\n",
        "\n",
        "        #     recvbuf = np.empty(numDataPerRank*2, dtype='d') # allocate space for recvbuf\n",
        "        #     # scatter operation\n",
        "        #     comm.Scatter(item, recvbuf, root=0)\n",
        "\n",
        "        #     # Displaying the result\n",
        "        #     print('Rank: ',rank, ', recvbuf received: ',recvbuf)\n",
        "\n",
        "        # Split DataFrame into chunks\n",
        "        #chunks = np.array_split(df, num_workers)\n",
        "        #recvbuf = np.empty(numDataPerRank, dtype='d') # allocate space for recvbuf\n",
        "\n",
        "    #Stan bookmark\n",
        "        # Scatter data to MPI processes\n",
        "\n",
        "    if rank == 0:\n",
        "        scatter_data = None\n",
        "    else:\n",
        "        scatter_data = None\n",
        "\n",
        "    if rank == 0:\n",
        "        scatter_data = sliced_data1\n",
        "\n",
        "# Scatter data from root process to all other processes\n",
        "    recv_buffer = comm.scatter(scatter_data, root=0)\n",
        "    print('Rank: ',rank, ', recvbuf received: ',recv_buffer)\n",
        "\n",
        "    intercept, coefficients = fit(recv_buffer[0], recv_buffer[1])\n",
        "    print(\"Intercept:\", intercept)\n",
        "    print(\"Coefficients:\", coefficients)\n",
        "\n",
        "    #Gather coefficients\n",
        "\n",
        "    # Creating a sender buffer array\n",
        "    sendCoeffArray = np.empty(5, dtype='d')\n",
        "    # Filling the sender buffer array\n",
        "    sendCoeffArray[0] = intercept\n",
        "    sendCoeffArray[1:] = coefficients\n",
        "\n",
        "    # Printing the result\n",
        "    print('Rank: ',rank, ', send coeff array: ',sendCoeffArray)\n",
        "\n",
        "    recvCoeffArray = None\n",
        "    if rank == 0:\n",
        "        # Creating a receiver buffer array\n",
        "        recvCoeffArray = np.empty(5 * size, dtype='d')\n",
        "    # Gathering the Information\n",
        "    comm.Gather(sendCoeffArray, recvCoeffArray, root = 0)\n",
        "    # Display the result\n",
        "    if rank == 0:\n",
        "        print('Rank: ',rank, ', recv Coeff Array received: ',recvCoeffArray)\n",
        "\n",
        "        # Calculate mean of coefficients\n",
        "        sum_coefficients = np.zeros(5, dtype='d')\n",
        "        for i in range(size):\n",
        "            for j in range(5):\n",
        "                sum_coefficients[j] += recvCoeffArray[5*i + j]\n",
        "        print(\"Sum Coefficients:\", sum_coefficients)\n",
        "        mean_coefficients = sum_coefficients / size\n",
        "        print(\"Mean Coefficients:\", mean_coefficients)\n",
        "\n",
        "        X_train1, X_test1, y_train1, y_test1 = train_test_split(X, y)\n",
        "        y_pred1 = predict(X_test1, mean_coefficients[0], mean_coefficients[1:])\n",
        "\n",
        "        rmse = calculateRMSE(y_test1, y_pred1)\n",
        "        print(\"RMSE:\", rmse)\n",
        "\n",
        "\n",
        "\n",
        "def fit(features, target):\n",
        "  \"\"\"\n",
        "  Fits a linear regression model and returns the intercept and coefficients.\n",
        "\n",
        "  Args:\n",
        "      features (pandas.DataFrame): The DataFrame containing features.\n",
        "      target (pandas.Series): The Series containing the target variable.\n",
        "\n",
        "  Returns:\n",
        "      tuple: A tuple containing the intercept (float) and coefficients (numpy.ndarray).\n",
        "  \"\"\"\n",
        "\n",
        "  # Add a dummy column of ones for the intercept\n",
        "  #features['intercept'] = 1  # Add a column of ones\n",
        "  features.insert(0, 'intercept',1)\n",
        "\n",
        "  # Convert features to a NumPy array\n",
        "  X1 = features.to_numpy()\n",
        "\n",
        "  # Call the estimated coefficients function (assuming it's defined elsewhere)\n",
        "  #coefficients = estimated_coefficients(X, target)  # Replace with your coefficients function\n",
        "  coefficients = calculate_beta(X1, target)\n",
        "  print(coefficients)\n",
        "\n",
        "  # Separate intercept and coefficients\n",
        "  intercept = coefficients[0]\n",
        "  coefficients = coefficients[1:]\n",
        "\n",
        "  return intercept, coefficients\n",
        "\n",
        "# Calculating the coeffients\n",
        "\n",
        "# YOUR CODE HERE\n",
        "\n",
        "def calculate_beta(X, y):\n",
        "  \"\"\"\n",
        "  Calculates the beta coefficient using the formula β = (X^T * X)^-1 * X^T * y.\n",
        "\n",
        "  Args:\n",
        "      X (numpy.ndarray): The features matrix (2D array).\n",
        "      y (numpy.ndarray): The target variable (1D array).\n",
        "\n",
        "  Returns:\n",
        "      numpy.ndarray: The beta coefficient vector.\n",
        "  \"\"\"\n",
        "  # Calculate transpose of X\n",
        "  X_transpose = X.T\n",
        "\n",
        "  # Calculate pseudo-inverse of (X^T * X) using np.linalg.pinv for better stability\n",
        "  X_pinv = np.linalg.pinv(X_transpose.dot(X))\n",
        "\n",
        "  # Calculate beta using the formula\n",
        "  beta = X_pinv.dot(X_transpose.dot(y))\n",
        "\n",
        "  return beta\n",
        "\n",
        "# Example usage (assuming you have features and target)\n",
        "intercept, coefficients = fit(X.copy(), y.copy())\n",
        "#intercept, coefficients = fit(X, y)\n",
        "\n",
        "print(\"Intercept:\", intercept)\n",
        "print(\"Coefficients:\", coefficients)\n",
        "\n",
        "# fucntion to predict the values\n",
        "\n",
        "def predict(X1, intercept, coefficients):\n",
        "  \"\"\"\n",
        "  Predicts target values for new features using a linear regression model.\n",
        "  y = b_0 + b_1*x + ... + b_i*x_i\n",
        "  Args:\n",
        "      X (numpy.ndarray): The features matrix (2D array) for new data points.\n",
        "      coefficients (numpy.ndarray): The model coefficients (1D array).\n",
        "\n",
        "  Returns:\n",
        "      numpy.ndarray: The predicted target values (1D array).\n",
        "  \"\"\"\n",
        "\n",
        "  # Add a column of ones for the intercept term (if not already included)\n",
        "  if X1.shape[1] != len(coefficients):\n",
        "    X1 = np.concatenate((X1, np.ones((X1.shape[0], 1))), axis=1)\n",
        "    print('if condition was executed')\n",
        "\n",
        "  intercept_array = np.full(X1.shape[0], intercept)\n",
        "  # Calculate predicted target values\n",
        "  y_pred = X1.dot(coefficients) + intercept_array\n",
        "\n",
        "  return y_pred\n",
        "\n",
        "# Define a function to calculate the error\n",
        "\n",
        "# YOUR CODE HERE\n",
        "\n",
        "def calculateRMSE(y_true, y_pred):\n",
        "  \"\"\"\n",
        "  Calculates the Root Mean Squared Error (RMSE) between true and predicted values.\n",
        "\n",
        "  Args:\n",
        "      y_true (numpy.ndarray): The ground truth target values (1D array).\n",
        "      y_pred (numpy.ndarray): The predicted target values (1D array).\n",
        "\n",
        "  Returns:\n",
        "      float: The Root Mean Squared Error (RMSE).\n",
        "  \"\"\"\n",
        "\n",
        "  # Calculate squared errors\n",
        "  squared_errors = np.square(y_true - y_pred)\n",
        "\n",
        "  # Mean squared error\n",
        "  mse = np.mean(squared_errors)\n",
        "\n",
        "  # Root Mean Squared Error\n",
        "  rmse = np.sqrt(mse)\n",
        "\n",
        "  return rmse\n",
        "\n",
        "\n",
        "\n",
        "\n",
        "\n",
        "main(sliced_data1, 4)"
      ],
      "id": "consistent-union",
      "execution_count": null,
      "outputs": [
        {
          "output_type": "stream",
          "name": "stdout",
          "text": [
            "Overwriting scatter1.py\n"
          ]
        }
      ]
    },
    {
      "cell_type": "code",
      "source": [
        "!mpirun --allow-run-as-root --oversubscribe -np 4 python scatter1.py"
      ],
      "metadata": {
        "colab": {
          "base_uri": "https://localhost:8080/"
        },
        "id": "SsKmWSuAsAm_",
        "outputId": "49f390e7-5481-4272-b041-f1cb11db17e9"
      },
      "id": "SsKmWSuAsAm_",
      "execution_count": null,
      "outputs": [
        {
          "output_type": "stream",
          "name": "stdout",
          "text": [
            "9568 5                 AT            V           AP           RH           PE\n",
            "count  9568.000000  9568.000000  9568.000000  9568.000000  9568.000000\n",
            "mean     19.651231    54.305804  1013.259078    73.308978   454.365009\n",
            "std       7.452473    12.707893     5.938784    14.600269    17.066995\n",
            "min       1.810000    25.360000   992.890000    25.560000   420.260000\n",
            "25%      13.510000    41.740000  1009.100000    63.327500   439.750000\n",
            "50%      20.345000    52.080000  1012.940000    74.975000   451.550000\n",
            "75%      25.720000    66.540000  1017.260000    84.830000   468.430000\n",
            "max      37.110000    81.560000  1033.300000   100.160000   495.760000\n",
            "AT    0\n",
            "V     0\n",
            "AP    0\n",
            "RH    0\n",
            "PE    0\n",
            "dtype: int64 0\n",
            "9568 5                 AT            V           AP           RH           PE\n",
            "count  9568.000000  9568.000000  9568.000000  9568.000000  9568.000000\n",
            "mean     19.651231    54.305804  1013.259078    73.308978   454.365009\n",
            "std       7.452473    12.707893     5.938784    14.600269    17.066995\n",
            "min       1.810000    25.360000   992.890000    25.560000   420.260000\n",
            "25%      13.510000    41.740000  1009.100000    63.327500   439.750000\n",
            "50%      20.345000    52.080000  1012.940000    74.975000   451.550000\n",
            "75%      25.720000    66.540000  1017.260000    84.830000   468.430000\n",
            "max      37.110000    81.560000  1033.300000   100.160000   495.760000\n",
            "AT    0\n",
            "V     0\n",
            "AP    0\n",
            "RH    0\n",
            "PE    0\n",
            "dtype: int64 0\n",
            "            AT         V        AP        RH      PE\n",
            "0    -1.517782 -1.065149 -0.407336  1.143885  480.48\n",
            "1     0.535228  0.329260 -0.313040  0.061028  445.75\n",
            "2     1.353748  0.204141 -1.028675 -2.150575  438.76\n",
            "3    -0.077992 -0.363223 -1.016888  0.238422  453.09\n",
            "4    -1.053507 -1.073805  0.651804  1.636341  464.43\n",
            "...        ...       ...       ...       ...     ...\n",
            "9563 -0.608017 -0.423816 -0.245686 -0.025957  462.59\n",
            "9564  1.846202  1.860591 -0.498263 -0.930735  432.90\n",
            "9565 -0.491277 -0.862913  0.158437  0.366502  465.96\n",
            "9566 -0.268532  0.437854  0.895962  1.461687  450.93\n",
            "9567  0.540595 -0.236530 -0.235583 -0.141708  451.67\n",
            "\n",
            "[9568 rows x 5 columns]\n",
            "0 4\n",
            "            AT         V        AP        RH      PE\n",
            "0    -1.517782 -1.065149 -0.407336  1.143885  480.48\n",
            "1     0.535228  0.329260 -0.313040  0.061028  445.75\n",
            "2     1.353748  0.204141 -1.028675 -2.150575  438.76\n",
            "3    -0.077992 -0.363223 -1.016888  0.238422  453.09\n",
            "4    -1.053507 -1.073805  0.651804  1.636341  464.43\n",
            "...        ...       ...       ...       ...     ...\n",
            "9563 -0.608017 -0.423816 -0.245686 -0.025957  462.59\n",
            "9564  1.846202  1.860591 -0.498263 -0.930735  432.90\n",
            "9565 -0.491277 -0.862913  0.158437  0.366502  465.96\n",
            "9566 -0.268532  0.437854  0.895962  1.461687  450.93\n",
            "9567  0.540595 -0.236530 -0.235583 -0.141708  451.67\n",
            "\n",
            "[9568 rows x 5 columns]\n",
            "1 4\n",
            "Process 1 else rank:\n",
            "0\n",
            "[ 4.54365009e+02 -1.47373635e+01 -2.97258487e+00  3.68697175e-01\n",
            " -2.30763238e+00]\n",
            "Intercept: 454.3650094063546\n",
            "Coefficients: [-14.73736349  -2.97258487   0.36869717  -2.30763238]\n",
            "9568 5                 AT            V           AP           RH           PE\n",
            "count  9568.000000  9568.000000  9568.000000  9568.000000  9568.000000\n",
            "mean     19.651231    54.305804  1013.259078    73.308978   454.365009\n",
            "std       7.452473    12.707893     5.938784    14.600269    17.066995\n",
            "min       1.810000    25.360000   992.890000    25.560000   420.260000\n",
            "25%      13.510000    41.740000  1009.100000    63.327500   439.750000\n",
            "50%      20.345000    52.080000  1012.940000    74.975000   451.550000\n",
            "75%      25.720000    66.540000  1017.260000    84.830000   468.430000\n",
            "max      37.110000    81.560000  1033.300000   100.160000   495.760000\n",
            "AT    0\n",
            "V     0\n",
            "AP    0\n",
            "RH    0\n",
            "PE    0\n",
            "dtype: int64 0\n",
            "[(            AT         V        AP        RH\n",
            "2652  1.086722  1.266472 -1.112867  1.157583\n",
            "3347  1.160523  0.390639 -0.393865 -0.786217\n",
            "6749 -1.292354 -1.268960  0.702319 -0.336225\n",
            "4487 -1.830430 -1.457032 -0.336614  1.192514\n",
            "5589  0.846534  0.745536  0.621495 -1.632777\n",
            "...        ...       ...       ...       ...\n",
            "4981 -1.225262 -1.046263  1.194002  1.388401\n",
            "3891 -1.198425 -1.459392  1.086236 -0.756765\n",
            "258  -0.919323 -0.740154 -0.956270 -0.459511\n",
            "5551 -1.234655 -1.150136 -1.572557  1.105529\n",
            "9053  0.300406 -0.702383  0.195481 -0.298555\n",
            "\n",
            "[1674 rows x 4 columns], 2652    436.53\n",
            "3347    445.19\n",
            "6749    476.83\n",
            "4487    482.79\n",
            "5589    443.80\n",
            "         ...  \n",
            "4981    466.75\n",
            "3891    473.48\n",
            "258     466.95\n",
            "5551    472.54\n",
            "9053    459.45\n",
            "Name: PE, Length: 1674, dtype: float64), (            AT         V        AP        RH\n",
            "4742 -1.778098 -1.033673  1.057611  0.826082\n",
            "8778 -0.960920 -0.998262 -0.318092  0.641839\n",
            "4089 -0.222910 -0.292401  0.444691  0.271983\n",
            "7942  0.289671  0.846261  0.225791 -0.472524\n",
            "8026 -0.394665 -1.081674  1.047508 -1.604695\n",
            "...        ...       ...       ...       ...\n",
            "8710  1.555023  1.423068 -2.321869 -0.351978\n",
            "8861  0.665386  0.636156 -1.156647  0.395268\n",
            "5585 -0.888461 -0.900685  0.190430  0.886355\n",
            "6201  1.385952  1.714226 -0.949534  0.156916\n",
            "1451  0.083029  0.691239  0.562560  1.191144\n",
            "\n",
            "[1674 rows x 4 columns], 4742    488.82\n",
            "8778    461.35\n",
            "4089    462.20\n",
            "7942    447.13\n",
            "8026    467.46\n",
            "         ...  \n",
            "8710    430.70\n",
            "8861    437.01\n",
            "5585    475.03\n",
            "6201    432.00\n",
            "1451    446.75\n",
            "Name: PE, Length: 1674, dtype: float64), (            AT         V        AP        RH\n",
            "8599 -0.104828  0.681010  1.227679  0.654852\n",
            "4364  1.418156  1.620583 -1.631492 -0.421840\n",
            "1244  1.325569  0.797473 -0.006580 -0.928680\n",
            "3853 -0.188022  0.455953 -0.595926  1.153473\n",
            "521  -1.397017 -1.015574  2.940151  0.962381\n",
            "...        ...       ...       ...       ...\n",
            "8314  0.280279  0.469330  0.431220  1.071968\n",
            "8822  1.024998  1.024103  0.111289 -2.732756\n",
            "8087 -0.908588 -0.826715  1.672215 -0.967720\n",
            "4411 -0.685844 -0.907767  1.069398  0.582936\n",
            "6351  1.055860  0.939904 -0.850187  0.376090\n",
            "\n",
            "[1674 rows x 4 columns], 8599    455.22\n",
            "4364    434.17\n",
            "1244    440.10\n",
            "3853    456.25\n",
            "521     476.90\n",
            "         ...  \n",
            "8314    441.22\n",
            "8822    437.26\n",
            "8087    468.19\n",
            "4411    466.37\n",
            "6351    438.51\n",
            "Name: PE, Length: 1674, dtype: float64), (            AT         V        AP        RH\n",
            "1586 -1.665384 -1.033673  1.194002  0.496636\n",
            "1994  1.848885  1.225553 -1.077507 -1.949894\n",
            "796   0.195743  0.300144  0.357131  0.306229\n",
            "7450 -1.178298 -0.755106  1.367439 -1.033473\n",
            "7192 -0.014925 -0.766123 -1.021940  0.384994\n",
            "...        ...       ...       ...       ...\n",
            "1906 -0.908588 -1.075379  1.263040  1.319909\n",
            "8934  0.021304  0.962724  0.104554  0.464445\n",
            "6679 -0.539583 -0.984884 -1.104448  0.340475\n",
            "6575  1.061227  0.993414  0.597921 -1.213606\n",
            "8931 -0.369170 -1.237483  0.139914 -0.219104\n",
            "\n",
            "[1675 rows x 4 columns], 1586    486.76\n",
            "1994    435.59\n",
            "796     453.28\n",
            "7450    484.63\n",
            "7192    450.54\n",
            "         ...  \n",
            "1906    474.58\n",
            "8934    449.07\n",
            "6679    455.24\n",
            "6575    444.10\n",
            "8931    459.87\n",
            "Name: PE, Length: 1675, dtype: float64)]\n",
            "4\n",
            "[ 4.54365009e+02 -1.47373635e+01 -2.97258487e+00  3.68697175e-01\n",
            " -2.30763238e+00]\n",
            "Intercept: 454.3650094063546\n",
            "Coefficients: [-14.73736349  -2.97258487   0.36869717  -2.30763238]\n",
            "Rank:  1 , recvbuf received:  (            AT         V        AP        RH\n",
            "4742 -1.778098 -1.033673  1.057611  0.826082\n",
            "8778 -0.960920 -0.998262 -0.318092  0.641839\n",
            "4089 -0.222910 -0.292401  0.444691  0.271983\n",
            "7942  0.289671  0.846261  0.225791 -0.472524\n",
            "8026 -0.394665 -1.081674  1.047508 -1.604695\n",
            "...        ...       ...       ...       ...\n",
            "8710  1.555023  1.423068 -2.321869 -0.351978\n",
            "8861  0.665386  0.636156 -1.156647  0.395268\n",
            "5585 -0.888461 -0.900685  0.190430  0.886355\n",
            "6201  1.385952  1.714226 -0.949534  0.156916\n",
            "1451  0.083029  0.691239  0.562560  1.191144\n",
            "\n",
            "[1674 rows x 4 columns], 4742    488.82\n",
            "8778    461.35\n",
            "4089    462.20\n",
            "7942    447.13\n",
            "8026    467.46\n",
            "         ...  \n",
            "8710    430.70\n",
            "8861    437.01\n",
            "5585    475.03\n",
            "6201    432.00\n",
            "1451    446.75\n",
            "Name: PE, Length: 1674, dtype: float64)\n",
            "[454.25408856 -14.49234782  -3.10951789   0.46421291  -2.15385309]\n",
            "Intercept: 454.25408856176875\n",
            "Coefficients: [-14.49234782  -3.10951789   0.46421291  -2.15385309]\n",
            "Rank:  1 , send coeff array:  [454.25408856 -14.49234782  -3.10951789   0.46421291  -2.15385309]\n",
            "9568 5                 AT            V           AP           RH           PE\n",
            "count  9568.000000  9568.000000  9568.000000  9568.000000  9568.000000\n",
            "mean     19.651231    54.305804  1013.259078    73.308978   454.365009\n",
            "std       7.452473    12.707893     5.938784    14.600269    17.066995\n",
            "min       1.810000    25.360000   992.890000    25.560000   420.260000\n",
            "25%      13.510000    41.740000  1009.100000    63.327500   439.750000\n",
            "50%      20.345000    52.080000  1012.940000    74.975000   451.550000\n",
            "75%      25.720000    66.540000  1017.260000    84.830000   468.430000\n",
            "max      37.110000    81.560000  1033.300000   100.160000   495.760000\n",
            "AT    0\n",
            "V     0\n",
            "AP    0\n",
            "RH    0\n",
            "PE    0\n",
            "dtype: int64 0\n",
            "            AT         V        AP        RH      PE\n",
            "0    -1.517782 -1.065149 -0.407336  1.143885  480.48\n",
            "1     0.535228  0.329260 -0.313040  0.061028  445.75\n",
            "2     1.353748  0.204141 -1.028675 -2.150575  438.76\n",
            "3    -0.077992 -0.363223 -1.016888  0.238422  453.09\n",
            "4    -1.053507 -1.073805  0.651804  1.636341  464.43\n",
            "...        ...       ...       ...       ...     ...\n",
            "9563 -0.608017 -0.423816 -0.245686 -0.025957  462.59\n",
            "9564  1.846202  1.860591 -0.498263 -0.930735  432.90\n",
            "9565 -0.491277 -0.862913  0.158437  0.366502  465.96\n",
            "9566 -0.268532  0.437854  0.895962  1.461687  450.93\n",
            "9567  0.540595 -0.236530 -0.235583 -0.141708  451.67\n",
            "\n",
            "[9568 rows x 5 columns]\n",
            "3 4\n",
            "Process 3 else rank:\n",
            "0\n",
            "[ 4.54365009e+02 -1.47373635e+01 -2.97258487e+00  3.68697175e-01\n",
            " -2.30763238e+00]\n",
            "Intercept: 454.3650094063546\n",
            "Coefficients: [-14.73736349  -2.97258487   0.36869717  -2.30763238]\n",
            "            AT         V        AP        RH      PE\n",
            "0    -1.517782 -1.065149 -0.407336  1.143885  480.48\n",
            "1     0.535228  0.329260 -0.313040  0.061028  445.75\n",
            "2     1.353748  0.204141 -1.028675 -2.150575  438.76\n",
            "3    -0.077992 -0.363223 -1.016888  0.238422  453.09\n",
            "4    -1.053507 -1.073805  0.651804  1.636341  464.43\n",
            "...        ...       ...       ...       ...     ...\n",
            "9563 -0.608017 -0.423816 -0.245686 -0.025957  462.59\n",
            "9564  1.846202  1.860591 -0.498263 -0.930735  432.90\n",
            "9565 -0.491277 -0.862913  0.158437  0.366502  465.96\n",
            "9566 -0.268532  0.437854  0.895962  1.461687  450.93\n",
            "9567  0.540595 -0.236530 -0.235583 -0.141708  451.67\n",
            "\n",
            "[9568 rows x 5 columns]\n",
            "2 4\n",
            "Process 2 else rank:\n",
            "0\n",
            "[ 4.54365009e+02 -1.47373635e+01 -2.97258487e+00  3.68697175e-01\n",
            " -2.30763238e+00]\n",
            "Intercept: 454.3650094063546\n",
            "Coefficients: [-14.73736349  -2.97258487   0.36869717  -2.30763238]\n",
            "Rank:  0 , recvbuf received:  (            AT         V        AP        RH\n",
            "2652  1.086722  1.266472 -1.112867  1.157583\n",
            "3347  1.160523  0.390639 -0.393865 -0.786217\n",
            "6749 -1.292354 -1.268960  0.702319 -0.336225\n",
            "4487 -1.830430 -1.457032 -0.336614  1.192514\n",
            "5589  0.846534  0.745536  0.621495 -1.632777\n",
            "...        ...       ...       ...       ...\n",
            "4981 -1.225262 -1.046263  1.194002  1.388401\n",
            "3891 -1.198425 -1.459392  1.086236 -0.756765\n",
            "258  -0.919323 -0.740154 -0.956270 -0.459511\n",
            "5551 -1.234655 -1.150136 -1.572557  1.105529\n",
            "9053  0.300406 -0.702383  0.195481 -0.298555\n",
            "\n",
            "[1674 rows x 4 columns], 2652    436.53\n",
            "3347    445.19\n",
            "6749    476.83\n",
            "4487    482.79\n",
            "5589    443.80\n",
            "         ...  \n",
            "4981    466.75\n",
            "3891    473.48\n",
            "258     466.95\n",
            "5551    472.54\n",
            "9053    459.45\n",
            "Name: PE, Length: 1674, dtype: float64)\n",
            "[ 4.54343842e+02 -1.49536492e+01 -2.91379363e+00  4.06896239e-01\n",
            " -2.30823471e+00]Rank:  2 , recvbuf received:  (            AT         V        AP        RH\n",
            "8599 -0.104828  0.681010  1.227679  0.654852\n",
            "4364  1.418156  1.620583 -1.631492 -0.421840\n",
            "1244  1.325569  0.797473 -0.006580 -0.928680\n",
            "3853 -0.188022  0.455953 -0.595926  1.153473\n",
            "521  -1.397017 -1.015574  2.940151  0.962381\n",
            "...        ...       ...       ...       ...\n",
            "8314  0.280279  0.469330  0.431220  1.071968\n",
            "8822  1.024998  1.024103  0.111289 -2.732756\n",
            "8087 -0.908588 -0.826715  1.672215 -0.967720\n",
            "4411 -0.685844 -0.907767  1.069398  0.582936\n",
            "6351  1.055860  0.939904 -0.850187  0.376090\n",
            "\n",
            "[1674 rows x 4 columns], 8599    455.22\n",
            "4364    434.17\n",
            "1244    440.10\n",
            "3853    456.25\n",
            "521     476.90\n",
            "         ...  \n",
            "8314    441.22\n",
            "8822    437.26\n",
            "8087    468.19\n",
            "4411    466.37\n",
            "6351    438.51\n",
            "Name: PE, Length: 1674, dtype: float64)\n",
            "\n",
            "Intercept: 454.34384168200967\n",
            "Coefficients: [-14.95364921  -2.91379363   0.40689624  -2.30823471]\n",
            "Rank:  0 , send coeff array:  [ 4.54343842e+02 -1.49536492e+01 -2.91379363e+00  4.06896239e-01\n",
            " -2.30823471e+00]\n",
            "[ 4.54324662e+02 -1.44841720e+01 -3.06475211e+00  2.60342694e-01\n",
            " -2.19517296e+00]\n",
            "Rank:  3 , recvbuf received:  (            AT         V        AP        RH\n",
            "1586 -1.665384 -1.033673  1.194002  0.496636\n",
            "1994  1.848885  1.225553 -1.077507 -1.949894\n",
            "796   0.195743  0.300144  0.357131  0.306229\n",
            "7450 -1.178298 -0.755106  1.367439 -1.033473\n",
            "7192 -0.014925 -0.766123 -1.021940  0.384994\n",
            "...        ...       ...       ...       ...\n",
            "1906 -0.908588 -1.075379  1.263040  1.319909\n",
            "8934  0.021304  0.962724  0.104554  0.464445\n",
            "6679 -0.539583 -0.984884 -1.104448  0.340475\n",
            "6575  1.061227  0.993414  0.597921 -1.213606\n",
            "8931 -0.369170 -1.237483  0.139914 -0.219104\n",
            "\n",
            "[1675 rows x 4 columns], 1586    486.76\n",
            "1994    435.59\n",
            "796     453.28\n",
            "7450    484.63\n",
            "7192    450.54\n",
            "         ...  \n",
            "1906    474.58\n",
            "8934    449.07\n",
            "6679    455.24\n",
            "6575    444.10\n",
            "8931    459.87\n",
            "Name: PE, Length: 1675, dtype: float64)\n",
            "[ 4.54439153e+02 -1.49384568e+01 -2.74769739e+00  3.69359525e-01\n",
            " -2.39833841e+00]Intercept: 454.324661982735\n",
            "Coefficients: [-14.484172    -3.06475211   0.26034269  -2.19517296]\n",
            "Rank:  2 , send coeff array:  [ 4.54324662e+02 -1.44841720e+01 -3.06475211e+00  2.60342694e-01\n",
            " -2.19517296e+00]\n",
            "\n",
            "Intercept: 454.4391533175898\n",
            "Coefficients: [-14.93845677  -2.74769739   0.36935952  -2.39833841]\n",
            "Rank:  3 , send coeff array:  [ 4.54439153e+02 -1.49384568e+01 -2.74769739e+00  3.69359525e-01\n",
            " -2.39833841e+00]\n",
            "Rank:  0 , recv Coeff Array received:  [ 4.54343842e+02 -1.49536492e+01 -2.91379363e+00  4.06896239e-01\n",
            " -2.30823471e+00  4.54254089e+02 -1.44923478e+01 -3.10951789e+00\n",
            "  4.64212911e-01 -2.15385309e+00  4.54324662e+02 -1.44841720e+01\n",
            " -3.06475211e+00  2.60342694e-01 -2.19517296e+00  4.54439153e+02\n",
            " -1.49384568e+01 -2.74769739e+00  3.69359525e-01 -2.39833841e+00]\n",
            "Sum Coefficients: [ 1.81736175e+03 -5.88686258e+01 -1.18357610e+01  1.50081137e+00\n",
            " -9.05559916e+00]\n",
            "Mean Coefficients: [ 4.54340436e+02 -1.47171564e+01 -2.95894025e+00  3.75202842e-01\n",
            " -2.26389979e+00]\n",
            "RMSE: 4.449116390161502\n"
          ]
        }
      ]
    },
    {
      "cell_type": "markdown",
      "metadata": {
        "id": "hired-uniform"
      },
      "source": [
        "#### Exercise 17: Make a script and execute everything in one place (1 point)\n",
        "\n",
        "Write a script(.py) file which contains the code of all the above exercises in it so that you can run the code on multiple processes using MPI.\n",
        "\n",
        "**Hint:**\n",
        "\n",
        "- magic commands\n",
        "- put MPI related code under main function\n",
        "- !mpirun --allow-run-as-root -np 4 python filename.py"
      ],
      "id": "hired-uniform"
    },
    {
      "cell_type": "code",
      "metadata": {
        "id": "motivated-national"
      },
      "source": [
        "# YOUR CODE HERE for scipt(.py)"
      ],
      "id": "motivated-national",
      "execution_count": null,
      "outputs": []
    },
    {
      "cell_type": "code",
      "metadata": {
        "id": "experimental-waterproof",
        "scrolled": true
      },
      "source": [
        "# YOUR CODE HERE for MPI command"
      ],
      "id": "experimental-waterproof",
      "execution_count": null,
      "outputs": []
    },
    {
      "cell_type": "markdown",
      "metadata": {
        "id": "protecting-assets"
      },
      "source": [
        "#### Exercise 18: Use Sklearn to compare (1 point)\n",
        "\n",
        "Apply the Linear regression on the given data using sklearn package and compare with the above results\n",
        "\n",
        "**Hint:**\n",
        "* Split the data into train and test\n",
        "* Fit the train data and predict the test data using `sklearn Linear Regression`\n",
        "* Compare the coefficients and intercept with above estimated coefficients\n",
        "* calculate loss (RMSE) on test data and predictions and compare"
      ],
      "id": "protecting-assets"
    },
    {
      "cell_type": "code",
      "metadata": {
        "id": "applicable-tyler"
      },
      "source": [
        "# YOUR CODE HERE\n",
        "# YOUR CODE HERE\n",
        "# YOUR CODE HERE\n",
        "import numpy as np\n",
        "import pandas as pd\n",
        "\n",
        "from sklearn.linear_model import LinearRegression\n",
        "from sklearn.metrics import mean_squared_error\n",
        "\n",
        "def perform_linear_regression(X, y):\n",
        "    X_train, X_test, y_train, y_test = train_test_split(X, y)\n",
        "    model = LinearRegression()\n",
        "    model.fit(X_train, y_train)\n",
        "    y_hat = model.predict(X_test)\n",
        "    coefficients = model.coef_\n",
        "    intercept = model.intercept_\n",
        "\n",
        "    return y_test, y_hat, coefficients, intercept\n",
        "\n",
        "y_test, y_hat, coefficients, intercept = perform_linear_regression(X, y)\n",
        "#rmse = mean_squared_error(y_test, y_hat, squared=False)"
      ],
      "id": "applicable-tyler",
      "execution_count": null,
      "outputs": []
    },
    {
      "cell_type": "markdown",
      "source": [],
      "metadata": {
        "id": "iUe6mGzqb-Fg"
      },
      "id": "iUe6mGzqb-Fg"
    },
    {
      "cell_type": "markdown",
      "source": [
        "Calculations done using SMP (by OpenMP) and DMP (using MPI) seem to be yielding similar results in terms of coefficients and RMSE. (RMSE calculated below)"
      ],
      "metadata": {
        "id": "GAWxD4LscAJ2"
      },
      "id": "GAWxD4LscAJ2"
    },
    {
      "cell_type": "code",
      "source": [
        "rmse = calculateRMSE(y_test, y_hat)\n",
        "print(f\"RMSE: {rmse}\")"
      ],
      "metadata": {
        "colab": {
          "base_uri": "https://localhost:8080/"
        },
        "id": "D3NckjoAb_Jj",
        "outputId": "f50e60bd-aa75-4fbd-bbe0-5646f1e71f56"
      },
      "id": "D3NckjoAb_Jj",
      "execution_count": null,
      "outputs": [
        {
          "output_type": "stream",
          "name": "stdout",
          "text": [
            "RMSE: 4.614069537198912\n"
          ]
        }
      ]
    }
  ]
}