{
  "nbformat": 4,
  "nbformat_minor": 0,
  "metadata": {
    "colab": {
      "provenance": [],
      "include_colab_link": true
    },
    "kernelspec": {
      "display_name": "Python 3",
      "language": "python",
      "name": "python3"
    },
    "language_info": {
      "codemirror_mode": {
        "name": "ipython",
        "version": 3
      },
      "file_extension": ".py",
      "mimetype": "text/x-python",
      "name": "python",
      "nbconvert_exporter": "python",
      "pygments_lexer": "ipython3",
      "version": "3.7.1"
    }
  },
  "cells": [
    {
      "cell_type": "markdown",
      "metadata": {
        "id": "view-in-github",
        "colab_type": "text"
      },
      "source": [
        "<a href=\"https://colab.research.google.com/github/deepakk7195/IISC_CDS_DS/blob/foundations_of_ds/M1_AST_08_Tensor_Operations_C.ipynb\" target=\"_parent\"><img src=\"https://colab.research.google.com/assets/colab-badge.svg\" alt=\"Open In Colab\"/></a>"
      ]
    },
    {
      "cell_type": "markdown",
      "metadata": {
        "id": "xNe7dVP19Pb8"
      },
      "source": [
        "# Advanced Certification Program in Computational Data Science\n",
        "## A program by IISc and TalentSprint\n",
        "### Assignment 8: Tensor Operations"
      ]
    },
    {
      "cell_type": "markdown",
      "metadata": {
        "id": "jDWUyCYxQRAK"
      },
      "source": [
        "## Learning Objectives"
      ]
    },
    {
      "cell_type": "markdown",
      "metadata": {
        "id": "-vPeurvKNAEz"
      },
      "source": [
        "At the end of the experiment, you will be able to\n",
        "* understand Tensors and their application\n",
        "* define/form Tensors\n",
        "* perform different operations of Tensor using NumPy and Tensorflow library"
      ]
    },
    {
      "cell_type": "markdown",
      "metadata": {
        "id": "nr4zv0uVTA9j"
      },
      "source": [
        "## Information"
      ]
    },
    {
      "cell_type": "markdown",
      "metadata": {
        "id": "fhjkrEeSUIgu"
      },
      "source": [
        "**Tensors**: Tensor, in relation to machine learning, is a generalization of scalars, vectors, and matrices as seen in the table below.\n",
        "\n",
        "![img](https://cdn.iisc.talentsprint.com/CDS/Images/tensors.JPG)"
      ]
    },
    {
      "cell_type": "markdown",
      "metadata": {
        "id": "qQUX9GMPFl2U"
      },
      "source": [
        "* From the above explanation, you might have understood that Tensor operations are nothing but matrix operations.\n",
        "\n",
        "**Tensorflow**:\n",
        "We are introducing Tensorflow here, a widely used library for Machine Learning, specifically deep learning. Tensorflow's name is directly derived from its core framework: Tensor and all the computations carried out involve Tensor and its operations.TensorFlow was developed by the Google Brain team and first released under the Apache License 2.0 in 2015.\n",
        "* In the following sections, we will see few commonly used operations of Tensor using both NumPy and TensorFlow Library."
      ]
    },
    {
      "cell_type": "markdown",
      "metadata": {
        "id": "BNLA8HiKxQhc"
      },
      "source": [
        "### Setup Steps:"
      ]
    },
    {
      "cell_type": "code",
      "metadata": {
        "id": "2YzfoPvJDiTX"
      },
      "source": [
        "#@title Please enter your registration id to start: { run: \"auto\", display-mode: \"form\" }\n",
        "Id = \"2301931\" #@param {type:\"string\"}"
      ],
      "execution_count": 93,
      "outputs": []
    },
    {
      "cell_type": "code",
      "metadata": {
        "id": "AjoZJWGErxGf"
      },
      "source": [
        "#@title Please enter your password (your registered phone number) to continue: { run: \"auto\", display-mode: \"form\" }\n",
        "password = \"9665220904\" #@param {type:\"string\"}"
      ],
      "execution_count": 94,
      "outputs": []
    },
    {
      "cell_type": "code",
      "metadata": {
        "id": "WBPPuGmBlDIN",
        "cellView": "form",
        "outputId": "590062d8-89ee-45b1-c04e-574291073220",
        "colab": {
          "base_uri": "https://localhost:8080/",
          "height": 34
        }
      },
      "source": [
        "#@title Run this cell to complete the setup for this Notebook\n",
        "from IPython import get_ipython\n",
        "\n",
        "ipython = get_ipython()\n",
        "\n",
        "notebook= \"M1_AST_08_Tensor_Operations_C\" #name of the notebook\n",
        "\n",
        "def setup():\n",
        "#  ipython.magic(\"sx pip3 install torch\")\n",
        "    from IPython.display import HTML, display\n",
        "    display(HTML('<script src=\"https://dashboard.talentsprint.com/aiml/record_ip.html?traineeId={0}&recordId={1}\"></script>'.format(getId(),submission_id)))\n",
        "    print(\"Setup completed successfully\")\n",
        "    return\n",
        "\n",
        "def submit_notebook():\n",
        "    ipython.magic(\"notebook -e \"+ notebook + \".ipynb\")\n",
        "\n",
        "    import requests, json, base64, datetime\n",
        "\n",
        "    url = \"https://dashboard.talentsprint.com/xp/app/save_notebook_attempts\"\n",
        "    if not submission_id:\n",
        "      data = {\"id\" : getId(), \"notebook\" : notebook, \"mobile\" : getPassword()}\n",
        "      r = requests.post(url, data = data)\n",
        "      r = json.loads(r.text)\n",
        "\n",
        "      if r[\"status\"] == \"Success\":\n",
        "          return r[\"record_id\"]\n",
        "      elif \"err\" in r:\n",
        "        print(r[\"err\"])\n",
        "        return None\n",
        "      else:\n",
        "        print (\"Something is wrong, the notebook will not be submitted for grading\")\n",
        "        return None\n",
        "\n",
        "    elif getAnswer() and getComplexity() and getAdditional() and getConcepts() and getComments() and getMentorSupport():\n",
        "      f = open(notebook + \".ipynb\", \"rb\")\n",
        "      file_hash = base64.b64encode(f.read())\n",
        "\n",
        "      data = {\"complexity\" : Complexity, \"additional\" :Additional,\n",
        "              \"concepts\" : Concepts, \"record_id\" : submission_id,\n",
        "              \"answer\" : Answer, \"id\" : Id, \"file_hash\" : file_hash,\n",
        "              \"notebook\" : notebook,\n",
        "              \"feedback_experiments_input\" : Comments,\n",
        "              \"feedback_mentor_support\": Mentor_support}\n",
        "      r = requests.post(url, data = data)\n",
        "      r = json.loads(r.text)\n",
        "      if \"err\" in r:\n",
        "        print(r[\"err\"])\n",
        "        return None\n",
        "      else:\n",
        "        print(\"Your submission is successful.\")\n",
        "        print(\"Ref Id:\", submission_id)\n",
        "        print(\"Date of submission: \", r[\"date\"])\n",
        "        print(\"Time of submission: \", r[\"time\"])\n",
        "        print(\"View your submissions: https://cds-iisc.talentsprint.com/notebook_submissions\")\n",
        "        #print(\"For any queries/discrepancies, please connect with mentors through the chat icon in LMS dashboard.\")\n",
        "        return submission_id\n",
        "    else: submission_id\n",
        "\n",
        "\n",
        "def getAdditional():\n",
        "  try:\n",
        "    if not Additional:\n",
        "      raise NameError\n",
        "    else:\n",
        "      return Additional\n",
        "  except NameError:\n",
        "    print (\"Please answer Additional Question\")\n",
        "    return None\n",
        "\n",
        "def getComplexity():\n",
        "  try:\n",
        "    if not Complexity:\n",
        "      raise NameError\n",
        "    else:\n",
        "      return Complexity\n",
        "  except NameError:\n",
        "    print (\"Please answer Complexity Question\")\n",
        "    return None\n",
        "\n",
        "def getConcepts():\n",
        "  try:\n",
        "    if not Concepts:\n",
        "      raise NameError\n",
        "    else:\n",
        "      return Concepts\n",
        "  except NameError:\n",
        "    print (\"Please answer Concepts Question\")\n",
        "    return None\n",
        "\n",
        "\n",
        "# def getWalkthrough():\n",
        "#   try:\n",
        "#     if not Walkthrough:\n",
        "#       raise NameError\n",
        "#     else:\n",
        "#       return Walkthrough\n",
        "#   except NameError:\n",
        "#     print (\"Please answer Walkthrough Question\")\n",
        "#     return None\n",
        "\n",
        "def getComments():\n",
        "  try:\n",
        "    if not Comments:\n",
        "      raise NameError\n",
        "    else:\n",
        "      return Comments\n",
        "  except NameError:\n",
        "    print (\"Please answer Comments Question\")\n",
        "    return None\n",
        "\n",
        "\n",
        "def getMentorSupport():\n",
        "  try:\n",
        "    if not Mentor_support:\n",
        "      raise NameError\n",
        "    else:\n",
        "      return Mentor_support\n",
        "  except NameError:\n",
        "    print (\"Please answer Mentor support Question\")\n",
        "    return None\n",
        "\n",
        "def getAnswer():\n",
        "  try:\n",
        "    if not Answer:\n",
        "      raise NameError\n",
        "    else:\n",
        "      return Answer\n",
        "  except NameError:\n",
        "    print (\"Please answer Question\")\n",
        "    return None\n",
        "\n",
        "\n",
        "def getId():\n",
        "  try:\n",
        "    return Id if Id else None\n",
        "  except NameError:\n",
        "    return None\n",
        "\n",
        "def getPassword():\n",
        "  try:\n",
        "    return password if password else None\n",
        "  except NameError:\n",
        "    return None\n",
        "\n",
        "submission_id = None\n",
        "### Setup\n",
        "if getPassword() and getId():\n",
        "  submission_id = submit_notebook()\n",
        "  if submission_id:\n",
        "    setup()\n",
        "else:\n",
        "  print (\"Please complete Id and Password cells before running setup\")\n",
        "\n"
      ],
      "execution_count": 95,
      "outputs": [
        {
          "output_type": "display_data",
          "data": {
            "text/plain": [
              "<IPython.core.display.HTML object>"
            ],
            "text/html": [
              "<script src=\"https://dashboard.talentsprint.com/aiml/record_ip.html?traineeId=2301931&recordId=1576\"></script>"
            ]
          },
          "metadata": {}
        },
        {
          "output_type": "stream",
          "name": "stdout",
          "text": [
            "Setup completed successfully\n"
          ]
        }
      ]
    },
    {
      "cell_type": "markdown",
      "metadata": {
        "id": "ynL2MOaMNDrg"
      },
      "source": [
        "#### Importing Required Packages"
      ]
    },
    {
      "cell_type": "code",
      "metadata": {
        "id": "7-9RvK3wugWC"
      },
      "source": [
        "import numpy as np\n",
        "import tensorflow as tf"
      ],
      "execution_count": 4,
      "outputs": []
    },
    {
      "cell_type": "markdown",
      "metadata": {
        "id": "YGkLfp--LidI"
      },
      "source": [
        "### Defining and slicing a 2D/1D-Tensor"
      ]
    },
    {
      "cell_type": "markdown",
      "metadata": {
        "id": "1HrS-aWEhrZV"
      },
      "source": [
        "#### NumPy"
      ]
    },
    {
      "cell_type": "code",
      "metadata": {
        "id": "u9ar1fwPwmf1",
        "outputId": "76da897e-a95f-4bd3-cc96-80666bfb4270",
        "colab": {
          "base_uri": "https://localhost:8080/"
        }
      },
      "source": [
        "a=np.array([[1,2],[2,3],[6,7]])             # Defining a 2D array in Numpy\n",
        "print(a)                                    # printing the array\n",
        "print('shape = ',a.shape)                   # '.shape' method gives the number of rows and columns in the form of a tuple\n",
        "print('dimension = ',a.ndim)                # It gives dimension of the array\n",
        "print('size =',np.size(a))                  # size always gives total number of elements in any array\n",
        "print('lengths = ',len(a))                  # In 2D it gives the number of rows in an array\n",
        "print('data structure type : ',type(a))     # It gives the type of data structure\n",
        "a.dtype                                     # it gives type of data stored in array"
      ],
      "execution_count": 5,
      "outputs": [
        {
          "output_type": "stream",
          "name": "stdout",
          "text": [
            "[[1 2]\n",
            " [2 3]\n",
            " [6 7]]\n",
            "shape =  (3, 2)\n",
            "dimension =  2\n",
            "size = 6\n",
            "lengths =  3\n",
            "data structure type :  <class 'numpy.ndarray'>\n"
          ]
        },
        {
          "output_type": "execute_result",
          "data": {
            "text/plain": [
              "dtype('int64')"
            ]
          },
          "metadata": {},
          "execution_count": 5
        }
      ]
    },
    {
      "cell_type": "markdown",
      "metadata": {
        "id": "NWwnaFk7YA9H"
      },
      "source": [
        "##### Slicing: We are going to define a 2D Matrix as given in the image below and apply the slicing operations.\n",
        "\n",
        "![2Dimg](https://cdn.iisc.talentsprint.com/CDS/Images/2D_array_slicing.JPG)"
      ]
    },
    {
      "cell_type": "code",
      "metadata": {
        "id": "PNFzlFt2QfoI",
        "outputId": "7216a62f-9d2b-431d-8d5f-e87d99f9e110",
        "colab": {
          "base_uri": "https://localhost:8080/"
        }
      },
      "source": [
        "## Creating a 2D array\n",
        "a2d = np.array([[1, 2, 3, 4], [4, 5, 6, 7], [7, 8, 9, 10]])\n",
        "a2d"
      ],
      "execution_count": 6,
      "outputs": [
        {
          "output_type": "execute_result",
          "data": {
            "text/plain": [
              "array([[ 1,  2,  3,  4],\n",
              "       [ 4,  5,  6,  7],\n",
              "       [ 7,  8,  9, 10]])"
            ]
          },
          "metadata": {},
          "execution_count": 6
        }
      ]
    },
    {
      "cell_type": "code",
      "metadata": {
        "id": "8hiI6vCpQryb",
        "outputId": "8fb97a45-d0d7-4515-f4c4-67c70544b619",
        "colab": {
          "base_uri": "https://localhost:8080/"
        }
      },
      "source": [
        "# slicing the 2nd index row\n",
        "a2d[2]"
      ],
      "execution_count": 7,
      "outputs": [
        {
          "output_type": "execute_result",
          "data": {
            "text/plain": [
              "array([ 7,  8,  9, 10])"
            ]
          },
          "metadata": {},
          "execution_count": 7
        }
      ]
    },
    {
      "cell_type": "code",
      "metadata": {
        "id": "2tGDuWBbQvBn",
        "outputId": "be4fe515-f78b-416d-87d2-84c2c102cc15",
        "colab": {
          "base_uri": "https://localhost:8080/"
        }
      },
      "source": [
        "# zeroth row\n",
        "a2d[0]"
      ],
      "execution_count": 8,
      "outputs": [
        {
          "output_type": "execute_result",
          "data": {
            "text/plain": [
              "array([1, 2, 3, 4])"
            ]
          },
          "metadata": {},
          "execution_count": 8
        }
      ]
    },
    {
      "cell_type": "code",
      "metadata": {
        "id": "rKtiyYnBQzbH",
        "outputId": "349f8494-0c1c-46df-a709-620d90ef84cd",
        "colab": {
          "base_uri": "https://localhost:8080/"
        }
      },
      "source": [
        "# The first value before coma is for row index and the second value after coma is for column index.\n",
        "a2d[1,3]"
      ],
      "execution_count": 9,
      "outputs": [
        {
          "output_type": "execute_result",
          "data": {
            "text/plain": [
              "7"
            ]
          },
          "metadata": {},
          "execution_count": 9
        }
      ]
    },
    {
      "cell_type": "code",
      "metadata": {
        "id": "Db2mLx6mQ354",
        "outputId": "4bbff750-0ef6-4413-820d-ad8d822402d4",
        "colab": {
          "base_uri": "https://localhost:8080/"
        }
      },
      "source": [
        "# This can also used.\n",
        "a2d[1][3]"
      ],
      "execution_count": 10,
      "outputs": [
        {
          "output_type": "execute_result",
          "data": {
            "text/plain": [
              "7"
            ]
          },
          "metadata": {},
          "execution_count": 10
        }
      ]
    },
    {
      "cell_type": "code",
      "metadata": {
        "id": "rNWmrrTGQ9Gx",
        "outputId": "dddeabb2-3888-438d-9c83-f51ed1ec745c",
        "colab": {
          "base_uri": "https://localhost:8080/"
        }
      },
      "source": [
        "# Using negative index\n",
        "a2d[-2,-3]"
      ],
      "execution_count": 11,
      "outputs": [
        {
          "output_type": "execute_result",
          "data": {
            "text/plain": [
              "5"
            ]
          },
          "metadata": {},
          "execution_count": 11
        }
      ]
    },
    {
      "cell_type": "code",
      "metadata": {
        "id": "L3ZmrbauRETu",
        "outputId": "a7b53b25-623a-4abb-9635-c02934629066",
        "colab": {
          "base_uri": "https://localhost:8080/"
        }
      },
      "source": [
        "# from the very beginning to -2 indexed row (i.e -3 and -2 indexed row) and -3,-4 indexed columns are sliced\n",
        "a2d[:-1,:-2]"
      ],
      "execution_count": 12,
      "outputs": [
        {
          "output_type": "execute_result",
          "data": {
            "text/plain": [
              "array([[1, 2],\n",
              "       [4, 5]])"
            ]
          },
          "metadata": {},
          "execution_count": 12
        }
      ]
    },
    {
      "cell_type": "code",
      "metadata": {
        "id": "WL3-HuniRJWl",
        "outputId": "e4f3c811-ea7f-49c8-cf6a-187122d57b4b",
        "colab": {
          "base_uri": "https://localhost:8080/"
        }
      },
      "source": [
        "# from the very beginning to 1 indexed row, i.e 0 and 1 index row sliced. 2 is not included.\n",
        "a2d[:2]"
      ],
      "execution_count": 13,
      "outputs": [
        {
          "output_type": "execute_result",
          "data": {
            "text/plain": [
              "array([[1, 2, 3, 4],\n",
              "       [4, 5, 6, 7]])"
            ]
          },
          "metadata": {},
          "execution_count": 13
        }
      ]
    },
    {
      "cell_type": "code",
      "metadata": {
        "id": "IuirfsDkRRXB",
        "outputId": "7837d40a-a16d-428a-ccc0-abf3c3e2af03",
        "colab": {
          "base_uri": "https://localhost:8080/"
        }
      },
      "source": [
        "# ( 0 ,1 ) indexed rows and 2 to last indexed columns are sliced.\n",
        "a2d[:2, 2:]"
      ],
      "execution_count": 14,
      "outputs": [
        {
          "output_type": "execute_result",
          "data": {
            "text/plain": [
              "array([[3, 4],\n",
              "       [6, 7]])"
            ]
          },
          "metadata": {},
          "execution_count": 14
        }
      ]
    },
    {
      "cell_type": "code",
      "metadata": {
        "id": "OAaf6o7VRbFq",
        "outputId": "7a7b8181-f411-4661-fb0a-dc3802454292",
        "colab": {
          "base_uri": "https://localhost:8080/"
        }
      },
      "source": [
        "# 1 indexed row and (0,1) indexed columns are sliced .\n",
        "a2d[1, :2]"
      ],
      "execution_count": 15,
      "outputs": [
        {
          "output_type": "execute_result",
          "data": {
            "text/plain": [
              "array([4, 5])"
            ]
          },
          "metadata": {},
          "execution_count": 15
        }
      ]
    },
    {
      "cell_type": "code",
      "metadata": {
        "id": "P9toXdxKRYG-",
        "outputId": "cf2f71c1-dbf8-4b73-a789-66fe52cf821f",
        "colab": {
          "base_uri": "https://localhost:8080/"
        }
      },
      "source": [
        "# Explain yourself?\n",
        "a2d[:2, 2]"
      ],
      "execution_count": 16,
      "outputs": [
        {
          "output_type": "execute_result",
          "data": {
            "text/plain": [
              "array([3, 6])"
            ]
          },
          "metadata": {},
          "execution_count": 16
        }
      ]
    },
    {
      "cell_type": "code",
      "metadata": {
        "id": "WGBZjVkSRfe1",
        "outputId": "92a7e12b-1eea-48a8-b8af-d1c3ee64151a",
        "colab": {
          "base_uri": "https://localhost:8080/"
        }
      },
      "source": [
        "# All rows and 0 column ( from the very beginning, but 1 not included i.e. zeroth column ) sliced.\n",
        "a2d[:, :1]"
      ],
      "execution_count": 17,
      "outputs": [
        {
          "output_type": "execute_result",
          "data": {
            "text/plain": [
              "array([[1],\n",
              "       [4],\n",
              "       [7]])"
            ]
          },
          "metadata": {},
          "execution_count": 17
        }
      ]
    },
    {
      "cell_type": "code",
      "metadata": {
        "id": "tMemWat8Rklm",
        "outputId": "baaa927a-3295-4bdb-d26f-241ed20b71de",
        "colab": {
          "base_uri": "https://localhost:8080/"
        }
      },
      "source": [
        "print('Initial Matrix = ',a2d)\n",
        "# This is an assignment operation, a2d  itself gets changed.\n",
        "a2d[:2, 1:] = 0\n",
        "print('Matrix after above assigned operations = ',a2d)"
      ],
      "execution_count": 18,
      "outputs": [
        {
          "output_type": "stream",
          "name": "stdout",
          "text": [
            "Initial Matrix =  [[ 1  2  3  4]\n",
            " [ 4  5  6  7]\n",
            " [ 7  8  9 10]]\n",
            "Matrix after above assigned operations =  [[ 1  0  0  0]\n",
            " [ 4  0  0  0]\n",
            " [ 7  8  9 10]]\n"
          ]
        }
      ]
    },
    {
      "cell_type": "markdown",
      "metadata": {
        "id": "ftyZwvizMjaP"
      },
      "source": [
        "#### TensorFlow\n",
        "**tf.Variable**: There are multiple ways of defining/forming a Tensor in Tensorflow, tf.Variable is one of those. A tf.Variable represents a tensor whose value can be changed by running operations on it. Specific operations allow you to read and modify the values of this tensor. Higher-level libraries like tf.keras use tf.Variable to store model parameters that keep changing/updating with subsequent learning steps.\n",
        "\n",
        "**tf.Constant**: This is another way of creating a Tensor but the tensor made through this cannot be updated but can be called multiple times with only 1 copy in the memory."
      ]
    },
    {
      "cell_type": "code",
      "metadata": {
        "id": "G_pY-WC8J5rH",
        "outputId": "ff985fcb-bfd3-486e-bed6-b70f02fd5af5",
        "colab": {
          "base_uri": "https://localhost:8080/"
        }
      },
      "source": [
        "a_tf = tf.Variable([[1,2],[2,3],[6,7]])\n",
        "print(a_tf)\n",
        "print(\"Shape of the input tensor is\", tf.shape(a_tf)) # Returns a tensor containing the shape of the input tensor\n",
        "print(\"Rank of the input tensor is\", tf.rank(a_tf)) # Returns the rank of a tensor\n",
        "# print(a_tf.ndim) -->  This operation is not valid for tf.variable object.\n",
        "print(\"Size of the input tensor is\", tf.size(a_tf)) # Returns the size of a tensor"
      ],
      "execution_count": 19,
      "outputs": [
        {
          "output_type": "stream",
          "name": "stdout",
          "text": [
            "<tf.Variable 'Variable:0' shape=(3, 2) dtype=int32, numpy=\n",
            "array([[1, 2],\n",
            "       [2, 3],\n",
            "       [6, 7]], dtype=int32)>\n",
            "Shape of the input tensor is tf.Tensor([3 2], shape=(2,), dtype=int32)\n",
            "Rank of the input tensor is tf.Tensor(2, shape=(), dtype=int32)\n",
            "Size of the input tensor is tf.Tensor(6, shape=(), dtype=int32)\n"
          ]
        }
      ]
    },
    {
      "cell_type": "markdown",
      "metadata": {
        "id": "FQMtT9VYOdI-"
      },
      "source": [
        "##### Slicing: Similar to Numpy array slicing."
      ]
    },
    {
      "cell_type": "code",
      "metadata": {
        "id": "QSJ1nBOQ9Z1s",
        "outputId": "018c74b6-2b3e-4d3a-99ce-debc71f75d13",
        "colab": {
          "base_uri": "https://localhost:8080/"
        }
      },
      "source": [
        "a_tf[:,1]"
      ],
      "execution_count": 20,
      "outputs": [
        {
          "output_type": "execute_result",
          "data": {
            "text/plain": [
              "<tf.Tensor: shape=(3,), dtype=int32, numpy=array([2, 3, 7], dtype=int32)>"
            ]
          },
          "metadata": {},
          "execution_count": 20
        }
      ]
    },
    {
      "cell_type": "markdown",
      "metadata": {
        "id": "r-kOKgPcgK6V"
      },
      "source": [
        "#### Note the difference between 1D tensor, 2D row tensor, and 2D column tensor, explained with an example below."
      ]
    },
    {
      "cell_type": "markdown",
      "metadata": {
        "id": "Rh-ROINnhl5A"
      },
      "source": [
        "##### NumPy"
      ]
    },
    {
      "cell_type": "code",
      "metadata": {
        "id": "eCmq5aI0gm_6",
        "outputId": "f1c5a650-0654-4086-c15c-10cef847a83c",
        "colab": {
          "base_uri": "https://localhost:8080/"
        }
      },
      "source": [
        "# This is a 1D tensor\n",
        "V1 = np.array([1,2,3])\n",
        "print(V1,'\\n')\n",
        "print(V1.shape)"
      ],
      "execution_count": 21,
      "outputs": [
        {
          "output_type": "stream",
          "name": "stdout",
          "text": [
            "[1 2 3] \n",
            "\n",
            "(3,)\n"
          ]
        }
      ]
    },
    {
      "cell_type": "code",
      "metadata": {
        "id": "p06yVFCShM50",
        "outputId": "3134ba63-3bff-4b03-bc82-58236078ef08",
        "colab": {
          "base_uri": "https://localhost:8080/"
        }
      },
      "source": [
        "# This is a 2D tensor having 1 row and 3 columns, i.e. 2D row tensor as it contains only one row.\n",
        "V2 = np.array([[1,2,3]])\n",
        "print(V2,'\\n')\n",
        "print(V2.shape)"
      ],
      "execution_count": 22,
      "outputs": [
        {
          "output_type": "stream",
          "name": "stdout",
          "text": [
            "[[1 2 3]] \n",
            "\n",
            "(1, 3)\n"
          ]
        }
      ]
    },
    {
      "cell_type": "code",
      "metadata": {
        "id": "U19HA23rgnPN",
        "outputId": "6c2b2e88-b97f-4a01-e083-02a20031adbb",
        "colab": {
          "base_uri": "https://localhost:8080/"
        }
      },
      "source": [
        "# This is a 2D tensor having 3 rows and 1 column, ie. a 2D column tensor as it contains only one column.\n",
        "V3 = np.array([[1],[2],[3]])\n",
        "print(V3,'\\n')\n",
        "print(V3.shape)"
      ],
      "execution_count": 23,
      "outputs": [
        {
          "output_type": "stream",
          "name": "stdout",
          "text": [
            "[[1]\n",
            " [2]\n",
            " [3]] \n",
            "\n",
            "(3, 1)\n"
          ]
        }
      ]
    },
    {
      "cell_type": "markdown",
      "metadata": {
        "id": "c24mn429h452"
      },
      "source": [
        "##### TensorFlow"
      ]
    },
    {
      "cell_type": "code",
      "metadata": {
        "id": "Fgpl2e6Nh_Hy",
        "outputId": "4c74c806-8e21-40b9-a624-96f26eef8afe",
        "colab": {
          "base_uri": "https://localhost:8080/"
        }
      },
      "source": [
        "V1_tf = tf.Variable([1,2,3])\n",
        "print(V1_tf)"
      ],
      "execution_count": 24,
      "outputs": [
        {
          "output_type": "stream",
          "name": "stdout",
          "text": [
            "<tf.Variable 'Variable:0' shape=(3,) dtype=int32, numpy=array([1, 2, 3], dtype=int32)>\n"
          ]
        }
      ]
    },
    {
      "cell_type": "code",
      "metadata": {
        "id": "2eMy_zz-iL2J",
        "outputId": "a9d7b3d4-2d71-4718-eca1-2293c495a0b2",
        "colab": {
          "base_uri": "https://localhost:8080/"
        }
      },
      "source": [
        "V2_tf = tf.Variable([[1,2,3]])\n",
        "print(V2_tf)"
      ],
      "execution_count": 25,
      "outputs": [
        {
          "output_type": "stream",
          "name": "stdout",
          "text": [
            "<tf.Variable 'Variable:0' shape=(1, 3) dtype=int32, numpy=array([[1, 2, 3]], dtype=int32)>\n"
          ]
        }
      ]
    },
    {
      "cell_type": "code",
      "metadata": {
        "id": "G8a5oDGuiaLG",
        "outputId": "2dec131d-cb2b-4d9b-f978-2f6416c686eb",
        "colab": {
          "base_uri": "https://localhost:8080/"
        }
      },
      "source": [
        "V3_tf = tf.Variable([[1],[2],[3]])\n",
        "print(V3_tf)"
      ],
      "execution_count": 26,
      "outputs": [
        {
          "output_type": "stream",
          "name": "stdout",
          "text": [
            "<tf.Variable 'Variable:0' shape=(3, 1) dtype=int32, numpy=\n",
            "array([[1],\n",
            "       [2],\n",
            "       [3]], dtype=int32)>\n"
          ]
        }
      ]
    },
    {
      "cell_type": "markdown",
      "metadata": {
        "id": "qrF7byEzdr4p"
      },
      "source": [
        "### Transpose\n",
        "The new matrix obtained by interchanging the rows and columns of the original matrix is referred to as the transpose of the matrix."
      ]
    },
    {
      "cell_type": "markdown",
      "metadata": {
        "id": "xCrBefyBivx1"
      },
      "source": [
        "#### NumPy"
      ]
    },
    {
      "cell_type": "code",
      "metadata": {
        "id": "a9wOlq2nduLQ",
        "outputId": "f8290392-fd03-40c3-bd6b-2135caefcd76",
        "colab": {
          "base_uri": "https://localhost:8080/"
        }
      },
      "source": [
        "print(a2d,'\\n')\n",
        "print(a2d.T)"
      ],
      "execution_count": 27,
      "outputs": [
        {
          "output_type": "stream",
          "name": "stdout",
          "text": [
            "[[ 1  0  0  0]\n",
            " [ 4  0  0  0]\n",
            " [ 7  8  9 10]] \n",
            "\n",
            "[[ 1  4  7]\n",
            " [ 0  0  8]\n",
            " [ 0  0  9]\n",
            " [ 0  0 10]]\n"
          ]
        }
      ]
    },
    {
      "cell_type": "markdown",
      "metadata": {
        "id": "k_rdmqffeeJQ"
      },
      "source": [
        "#### TensorFlow"
      ]
    },
    {
      "cell_type": "code",
      "metadata": {
        "id": "8HXArIhveA7e",
        "outputId": "3fe04f26-609e-4564-d011-a8dee09ae017",
        "colab": {
          "base_uri": "https://localhost:8080/"
        }
      },
      "source": [
        "# Creating a 2D tensor\n",
        "a2d_tf = tf.Variable([[1, 2, 3, 4], [4, 5, 6, 7], [7, 8, 9, 10]])\n",
        "print(a2d_tf)\n",
        "tf.transpose(a2d_tf)"
      ],
      "execution_count": 28,
      "outputs": [
        {
          "output_type": "stream",
          "name": "stdout",
          "text": [
            "<tf.Variable 'Variable:0' shape=(3, 4) dtype=int32, numpy=\n",
            "array([[ 1,  2,  3,  4],\n",
            "       [ 4,  5,  6,  7],\n",
            "       [ 7,  8,  9, 10]], dtype=int32)>\n"
          ]
        },
        {
          "output_type": "execute_result",
          "data": {
            "text/plain": [
              "<tf.Tensor: shape=(4, 3), dtype=int32, numpy=\n",
              "array([[ 1,  4,  7],\n",
              "       [ 2,  5,  8],\n",
              "       [ 3,  6,  9],\n",
              "       [ 4,  7, 10]], dtype=int32)>"
            ]
          },
          "metadata": {},
          "execution_count": 28
        }
      ]
    },
    {
      "cell_type": "markdown",
      "metadata": {
        "id": "ivm4y0dGpgei"
      },
      "source": [
        "### Scalar Addition and Multiplication\n",
        "Addition or Multiplication of any higher-order tensor with a scalar quantity(zero-order tensor)."
      ]
    },
    {
      "cell_type": "markdown",
      "metadata": {
        "id": "I8j5Izfyh9AI"
      },
      "source": [
        "#### NumPy"
      ]
    },
    {
      "cell_type": "code",
      "metadata": {
        "id": "rLPFRvaf4Xu8",
        "outputId": "f2b4934b-6356-41f4-f75a-deeba4a831f1",
        "colab": {
          "base_uri": "https://localhost:8080/"
        }
      },
      "source": [
        "print(a)\n",
        "a+2 # 2 is added to each element of the initial matrix a."
      ],
      "execution_count": 29,
      "outputs": [
        {
          "output_type": "stream",
          "name": "stdout",
          "text": [
            "[[1 2]\n",
            " [2 3]\n",
            " [6 7]]\n"
          ]
        },
        {
          "output_type": "execute_result",
          "data": {
            "text/plain": [
              "array([[3, 4],\n",
              "       [4, 5],\n",
              "       [8, 9]])"
            ]
          },
          "metadata": {},
          "execution_count": 29
        }
      ]
    },
    {
      "cell_type": "code",
      "metadata": {
        "id": "JY1H890u4jqH",
        "outputId": "5720f074-a64f-42f8-c307-a32796bc38f1",
        "colab": {
          "base_uri": "https://localhost:8080/"
        }
      },
      "source": [
        "a*2 # Each element of the initial matrix is multiplied by 2."
      ],
      "execution_count": 30,
      "outputs": [
        {
          "output_type": "execute_result",
          "data": {
            "text/plain": [
              "array([[ 2,  4],\n",
              "       [ 4,  6],\n",
              "       [12, 14]])"
            ]
          },
          "metadata": {},
          "execution_count": 30
        }
      ]
    },
    {
      "cell_type": "markdown",
      "metadata": {
        "id": "kIRD0ZLF5PNI"
      },
      "source": [
        "#### TensorFlow"
      ]
    },
    {
      "cell_type": "code",
      "metadata": {
        "id": "zRqRXSLl4YH7",
        "outputId": "817e18ab-df3a-4098-a2c6-23e4364506f8",
        "colab": {
          "base_uri": "https://localhost:8080/"
        }
      },
      "source": [
        "print(a_tf)\n",
        "tf.add(a_tf,2)"
      ],
      "execution_count": 31,
      "outputs": [
        {
          "output_type": "stream",
          "name": "stdout",
          "text": [
            "<tf.Variable 'Variable:0' shape=(3, 2) dtype=int32, numpy=\n",
            "array([[1, 2],\n",
            "       [2, 3],\n",
            "       [6, 7]], dtype=int32)>\n"
          ]
        },
        {
          "output_type": "execute_result",
          "data": {
            "text/plain": [
              "<tf.Tensor: shape=(3, 2), dtype=int32, numpy=\n",
              "array([[3, 4],\n",
              "       [4, 5],\n",
              "       [8, 9]], dtype=int32)>"
            ]
          },
          "metadata": {},
          "execution_count": 31
        }
      ]
    },
    {
      "cell_type": "code",
      "metadata": {
        "id": "4dPKvGka4YTg",
        "outputId": "5a75e067-1ee7-42c7-8390-ce2c915094a4",
        "colab": {
          "base_uri": "https://localhost:8080/"
        }
      },
      "source": [
        "tf.multiply(a_tf,2)"
      ],
      "execution_count": 32,
      "outputs": [
        {
          "output_type": "execute_result",
          "data": {
            "text/plain": [
              "<tf.Tensor: shape=(3, 2), dtype=int32, numpy=\n",
              "array([[ 2,  4],\n",
              "       [ 4,  6],\n",
              "       [12, 14]], dtype=int32)>"
            ]
          },
          "metadata": {},
          "execution_count": 32
        }
      ]
    },
    {
      "cell_type": "markdown",
      "metadata": {
        "id": "AP_xsfdfiy3a"
      },
      "source": [
        "### Addition and Subtraction between tensors\n",
        "When the shape of the tensors is same, element-wise addition and subtraction can be carried out"
      ]
    },
    {
      "cell_type": "markdown",
      "metadata": {
        "id": "oPhAW5R6iBfi"
      },
      "source": [
        "#### NumPy"
      ]
    },
    {
      "cell_type": "code",
      "metadata": {
        "id": "g3eOutTlbSJr",
        "outputId": "162cc524-9c47-4f34-b34f-cef53841d4fe",
        "colab": {
          "base_uri": "https://localhost:8080/"
        }
      },
      "source": [
        "b = np.array([[1,2],[2,3]])\n",
        "c = np.array([[3,4],[5,6]])\n",
        "print('b = ','\\n',b,'\\n','c = ','\\n',c)"
      ],
      "execution_count": 33,
      "outputs": [
        {
          "output_type": "stream",
          "name": "stdout",
          "text": [
            "b =  \n",
            " [[1 2]\n",
            " [2 3]] \n",
            " c =  \n",
            " [[3 4]\n",
            " [5 6]]\n"
          ]
        }
      ]
    },
    {
      "cell_type": "code",
      "metadata": {
        "id": "JHePyXEFbSX-",
        "outputId": "7c4f482f-27d8-4bb3-947f-4e0d03b59fc2",
        "colab": {
          "base_uri": "https://localhost:8080/"
        }
      },
      "source": [
        "print(b+c,'\\n')\n",
        "print(b-c)"
      ],
      "execution_count": 34,
      "outputs": [
        {
          "output_type": "stream",
          "name": "stdout",
          "text": [
            "[[4 6]\n",
            " [7 9]] \n",
            "\n",
            "[[-2 -2]\n",
            " [-3 -3]]\n"
          ]
        }
      ]
    },
    {
      "cell_type": "markdown",
      "metadata": {
        "id": "jDej96KvbRRb"
      },
      "source": [
        "#### TensorFlow"
      ]
    },
    {
      "cell_type": "code",
      "metadata": {
        "id": "kpNgf3rvZa2Z",
        "outputId": "d355d033-a140-4347-e7e9-3d431925005a",
        "colab": {
          "base_uri": "https://localhost:8080/"
        }
      },
      "source": [
        "b_tf = tf.Variable([[1,2],[2,3]])\n",
        "c_tf = tf.Variable([[3,4],[5,6]])\n",
        "print(b_tf,'\\n',c_tf)\n"
      ],
      "execution_count": 35,
      "outputs": [
        {
          "output_type": "stream",
          "name": "stdout",
          "text": [
            "<tf.Variable 'Variable:0' shape=(2, 2) dtype=int32, numpy=\n",
            "array([[1, 2],\n",
            "       [2, 3]], dtype=int32)> \n",
            " <tf.Variable 'Variable:0' shape=(2, 2) dtype=int32, numpy=\n",
            "array([[3, 4],\n",
            "       [5, 6]], dtype=int32)>\n"
          ]
        }
      ]
    },
    {
      "cell_type": "code",
      "metadata": {
        "id": "tywFTUvUZbME",
        "outputId": "e2175685-92d7-40c8-dc04-d851e05a59e0",
        "colab": {
          "base_uri": "https://localhost:8080/"
        }
      },
      "source": [
        "tf.add(b_tf,c_tf) # Addition"
      ],
      "execution_count": 36,
      "outputs": [
        {
          "output_type": "execute_result",
          "data": {
            "text/plain": [
              "<tf.Tensor: shape=(2, 2), dtype=int32, numpy=\n",
              "array([[4, 6],\n",
              "       [7, 9]], dtype=int32)>"
            ]
          },
          "metadata": {},
          "execution_count": 36
        }
      ]
    },
    {
      "cell_type": "code",
      "metadata": {
        "id": "Z-qhr0OPabAS",
        "outputId": "c245c39c-3f81-4822-dc19-c2856d254294",
        "colab": {
          "base_uri": "https://localhost:8080/"
        }
      },
      "source": [
        "tf.subtract(b_tf,c_tf) # subtraction"
      ],
      "execution_count": 37,
      "outputs": [
        {
          "output_type": "execute_result",
          "data": {
            "text/plain": [
              "<tf.Tensor: shape=(2, 2), dtype=int32, numpy=\n",
              "array([[-2, -2],\n",
              "       [-3, -3]], dtype=int32)>"
            ]
          },
          "metadata": {},
          "execution_count": 37
        }
      ]
    },
    {
      "cell_type": "markdown",
      "metadata": {
        "id": "GQ3iD_93hBgB"
      },
      "source": [
        "### Concept of Broadcasting\n",
        "\n",
        "Understand by going through the examples given below."
      ]
    },
    {
      "cell_type": "markdown",
      "metadata": {
        "id": "91xEYRpZnWtB"
      },
      "source": [
        "#### NumPy\n",
        "\n",
        "To know more about broadcasting click [here](https://numpy.org/devdocs/user/theory.broadcasting.html)."
      ]
    },
    {
      "cell_type": "code",
      "metadata": {
        "id": "ttoVSau6kQUg",
        "outputId": "47238499-0a5d-4130-8d95-99b27d04bddb",
        "colab": {
          "base_uri": "https://localhost:8080/"
        }
      },
      "source": [
        "M1 = np.array([[1,2,3],[4,5,6]])\n",
        "print(M1)\n",
        "M1.shape"
      ],
      "execution_count": 38,
      "outputs": [
        {
          "output_type": "stream",
          "name": "stdout",
          "text": [
            "[[1 2 3]\n",
            " [4 5 6]]\n"
          ]
        },
        {
          "output_type": "execute_result",
          "data": {
            "text/plain": [
              "(2, 3)"
            ]
          },
          "metadata": {},
          "execution_count": 38
        }
      ]
    },
    {
      "cell_type": "code",
      "metadata": {
        "id": "J7FGP8DxkQj4",
        "outputId": "d723ffd8-acce-40ac-80b8-56a139188fa7",
        "colab": {
          "base_uri": "https://localhost:8080/"
        }
      },
      "source": [
        "M2 = np.array([[8],[9]])\n",
        "print(M2)\n",
        "M2.shape"
      ],
      "execution_count": 39,
      "outputs": [
        {
          "output_type": "stream",
          "name": "stdout",
          "text": [
            "[[8]\n",
            " [9]]\n"
          ]
        },
        {
          "output_type": "execute_result",
          "data": {
            "text/plain": [
              "(2, 1)"
            ]
          },
          "metadata": {},
          "execution_count": 39
        }
      ]
    },
    {
      "cell_type": "markdown",
      "metadata": {
        "id": "xDi6j-RhniBt"
      },
      "source": [
        "Mathematically M1 and M2 cannot be added as the shape doesn't match, but in NumPy, they can be added. M2 has the same number of rows as that of M1. Its column gets replicated so that its shape becomes equal to M1, and then, both are added. This process of replication is broadcasting. M2 gets broadcasted in the direction of the column of M1. We will see the result after replication and sum operation. Broadcasted M2 is not visible, it is a hidden step. See the result below:"
      ]
    },
    {
      "cell_type": "code",
      "metadata": {
        "id": "1XflAQ3qkQwx",
        "outputId": "1fc96c68-7bd1-446a-d099-ff37e4c81a2a",
        "colab": {
          "base_uri": "https://localhost:8080/"
        }
      },
      "source": [
        "M1+M2"
      ],
      "execution_count": 40,
      "outputs": [
        {
          "output_type": "execute_result",
          "data": {
            "text/plain": [
              "array([[ 9, 10, 11],\n",
              "       [13, 14, 15]])"
            ]
          },
          "metadata": {},
          "execution_count": 40
        }
      ]
    },
    {
      "cell_type": "code",
      "metadata": {
        "id": "ubKLjJ09oMGI",
        "outputId": "dea6a887-2ed5-47aa-99fc-23c46ec6aac3",
        "colab": {
          "base_uri": "https://localhost:8080/"
        }
      },
      "source": [
        "# Making another array M3\n",
        "M3 = np.array([[10,20,30]])\n",
        "print(M3)\n",
        "M3.shape"
      ],
      "execution_count": 41,
      "outputs": [
        {
          "output_type": "stream",
          "name": "stdout",
          "text": [
            "[[10 20 30]]\n"
          ]
        },
        {
          "output_type": "execute_result",
          "data": {
            "text/plain": [
              "(1, 3)"
            ]
          },
          "metadata": {},
          "execution_count": 41
        }
      ]
    },
    {
      "cell_type": "markdown",
      "metadata": {
        "id": "anTMwjQQoNa1"
      },
      "source": [
        "Mathematically M1 and M3 can not be added as the shape doesn't match, but in NumPy, they can be added. M3 has the same number of columns as that of M1. Its rows get replicated so that its shape becomes equal to M1, and then, both are added. This process of replication is broadcasting. M3 gets broadcasted in the direction of the rows of M1. We will see the result after replication and sum operation. Broadcasted M3 is not visible, it is a hidden step. See the result below:"
      ]
    },
    {
      "cell_type": "code",
      "metadata": {
        "id": "4pQOgvvxoglK",
        "outputId": "08be0fc7-1a66-45f4-b8b3-593a4a186059",
        "colab": {
          "base_uri": "https://localhost:8080/"
        }
      },
      "source": [
        "M1+M3"
      ],
      "execution_count": 42,
      "outputs": [
        {
          "output_type": "execute_result",
          "data": {
            "text/plain": [
              "array([[11, 22, 33],\n",
              "       [14, 25, 36]])"
            ]
          },
          "metadata": {},
          "execution_count": 42
        }
      ]
    },
    {
      "cell_type": "markdown",
      "metadata": {
        "id": "L-wXIU9zcdxr"
      },
      "source": [
        "#### TensorFlow\n",
        " Similar to NumPy."
      ]
    },
    {
      "cell_type": "code",
      "metadata": {
        "id": "n19AdpclcnFg",
        "outputId": "3deec60a-253d-44dd-803d-ed11d397edde",
        "colab": {
          "base_uri": "https://localhost:8080/"
        }
      },
      "source": [
        "M1_tf = tf.Variable([[1,2,3],[4,5,6]])\n",
        "print(M1_tf,'\\n')\n",
        "M2_tf = tf.Variable([[8],[9]])\n",
        "print(M2_tf)"
      ],
      "execution_count": 43,
      "outputs": [
        {
          "output_type": "stream",
          "name": "stdout",
          "text": [
            "<tf.Variable 'Variable:0' shape=(2, 3) dtype=int32, numpy=\n",
            "array([[1, 2, 3],\n",
            "       [4, 5, 6]], dtype=int32)> \n",
            "\n",
            "<tf.Variable 'Variable:0' shape=(2, 1) dtype=int32, numpy=\n",
            "array([[8],\n",
            "       [9]], dtype=int32)>\n"
          ]
        }
      ]
    },
    {
      "cell_type": "code",
      "metadata": {
        "id": "HOUYvim9dFnO",
        "outputId": "28fa895a-e4c5-45cc-aa43-5a4fba35b392",
        "colab": {
          "base_uri": "https://localhost:8080/"
        }
      },
      "source": [
        "tf.add(M1_tf,M2_tf)"
      ],
      "execution_count": 44,
      "outputs": [
        {
          "output_type": "execute_result",
          "data": {
            "text/plain": [
              "<tf.Tensor: shape=(2, 3), dtype=int32, numpy=\n",
              "array([[ 9, 10, 11],\n",
              "       [13, 14, 15]], dtype=int32)>"
            ]
          },
          "metadata": {},
          "execution_count": 44
        }
      ]
    },
    {
      "cell_type": "markdown",
      "metadata": {
        "id": "RreRdEds5oJ_"
      },
      "source": [
        "### Hadamard Product or Element-wise Multiplication\n",
        "If the two Tensors have the same size, operations are carried out elementwise by default."
      ]
    },
    {
      "cell_type": "markdown",
      "metadata": {
        "id": "aNq-VJpqhF4V"
      },
      "source": [
        "#### NumPy"
      ]
    },
    {
      "cell_type": "code",
      "metadata": {
        "id": "5hhcBj8x6Kfv",
        "outputId": "0da1048d-50a6-45f4-837e-87eb2e0d9bac",
        "colab": {
          "base_uri": "https://localhost:8080/"
        }
      },
      "source": [
        "# Using previously defined matrix a by using  Numpy\n",
        "a"
      ],
      "execution_count": 45,
      "outputs": [
        {
          "output_type": "execute_result",
          "data": {
            "text/plain": [
              "array([[1, 2],\n",
              "       [2, 3],\n",
              "       [6, 7]])"
            ]
          },
          "metadata": {},
          "execution_count": 45
        }
      ]
    },
    {
      "cell_type": "code",
      "metadata": {
        "id": "lUO_-LgF7r7u",
        "outputId": "365419f1-70ff-40e1-ddc5-0eedf546ac4c",
        "colab": {
          "base_uri": "https://localhost:8080/"
        }
      },
      "source": [
        "# Defining another matrix b\n",
        "b = np.array([[2,3],[1,2],[4,5]])\n",
        "b"
      ],
      "execution_count": 46,
      "outputs": [
        {
          "output_type": "execute_result",
          "data": {
            "text/plain": [
              "array([[2, 3],\n",
              "       [1, 2],\n",
              "       [4, 5]])"
            ]
          },
          "metadata": {},
          "execution_count": 46
        }
      ]
    },
    {
      "cell_type": "code",
      "metadata": {
        "id": "aiwerU6u7_uJ",
        "outputId": "3aa23bf8-8823-4a96-a8a7-442f70e5e5b3",
        "colab": {
          "base_uri": "https://localhost:8080/"
        }
      },
      "source": [
        "# Here the shape of a  and b matches thus default product is Hadamard multiplication. Note: This is not matrix multiplication.\n",
        "a*b"
      ],
      "execution_count": 47,
      "outputs": [
        {
          "output_type": "execute_result",
          "data": {
            "text/plain": [
              "array([[ 2,  6],\n",
              "       [ 2,  6],\n",
              "       [24, 35]])"
            ]
          },
          "metadata": {},
          "execution_count": 47
        }
      ]
    },
    {
      "cell_type": "markdown",
      "metadata": {
        "id": "GfEjgkI68RKU"
      },
      "source": [
        "#### TensorFlow"
      ]
    },
    {
      "cell_type": "code",
      "metadata": {
        "id": "jZJenXZc8XHU",
        "outputId": "b319bac5-b7df-4fc7-b6be-10e1265135b1",
        "colab": {
          "base_uri": "https://localhost:8080/"
        }
      },
      "source": [
        "a_tf"
      ],
      "execution_count": 48,
      "outputs": [
        {
          "output_type": "execute_result",
          "data": {
            "text/plain": [
              "<tf.Variable 'Variable:0' shape=(3, 2) dtype=int32, numpy=\n",
              "array([[1, 2],\n",
              "       [2, 3],\n",
              "       [6, 7]], dtype=int32)>"
            ]
          },
          "metadata": {},
          "execution_count": 48
        }
      ]
    },
    {
      "cell_type": "code",
      "metadata": {
        "id": "SWu0-Wzm8XyA",
        "outputId": "dde76639-b3ae-48ca-f1e5-e56cc21ad74a",
        "colab": {
          "base_uri": "https://localhost:8080/"
        }
      },
      "source": [
        "b_tf = tf.Variable([[2,3],[1,2],[4,5]])\n",
        "b_tf"
      ],
      "execution_count": 49,
      "outputs": [
        {
          "output_type": "execute_result",
          "data": {
            "text/plain": [
              "<tf.Variable 'Variable:0' shape=(3, 2) dtype=int32, numpy=\n",
              "array([[2, 3],\n",
              "       [1, 2],\n",
              "       [4, 5]], dtype=int32)>"
            ]
          },
          "metadata": {},
          "execution_count": 49
        }
      ]
    },
    {
      "cell_type": "code",
      "metadata": {
        "id": "TwYRQO2I8nQM",
        "outputId": "c77d12cd-d39d-4892-ebc2-c3155b8bced0",
        "colab": {
          "base_uri": "https://localhost:8080/"
        }
      },
      "source": [
        "a_tf * b_tf # Hadamard Multiplication\n",
        "# OR tf.multiply(a_tf,b_tf)"
      ],
      "execution_count": 50,
      "outputs": [
        {
          "output_type": "execute_result",
          "data": {
            "text/plain": [
              "<tf.Tensor: shape=(3, 2), dtype=int32, numpy=\n",
              "array([[ 2,  6],\n",
              "       [ 2,  6],\n",
              "       [24, 35]], dtype=int32)>"
            ]
          },
          "metadata": {},
          "execution_count": 50
        }
      ]
    },
    {
      "cell_type": "markdown",
      "metadata": {
        "id": "TVpqaHzr5jtl"
      },
      "source": [
        "### Matrix Multiplication\n",
        "* For multiplying matrix a and matrix b, the number of columns of matrix a and the number of rows of matrix b must match.\n",
        "* Note: Matrix Multiplication is not commutative (i.e.AB != BA)"
      ]
    },
    {
      "cell_type": "markdown",
      "metadata": {
        "id": "94hv851SXRR5"
      },
      "source": [
        "Matrix multiplication process\n",
        "![img](https://cdn.iisc.talentsprint.com/CDS/Images/Tensor_matmul.JPG)"
      ]
    },
    {
      "cell_type": "markdown",
      "metadata": {
        "id": "5rKaS_tBZ8b5"
      },
      "source": [
        "#### NumPy"
      ]
    },
    {
      "cell_type": "code",
      "metadata": {
        "id": "srzIkcio_dIg",
        "outputId": "cf28cbfd-0508-4bd9-a683-9d22abb9d220",
        "colab": {
          "base_uri": "https://localhost:8080/"
        }
      },
      "source": [
        "a1 = np.array([[1,2,3],[4,5,6]])\n",
        "print(a1,'\\n','Shape = ',a1.shape)\n",
        "b1 = np.array([[2,1],[3,2],[4,3]])\n",
        "print(b1,'\\n','Shape = ',b1.shape)"
      ],
      "execution_count": 51,
      "outputs": [
        {
          "output_type": "stream",
          "name": "stdout",
          "text": [
            "[[1 2 3]\n",
            " [4 5 6]] \n",
            " Shape =  (2, 3)\n",
            "[[2 1]\n",
            " [3 2]\n",
            " [4 3]] \n",
            " Shape =  (3, 2)\n"
          ]
        }
      ]
    },
    {
      "cell_type": "code",
      "metadata": {
        "id": "8reX_9Xr_dZK",
        "outputId": "aa40d3cb-316b-4fe2-d9a9-3ef983bbb4cc",
        "colab": {
          "base_uri": "https://localhost:8080/"
        }
      },
      "source": [
        "# Matrix multiplication between a1 and b1 is possible as\n",
        "# the number of columns of matrix a and the number of rows of matrix b are equal.\n",
        "np.dot(a1,b1) # OR\n",
        "a1.dot(b1)"
      ],
      "execution_count": 52,
      "outputs": [
        {
          "output_type": "execute_result",
          "data": {
            "text/plain": [
              "array([[20, 14],\n",
              "       [47, 32]])"
            ]
          },
          "metadata": {},
          "execution_count": 52
        }
      ]
    },
    {
      "cell_type": "markdown",
      "metadata": {
        "id": "kJO9YLfsaAMW"
      },
      "source": [
        "#### TensorFlow"
      ]
    },
    {
      "cell_type": "code",
      "metadata": {
        "id": "GW14bfECaFHp",
        "outputId": "547067c4-0c1f-4344-fefc-22d5791acf9b",
        "colab": {
          "base_uri": "https://localhost:8080/"
        }
      },
      "source": [
        "a1_tf = tf.Variable([[1,2,3],[4,5,6]])\n",
        "print(a1_tf,'\\n')\n",
        "b1_tf = tf.Variable([[2,1],[3,2],[4,3]])\n",
        "print(b1_tf)"
      ],
      "execution_count": 53,
      "outputs": [
        {
          "output_type": "stream",
          "name": "stdout",
          "text": [
            "<tf.Variable 'Variable:0' shape=(2, 3) dtype=int32, numpy=\n",
            "array([[1, 2, 3],\n",
            "       [4, 5, 6]], dtype=int32)> \n",
            "\n",
            "<tf.Variable 'Variable:0' shape=(3, 2) dtype=int32, numpy=\n",
            "array([[2, 1],\n",
            "       [3, 2],\n",
            "       [4, 3]], dtype=int32)>\n"
          ]
        }
      ]
    },
    {
      "cell_type": "code",
      "metadata": {
        "id": "MDHyEVavbGWJ",
        "outputId": "fea42909-34ab-43b2-e548-263e6e180884",
        "colab": {
          "base_uri": "https://localhost:8080/"
        }
      },
      "source": [
        "tf.linalg.matmul(a1_tf,b1_tf)"
      ],
      "execution_count": 54,
      "outputs": [
        {
          "output_type": "execute_result",
          "data": {
            "text/plain": [
              "<tf.Tensor: shape=(2, 2), dtype=int32, numpy=\n",
              "array([[20, 14],\n",
              "       [47, 32]], dtype=int32)>"
            ]
          },
          "metadata": {},
          "execution_count": 54
        }
      ]
    },
    {
      "cell_type": "markdown",
      "metadata": {
        "id": "XGOqVzIUthCA"
      },
      "source": [
        "### Tensordot or Tensor Contraction\n",
        "Tensordot operation is carried out between input arrays based on the respective axes ( passed as an arg.) along which the sum-reductions are intended.\n",
        "The axes that take part in sum-reduction are removed in the output, and all of the remaining axes from the input arrays are spread out as different axes in the output, keeping the order in which the input arrays are fed.\n",
        "\n",
        "#### NumPy\n",
        "\n",
        "Go through the examples given below and visit the reference to comprehend it properly.\n",
        "\n",
        "To know more tensordot in numpy, refer the [link](https://numpy.org/doc/stable/reference/generated/numpy.tensordot.html)"
      ]
    },
    {
      "cell_type": "code",
      "metadata": {
        "id": "e3GpfJ0FtmSC",
        "outputId": "f6190632-e852-4271-b10a-a107210b9045",
        "colab": {
          "base_uri": "https://localhost:8080/"
        }
      },
      "source": [
        "# Defining tensors\n",
        "a1 = np.array([[1,2,3],[2,3,1]])\n",
        "a2 = np.array([[1,2],[3,4],[2,3]])\n",
        "print(\"Tensor1 is: \\n \", a1)\n",
        "print(\"Tensor2 is: \\n\", a2)\n",
        "\n",
        "# Calculating tensordot\n",
        "r1 = np.tensordot(a1, a2, axes=([0,1])) # Same when axes are passed as -->  axes=([0],[1])  OR   axes=([[0],[1]])\n",
        "print(\"Tensordot of these tensors is:\\n\", r1)\n",
        "print(\"Shape : \", r1.shape)"
      ],
      "execution_count": 55,
      "outputs": [
        {
          "output_type": "stream",
          "name": "stdout",
          "text": [
            "Tensor1 is: \n",
            "  [[1 2 3]\n",
            " [2 3 1]]\n",
            "Tensor2 is: \n",
            " [[1 2]\n",
            " [3 4]\n",
            " [2 3]]\n",
            "Tensordot of these tensors is:\n",
            " [[ 5 11  8]\n",
            " [ 8 18 13]\n",
            " [ 5 13  9]]\n",
            "Shape :  (3, 3)\n"
          ]
        }
      ]
    },
    {
      "cell_type": "markdown",
      "metadata": {
        "id": "58g7_DCqtrLm"
      },
      "source": [
        "* When a and b are matrices (order 2), the case axes = 1 is equivalent to matrix multiplication.\n",
        "* When a and b are matrices (order 2), the case axes = [[1], [0]] is equivalent to matrix multiplication."
      ]
    },
    {
      "cell_type": "code",
      "metadata": {
        "id": "Nmi1DVR4ttgu",
        "outputId": "f5c1ecc9-ee62-49c9-abf7-c685f1301c2a",
        "colab": {
          "base_uri": "https://localhost:8080/"
        }
      },
      "source": [
        "r1 = np.tensordot(a1, a2,axes=1)\n",
        "r1"
      ],
      "execution_count": 56,
      "outputs": [
        {
          "output_type": "execute_result",
          "data": {
            "text/plain": [
              "array([[13, 19],\n",
              "       [13, 19]])"
            ]
          },
          "metadata": {},
          "execution_count": 56
        }
      ]
    },
    {
      "cell_type": "code",
      "metadata": {
        "id": "7XH6udkVtvrC",
        "outputId": "45963396-e050-4b33-91a7-8968fa15b06d",
        "colab": {
          "base_uri": "https://localhost:8080/"
        }
      },
      "source": [
        "r1 = np.tensordot(a1, a2,axes=([1,0]))  # Same when axes are passed as -->  axes=([1],[0])  OR   axes=([[1],[0]])\n",
        "r1"
      ],
      "execution_count": 57,
      "outputs": [
        {
          "output_type": "execute_result",
          "data": {
            "text/plain": [
              "array([[13, 19],\n",
              "       [13, 19]])"
            ]
          },
          "metadata": {},
          "execution_count": 57
        }
      ]
    },
    {
      "cell_type": "markdown",
      "metadata": {
        "id": "4OQ84P9UtylH"
      },
      "source": [
        "* When a and b are matrices (order 2), the case axes=0 gives the outer product, a tensor of order 4."
      ]
    },
    {
      "cell_type": "code",
      "metadata": {
        "id": "owAqXOjDt1kT",
        "outputId": "e46e0c32-da49-4775-fc0e-4d0d3aad6582",
        "colab": {
          "base_uri": "https://localhost:8080/"
        }
      },
      "source": [
        "r1 = np.tensordot(a1, a2,axes=0)       # Outer Product\n",
        "print(\"Resulting Tensor : \\n\", r1)\n",
        "r1.shape"
      ],
      "execution_count": 58,
      "outputs": [
        {
          "output_type": "stream",
          "name": "stdout",
          "text": [
            "Resulting Tensor : \n",
            " [[[[ 1  2]\n",
            "   [ 3  4]\n",
            "   [ 2  3]]\n",
            "\n",
            "  [[ 2  4]\n",
            "   [ 6  8]\n",
            "   [ 4  6]]\n",
            "\n",
            "  [[ 3  6]\n",
            "   [ 9 12]\n",
            "   [ 6  9]]]\n",
            "\n",
            "\n",
            " [[[ 2  4]\n",
            "   [ 6  8]\n",
            "   [ 4  6]]\n",
            "\n",
            "  [[ 3  6]\n",
            "   [ 9 12]\n",
            "   [ 6  9]]\n",
            "\n",
            "  [[ 1  2]\n",
            "   [ 3  4]\n",
            "   [ 2  3]]]]\n"
          ]
        },
        {
          "output_type": "execute_result",
          "data": {
            "text/plain": [
              "(2, 3, 3, 2)"
            ]
          },
          "metadata": {},
          "execution_count": 58
        }
      ]
    },
    {
      "cell_type": "markdown",
      "metadata": {
        "id": "w_H9RBJ_t7QT"
      },
      "source": [
        "#### TensorFlow\n",
        "\n",
        "Similar as NumPy.\n",
        "\n",
        "To know more about tensordot, refer the [link](https://www.tensorflow.org/api_docs/python/tf/tensordot)"
      ]
    },
    {
      "cell_type": "code",
      "metadata": {
        "id": "jhV65XRTt-HJ",
        "outputId": "338e20b3-e564-47ed-f6b7-5b9a2f7bd53d",
        "colab": {
          "base_uri": "https://localhost:8080/"
        }
      },
      "source": [
        "# Defining tensors\n",
        "a1_tf = tf.Variable([[1,2,3],[2,3,1]])\n",
        "a2_tf = tf.Variable([[1,2],[3,4],[2,3]])\n",
        "print(\"Tensor1 is: \\n \", a1_tf)\n",
        "print(\"Tensor2 is: \\n\", a2_tf)\n",
        "\n",
        "# Calculating tensordot\n",
        "r1_tf = tf.tensordot(a1_tf, a2_tf, axes=([0,1]))  # Same when axes are passed as -->  axes=([0],[1])  OR   axes=([[0],[1]])\n",
        "print(\"Tensordot of these tensors is:\\n\", r1_tf)\n",
        "print(\"Shape : \", tf.shape(r1_tf))"
      ],
      "execution_count": 59,
      "outputs": [
        {
          "output_type": "stream",
          "name": "stdout",
          "text": [
            "Tensor1 is: \n",
            "  <tf.Variable 'Variable:0' shape=(2, 3) dtype=int32, numpy=\n",
            "array([[1, 2, 3],\n",
            "       [2, 3, 1]], dtype=int32)>\n",
            "Tensor2 is: \n",
            " <tf.Variable 'Variable:0' shape=(3, 2) dtype=int32, numpy=\n",
            "array([[1, 2],\n",
            "       [3, 4],\n",
            "       [2, 3]], dtype=int32)>\n",
            "Tensordot of these tensors is:\n",
            " tf.Tensor(\n",
            "[[ 5 11  8]\n",
            " [ 8 18 13]\n",
            " [ 5 13  9]], shape=(3, 3), dtype=int32)\n",
            "Shape :  tf.Tensor([3 3], shape=(2,), dtype=int32)\n"
          ]
        }
      ]
    },
    {
      "cell_type": "code",
      "metadata": {
        "id": "v07hqXWIuBlQ",
        "outputId": "4b7f82bd-8ca1-4fa4-c2fc-28e8332f9f4a",
        "colab": {
          "base_uri": "https://localhost:8080/"
        }
      },
      "source": [
        "r1_tf = tf.tensordot(a1_tf, a2_tf,axes=0)  # Outer Product\n",
        "print(\"Resulting Tensor : \\n\", r1_tf)\n",
        "tf.shape(r1_tf)"
      ],
      "execution_count": 60,
      "outputs": [
        {
          "output_type": "stream",
          "name": "stdout",
          "text": [
            "Resulting Tensor : \n",
            " tf.Tensor(\n",
            "[[[[ 1  2]\n",
            "   [ 3  4]\n",
            "   [ 2  3]]\n",
            "\n",
            "  [[ 2  4]\n",
            "   [ 6  8]\n",
            "   [ 4  6]]\n",
            "\n",
            "  [[ 3  6]\n",
            "   [ 9 12]\n",
            "   [ 6  9]]]\n",
            "\n",
            "\n",
            " [[[ 2  4]\n",
            "   [ 6  8]\n",
            "   [ 4  6]]\n",
            "\n",
            "  [[ 3  6]\n",
            "   [ 9 12]\n",
            "   [ 6  9]]\n",
            "\n",
            "  [[ 1  2]\n",
            "   [ 3  4]\n",
            "   [ 2  3]]]], shape=(2, 3, 3, 2), dtype=int32)\n"
          ]
        },
        {
          "output_type": "execute_result",
          "data": {
            "text/plain": [
              "<tf.Tensor: shape=(4,), dtype=int32, numpy=array([2, 3, 3, 2], dtype=int32)>"
            ]
          },
          "metadata": {},
          "execution_count": 60
        }
      ]
    },
    {
      "cell_type": "markdown",
      "metadata": {
        "id": "7wDe_I_4uFY9"
      },
      "source": [
        "**Note:** we have illustrated only 2nd order Tensordot operation. For operations on higher-order Tensors visit the reference mentioned above."
      ]
    },
    {
      "cell_type": "markdown",
      "metadata": {
        "id": "FCc93fa64WSA"
      },
      "source": [
        "### Reduction:\n",
        "Calculating the sum across all elements of a tensor along with any one or multiple dimensions."
      ]
    },
    {
      "cell_type": "markdown",
      "metadata": {
        "id": "Kwo8ZhF6hPRa"
      },
      "source": [
        "#### NumPy"
      ]
    },
    {
      "cell_type": "code",
      "metadata": {
        "id": "GfcsaOqtmyT4",
        "outputId": "99201548-bb6b-4424-ec1a-fe31c8f45f65",
        "colab": {
          "base_uri": "https://localhost:8080/"
        }
      },
      "source": [
        "a   # Using the matrix/tensor defined above using Numpy"
      ],
      "execution_count": 61,
      "outputs": [
        {
          "output_type": "execute_result",
          "data": {
            "text/plain": [
              "array([[1, 2],\n",
              "       [2, 3],\n",
              "       [6, 7]])"
            ]
          },
          "metadata": {},
          "execution_count": 61
        }
      ]
    },
    {
      "cell_type": "code",
      "metadata": {
        "id": "uu7riudtmybD",
        "outputId": "e0c59817-2ef9-47a3-c33b-61fd93b6bbfe",
        "colab": {
          "base_uri": "https://localhost:8080/"
        }
      },
      "source": [
        "print(a.sum())  # OR\n",
        "print(np.sum(a))"
      ],
      "execution_count": 62,
      "outputs": [
        {
          "output_type": "stream",
          "name": "stdout",
          "text": [
            "21\n",
            "21\n"
          ]
        }
      ]
    },
    {
      "cell_type": "markdown",
      "metadata": {
        "id": "rfeANjHNraXN"
      },
      "source": [
        "* Summation along any one dimension: Here axis=0 means down the rows and axis=1 means along the columns."
      ]
    },
    {
      "cell_type": "code",
      "metadata": {
        "id": "hSnGy0-MrRNg",
        "outputId": "56aaae0f-1142-4ccc-b280-b9932c13f57e",
        "colab": {
          "base_uri": "https://localhost:8080/"
        }
      },
      "source": [
        "print(a.sum(axis=0))  # OR\n",
        "print(np.sum(a,axis=0))"
      ],
      "execution_count": 63,
      "outputs": [
        {
          "output_type": "stream",
          "name": "stdout",
          "text": [
            "[ 9 12]\n",
            "[ 9 12]\n"
          ]
        }
      ]
    },
    {
      "cell_type": "code",
      "metadata": {
        "id": "_NSRx4JtrVIr",
        "outputId": "66563243-9b16-48cd-bc9b-de2b176d2945",
        "colab": {
          "base_uri": "https://localhost:8080/"
        }
      },
      "source": [
        "print(a.sum(axis=1))  # OR\n",
        "print(np.sum(a,axis=1))"
      ],
      "execution_count": 64,
      "outputs": [
        {
          "output_type": "stream",
          "name": "stdout",
          "text": [
            "[ 3  5 13]\n",
            "[ 3  5 13]\n"
          ]
        }
      ]
    },
    {
      "cell_type": "markdown",
      "metadata": {
        "id": "kj2qsYVdsGjg"
      },
      "source": [
        "**Notice the code below and find the difference between the above and below operations.**"
      ]
    },
    {
      "cell_type": "code",
      "metadata": {
        "id": "s4RSKkf2r9kO",
        "outputId": "458005d6-89a0-4338-eece-0754e4b8cc26",
        "colab": {
          "base_uri": "https://localhost:8080/"
        }
      },
      "source": [
        "print(a.sum(axis=1,keepdims=True))  # OR\n",
        "print(np.sum(a,axis=1,keepdims=True))"
      ],
      "execution_count": 65,
      "outputs": [
        {
          "output_type": "stream",
          "name": "stdout",
          "text": [
            "[[ 3]\n",
            " [ 5]\n",
            " [13]]\n",
            "[[ 3]\n",
            " [ 5]\n",
            " [13]]\n"
          ]
        }
      ]
    },
    {
      "cell_type": "markdown",
      "metadata": {
        "id": "jacCEzGirHNQ"
      },
      "source": [
        "#### TensorFlow"
      ]
    },
    {
      "cell_type": "code",
      "metadata": {
        "id": "Qmd9pOnjmyjT",
        "outputId": "e4675aa1-7a81-4088-a83c-63c648d3c4dc",
        "colab": {
          "base_uri": "https://localhost:8080/"
        }
      },
      "source": [
        "a_tf    # Using the tensor a_tf defined using Tensorflow"
      ],
      "execution_count": 66,
      "outputs": [
        {
          "output_type": "execute_result",
          "data": {
            "text/plain": [
              "<tf.Variable 'Variable:0' shape=(3, 2) dtype=int32, numpy=\n",
              "array([[1, 2],\n",
              "       [2, 3],\n",
              "       [6, 7]], dtype=int32)>"
            ]
          },
          "metadata": {},
          "execution_count": 66
        }
      ]
    },
    {
      "cell_type": "code",
      "metadata": {
        "id": "U7RBXWZ_s1-S",
        "outputId": "64b258f8-e422-4686-bac8-3bd44121bb64",
        "colab": {
          "base_uri": "https://localhost:8080/"
        }
      },
      "source": [
        "tf.reduce_sum(a_tf)"
      ],
      "execution_count": 67,
      "outputs": [
        {
          "output_type": "execute_result",
          "data": {
            "text/plain": [
              "<tf.Tensor: shape=(), dtype=int32, numpy=21>"
            ]
          },
          "metadata": {},
          "execution_count": 67
        }
      ]
    },
    {
      "cell_type": "code",
      "metadata": {
        "id": "g0cnA5fus2MC",
        "outputId": "54203a4f-bcf1-402f-8c01-c0db640c0c7a",
        "colab": {
          "base_uri": "https://localhost:8080/"
        }
      },
      "source": [
        "tf.reduce_sum(a_tf,0)  # down the rows"
      ],
      "execution_count": 68,
      "outputs": [
        {
          "output_type": "execute_result",
          "data": {
            "text/plain": [
              "<tf.Tensor: shape=(2,), dtype=int32, numpy=array([ 9, 12], dtype=int32)>"
            ]
          },
          "metadata": {},
          "execution_count": 68
        }
      ]
    },
    {
      "cell_type": "code",
      "metadata": {
        "id": "G420vLmzs2XK",
        "outputId": "a9f5dc08-6b60-4a3f-bafa-1e39b76ea10a",
        "colab": {
          "base_uri": "https://localhost:8080/"
        }
      },
      "source": [
        "tf.reduce_sum(a_tf,1) # along the columns"
      ],
      "execution_count": 69,
      "outputs": [
        {
          "output_type": "execute_result",
          "data": {
            "text/plain": [
              "<tf.Tensor: shape=(3,), dtype=int32, numpy=array([ 3,  5, 13], dtype=int32)>"
            ]
          },
          "metadata": {},
          "execution_count": 69
        }
      ]
    },
    {
      "cell_type": "markdown",
      "metadata": {
        "id": "mrNWUO_HveDC"
      },
      "source": [
        "### Tensor/Matrix Determinant & Inversion\n",
        "* The matrix inversion is only valid for non-singular matrix i.e. matrix with non zero determinants. All columns of the matrix must be linearly independent.\n",
        "* Inversion is only calculated for the square matrix."
      ]
    },
    {
      "cell_type": "markdown",
      "metadata": {
        "id": "XVgSUCPAg5N0"
      },
      "source": [
        "#### NumPy"
      ]
    },
    {
      "cell_type": "code",
      "metadata": {
        "id": "0_vBuCpBtZf5",
        "outputId": "305f2574-e5ef-433c-ed22-63fd4085812b",
        "colab": {
          "base_uri": "https://localhost:8080/"
        }
      },
      "source": [
        "X = np.array([[2,3],[5,9]])\n",
        "X"
      ],
      "execution_count": 70,
      "outputs": [
        {
          "output_type": "execute_result",
          "data": {
            "text/plain": [
              "array([[2, 3],\n",
              "       [5, 9]])"
            ]
          },
          "metadata": {},
          "execution_count": 70
        }
      ]
    },
    {
      "cell_type": "code",
      "metadata": {
        "id": "0IM4Kf6QtZyI",
        "outputId": "48d16f5b-1097-4247-d79f-31b7d8d1f40d",
        "colab": {
          "base_uri": "https://localhost:8080/"
        }
      },
      "source": [
        "np.linalg.det(X) # Determinant calculation"
      ],
      "execution_count": 71,
      "outputs": [
        {
          "output_type": "execute_result",
          "data": {
            "text/plain": [
              "3.0000000000000004"
            ]
          },
          "metadata": {},
          "execution_count": 71
        }
      ]
    },
    {
      "cell_type": "code",
      "metadata": {
        "id": "ffr898zyxdd3",
        "outputId": "7b6aff21-a8c7-490f-9546-b5793f84bb11",
        "colab": {
          "base_uri": "https://localhost:8080/"
        }
      },
      "source": [
        "X_inv = np.linalg.inv(X)\n",
        "X_inv"
      ],
      "execution_count": 72,
      "outputs": [
        {
          "output_type": "execute_result",
          "data": {
            "text/plain": [
              "array([[ 3.        , -1.        ],\n",
              "       [-1.66666667,  0.66666667]])"
            ]
          },
          "metadata": {},
          "execution_count": 72
        }
      ]
    },
    {
      "cell_type": "code",
      "metadata": {
        "id": "7DryrhzGxlC_",
        "outputId": "1e949558-ca13-4f03-f6d4-257074c8e25d",
        "colab": {
          "base_uri": "https://localhost:8080/"
        }
      },
      "source": [
        "np.dot(X,X_inv)"
      ],
      "execution_count": 73,
      "outputs": [
        {
          "output_type": "execute_result",
          "data": {
            "text/plain": [
              "array([[ 1.00000000e+00, -1.11022302e-16],\n",
              "       [ 1.33226763e-15,  1.00000000e+00]])"
            ]
          },
          "metadata": {},
          "execution_count": 73
        }
      ]
    },
    {
      "cell_type": "markdown",
      "metadata": {
        "id": "CYQy5bDgxyRK"
      },
      "source": [
        "#### TensorFlow"
      ]
    },
    {
      "cell_type": "code",
      "metadata": {
        "id": "W0Cjj6Aax0lC",
        "outputId": "6909cebb-9d43-430f-ba6f-b3bb97e48c82",
        "colab": {
          "base_uri": "https://localhost:8080/"
        }
      },
      "source": [
        "# To get inverse, make sure that  tensor has entries as float\n",
        "X_tf = tf.Variable([[2.,3.],[5.,9.]])\n",
        "X_tf"
      ],
      "execution_count": 74,
      "outputs": [
        {
          "output_type": "execute_result",
          "data": {
            "text/plain": [
              "<tf.Variable 'Variable:0' shape=(2, 2) dtype=float32, numpy=\n",
              "array([[2., 3.],\n",
              "       [5., 9.]], dtype=float32)>"
            ]
          },
          "metadata": {},
          "execution_count": 74
        }
      ]
    },
    {
      "cell_type": "code",
      "metadata": {
        "id": "6k5tmZEUyqx9",
        "outputId": "63138e00-1d1f-4b43-c2c3-6c25d4edf2c9",
        "colab": {
          "base_uri": "https://localhost:8080/"
        }
      },
      "source": [
        "# Determinant Calculation\n",
        "tf.linalg.det(X_tf)"
      ],
      "execution_count": 75,
      "outputs": [
        {
          "output_type": "execute_result",
          "data": {
            "text/plain": [
              "<tf.Tensor: shape=(), dtype=float32, numpy=3.0000007>"
            ]
          },
          "metadata": {},
          "execution_count": 75
        }
      ]
    },
    {
      "cell_type": "code",
      "metadata": {
        "id": "kzmfqXYN0WXN",
        "outputId": "1134e2b8-7a22-4a12-cea2-fc8071c383ee",
        "colab": {
          "base_uri": "https://localhost:8080/"
        }
      },
      "source": [
        "## To get only the final result, add --> .numpy() at the end as given below. Valid everywhere.\n",
        "tf.linalg.det(X_tf).numpy()"
      ],
      "execution_count": 76,
      "outputs": [
        {
          "output_type": "execute_result",
          "data": {
            "text/plain": [
              "3.0000007"
            ]
          },
          "metadata": {},
          "execution_count": 76
        }
      ]
    },
    {
      "cell_type": "code",
      "metadata": {
        "id": "zPnSRvrbx03Q",
        "outputId": "b45dd5b0-3e35-4ec6-dccc-405084dd6cf5",
        "colab": {
          "base_uri": "https://localhost:8080/"
        }
      },
      "source": [
        "X_tf_inv = tf.linalg.inv(X_tf)\n",
        "X_tf_inv"
      ],
      "execution_count": 77,
      "outputs": [
        {
          "output_type": "execute_result",
          "data": {
            "text/plain": [
              "<tf.Tensor: shape=(2, 2), dtype=float32, numpy=\n",
              "array([[ 2.9999993, -0.9999997],\n",
              "       [-1.6666663,  0.6666665]], dtype=float32)>"
            ]
          },
          "metadata": {},
          "execution_count": 77
        }
      ]
    },
    {
      "cell_type": "code",
      "metadata": {
        "id": "jD__pHJxy2Ze",
        "outputId": "13b8c604-8d9c-4b5d-f1dc-369d6d57892c",
        "colab": {
          "base_uri": "https://localhost:8080/"
        }
      },
      "source": [
        "tf.matmul(X_tf,X_tf_inv)"
      ],
      "execution_count": 78,
      "outputs": [
        {
          "output_type": "execute_result",
          "data": {
            "text/plain": [
              "<tf.Tensor: shape=(2, 2), dtype=float32, numpy=\n",
              "array([[9.9999952e-01, 1.1920929e-07],\n",
              "       [0.0000000e+00, 1.0000000e+00]], dtype=float32)>"
            ]
          },
          "metadata": {},
          "execution_count": 78
        }
      ]
    },
    {
      "cell_type": "markdown",
      "metadata": {
        "id": "9wUj5bkbXoJV"
      },
      "source": [
        "### Higher-order tensor\n",
        "A colored image consists of three channels of pixels one for Red color, one for Green color, and one for Blue color. Each channel is a 2D matrix. That means, any colored image is represented by a 3-tensor of pixels composed of three 2D matrices stacked one after another and each 2D matrix is called a channel. Say we have an image of 32 megapixels then the shape of the tensor representation of this image is (32,32,3),i.e. three 32X32 matrices are stacked one after another. So this is a tensor of order/rank 3 and it is used for the representation of an image.\n",
        "\n",
        "![img1](https://cdn.iisc.talentsprint.com/CDS/Images/RGB_Channel.JPG)"
      ]
    },
    {
      "cell_type": "markdown",
      "metadata": {
        "id": "Cqo8QwnSk-AI"
      },
      "source": [
        "Now, say there are 100 such images, then the tensor will be of 4th order and the shape will be (100,32,32,3). So the tensor contains information of 100 images each consists of RGB  channels of 32 by 32 megapixel.\n",
        "#### NumPy"
      ]
    },
    {
      "cell_type": "code",
      "metadata": {
        "id": "Yp4GwRO_kkWQ",
        "outputId": "7857d684-5b2d-443a-c390-e48f6c612289",
        "colab": {
          "base_uri": "https://localhost:8080/"
        }
      },
      "source": [
        "# Making a 3 rank/order tensor filled with zeros\n",
        "np.zeros([3,2,3])"
      ],
      "execution_count": 79,
      "outputs": [
        {
          "output_type": "execute_result",
          "data": {
            "text/plain": [
              "array([[[0., 0., 0.],\n",
              "        [0., 0., 0.]],\n",
              "\n",
              "       [[0., 0., 0.],\n",
              "        [0., 0., 0.]],\n",
              "\n",
              "       [[0., 0., 0.],\n",
              "        [0., 0., 0.]]])"
            ]
          },
          "metadata": {},
          "execution_count": 79
        }
      ]
    },
    {
      "cell_type": "code",
      "metadata": {
        "id": "yd4eXWN2obzr",
        "outputId": "371d1955-357f-47a8-cc64-4637a48bdf05",
        "colab": {
          "base_uri": "https://localhost:8080/"
        }
      },
      "source": [
        "# Making a 4 rank/order tensor filled with zeros\n",
        "np.zeros([2,3,2,3])"
      ],
      "execution_count": 80,
      "outputs": [
        {
          "output_type": "execute_result",
          "data": {
            "text/plain": [
              "array([[[[0., 0., 0.],\n",
              "         [0., 0., 0.]],\n",
              "\n",
              "        [[0., 0., 0.],\n",
              "         [0., 0., 0.]],\n",
              "\n",
              "        [[0., 0., 0.],\n",
              "         [0., 0., 0.]]],\n",
              "\n",
              "\n",
              "       [[[0., 0., 0.],\n",
              "         [0., 0., 0.]],\n",
              "\n",
              "        [[0., 0., 0.],\n",
              "         [0., 0., 0.]],\n",
              "\n",
              "        [[0., 0., 0.],\n",
              "         [0., 0., 0.]]]])"
            ]
          },
          "metadata": {},
          "execution_count": 80
        }
      ]
    },
    {
      "cell_type": "markdown",
      "metadata": {
        "id": "HHQmSvGFqajN"
      },
      "source": [
        "#### TensorFlow"
      ]
    },
    {
      "cell_type": "code",
      "metadata": {
        "id": "tTxz6fZZnkQD",
        "outputId": "4256c207-9af2-4f94-b614-805ffc0234a4",
        "colab": {
          "base_uri": "https://localhost:8080/"
        }
      },
      "source": [
        "tf.zeros([3,2,3])"
      ],
      "execution_count": 81,
      "outputs": [
        {
          "output_type": "execute_result",
          "data": {
            "text/plain": [
              "<tf.Tensor: shape=(3, 2, 3), dtype=float32, numpy=\n",
              "array([[[0., 0., 0.],\n",
              "        [0., 0., 0.]],\n",
              "\n",
              "       [[0., 0., 0.],\n",
              "        [0., 0., 0.]],\n",
              "\n",
              "       [[0., 0., 0.],\n",
              "        [0., 0., 0.]]], dtype=float32)>"
            ]
          },
          "metadata": {},
          "execution_count": 81
        }
      ]
    },
    {
      "cell_type": "code",
      "metadata": {
        "id": "EDcCe5RakZkw",
        "outputId": "7332c503-106f-459b-e708-fd8f7105cb9d",
        "colab": {
          "base_uri": "https://localhost:8080/"
        }
      },
      "source": [
        "tf.zeros([2,3,2,3])"
      ],
      "execution_count": 82,
      "outputs": [
        {
          "output_type": "execute_result",
          "data": {
            "text/plain": [
              "<tf.Tensor: shape=(2, 3, 2, 3), dtype=float32, numpy=\n",
              "array([[[[0., 0., 0.],\n",
              "         [0., 0., 0.]],\n",
              "\n",
              "        [[0., 0., 0.],\n",
              "         [0., 0., 0.]],\n",
              "\n",
              "        [[0., 0., 0.],\n",
              "         [0., 0., 0.]]],\n",
              "\n",
              "\n",
              "       [[[0., 0., 0.],\n",
              "         [0., 0., 0.]],\n",
              "\n",
              "        [[0., 0., 0.],\n",
              "         [0., 0., 0.]],\n",
              "\n",
              "        [[0., 0., 0.],\n",
              "         [0., 0., 0.]]]], dtype=float32)>"
            ]
          },
          "metadata": {},
          "execution_count": 82
        }
      ]
    },
    {
      "cell_type": "markdown",
      "metadata": {
        "id": "W263Lyklop8B"
      },
      "source": [
        "### Converting NumPy Tensor into TensorFlow Tensor and vice-versa :"
      ]
    },
    {
      "cell_type": "code",
      "metadata": {
        "id": "4qzVJJoeo4FJ",
        "outputId": "679b00ad-f1a3-49f9-bd06-b09da899370f",
        "colab": {
          "base_uri": "https://localhost:8080/"
        }
      },
      "source": [
        "x = tf.constant([[1, 2, 3], [4, 5, 6]])\n",
        "x"
      ],
      "execution_count": 83,
      "outputs": [
        {
          "output_type": "execute_result",
          "data": {
            "text/plain": [
              "<tf.Tensor: shape=(2, 3), dtype=int32, numpy=\n",
              "array([[1, 2, 3],\n",
              "       [4, 5, 6]], dtype=int32)>"
            ]
          },
          "metadata": {},
          "execution_count": 83
        }
      ]
    },
    {
      "cell_type": "code",
      "metadata": {
        "id": "LxF0-D75pD8z",
        "outputId": "bf359d01-c20b-4620-bc95-c0d83a3064e6",
        "colab": {
          "base_uri": "https://localhost:8080/"
        }
      },
      "source": [
        "x_np = x.numpy()\n",
        "x_np"
      ],
      "execution_count": 84,
      "outputs": [
        {
          "output_type": "execute_result",
          "data": {
            "text/plain": [
              "array([[1, 2, 3],\n",
              "       [4, 5, 6]], dtype=int32)"
            ]
          },
          "metadata": {},
          "execution_count": 84
        }
      ]
    },
    {
      "cell_type": "code",
      "metadata": {
        "id": "I_3gsLeQpXdT",
        "outputId": "c30053d0-812c-47f3-d397-70c9a7100271",
        "colab": {
          "base_uri": "https://localhost:8080/"
        }
      },
      "source": [
        "x_tf = tf.convert_to_tensor(x_np)\n",
        "x_tf"
      ],
      "execution_count": 85,
      "outputs": [
        {
          "output_type": "execute_result",
          "data": {
            "text/plain": [
              "<tf.Tensor: shape=(2, 3), dtype=int32, numpy=\n",
              "array([[1, 2, 3],\n",
              "       [4, 5, 6]], dtype=int32)>"
            ]
          },
          "metadata": {},
          "execution_count": 85
        }
      ]
    },
    {
      "cell_type": "markdown",
      "metadata": {
        "id": "oQ0n9U2DQRCb"
      },
      "source": [
        "**Comparison** Tensor in NumPy and TensorFlow: We have carried out different operations of Tensor using both NumPy and TensorFlow libraries. In general, the Tensors defined in NumPy are called Nd-Arrays whereas in TensorFlow they are called Tensors.\n",
        "* Do NumPy arrays differ from Tensors?\n",
        "\n",
        "There is no difference between Tensors defined through both the libraries apart from the syntactical difference (that we have seen in the above operations) but a Tensor is a more suitable choice if we are going to use GPUs/TPUs as it can reside in accelerators memory. This is the main reasoning behind the application of TensorFlow in deep learning."
      ]
    },
    {
      "cell_type": "markdown",
      "metadata": {
        "id": "O1kyY1mt6vdv"
      },
      "source": [
        "To explore more about other operations click [here](https://www.tensorflow.org/guide/tensor)."
      ]
    },
    {
      "cell_type": "markdown",
      "metadata": {
        "id": "GvdJCvc_Quyu"
      },
      "source": [
        "**Ungraded practice problems**"
      ]
    },
    {
      "cell_type": "markdown",
      "metadata": {
        "id": "vlhK-Gx6QRCd"
      },
      "source": [
        "**Q.1. Two tensors having different shapes**\n",
        "\n",
        "a) can not be added.\n",
        "\n",
        "b) can be added mathematically.\n",
        "\n",
        "c) can be added in NumPy but not in TensorFlow.\n",
        "\n",
        "d) can be added in both NumPy and TensorFlow.\n",
        "\n",
        "Answer : d)"
      ]
    },
    {
      "cell_type": "markdown",
      "metadata": {
        "id": "1Z-OmWwTQRCe"
      },
      "source": [
        "**Q.2. Which of the following are not true about matrix multiplication?**\n",
        "\n",
        "a) Hadamard and Matrix Multiplication are the same operations.\n",
        "\n",
        "b) Matrix Multiplication can only be done between matrices of the same shape.\n",
        "\n",
        "c) Element-wise multiplication is the same as that of Matrix Multiplication.\n",
        "\n",
        "d) Number of columns of the first matrix and number of rows of the second matrix must match for matrix multiplication.\n",
        "\n",
        "Answer: a),b) and c)"
      ]
    },
    {
      "cell_type": "markdown",
      "metadata": {
        "id": "s-aEdMM0QRCe"
      },
      "source": [
        "**Q.3. The concept of broadcasting is related to**\n",
        "\n",
        "a) Inverse of a matrix.\n",
        "\n",
        "b) Multiplication of matrix.\n",
        "\n",
        "c) Addition of matrix.\n",
        "\n",
        "d) Subtraction of Matrix.\n",
        "\n",
        "Answer: Both c) and d)"
      ]
    },
    {
      "cell_type": "markdown",
      "metadata": {
        "id": "VHfHdGCP_n6Y"
      },
      "source": [
        "### Please answer the questions below to complete the experiment:\n",
        "\n",
        "\n"
      ]
    },
    {
      "cell_type": "code",
      "metadata": {
        "id": "VgSwVENIPcM6"
      },
      "source": [
        "# @title Which of the following may be the shape of a tensor representing 10 color images of size 64 X 64? { run: \"auto\", form-width: \"500px\", display-mode: \"form\" }\n",
        "Answer = \"64 x 10 x 3 x 64\" #@param [\"\",\"10 x 3 x 64 x 64\",\"10 x 64 x 3\", \"64 x 10 x 3 x 64\", \"4 x 64 x 10 x 3\"]"
      ],
      "execution_count": 86,
      "outputs": []
    },
    {
      "cell_type": "code",
      "metadata": {
        "id": "NMzKSbLIgFzQ"
      },
      "source": [
        "#@title How was the experiment? { run: \"auto\", form-width: \"500px\", display-mode: \"form\" }\n",
        "Complexity = \"Good and Challenging for me\" #@param [\"\",\"Too Simple, I am wasting time\", \"Good, But Not Challenging for me\", \"Good and Challenging for me\", \"Was Tough, but I did it\", \"Too Difficult for me\"]\n"
      ],
      "execution_count": 87,
      "outputs": []
    },
    {
      "cell_type": "code",
      "metadata": {
        "id": "DjcH1VWSFI2l"
      },
      "source": [
        "#@title If it was too easy, what more would you have liked to be added? If it was very difficult, what would you have liked to have been removed? { run: \"auto\", display-mode: \"form\" }\n",
        "Additional = \"It was pretty challenging\" #@param {type:\"string\"}\n"
      ],
      "execution_count": 88,
      "outputs": []
    },
    {
      "cell_type": "code",
      "metadata": {
        "id": "4VBk_4VTAxCM"
      },
      "source": [
        "#@title Can you identify the concepts from the lecture which this experiment covered? { run: \"auto\", vertical-output: true, display-mode: \"form\" }\n",
        "Concepts = \"Yes\" #@param [\"\",\"Yes\", \"No\"]\n"
      ],
      "execution_count": 89,
      "outputs": []
    },
    {
      "cell_type": "code",
      "metadata": {
        "id": "XH91cL1JWH7m"
      },
      "source": [
        "#@title  Text and image description/explanation and code comments within the experiment: { run: \"auto\", vertical-output: true, display-mode: \"form\" }\n",
        "Comments = \"Very Useful\" #@param [\"\",\"Very Useful\", \"Somewhat Useful\", \"Not Useful\", \"Didn't use\"]\n"
      ],
      "execution_count": 90,
      "outputs": []
    },
    {
      "cell_type": "code",
      "metadata": {
        "id": "z8xLqj7VWIKW"
      },
      "source": [
        "#@title Mentor Support: { run: \"auto\", vertical-output: true, display-mode: \"form\" }\n",
        "Mentor_support = \"Very Useful\" #@param [\"\",\"Very Useful\", \"Somewhat Useful\", \"Not Useful\", \"Didn't use\"]\n"
      ],
      "execution_count": 91,
      "outputs": []
    },
    {
      "cell_type": "code",
      "metadata": {
        "id": "FzAZHt1zw-Y-",
        "cellView": "form",
        "outputId": "1f4b90e1-1836-4740-af05-0c82e8d96d33",
        "colab": {
          "base_uri": "https://localhost:8080/"
        }
      },
      "source": [
        "#@title Run this cell to submit your notebook for grading { vertical-output: true }\n",
        "try:\n",
        "  if submission_id:\n",
        "      return_id = submit_notebook()\n",
        "      if return_id : submission_id = return_id\n",
        "  else:\n",
        "      print(\"Please complete the setup first.\")\n",
        "except NameError:\n",
        "  print (\"Please complete the setup first.\")"
      ],
      "execution_count": 96,
      "outputs": [
        {
          "output_type": "stream",
          "name": "stdout",
          "text": [
            "Your submission is successful.\n",
            "Ref Id: 1576\n",
            "Date of submission:  21 Jan 2024\n",
            "Time of submission:  23:08:45\n",
            "View your submissions: https://cds-iisc.talentsprint.com/notebook_submissions\n"
          ]
        }
      ]
    }
  ]
}