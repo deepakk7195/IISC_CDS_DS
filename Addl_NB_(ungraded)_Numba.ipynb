{
  "nbformat": 4,
  "nbformat_minor": 5,
  "metadata": {
    "kernelspec": {
      "display_name": "Python 3",
      "language": "python",
      "name": "python3"
    },
    "language_info": {
      "codemirror_mode": {
        "name": "ipython",
        "version": 3
      },
      "file_extension": ".py",
      "mimetype": "text/x-python",
      "name": "python",
      "nbconvert_exporter": "python",
      "pygments_lexer": "ipython3",
      "version": "3.5.2"
    },
    "colab": {
      "provenance": [],
      "include_colab_link": true
    }
  },
  "cells": [
    {
      "cell_type": "markdown",
      "metadata": {
        "id": "view-in-github",
        "colab_type": "text"
      },
      "source": [
        "<a href=\"https://colab.research.google.com/github/deepakk7195/IISC_CDS_DS/blob/Scalable_ML_GenAI/Addl_NB_(ungraded)_Numba.ipynb\" target=\"_parent\"><img src=\"https://colab.research.google.com/assets/colab-badge.svg\" alt=\"Open In Colab\"/></a>"
      ]
    },
    {
      "cell_type": "markdown",
      "metadata": {
        "id": "spare-audio"
      },
      "source": [
        "# Advanced Certification Program in Computational Data Science\n",
        "## A program by IISc and TalentSprint\n",
        "### Additional Notebook (Ungraded): Introduction to Numba"
      ],
      "id": "spare-audio"
    },
    {
      "cell_type": "markdown",
      "metadata": {
        "id": "packed-devices"
      },
      "source": [
        "## Learning Objectives"
      ],
      "id": "packed-devices"
    },
    {
      "cell_type": "markdown",
      "metadata": {
        "id": "driven-masters"
      },
      "source": [
        "At the end of the experiment, you will be able to:\n",
        "\n",
        "* use the jit decorator to improve the performance\n",
        "* understand the difference between Numba’s compilation modes\n",
        "* understand limitations of Numba with examples\n",
        "* vectorize code for use as a ufunc"
      ],
      "id": "driven-masters"
    },
    {
      "cell_type": "markdown",
      "metadata": {
        "id": "compatible-daniel"
      },
      "source": [
        "## Information"
      ],
      "id": "compatible-daniel"
    },
    {
      "cell_type": "markdown",
      "metadata": {
        "id": "integrated-wallace"
      },
      "source": [
        "#### Numba in a Nutshell\n",
        "\n",
        "Numba is a Python module which translates a subset of Python and NumPy code into high-speed machine code. Numba allows the compilation of selected portions of pure Python code to native code, and generates optimized machine code using the LLVM (Low Level Virtual Machine) compiler infrastructure.\n",
        "\n",
        "With a few simple annotations, array-oriented and math-heavy Python code can be just-in-time (JIT) optimized to achieve performance similar to C, C++ and Fortran, without having to switch languages or Python interpreters.\n",
        "\n",
        "**High-Level architecture of Numba**\n",
        "\n",
        "The Numba translation process can be translated in a set of important steps ranging from the Bytecode analysis to the final machine code generation. The picture bellow illustrates this process, where the green boxes correspond to the frontend of the Numba compiler and the blue boxes belong to the backend.\n",
        "\n",
        "![Image](https://cdn.iisc.talentsprint.com/CDS/Images/numba.png)\n",
        "\n",
        "To know more about Numba click [here](https://towardsdatascience.com/speed-up-your-algorithms-part-2-numba-293e554c5cc1)\n"
      ],
      "id": "integrated-wallace"
    },
    {
      "cell_type": "code",
      "source": [
        "# Upgrade numba\n",
        "!pip install numba --upgrade"
      ],
      "metadata": {
        "id": "jRKxGGqMfP8a"
      },
      "id": "jRKxGGqMfP8a",
      "execution_count": null,
      "outputs": []
    },
    {
      "cell_type": "markdown",
      "metadata": {
        "id": "brazilian-cotton"
      },
      "source": [
        "Importing necessary packages"
      ],
      "id": "brazilian-cotton"
    },
    {
      "cell_type": "code",
      "metadata": {
        "id": "desirable-gabriel"
      },
      "source": [
        "from numba import * # Importing all the functions present in numba package\n",
        "import numpy as np # Importing numpy package under a name np"
      ],
      "id": "desirable-gabriel",
      "execution_count": null,
      "outputs": []
    },
    {
      "cell_type": "markdown",
      "metadata": {
        "id": "active-pathology"
      },
      "source": [
        "Let us first write a small python code to find the sums of all the elements of a given array and then understand its implementation using numba."
      ],
      "id": "active-pathology"
    },
    {
      "cell_type": "code",
      "metadata": {
        "id": "signed-seminar"
      },
      "source": [
        "# Python version code\n",
        "# Defining a function\n",
        "def ArraySum(array):\n",
        "    m, n = array.shape # shape of a array\n",
        "    # This is a bad idea of calculating sum of elements in array(Not Pythonic style)\n",
        "    total = 0 # Defining a variable\n",
        "    for j in range(m): # iterating over rows\n",
        "        for i in range(n): # iterating over columns\n",
        "            total += array[j, i] # calculating the sum\n",
        "    return total # returning the sum of elements of an array"
      ],
      "id": "signed-seminar",
      "execution_count": null,
      "outputs": []
    },
    {
      "cell_type": "code",
      "metadata": {
        "id": "interpreted-moses"
      },
      "source": [
        "A = np.random.random((200,200)) # Generating a numpy array\n",
        "ArraySum(A) # Calling the ArraySum function"
      ],
      "id": "interpreted-moses",
      "execution_count": null,
      "outputs": []
    },
    {
      "cell_type": "markdown",
      "metadata": {
        "id": "adult-portland"
      },
      "source": [
        "Now let us time the execution of ArraySum function while calculating the sum of elements in array 'A'"
      ],
      "id": "adult-portland"
    },
    {
      "cell_type": "code",
      "metadata": {
        "id": "committed-shelter"
      },
      "source": [
        "# timing the execution\n",
        "%timeit ArraySum(A)"
      ],
      "id": "committed-shelter",
      "execution_count": null,
      "outputs": []
    },
    {
      "cell_type": "markdown",
      "metadata": {
        "id": "adapted-douglas"
      },
      "source": [
        "To know more about the timeit function click [here](https://docs.python.org/3/library/timeit.html)\n",
        "\n",
        "Now let us see how to speed up execution of ArraySum function while calculating the sum of elements in array 'A' using numba"
      ],
      "id": "adapted-douglas"
    },
    {
      "cell_type": "markdown",
      "metadata": {
        "id": "extended-fight"
      },
      "source": [
        "**Jit as function call**"
      ],
      "id": "extended-fight"
    },
    {
      "cell_type": "code",
      "metadata": {
        "id": "mighty-premium"
      },
      "source": [
        "sum_array_numba = jit()(ArraySum) # Calling the jit compiler"
      ],
      "id": "mighty-premium",
      "execution_count": null,
      "outputs": []
    },
    {
      "cell_type": "markdown",
      "metadata": {
        "id": "democratic-farming"
      },
      "source": [
        "The function **sum_array_numba** is a version of **ArraySum** that is “targeted” for JIT-compilation."
      ],
      "id": "democratic-farming"
    },
    {
      "cell_type": "code",
      "metadata": {
        "id": "interracial-breakdown"
      },
      "source": [
        "# Timing the excution of sum_array_numba function\n",
        "\n",
        "%timeit sum_array_numba(A)"
      ],
      "id": "interracial-breakdown",
      "execution_count": null,
      "outputs": []
    },
    {
      "cell_type": "markdown",
      "metadata": {
        "id": "backed-detector"
      },
      "source": [
        "From the above codes, we can see that execution of the code gets faster using JIT Compiler. Now let us write numpy version of the code to calculate the sum of elements in an array and timeit"
      ],
      "id": "backed-detector"
    },
    {
      "cell_type": "code",
      "metadata": {
        "id": "addressed-corruption"
      },
      "source": [
        "A.sum() #using in-built sum function to find sum of elements in an array (Its better idea; Pythonic style)"
      ],
      "id": "addressed-corruption",
      "execution_count": null,
      "outputs": []
    },
    {
      "cell_type": "code",
      "metadata": {
        "id": "manual-scholar"
      },
      "source": [
        "# Timing the code\n",
        "%timeit A.sum()"
      ],
      "id": "manual-scholar",
      "execution_count": null,
      "outputs": []
    },
    {
      "cell_type": "markdown",
      "metadata": {
        "id": "exact-sheffield"
      },
      "source": [
        "To know more about the sum function click [here](https://docs.python.org/3/library/functions.html#sum)"
      ],
      "id": "exact-sheffield"
    },
    {
      "cell_type": "markdown",
      "metadata": {
        "id": "utility-canal"
      },
      "source": [
        "In the above code, we have created a JIT compiled version **ArraySum** of via the call **jit()(ArraySum)**. In practice this would typically be done using an alternative **decorator** syntax.\n",
        "\n",
        "To know more about Python decorators click [here](https://link.medium.com/rixEI1907db)"
      ],
      "id": "utility-canal"
    },
    {
      "cell_type": "markdown",
      "metadata": {
        "id": "another-radar"
      },
      "source": [
        "**Decorator Notation**"
      ],
      "id": "another-radar"
    },
    {
      "cell_type": "markdown",
      "metadata": {
        "id": "basic-concord"
      },
      "source": [
        " To target a function for JIT compilation we will put **@jit** before the ArraySum function definition."
      ],
      "id": "basic-concord"
    },
    {
      "cell_type": "code",
      "metadata": {
        "id": "resistant-safety"
      },
      "source": [
        "@jit\n",
        "# Defining a function\n",
        "def ArraySum(array):\n",
        "    m, n = array.shape # shape of a array\n",
        "    # This is a bad idea of calculating sum of elements in array(Not  Pythonic style)\n",
        "    total = 0 # Defining a variable\n",
        "    for j in range(m): # iterating over rows\n",
        "        for i in range(n): # iterating over columns\n",
        "            total += array[j, i] # calculating the sum\n",
        "    return total # returning the sum of elements of an array"
      ],
      "id": "resistant-safety",
      "execution_count": null,
      "outputs": []
    },
    {
      "cell_type": "code",
      "metadata": {
        "id": "injured-stockholm"
      },
      "source": [
        "# Timing the execution\n",
        "%timeit ArraySum(A)"
      ],
      "id": "injured-stockholm",
      "execution_count": null,
      "outputs": []
    },
    {
      "cell_type": "markdown",
      "metadata": {
        "id": "equal-bronze"
      },
      "source": [
        "#### Think for a While!!\n",
        "\n",
        "- How does Numba get the code to run quickly?"
      ],
      "id": "equal-bronze"
    },
    {
      "cell_type": "markdown",
      "metadata": {
        "id": "under-cabin"
      },
      "source": [
        "Numba examines Python bytecode and then translates this into an 'intermediate representation'. We can view this using inspect_types method."
      ],
      "id": "under-cabin"
    },
    {
      "cell_type": "code",
      "metadata": {
        "id": "material-librarian"
      },
      "source": [
        "ArraySum.inspect_types() # Inspecting the types"
      ],
      "id": "material-librarian",
      "execution_count": null,
      "outputs": []
    },
    {
      "cell_type": "markdown",
      "metadata": {
        "id": "liquid-ethiopia"
      },
      "source": [
        "From the above results, we can infer that\n",
        "- every line of Python code is preceded by several lines of Numba IR(Intermediate Representations) code that gives a glimpse into what Numba is doing to the Python code behind the scenes.\n",
        "- at the end of most lines there are type annotations that show how Numba is treating variables and function calls."
      ],
      "id": "liquid-ethiopia"
    },
    {
      "cell_type": "markdown",
      "metadata": {
        "id": "alone-probability"
      },
      "source": [
        "### Compilation modes\n",
        "\n",
        "There are two important modes: nopython and object. The nopython completely avoids the python interpreter and translates the full code to native instructions that can be run without the help of Python . However, if for some reason, that mode is not available (for example, when using unsupported Python features or external libraries) the compilation will fall back to the object mode, where it uses the Python interpreter when it is unable to compile some code . Naturally, the nopython mode is the one which offers the best performance gains."
      ],
      "id": "alone-probability"
    },
    {
      "cell_type": "markdown",
      "metadata": {
        "id": "resistant-large"
      },
      "source": [
        "**nopython mode**"
      ],
      "id": "resistant-large"
    },
    {
      "cell_type": "code",
      "metadata": {
        "id": "welcome-manhattan"
      },
      "source": [
        "@jit(nopython=True)\n",
        "# Defining a function\n",
        "def ArraySum(array):\n",
        "    m, n = array.shape # shape of a array\n",
        "    # This is a bad idea of calculating sum of elements in array(Not  Pythonic style)\n",
        "    total = 0 # Defining a variable\n",
        "    for j in range(m): # iterating over rows\n",
        "        for i in range(n): # iterating over columns\n",
        "            total += array[j, i] # calculating the sum\n",
        "    return total # returning the sum of elements of an array"
      ],
      "id": "welcome-manhattan",
      "execution_count": null,
      "outputs": []
    },
    {
      "cell_type": "code",
      "metadata": {
        "id": "furnished-cartoon"
      },
      "source": [
        "# Calling the above defined function and timing it\n",
        "%timeit ArraySum(A)"
      ],
      "id": "furnished-cartoon",
      "execution_count": null,
      "outputs": []
    },
    {
      "cell_type": "markdown",
      "metadata": {
        "id": "single-tactics"
      },
      "source": [
        "#### Compilation flags for jit\n",
        "\n",
        "There are two other main compilation flags for @jit\n",
        "\n",
        "**a. cache mode**\n",
        "\n",
        "if we don't always want to be caught up in compile time for each run, we could use cache mode. This will actually save the compiled function into something like a pyc file in your \\__pycache\\__ directory, so even between sessions we should have fast performance of the function / code."
      ],
      "id": "single-tactics"
    },
    {
      "cell_type": "code",
      "metadata": {
        "id": "persistent-alliance"
      },
      "source": [
        "@jit(cache=True)\n",
        "# Defining a function\n",
        "def ArraySum(array):\n",
        "    m, n = array.shape # shape of a array\n",
        "    # This is a bad idea of calculating sum of elements in array(Not  Pythonic style)\n",
        "    total = 0 # Defining a variable\n",
        "    for j in range(m): # iterating over rows\n",
        "        for i in range(n): # iterating over columns\n",
        "            total += array[j, i] # calculating the sum\n",
        "    return total # returning the sum of elements of an array"
      ],
      "id": "persistent-alliance",
      "execution_count": null,
      "outputs": []
    },
    {
      "cell_type": "code",
      "metadata": {
        "id": "identified-shooting"
      },
      "source": [
        "# Calling the above defined function and timing it\n",
        "%timeit ArraySum(A)"
      ],
      "id": "identified-shooting",
      "execution_count": null,
      "outputs": []
    },
    {
      "cell_type": "markdown",
      "metadata": {
        "id": "furnished-mongolia"
      },
      "source": [
        "**b. nogil mode**\n",
        "\n",
        "Whenever Numba optimizes Python code to native code that only works on native types and variables (rather than Python objects), it is not necessary anymore to hold Python’s global interpreter lock (GIL). Numba will release the GIL when entering such a compiled function if you passed nogil=True.\n",
        "\n",
        "To know more about nogil mode click [here](https://docs.python.org/3/glossary.html#term-global-interpreter-lock)"
      ],
      "id": "furnished-mongolia"
    },
    {
      "cell_type": "code",
      "metadata": {
        "id": "headed-prime"
      },
      "source": [
        "# Performing multi-threading using nogil\n",
        "@jit(nogil=True) # Option to release the gil\n",
        "# Defining a function\n",
        "def ArraySum(array):\n",
        "    m, n = array.shape # shape of a array\n",
        "    # This is a bad idea\n",
        "    total = 0 # Defining a variable\n",
        "    for j in range(m): # iterating over rows\n",
        "        for i in range(n): # iterating over columns\n",
        "            total += array[j, i] # calculating the sum\n",
        "    return total # returning the sum of elements of an array"
      ],
      "id": "headed-prime",
      "execution_count": null,
      "outputs": []
    },
    {
      "cell_type": "code",
      "metadata": {
        "id": "velvet-belief"
      },
      "source": [
        "# Calling the above defined function and timing it\n",
        "%timeit ArraySum(A)"
      ],
      "id": "velvet-belief",
      "execution_count": null,
      "outputs": []
    },
    {
      "cell_type": "markdown",
      "metadata": {
        "id": "improving-blade"
      },
      "source": [
        "Now let us add Add fastmath=True to trade accuracy for speed in some computations and time it"
      ],
      "id": "improving-blade"
    },
    {
      "cell_type": "code",
      "metadata": {
        "id": "arbitrary-lambda"
      },
      "source": [
        "@jit(fastmath=True)\n",
        "# Defining a function\n",
        "def ArraySum(array):\n",
        "    m, n = array.shape # shape of a array\n",
        "    # This is a bad idea of calculating sum of elements in array(Not  Pythonic style)\n",
        "    total = 0 # Defining a variable\n",
        "    for j in range(m): # iterating over rows\n",
        "        for i in range(n): # iterating over columns\n",
        "            total += array[j, i] # calculating the sum\n",
        "    return total # returning the sum of elements of an array"
      ],
      "id": "arbitrary-lambda",
      "execution_count": null,
      "outputs": []
    },
    {
      "cell_type": "code",
      "metadata": {
        "id": "soviet-reach"
      },
      "source": [
        "# Calling the above defined function and timing it\n",
        "%timeit ArraySum(A)"
      ],
      "id": "soviet-reach",
      "execution_count": null,
      "outputs": []
    },
    {
      "cell_type": "markdown",
      "metadata": {
        "id": "deadly-queen"
      },
      "source": [
        "#### ParallelAccelerator\n",
        "\n",
        "- ParallelAccelerator is a special compiler pass contributed by Intel Labs\n",
        "    - Todd A. Anderson, Ehsan Totoni, Paul Liu\n",
        "    - Based on similar contribution to Julia\n",
        "- Automatically generates mulithreaded code in a Numba compiled-function:\n",
        "    - Array expressions and reductions\n",
        "    - Random functions\n",
        "    - Dot products\n",
        "    - Reductions\n",
        "    - Explicit loops indicated with prange() call\n",
        "    \n",
        "To know more about Parallel Accelerator click [here](https://numba.pydata.org/numba-doc/dev/user/parallel.html)\n"
      ],
      "id": "deadly-queen"
    },
    {
      "cell_type": "markdown",
      "metadata": {
        "id": "broad-batman"
      },
      "source": [
        "Now let us add Parallel = True tag in the @jil to use multi-core CPU via threading and to perform automatic parallelization"
      ],
      "id": "broad-batman"
    },
    {
      "cell_type": "code",
      "metadata": {
        "id": "deluxe-status"
      },
      "source": [
        "# without using parallel tag\n",
        "\n",
        "@jit\n",
        "def f(x): # Defining a function\n",
        "    return np.cos(x) ** 2 + np.sin(x) ** 2 # calculating the value"
      ],
      "id": "deluxe-status",
      "execution_count": null,
      "outputs": []
    },
    {
      "cell_type": "code",
      "metadata": {
        "id": "cultural-bunny"
      },
      "source": [
        "data = np.random.random((10000000))"
      ],
      "id": "cultural-bunny",
      "execution_count": null,
      "outputs": []
    },
    {
      "cell_type": "code",
      "metadata": {
        "id": "major-alabama"
      },
      "source": [
        "%timeit f(data)"
      ],
      "id": "major-alabama",
      "execution_count": null,
      "outputs": []
    },
    {
      "cell_type": "code",
      "metadata": {
        "id": "accurate-efficiency"
      },
      "source": [
        "# Using parallel tag\n",
        "@jit(parallel=True)\n",
        "def f(x):\n",
        "    return np.cos(x) ** 2 + np.sin(x) ** 2"
      ],
      "id": "accurate-efficiency",
      "execution_count": null,
      "outputs": []
    },
    {
      "cell_type": "code",
      "metadata": {
        "id": "meaningful-finding"
      },
      "source": [
        "%timeit f(data)"
      ],
      "id": "meaningful-finding",
      "execution_count": null,
      "outputs": []
    },
    {
      "cell_type": "markdown",
      "metadata": {
        "id": "featured-voluntary"
      },
      "source": [
        "Before we drive deep into Numba, let us try to understand few limitations of Numba"
      ],
      "id": "featured-voluntary"
    },
    {
      "cell_type": "code",
      "metadata": {
        "id": "forbidden-contemporary"
      },
      "source": [
        "# Example 1\n",
        "@jit\n",
        "def hello(n):\n",
        "    return [\"hell0\", 44] * 4"
      ],
      "id": "forbidden-contemporary",
      "execution_count": null,
      "outputs": []
    },
    {
      "cell_type": "code",
      "source": [
        "%timeit hello(1)"
      ],
      "metadata": {
        "id": "LAh6gSvK-kex"
      },
      "id": "LAh6gSvK-kex",
      "execution_count": null,
      "outputs": []
    },
    {
      "cell_type": "markdown",
      "metadata": {
        "id": "overall-environment"
      },
      "source": [
        "After the above code, we will get the desired output but with a warning as Compilation is falling back to object mode. Now let us run the above code in nopython mode to see the limitation."
      ],
      "id": "overall-environment"
    },
    {
      "cell_type": "code",
      "metadata": {
        "id": "broadband-tuning"
      },
      "source": [
        "# Example 1\n",
        "@jit(nopython=True)\n",
        "def hello(n):\n",
        "    return [\"hell0\", 44]"
      ],
      "id": "broadband-tuning",
      "execution_count": null,
      "outputs": []
    },
    {
      "cell_type": "code",
      "metadata": {
        "id": "understood-cutting"
      },
      "source": [
        "# Example 2\n",
        "@jit(nopython=True)\n",
        "def display():\n",
        "    data = {\"numbers\":[1, 3, 4], \"evens\":[2, 4, 6]}\n",
        "    return data[\"numbers\"]"
      ],
      "id": "understood-cutting",
      "execution_count": null,
      "outputs": []
    },
    {
      "cell_type": "markdown",
      "metadata": {
        "id": "special-offense"
      },
      "source": [
        "To know more about limitations of Numba click [here](https://www.oreilly.com/library/view/python-high-performance/9781787282896/6e5cc5c4-ad53-4657-b502-6630dd9efced.xhtml)"
      ],
      "id": "special-offense"
    },
    {
      "cell_type": "markdown",
      "metadata": {
        "id": "sporting-charter"
      },
      "source": [
        "#### Universal Functions (Ufuncs)"
      ],
      "id": "sporting-charter"
    },
    {
      "cell_type": "markdown",
      "metadata": {
        "id": "extra-survival"
      },
      "source": [
        "- Ufuncs are a core concept in NumPy for array-oriented computing.\n",
        "- A function with scalar inputs is broadcast across the elements of the input arrays:\n",
        "    - np.add([1, 2, 3], 5) = [6, 7, 8]\n",
        "- Parallelism is present, by construction. Numba will generate loops and can automatically multi-thread if requested.\n",
        "\n",
        "To know more about Numpy Ufuncs click [here](https://numpy.org/doc/stable/reference/ufuncs.html)"
      ],
      "id": "extra-survival"
    },
    {
      "cell_type": "code",
      "metadata": {
        "id": "stunning-length"
      },
      "source": [
        "# Numpy ufuncs\n",
        "print(np.add(4, 5)) # Adding two numbers\n",
        "print(np.add([1, 4, 5], 6)) # Adding 6 to the elements in the list\n",
        "print(np.add(1, [3, 4])) # Adding 1 to the elements in the list\n",
        "print(np.add.accumulate([4, 5, 7, 2, 4])) # Accumulate the result of applying the operator to all elements."
      ],
      "id": "stunning-length",
      "execution_count": null,
      "outputs": []
    },
    {
      "cell_type": "code",
      "metadata": {
        "id": "destroyed-merit"
      },
      "source": [
        "# Numba ufuncs\n",
        "# Function to add two values\n",
        "@vectorize(\"(int64, int64)\")\n",
        "def add(x, y):\n",
        "    # adding the values\n",
        "    return x + y"
      ],
      "id": "destroyed-merit",
      "execution_count": null,
      "outputs": []
    },
    {
      "cell_type": "code",
      "metadata": {
        "id": "fitting-founder"
      },
      "source": [
        "print(add(4, 5)) # Adding two numbers\n",
        "print(add([1, 4, 5], 6)) # Adding 6 to the elements in the list\n",
        "print(add(1, [3, 4])) # Adding 1 to the elements in the list\n",
        "print(add.accumulate([4, 5, 7, 2, 4])) # Accumulate the result of applying the operator to all elements."
      ],
      "id": "fitting-founder",
      "execution_count": null,
      "outputs": []
    },
    {
      "cell_type": "markdown",
      "metadata": {
        "id": "previous-indie"
      },
      "source": [
        "To know more about vectorize decorator click [here](https://numba.pydata.org/numba-doc/dev/user/vectorize.html)"
      ],
      "id": "previous-indie"
    },
    {
      "cell_type": "markdown",
      "metadata": {
        "id": "confident-hacker"
      },
      "source": [
        "#### Research Question\n",
        "\n",
        "1. Write a code to approximate $\\pi$ by Monte Carlo and, compare speed with and without Numba when the sample size is large.\n",
        "\n",
        "    To know about $\\pi$ by Monte Carlo click [here](https://medium.com/cantors-paradise/estimating-%CF%80-using-monte-carlo-simulations-3459a84b5ef9)"
      ],
      "id": "confident-hacker"
    }
  ]
}