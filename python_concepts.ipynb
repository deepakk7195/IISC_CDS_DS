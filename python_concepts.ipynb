{
  "nbformat": 4,
  "nbformat_minor": 0,
  "metadata": {
    "colab": {
      "provenance": [],
      "authorship_tag": "ABX9TyM4pjsg0n/0UCZXiEV81qgW",
      "include_colab_link": true
    },
    "kernelspec": {
      "name": "python3",
      "display_name": "Python 3"
    },
    "language_info": {
      "name": "python"
    }
  },
  "cells": [
    {
      "cell_type": "markdown",
      "metadata": {
        "id": "view-in-github",
        "colab_type": "text"
      },
      "source": [
        "<a href=\"https://colab.research.google.com/github/deepakk7195/IISC_CDS_DS/blob/python_universe/python_concepts.ipynb\" target=\"_parent\"><img src=\"https://colab.research.google.com/assets/colab-badge.svg\" alt=\"Open In Colab\"/></a>"
      ]
    },
    {
      "cell_type": "code",
      "execution_count": null,
      "metadata": {
        "id": "sqwV1TYettDT"
      },
      "outputs": [],
      "source": [
        "# conda install -c nvidia -c rapidsai -c numba -c conda-forge -c defaults cudf\n",
        "# !pip install cudf-cu11==22.12 rmm-cu11==22.12 dask-cudf-cu11==22.12 --extra-index-url=https://pypi.ngc.nvidia.com/"
      ]
    },
    {
      "cell_type": "code",
      "source": [
        "# %load_ext cudf.pandas\n",
        "import pandas as pd\n",
        "import numpy as np\n",
        "import warnings\n",
        "warnings.filterwarnings('ignore')\n",
        "import json\n",
        "pd.pandas.set_option('display.max_columns',None)\n",
        "import time\n",
        "from datetime import datetime\n",
        "import sympy as sym   # Solving Calculus, Limits,\n",
        "import matplotlib.pyplot as plt\n",
        "# import tnrange\n",
        "# import tqdm_notebook\n",
        "# import nb_black -> Automatic code formatter?"
      ],
      "metadata": {
        "id": "zaBl_OP2w9nW"
      },
      "execution_count": 1,
      "outputs": []
    },
    {
      "cell_type": "markdown",
      "source": [],
      "metadata": {
        "id": "ahivOgZEQQCr"
      }
    },
    {
      "cell_type": "markdown",
      "source": [
        "### Popular methods -\n",
        "- append - Entire string is added ||| adds one element to the end of the list.\n",
        "- extend - String added charcter by character individually ||| adds multiple elements to the end of the list, with those elements individually added to the list\n",
        "- insert - Given value at given index -> insert(index,value)\n",
        "- pop - deleting a value\n",
        "- count(value) - Counts Occurances\n",
        "- lst.sort() just sorts the list in place returning None but sorted(lst) returns sorted list\n",
        "- c_lst = o_lst  copy by reference & c_lst = o_lst.copy()  copy by value\n",
        "- + => Concatenation -> [1,2,3] + [2],[1,2,3] + ['A','B']\n",
        "in statement - if i in lst\n",
        "any() - Only through Generator expression => any(item in test_list for item in test_list) ??\n",
        "find() - Usually in strings, to search a substring & return index of 1st value of the substring in main string.\n",
        "counter() -\n",
        "list.index(value)"
      ],
      "metadata": {
        "id": "okxV-QG6w_rp"
      }
    },
    {
      "cell_type": "code",
      "source": [],
      "metadata": {
        "id": "0D7J9nvUQKsL"
      },
      "execution_count": null,
      "outputs": []
    }
  ]
}