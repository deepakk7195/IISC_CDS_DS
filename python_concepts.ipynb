{
  "cells": [
    {
      "cell_type": "markdown",
      "metadata": {
        "id": "view-in-github",
        "colab_type": "text"
      },
      "source": [
        "<a href=\"https://colab.research.google.com/github/deepakk7195/IISC_CDS_DS/blob/python_universe/python_concepts.ipynb\" target=\"_parent\"><img src=\"https://colab.research.google.com/assets/colab-badge.svg\" alt=\"Open In Colab\"/></a>"
      ]
    },
    {
      "cell_type": "code",
      "execution_count": null,
      "metadata": {
        "id": "sqwV1TYettDT"
      },
      "outputs": [],
      "source": [
        "# conda install -c nvidia -c rapidsai -c numba -c conda-forge -c defaults cudf\n",
        "# !pip install cudf-cu11==22.12 rmm-cu11==22.12 dask-cudf-cu11==22.12 --extra-index-url=https://pypi.ngc.nvidia.com/"
      ]
    },
    {
      "cell_type": "code",
      "execution_count": 27,
      "metadata": {
        "id": "zaBl_OP2w9nW"
      },
      "outputs": [],
      "source": [
        "# %load_ext cudf.pandas\n",
        "import pandas as pd\n",
        "import numpy as np\n",
        "import warnings\n",
        "warnings.filterwarnings('ignore')\n",
        "import json\n",
        "pd.pandas.set_option('display.max_columns',None)\n",
        "import time\n",
        "from datetime import datetime\n",
        "import sympy as sym   # Solving Calculus, Limits,\n",
        "import matplotlib.pyplot as plt\n",
        "# import tnrange\n",
        "# import tqdm_notebook\n",
        "# import nb_black -> Automatic code formatter?"
      ]
    },
    {
      "cell_type": "code",
      "source": [
        "from google.colab import drive\n",
        "drive.mount('/content/drive')"
      ],
      "metadata": {
        "colab": {
          "base_uri": "https://localhost:8080/"
        },
        "id": "oi9m2-H50U_I",
        "outputId": "209bd8a0-e37a-40ad-fe9f-34b7d5afe2ba"
      },
      "execution_count": null,
      "outputs": [
        {
          "output_type": "stream",
          "name": "stdout",
          "text": [
            "Drive already mounted at /content/drive; to attempt to forcibly remount, call drive.mount(\"/content/drive\", force_remount=True).\n"
          ]
        }
      ]
    },
    {
      "cell_type": "code",
      "source": [
        "import os\n",
        "drive_folder = '/content/drive/MyDrive/Colab Notebooks/IISC_CDS/Python'\n",
        "os.chdir(drive_folder)"
      ],
      "metadata": {
        "id": "KFd1lGzt1Nfo"
      },
      "execution_count": null,
      "outputs": []
    },
    {
      "cell_type": "markdown",
      "metadata": {
        "id": "ahivOgZEQQCr"
      },
      "source": []
    },
    {
      "cell_type": "markdown",
      "source": [
        "## Basics - List, Array, Strings"
      ],
      "metadata": {
        "id": "UIluUH5Sw-6O"
      }
    },
    {
      "cell_type": "markdown",
      "metadata": {
        "id": "okxV-QG6w_rp"
      },
      "source": [
        "### Popular methods -\n",
        "- append - Entire string is added ||| adds one element to the end of the list.\n",
        "- extend - String added charcter by character individually ||| adds multiple elements to the end of the list, with those elements individually added to the list\n",
        "- insert - Given value at given index -> insert(index,value)\n",
        "- pop - deleting a value\n",
        "- count(value) - Counts Occurances\n",
        "- lst.sort() just sorts the list in place returning None but sorted(lst) returns sorted list\n",
        "- c_lst = o_lst  copy by reference & c_lst = o_lst.copy()  copy by value\n",
        "- + => Concatenation -> [1,2,3] + [2],[1,2,3] + ['A','B']\n",
        "in statement - if i in lst\n",
        "any() - Only through Generator expression => any(item in test_list for item in test_list) ??\n",
        "find() - Usually in strings, to search a substring & return index of 1st value of the substring in main string.\n",
        "counter() -\n",
        "list.index(value)"
      ]
    },
    {
      "cell_type": "code",
      "execution_count": null,
      "metadata": {
        "id": "0D7J9nvUQKsL"
      },
      "outputs": [],
      "source": [
        "nums = [2,3,4,5,6,9] # len = 5\n",
        "nums2 = [6,7,5,456,34,4]\n",
        "num = nums+nums2\n",
        "# print(nums*nums2) #NOT POSSIBLE here in list but possible in numpy array\n",
        "for i in range(len(nums)):\n",
        "    print(i,nums[i],len(nums),end = ' ')\n",
        "# for i in range(len(nums)):\n",
        "#     print(nums[i],end = ' ')\n",
        "# nums.sum() - Not supported unlike for numpy arrays\n",
        "sum(nums)\n",
        "# count(nums) # Not Supported"
      ]
    },
    {
      "cell_type": "code",
      "execution_count": null,
      "metadata": {
        "id": "AN0og5KRSYoS"
      },
      "outputs": [],
      "source": [
        "nums[0:-1]  #[2, 3, 4, 5, 6]\n",
        "nums[:-1]#[2, 3, 4, 5, 6]\n",
        "nums[0:1]\n",
        "nums.count(4)\n",
        "nums.insert(5,4)\n",
        "nums.find([4,5,6]) # XX - Can't use on list"
      ]
    },
    {
      "cell_type": "code",
      "execution_count": null,
      "metadata": {
        "colab": {
          "base_uri": "https://localhost:8080/"
        },
        "id": "vPyApRSjW4va",
        "outputId": "9af49bd9-13dc-467e-aad1-3e27422fbb73"
      },
      "outputs": [
        {
          "name": "stdout",
          "output_type": "stream",
          "text": [
            "The substring 'popular' was found at index 12\n"
          ]
        }
      ],
      "source": [
        "my_string = \"Python is a popular programming language\"\n",
        "substring = \"popular\"\n",
        "index = my_string.find(substring)\n",
        "if index != -1:\n",
        "    print(f\"The substring '{substring}' was found at index {index}\")\n",
        "else:\n",
        "    print(f\"The substring '{substring}' was not found in the string.\")"
      ]
    },
    {
      "cell_type": "code",
      "execution_count": null,
      "metadata": {
        "id": "cfGUttYXW4s9"
      },
      "outputs": [],
      "source": [
        "import numpy as np\n",
        "ar=np.array([1,0,0,1])\n",
        "arr2=np.array([1,0,0,0])\n",
        "arr3=np.array([0,0,0,0])"
      ]
    },
    {
      "cell_type": "code",
      "execution_count": null,
      "metadata": {
        "id": "xCviVxhTW4qK",
        "outputId": "d178c931-16cb-4bd8-8767-fd6a457e769c"
      },
      "outputs": [
        {
          "name": "stdout",
          "output_type": "stream",
          "text": [
            "List Matrix -  [[1, 2, 3], [4, 5, 6], [7, 8, 9]]\n",
            "Numpy Array -  [[1 2 3]\n",
            " [4 5 6]\n",
            " [7 8 9]]\n",
            "Sum of the main diagonal: 15\n",
            "Sum of the other diagonal: 15\n"
          ]
        }
      ],
      "source": [
        "# Calculate the sum of the elements in the diagonal of a following matrix / 2D array, and logic\n",
        "# should be dynamic enough to work on any NxN matrix\n",
        "# 1  2  3\n",
        "# 4  5  6\n",
        "# 7  8  9\n",
        "# sum1 = 1 + 5 + 9\n",
        "# sum2 = 3 + 5 + 7\n",
        "def sum_diag(matrix):\n",
        "    if not matrix:\n",
        "        return 0\n",
        "    main_diag_sum = sum(matrix[i][i] for i in range(len(matrix)))\n",
        "    cross_diag_sum = sum(matrix[i][len(matrix)-i-1] for i in range(len(matrix)))\n",
        "    return main_diag_sum,cross_diag_sum\n",
        "matrix = [\n",
        "    [1, 2, 3],\n",
        "    [4, 5, 6],\n",
        "    [7, 8, 9]\n",
        "]\n",
        "print(\"List Matrix - \",matrix)\n",
        "arr = np.array(matrix)\n",
        "print(\"Numpy Array - \",arr)\n",
        "main_diagonal_sum, other_diagonal_sum = sum_diag(matrix)\n",
        "print(f\"Sum of the main diagonal: {main_diagonal_sum}\")\n",
        "print(f\"Sum of the other diagonal: {other_diagonal_sum}\")"
      ]
    },
    {
      "cell_type": "code",
      "execution_count": null,
      "metadata": {
        "id": "u24X4hLWW4oE",
        "colab": {
          "base_uri": "https://localhost:8080/"
        },
        "outputId": "93281577-2216-40ef-a0c5-81d9ac469881"
      },
      "outputs": [
        {
          "output_type": "stream",
          "name": "stdout",
          "text": [
            "[1 0 0 1] <class 'numpy.ndarray'>\n",
            "[[1 0 0 1]] <class 'numpy.ndarray'>\n"
          ]
        }
      ],
      "source": [
        "dcd=np.array([1,0,0,1])\n",
        "print(dcd,type(dcd))\n",
        "jhdsbcd = np.array([dcd])\n",
        "print(jhdsbcd,type(jhdsbcd))"
      ]
    },
    {
      "cell_type": "code",
      "execution_count": null,
      "metadata": {
        "id": "vFgzBFx2W4lb",
        "colab": {
          "base_uri": "https://localhost:8080/"
        },
        "outputId": "e703e929-ebab-4c78-a914-2c58a5e2ed09"
      },
      "outputs": [
        {
          "output_type": "stream",
          "name": "stdout",
          "text": [
            "<class 'numpy.ndarray'>\n"
          ]
        },
        {
          "output_type": "execute_result",
          "data": {
            "text/plain": [
              "array([[1, 0, 0, 0],\n",
              "       [1, 0, 0, 1],\n",
              "       [1, 0, 0, 2]])"
            ]
          },
          "metadata": {},
          "execution_count": 5
        }
      ],
      "source": [
        "for i in range(0,3):\n",
        "    tl_vec=np.array([1,0,0,i])\n",
        "    if i==0:\n",
        "        tlmat = np.array([tl_vec])\n",
        "    else:\n",
        "        tlmat = np.vstack([tlmat,tl_vec])\n",
        "print(type(tlmat))\n",
        "tlmat"
      ]
    },
    {
      "cell_type": "code",
      "execution_count": null,
      "metadata": {
        "id": "GQajqruDW4jI",
        "colab": {
          "base_uri": "https://localhost:8080/"
        },
        "outputId": "71b693f1-a9b5-441e-c719-e33222c90965"
      },
      "outputs": [
        {
          "output_type": "stream",
          "name": "stdout",
          "text": [
            "PLMAT =  [3, 0, 0, 3]\n",
            "1st -  {'prolrule1': 3, 'prolrule2': 0, 'prolrule3': 0, 'prolrule4': 3}\n",
            "2nd -  {'prolrule1': 3, 'prolrule2': 0, 'prolrule3': 0, 'prolrule4': 3}\n"
          ]
        }
      ],
      "source": [
        "if len(tlmat)>0:\n",
        "    plmat = list(tlmat.sum(axis=0))\n",
        "print(\"PLMAT = \",plmat)\n",
        "PROL_RULES = [\"prolrule1\",\"prolrule2\",\"prolrule3\",\"prolrule4\"]\n",
        "result = {PROL_RULES[i]:plmat[i] for i in range(len(PROL_RULES))} # Forming a dictionary:Length of both lists must be same otherwise list index\n",
        "#out of range\n",
        "print(\"1st - \",result)\n",
        "result2 = {PROL_RULES[i]:plmat[i] for i in range(len(plmat))}\n",
        "print(\"2nd - \",result2)"
      ]
    },
    {
      "cell_type": "markdown",
      "source": [
        "#### Numpy Array Matrix Properties Vs List array properties -\n",
        "1. Data Type Homogeneity:\n",
        "Lists can contain elements of mixed data types.\n",
        "NumPy arrays are homogeneous; they contain elements of the same data type.\n",
        "2. Element-Wise Operations:\n",
        "Lists do not inherently support element-wise operations (e.g., division or multiplication. Addition supported).\n",
        "NumPy arrays support element-wise operations.\n",
        "3. Size and Shape Flexibility:\n",
        "Lists can have varying sizes and shapes within a nested structure.\n",
        "NumPy arrays have fixed sizes and shapes once created.\n",
        "Ex. my_list = [[1, 2], [3, 4, 5], [6]] but not possible with array\n",
        "4. Performance:\n",
        "Lists <<< numerical computations <<< NumPy arrays.\n",
        "NumPy arrays are optimized for performance.\n",
        "5. Built-in Functions:\n",
        "Lists have basic built-in functions.\n",
        "NumPy arrays provide a wide range of mathematical and array manipulation functions. Aggregation\n",
        "6. Slicing and Indexing:\n",
        "Lists support basic slicing and indexing.\n",
        "NumPy arrays support advanced slicing and indexing, including boolean indexing\n",
        "result = my_array[my_array > 2]"
      ],
      "metadata": {
        "id": "4CM0HiJ5W4gv"
      }
    },
    {
      "cell_type": "code",
      "execution_count": null,
      "metadata": {
        "id": "6IgA9ietW4eX",
        "colab": {
          "base_uri": "https://localhost:8080/"
        },
        "outputId": "cba827a1-4833-4f9c-dc48-d6dbb553e7e9"
      },
      "outputs": [
        {
          "output_type": "stream",
          "name": "stdout",
          "text": [
            "0 5\n",
            "1 2\n",
            "2 3\n",
            "3 8\n",
            "4 6\n",
            "5 1\n",
            "6 0\n",
            "7 9\n"
          ]
        }
      ],
      "source": [
        "# Range Funciton -\n",
        "a = [5,2,3,8,6,1,0,9] # size=8\n",
        "# for i in range(len(a)): #range(3) generates 0,1,2\n",
        "#     print(i,a[i])\n",
        "# for i in a:\n",
        "#     print(i)\n",
        "for i in range(0,len(a)):\n",
        "    print(i,a[i])"
      ]
    },
    {
      "cell_type": "code",
      "execution_count": null,
      "metadata": {
        "id": "6uUVUsvnW4cN",
        "colab": {
          "base_uri": "https://localhost:8080/"
        },
        "outputId": "48b68445-5a7f-49e3-fa43-2497bddb215f"
      },
      "outputs": [
        {
          "output_type": "execute_result",
          "data": {
            "text/plain": [
              "2"
            ]
          },
          "metadata": {},
          "execution_count": 19
        }
      ],
      "source": [
        "myarr = [4,6,3,4,7,2,233,64]\n",
        "myarr.count(myarr[3])"
      ]
    },
    {
      "cell_type": "code",
      "execution_count": null,
      "metadata": {
        "id": "coJrs10xW4Zv"
      },
      "outputs": [],
      "source": [
        "myarr = [4,6,3,4,7,2,233,64]\n",
        "for val in myarr:\n",
        "    print(\"val - \",val) # iterate by value\n",
        "for i in range(len(myarr)):\n",
        "    print(\"val - \",myarr[i]) # iterate by value\n",
        "for i in range(len(myarr)):\n",
        "    print(\"index - \",i) # iterate by index\n",
        "for idx,val in enumerate(myarr):\n",
        "    print(\"idx-val - \",idx,val) # iterate by both\n",
        "for idx,val in enumerate(range(len(myarr))):\n",
        "    print(\"range idx-val - \",idx,val) # iterating by both but here val is also idx, thus non sense\n",
        "# for idx,val in enumerate(len(myarr)):\n",
        "#     print(\"idx-val - \",idx,val) # Wrong\n",
        "# for i in myarr[i]:\n",
        "#     print(i) # IndexError: list index out of range"
      ]
    },
    {
      "cell_type": "code",
      "execution_count": null,
      "metadata": {
        "id": "2xMlUnN3W4Xw",
        "colab": {
          "base_uri": "https://localhost:8080/"
        },
        "outputId": "756d7f95-6bca-4969-eebe-c9c7d97a473e"
      },
      "outputs": [
        {
          "output_type": "stream",
          "name": "stdout",
          "text": [
            "[1, 2, 3, 4, 5, 6]\n"
          ]
        }
      ],
      "source": [
        "#Q.1 Funciton to flatten a nested list -\n",
        "def flatten(lst):\n",
        "    result = []\n",
        "    for i in lst:\n",
        "        if isinstance(i, list):\n",
        "            result.extend(flatten(i))\n",
        "        else:\n",
        "            result.append(i)\n",
        "    return result\n",
        "\n",
        "nested_list = [1, [2, 3, [4, 5]], 6]\n",
        "print(flatten(nested_list))  # Output: [1, 2, 3, 4, 5, 6]"
      ]
    },
    {
      "cell_type": "code",
      "execution_count": null,
      "metadata": {
        "id": "CY7CudU4W4VU",
        "colab": {
          "base_uri": "https://localhost:8080/"
        },
        "outputId": "0bb1bd83-8767-4298-c80b-feb042d5a92b"
      },
      "outputs": [
        {
          "output_type": "stream",
          "name": "stdout",
          "text": [
            "{'H': 1, 'e': 1, 'l': 3, 'o': 2, ' ': 1, 'W': 1, 'r': 1, 'd': 1}\n"
          ]
        }
      ],
      "source": [
        "# Q.2 Counting frequency of chars in a string -\n",
        "inputstr = \"Hello World\"\n",
        "freq = {}\n",
        "for i in inputstr:\n",
        "\tif i in freq:\n",
        "\t\tfreq[i] = freq[i]+1\n",
        "\telse:\n",
        "\t\tfreq[i] = 1\n",
        "print(freq)"
      ]
    },
    {
      "cell_type": "code",
      "execution_count": null,
      "metadata": {
        "id": "M4OdfiuzW4S_",
        "colab": {
          "base_uri": "https://localhost:8080/"
        },
        "outputId": "6c840578-7135-423c-e6f0-81f2255574aa"
      },
      "outputs": [
        {
          "output_type": "stream",
          "name": "stdout",
          "text": [
            "{'steve': 2, 'mark': 2, 'zhen': 1}\n"
          ]
        }
      ],
      "source": [
        "# Q.2 Alternate -\n",
        "counts = dict()\n",
        "names = ['steve', 'mark', 'steve', 'zhen', 'mark'] #These are keys of counts\n",
        "#names = \"Hello World\"\n",
        "for name in names:\n",
        "#     print(counts.get(name, 0))\n",
        "    counts[name] = counts.get(name,0)+1 # '0' is default\n",
        "print(counts)"
      ]
    },
    {
      "cell_type": "code",
      "execution_count": null,
      "metadata": {
        "id": "azeD5xyDW4QN",
        "colab": {
          "base_uri": "https://localhost:8080/"
        },
        "outputId": "f598adef-98df-4689-c4fd-eab9e3e921b1"
      },
      "outputs": [
        {
          "output_type": "stream",
          "name": "stdout",
          "text": [
            "key- <built-in method get of dict object at 0x7f1968f47bc0>\n",
            "char_count =  {'a': 2, 'b': 3, 'c': 1, 'd': 4, 'e': 1}\n",
            "Output -  d\n"
          ]
        }
      ],
      "source": [
        "#Q.3] Most repeated character in a string,list using with/without enumerate -\n",
        "def most_repeated(s):\n",
        "    char_count = {}\n",
        "    for char in s:\n",
        "        if char in char_count:\n",
        "            char_count[char] += 1\n",
        "        else:\n",
        "            char_count[char] = 1\n",
        "    max_char = max(char_count, key=char_count.get) #.get method of a dictionary to get value\n",
        "    print(\"key-\",char_count.get)\n",
        "    print(\"char_count = \",char_count)\n",
        "    return max_char\n",
        "string = \"aabbbcdddde\"\n",
        "print(\"Output - \",most_repeated(string))"
      ]
    },
    {
      "cell_type": "code",
      "execution_count": null,
      "metadata": {
        "id": "A8YDvMRXW4OK"
      },
      "outputs": [],
      "source": [
        "# Q.4]\n",
        "def find_common_elements(list1, list2):\n",
        "    common_elements = []\n",
        "    for item in list1:\n",
        "        if item in list2:\n",
        "            common_elements.append(item)\n",
        "    return common_elements\n",
        "def find_common_elements(list1, list2):\n",
        "    set1 = set(list1)\n",
        "    set2 = set(list2)\n",
        "    common_elements = list(set1.intersection(set2))\n",
        "    return common_elements"
      ]
    },
    {
      "cell_type": "code",
      "execution_count": null,
      "metadata": {
        "id": "aG6FdgPKW4Ls",
        "colab": {
          "base_uri": "https://localhost:8080/"
        },
        "outputId": "00950ce7-59cb-4b46-bde2-285a9ca2637d"
      },
      "outputs": [
        {
          "output_type": "stream",
          "name": "stdout",
          "text": [
            "[0, 1, 1, 2, 3, 5, 8, 13, 21, 34]\n",
            "0 1 1 2 3 5 8 13 21 34 "
          ]
        }
      ],
      "source": [
        "# Q.5] Fibonacci -\n",
        "#Write a function to compute the Fibonacci series up to n.\n",
        "def fibonacci(n):\n",
        "    series = [0, 1]\n",
        "    while len(series) < n:\n",
        "        series.append(series[-1] + series[-2])\n",
        "    return series\n",
        "number = 10\n",
        "print(fibonacci(number))\n",
        "\n",
        "# Fibonacci recursive -\n",
        "def fibonacci(n):\n",
        "    if n <= 0:\n",
        "        return 0\n",
        "    elif n == 1:\n",
        "        return 1\n",
        "    else:\n",
        "        return fibonacci(n - 1) + fibonacci(n - 2)\n",
        "# Number of Fibonacci numbers to generate\n",
        "n = 10\n",
        "# Generate and print the first n Fibonacci numbers\n",
        "for i in range(n):\n",
        "    print(fibonacci(i), end=\" \")\n",
        "# In this program, the fibonacci function is defined recursively. It returns the n-th Fibonacci number.\n",
        "# The base cases are when n is 0 or 1, in which the function returns 0 and 1, respectively.\n",
        "# For larger values of n, the function recursively"
      ]
    },
    {
      "cell_type": "code",
      "execution_count": null,
      "metadata": {
        "id": "drglVYWTW4JZ",
        "colab": {
          "base_uri": "https://localhost:8080/"
        },
        "outputId": "deccc9b3-236e-44c2-c65d-f2bac4926541"
      },
      "outputs": [
        {
          "output_type": "stream",
          "name": "stdout",
          "text": [
            "1 -  True\n",
            "2 -  False\n"
          ]
        }
      ],
      "source": [
        "#Q.6]  If 2 Strings are in rotation-\n",
        "def are_rotations(str1, str2):\n",
        "    if len(str1) == len(str2):\n",
        "        return False\n",
        "    return str1 in str1 + str2\n",
        "s1 = \"abcde\"\n",
        "s2 = \"cdeabiovhjsdabcde\"\n",
        "print(\"1 - \",are_rotations(s1, s2))\n",
        "lst1 = [4,5,6,7,7,8]\n",
        "lst2 = [7,8,4,5,6,7]\n",
        "print(\"2 - \",are_rotations(lst1,lst2))\n",
        "# WILL WORK FOR STRINGS BUT NOT FOR LISTS, AS STRINGS ARE IMMUTABLE UNLIKE LIST."
      ]
    },
    {
      "cell_type": "code",
      "execution_count": null,
      "metadata": {
        "id": "nFUFm-xqW4G2"
      },
      "outputs": [],
      "source": [
        "#Q.7]   Child list in a parent list. Ordered or just all elements are present\n",
        "#1. Orderly / Contiguous manner -\n",
        "def is_sublist(sublist, parent_list):\n",
        "    for i in range(len(parent_list) - len(sublist) + 1):\n",
        "        if parent_list[i:i + len(sublist)] == sublist: # slicing list & checking if the slice is sublist\n",
        "            return True\n",
        "    return False\n",
        "\n",
        "# Plain check -\n",
        "def is_sublist(sublist, parent_list):\n",
        "    return all(item in parent_list for item in sublist)\n",
        "\n",
        "#Converting in Set -\n",
        "def is_sublist(sublist, parent_list):\n",
        "    return set(sublist).issubset(set(parent_list))\n",
        "\n",
        "# Converting in String -\n",
        "def is_sublist(sublist, parent_list):\n",
        "    sublist_str = ''.join(map(str, sublist))\n",
        "    parent_list_str = ''.join(map(str, parent_list))\n",
        "    return sublist_str in parent_list_str"
      ]
    },
    {
      "cell_type": "code",
      "execution_count": null,
      "metadata": {
        "id": "C9ZRm7D_W4Ep",
        "colab": {
          "base_uri": "https://localhost:8080/"
        },
        "outputId": "fbcabe91-ce5b-4f44-cd95-1f11cafeff21"
      },
      "outputs": [
        {
          "output_type": "stream",
          "name": "stdout",
          "text": [
            "True\n",
            "True\n"
          ]
        }
      ],
      "source": [
        "sublist = [1,2,3,4]\n",
        "parent_list = [1,2,3,4,5,6,7]\n",
        "a = all(item in parent_list for item in sublist)\n",
        "b = all(sublist[i]==parent_list[j] for i,j in enumerate(range(len(sublist))))\n",
        "print(a)\n",
        "print(b)"
      ]
    },
    {
      "cell_type": "code",
      "execution_count": null,
      "metadata": {
        "id": "k8eV5MdeW4B7",
        "colab": {
          "base_uri": "https://localhost:8080/"
        },
        "outputId": "20fd89df-e10b-4c65-8c8d-5633058722f6"
      },
      "outputs": [
        {
          "output_type": "execute_result",
          "data": {
            "text/plain": [
              "False"
            ]
          },
          "metadata": {},
          "execution_count": 4
        }
      ],
      "source": [
        "#Q.8] If a string has all unique characters -\n",
        "st1 = 'iugcfbdsjchsdiahds'\n",
        "def has_unique_chars(s):\n",
        "    return len(s) == len(set(s))\n",
        "has_unique_chars(st1)"
      ]
    },
    {
      "cell_type": "code",
      "execution_count": null,
      "metadata": {
        "id": "LilD_tMSW4AQ",
        "colab": {
          "base_uri": "https://localhost:8080/"
        },
        "outputId": "8bf01900-ff99-4579-8526-1e4f7378b557"
      },
      "outputs": [
        {
          "output_type": "stream",
          "name": "stdout",
          "text": [
            "[1, 2, 4, 5, 6, 0, 0, 0]\n"
          ]
        }
      ],
      "source": [
        "#Q.9]  Move all 0s in a int list to the end -\n",
        "def move_zeros(nums):\n",
        "    count = nums.count(0)\n",
        "    nums = [num for num in nums if num != 0]\n",
        "    nums.extend([0] * count)\n",
        "    return nums\n",
        "numbers = [1, 2, 0, 4, 0, 5, 6, 0]\n",
        "print(move_zeros(numbers))"
      ]
    },
    {
      "cell_type": "code",
      "execution_count": null,
      "metadata": {
        "id": "dKb-1WLvW32X",
        "colab": {
          "base_uri": "https://localhost:8080/"
        },
        "outputId": "24d26b15-d2bf-4b71-d8da-de83dad3b077"
      },
      "outputs": [
        {
          "output_type": "stream",
          "name": "stdout",
          "text": [
            "2\n"
          ]
        }
      ],
      "source": [
        "a = '123'\n",
        "i = len(a) - 2\n",
        "n1 = int(a[i]) if i >= 0 else 0\n",
        "print(n1)"
      ]
    },
    {
      "cell_type": "code",
      "execution_count": null,
      "metadata": {
        "id": "-WpEdnd5W3zP",
        "colab": {
          "base_uri": "https://localhost:8080/"
        },
        "outputId": "a405711b-ddbc-495b-a255-54c9871500c2"
      },
      "outputs": [
        {
          "output_type": "stream",
          "name": "stdout",
          "text": [
            "912\n"
          ]
        }
      ],
      "source": [
        "#Q.10] Write a function that returns the sum of two numbers represented as strings\n",
        "def add_strings(num1, num2):\n",
        "    res, carry, i, j = \"\", 0, len(num1) - 1, len(num2) - 1\n",
        "    while i >= 0 or j >= 0 or carry:\n",
        "        n1 = int(num1[i]) if i >= 0 else 0\n",
        "        n2 = int(num2[j]) if j >= 0 else 0\n",
        "        temp_sum = n1 + n2 + carry\n",
        "        res = str(temp_sum % 10) + res\n",
        "        carry = temp_sum // 10\n",
        "        i, j = i - 1, j - 1\n",
        "    return res\n",
        "n1 = \"123\"\n",
        "n2 = \"789\"\n",
        "print(add_strings(n1, n2))"
      ]
    },
    {
      "cell_type": "code",
      "source": [
        "#Q.11]  Returning grams out of ngrams -\n",
        "tokens = [\"my\",\"name\",\"is\",\"deepak\",\"khadke\",\".\",\"I\",\"am\",\"from\",\"jalgaon\",\"\"]\n",
        "def ngrams(tokens,n):\n",
        "    l = len(tokens)\n",
        "    grams = [tokens[i:i+n] for i in range(l-n+1)]\n",
        "    return grams\n",
        "print(ngrams(tokens,3))\n",
        "# Using generator instead of the list -\n",
        "def gen_ngrams(tokens,n):\n",
        "    l = len(tokens)\n",
        "    for i in range(l-n+1):\n",
        "        yield tokens[i:i+n]\n",
        "ngrams_gen = gen_ngrams(tokens,3)\n",
        "print(ngrams_gen)\n",
        "print([i for i in ngrams_gen])\n",
        "print(type(ngrams_gen))"
      ],
      "metadata": {
        "id": "6_DDg28ZbWkn"
      },
      "execution_count": null,
      "outputs": []
    },
    {
      "cell_type": "markdown",
      "source": [
        "##Higher Order Functions"
      ],
      "metadata": {
        "id": "58XJRScVbh_5"
      }
    },
    {
      "cell_type": "code",
      "source": [
        "list(zip(range(5),range(3))) # Zipping Tuples. Not ind-val like dict. Happens only in dict object"
      ],
      "metadata": {
        "id": "LLTM6PBLbh8a",
        "outputId": "3ef3d119-f78e-4b61-f26a-135f0a5dd6b4",
        "colab": {
          "base_uri": "https://localhost:8080/"
        }
      },
      "execution_count": null,
      "outputs": [
        {
          "output_type": "execute_result",
          "data": {
            "text/plain": [
              "[(0, 0), (1, 1), (2, 2)]"
            ]
          },
          "metadata": {},
          "execution_count": 8
        }
      ]
    },
    {
      "cell_type": "code",
      "source": [
        "dict(zip([1,2,3,4],[4,5,6]))"
      ],
      "metadata": {
        "id": "hGzqOn2Fbh5l",
        "outputId": "c5d43552-d964-40e8-c232-55a7963d7dc0",
        "colab": {
          "base_uri": "https://localhost:8080/"
        }
      },
      "execution_count": null,
      "outputs": [
        {
          "output_type": "execute_result",
          "data": {
            "text/plain": [
              "{1: 4, 2: 5, 3: 6}"
            ]
          },
          "metadata": {},
          "execution_count": 9
        }
      ]
    },
    {
      "cell_type": "code",
      "source": [
        "set(zip(\"hello\",[1,2,3]))"
      ],
      "metadata": {
        "id": "-19qkbltbh2q",
        "outputId": "aefd9fe4-9a62-47b7-c781-29859e78f4bf",
        "colab": {
          "base_uri": "https://localhost:8080/"
        }
      },
      "execution_count": null,
      "outputs": [
        {
          "output_type": "execute_result",
          "data": {
            "text/plain": [
              "{('e', 2), ('h', 1), ('l', 3)}"
            ]
          },
          "metadata": {},
          "execution_count": 10
        }
      ]
    },
    {
      "cell_type": "markdown",
      "source": [
        "# Generator Comprehension - Round Brackets"
      ],
      "metadata": {
        "id": "5VQftkiebhzj"
      }
    },
    {
      "cell_type": "code",
      "source": [
        "print((val for val in range(1, 20+1) if n % val == 0))"
      ],
      "metadata": {
        "id": "wDGgdE3cbhwy",
        "outputId": "9efcad84-0cc2-4102-912a-18d6ab0c5368",
        "colab": {
          "base_uri": "https://localhost:8080/"
        }
      },
      "execution_count": null,
      "outputs": [
        {
          "output_type": "stream",
          "name": "stdout",
          "text": [
            "<generator object <genexpr> at 0x7f1d5aa55cb0>\n"
          ]
        }
      ]
    },
    {
      "cell_type": "markdown",
      "source": [
        "##List Comprehension - Square Brackets"
      ],
      "metadata": {
        "id": "0gmBwzH8cF-e"
      }
    },
    {
      "cell_type": "code",
      "source": [
        "lst = [i**2 for i in range(1,11)]\n",
        "print(lst)\n",
        "print(['E' if e %2 == 0 else 'O' for e in lst])\n",
        "print(['P' if e > 0 else 'N' if e < 0 else 'Z' for e in lst])\n",
        "print([(i,j,i*j) for i in range(1,6)  for j in range(1,7)])\n",
        "response = [1,2,3,4]\n",
        "plmat = list(np.zeros([2,len(response)])) # 1,2 is no of rows\n",
        "print(plmat)"
      ],
      "metadata": {
        "id": "Tvpo_1uycPHx",
        "outputId": "60b7f19b-54ad-4504-a084-ea8c348636a1",
        "colab": {
          "base_uri": "https://localhost:8080/"
        }
      },
      "execution_count": null,
      "outputs": [
        {
          "output_type": "stream",
          "name": "stdout",
          "text": [
            "[1, 4, 9, 16, 25, 36, 49, 64, 81, 100]\n",
            "['O', 'E', 'O', 'E', 'O', 'E', 'O', 'E', 'O', 'E']\n",
            "['P', 'P', 'P', 'P', 'P', 'P', 'P', 'P', 'P', 'P']\n",
            "[(1, 1, 1), (1, 2, 2), (1, 3, 3), (1, 4, 4), (1, 5, 5), (1, 6, 6), (2, 1, 2), (2, 2, 4), (2, 3, 6), (2, 4, 8), (2, 5, 10), (2, 6, 12), (3, 1, 3), (3, 2, 6), (3, 3, 9), (3, 4, 12), (3, 5, 15), (3, 6, 18), (4, 1, 4), (4, 2, 8), (4, 3, 12), (4, 4, 16), (4, 5, 20), (4, 6, 24), (5, 1, 5), (5, 2, 10), (5, 3, 15), (5, 4, 20), (5, 5, 25), (5, 6, 30)]\n",
            "[array([0., 0., 0., 0.]), array([0., 0., 0., 0.])]\n"
          ]
        }
      ]
    },
    {
      "cell_type": "markdown",
      "source": [
        "### Python Iterator, Generator & Decorator -\n",
        "- generates a value (iterator object) on demand\n",
        "- genrators are slower than list comprehension\n",
        "- generators are memory efficient\n",
        "- when to use: whenever, you need to do manipulation on set of values and return the output as a single value\n",
        "- Iterable - An object that can be looped over, iterated over. Ex. List,set,tuples, dictionaries,strings. But, every iterable is not neccessarily be an iterator. But a list itself is not an iterator. Becomes after iter(), thus next() will work only after converting.\n",
        "- Iterator => Obj that can be iterated upon. They contain countable no of values.\n",
        "- Lazy Evaluation - Call by need\n",
        "- Iterator Protocol\n",
        "- next() - Built in function used to return next item in an iterator\n",
        "- iter() - Convert an iterable into iterator\n",
        "- yield() - when used in place of return in a def, it is a Generator\n",
        "decorator is a design pattern and a function that allows you to modify or extend the behavior of callable objects  without permanently modifying their code"
      ],
      "metadata": {
        "id": "xNPlBaUycPEW"
      }
    },
    {
      "cell_type": "markdown",
      "source": [
        "#Numpy\n",
        "Inbulit methods => np.mean(), np.max(), np.min(), np.std(), np.sum(), np.cumsum(), np.reshape(), np.median(), np.where(), np.mod(), np.argmax(), etc."
      ],
      "metadata": {
        "id": "TAcWBHMVcPBJ"
      }
    },
    {
      "cell_type": "code",
      "source": [
        "# Sample Input\n",
        "# 1 2 3 4 5 6 7 8 9\n",
        "# Sample Output\n",
        "# [ [ 1 2 3 ]\n",
        "# [ 4 5 6 ]\n",
        "# [ 7 8 9 ] ]\n",
        "import numpy\n",
        "def arrays(arr):\n",
        "    arr1 = numpy.array(arr, dtype = int)\n",
        "    arr2 = arr1.reshape(3, 3)\n",
        "    return arr2\n",
        "arr = input().strip().split(' ')\n",
        "result = arrays(arr)\n",
        "print(result)"
      ],
      "metadata": {
        "id": "AxpY7HdocO9g",
        "outputId": "d082cc60-6f72-4a97-eddc-7f8a3236ec3a",
        "colab": {
          "base_uri": "https://localhost:8080/"
        }
      },
      "execution_count": null,
      "outputs": [
        {
          "output_type": "stream",
          "name": "stdout",
          "text": [
            "1 2 3 4 5 6 7 89 9\n",
            "[[ 1  2  3]\n",
            " [ 4  5  6]\n",
            " [ 7 89  9]]\n"
          ]
        }
      ]
    },
    {
      "cell_type": "code",
      "source": [
        "lst = [1, 2, 3, 1, 2, 3]\n",
        "lst.sort()\n",
        "print(lst)\n",
        "print(sum(lst))"
      ],
      "metadata": {
        "id": "nVXYhbZscO5W",
        "outputId": "c80ef0cc-e0b6-478b-86ea-8314eca3da77",
        "colab": {
          "base_uri": "https://localhost:8080/"
        }
      },
      "execution_count": null,
      "outputs": [
        {
          "output_type": "stream",
          "name": "stdout",
          "text": [
            "[1, 1, 2, 2, 3, 3]\n",
            "12\n"
          ]
        }
      ]
    },
    {
      "cell_type": "code",
      "source": [
        "mystr = 'my name is deepak khadke'\n",
        "s = mystr.split(\" \")  # ['my', 'name', 'is', 'deepak', 'khadke']\n",
        "s"
      ],
      "metadata": {
        "id": "8sUMUJKXcO2M",
        "outputId": "84dd9094-8518-4334-a1ac-bb129b1b5cb1",
        "colab": {
          "base_uri": "https://localhost:8080/"
        }
      },
      "execution_count": null,
      "outputs": [
        {
          "output_type": "execute_result",
          "data": {
            "text/plain": [
              "['my', 'name', 'is', 'deepak', 'khadke']"
            ]
          },
          "metadata": {},
          "execution_count": 21
        }
      ]
    },
    {
      "cell_type": "code",
      "source": [
        "aaa = 'my name is deepak khadke 87236432'\n",
        "bbb = ' '.join(aaa) # Do when each character needs to be separately presented.\n",
        "print(bbb)\n",
        "print(bbb[::-1])\n",
        "print(bbb.split(\" \"))"
      ],
      "metadata": {
        "id": "hId-yDBzcOzJ",
        "outputId": "a165a054-eff5-4c59-fe01-f0a7ec23df6f",
        "colab": {
          "base_uri": "https://localhost:8080/"
        }
      },
      "execution_count": null,
      "outputs": [
        {
          "output_type": "stream",
          "name": "stdout",
          "text": [
            "m y   n a m e   i s   d e e p a k   k h a d k e   8 7 2 3 6 4 3 2\n",
            "2 3 4 6 3 2 7 8   e k d a h k   k a p e e d   s i   e m a n   y m\n",
            "['m', 'y', '', '', 'n', 'a', 'm', 'e', '', '', 'i', 's', '', '', 'd', 'e', 'e', 'p', 'a', 'k', '', '', 'k', 'h', 'a', 'd', 'k', 'e', '', '', '8', '7', '2', '3', '6', '4', '3', '2']\n"
          ]
        }
      ]
    },
    {
      "cell_type": "code",
      "source": [
        "sum([int(item) for item in input('Enter numbers: ').split(' ')])"
      ],
      "metadata": {
        "id": "rP3-COCHcOv-",
        "outputId": "baacd3d1-4387-4045-8547-99ecd972895c",
        "colab": {
          "base_uri": "https://localhost:8080/"
        }
      },
      "execution_count": null,
      "outputs": [
        {
          "name": "stdout",
          "output_type": "stream",
          "text": [
            "Enter numbers: 1 2 3 4\n"
          ]
        },
        {
          "output_type": "execute_result",
          "data": {
            "text/plain": [
              "10"
            ]
          },
          "metadata": {},
          "execution_count": 26
        }
      ]
    },
    {
      "cell_type": "markdown",
      "source": [
        "#Tuple, Dictionary\n",
        "1. Looping thro' = for kv in students.items(): ---------- Here tuple format. Key will be 1st element of the tuple and all values will be the 2nd element forming either a list or tuple again. Both elements will be separated by comma\n",
        "2.  for k,v in students.items(): ------------------------------- Here no comma, Both Key Values appear in front of another\n",
        "3. Students.keys(), students.values(), students.items()"
      ],
      "metadata": {
        "id": "5iCuN6wVcOtA"
      }
    },
    {
      "cell_type": "code",
      "source": [
        "dictionary = {'Name': 'Tanu', 'Sex': 'Male', 'Age': 23, 'Height': 5.8, 'Occupation': 'Student'}\n",
        "for i,j in dictionary.items():\n",
        "    print(\"1 - \",i,i[0],j)\n",
        "for i in dictionary.items():\n",
        "    print(\"2 - \",i,i[0],i[1])"
      ],
      "metadata": {
        "id": "4LsSRIx2fCHS",
        "outputId": "cf24775c-3c95-4a7e-ed59-ba637bbf9120",
        "colab": {
          "base_uri": "https://localhost:8080/"
        }
      },
      "execution_count": null,
      "outputs": [
        {
          "output_type": "stream",
          "name": "stdout",
          "text": [
            "1 -  Name N Tanu\n",
            "1 -  Sex S Male\n",
            "1 -  Age A 23\n",
            "1 -  Height H 5.8\n",
            "1 -  Occupation O Student\n",
            "2 -  ('Name', 'Tanu') Name Tanu\n",
            "2 -  ('Sex', 'Male') Sex Male\n",
            "2 -  ('Age', 23) Age 23\n",
            "2 -  ('Height', 5.8) Height 5.8\n",
            "2 -  ('Occupation', 'Student') Occupation Student\n"
          ]
        }
      ]
    },
    {
      "cell_type": "code",
      "source": [
        "## Very very basic -\n",
        "keys = ['red', 'green', 'blue']\n",
        "values = ['#FF0000','#008000', '#0000FF']\n",
        "color_dictionary = dict(zip(keys, values))\n",
        "print(color_dictionary)\n",
        "\n",
        "# Converting into a DICTIONARY & dataframe -\n",
        "group1 = [5, 7, 3, 4, 8]\n",
        "group2 = [9, 12, 11, 13, 10]\n",
        "group3 = [14, 16, 19, 17, 15]\n",
        "data = {'Group 1': group1, 'Group 2': group2, 'Group 3': group3}\n",
        "df = pd.DataFrame(data)\n",
        "\n",
        "# Using zip -\n",
        "group1 = [5, 7, 3, 4, 8]\n",
        "group2 = [9, 12, 11, 13, 10]\n",
        "group3 = [14, 16, 19, 17, 15]\n",
        "data = list(zip(group1, group2, group3))\n",
        "df = pd.DataFrame(data, columns=['Group 1', 'Group 2', 'Group 3'])"
      ],
      "metadata": {
        "id": "zbkXnbe0fCDd",
        "outputId": "1e93a764-460b-4ed5-b18e-537d28c3e434",
        "colab": {
          "base_uri": "https://localhost:8080/"
        }
      },
      "execution_count": null,
      "outputs": [
        {
          "output_type": "stream",
          "name": "stdout",
          "text": [
            "{'red': '#FF0000', 'green': '#008000', 'blue': '#0000FF'}\n"
          ]
        }
      ]
    },
    {
      "cell_type": "code",
      "source": [
        "# Q.12] Sorting the dictionary - DIFFERENFCE IN sort() & sorted() methods of LISTS\n",
        "#By sort() -\n",
        "keys = list(dictionary.keys())\n",
        "keys.sort()\n",
        "sorted_dict = {i: dictionary[i] for i in keys}\n",
        "print(sorted_dict)\n",
        "#By sorted() -\n",
        "keyss = sorted(keys)\n",
        "sorted_dict1 = {i: dictionary[i] for i in keyss}\n",
        "print(sorted_dict1)"
      ],
      "metadata": {
        "id": "AGcW1PCqfB_m",
        "outputId": "d999589c-9c67-493d-8575-23f269706ee3",
        "colab": {
          "base_uri": "https://localhost:8080/"
        }
      },
      "execution_count": null,
      "outputs": [
        {
          "output_type": "stream",
          "name": "stdout",
          "text": [
            "{'Age': 23, 'Height': 5.8, 'Name': 'Tanu', 'Occupation': 'Student', 'Sex': 'Male'}\n",
            "{'Age': 23, 'Height': 5.8, 'Name': 'Tanu', 'Occupation': 'Student', 'Sex': 'Male'}\n"
          ]
        }
      ]
    },
    {
      "cell_type": "markdown",
      "source": [
        "# Merging 2 Dictionaries-\n",
        "\n",
        "# Python code to merge dict using update() method\n",
        "1.  def Merge(dict1, dict2):\n",
        "    return(dict2.update(dict1))\n",
        "2. res = {**dict1, **dict2}\n",
        "3. res = dict1 | dict2\n",
        "4. for i in dict2.keys():\n",
        "        dict1[i]=dict2[i]\n",
        "5. merged_dict = dict(dict1.items() | dict2.items())\n",
        "Write a Python function to merge two dictionaries. If both dictionaries have the same key, prefer the second dictionary's value.\n",
        "def merge_dicts(dict1, dict2):\n",
        "    merged = dict1.copy()\n",
        "    merged.update(dict2)\n",
        "    return merged"
      ],
      "metadata": {
        "id": "HebhVH2cfB89"
      }
    },
    {
      "cell_type": "code",
      "source": [
        "#Q.13] Merging multiple -\n",
        "dic1={1:10, 2:20}\n",
        "dic2={3:30, 4:40}\n",
        "dic3={5:50,6:60}\n",
        "dic4 = {}\n",
        "for d in (dic1, dic2, dic3): dic4.update(d)\n",
        "print(dic4)"
      ],
      "metadata": {
        "id": "t3sBSxFHfBhF",
        "outputId": "3fa8ee00-7eef-4896-e85a-ca5d21f7c3e3",
        "colab": {
          "base_uri": "https://localhost:8080/"
        }
      },
      "execution_count": null,
      "outputs": [
        {
          "output_type": "stream",
          "name": "stdout",
          "text": [
            "{1: 10, 2: 20, 3: 30, 4: 40, 5: 50, 6: 60}\n"
          ]
        }
      ]
    },
    {
      "cell_type": "code",
      "source": [
        "# Q.14] ITERATING IN JSON FILE : NESTED DICTIONARIES\n",
        "country = {\n",
        "    \"country1\": {\n",
        "        \"dept1\": {\"count\": 50},\n",
        "        \"dept2\": {\"count\": 20},\n",
        "        \"dept3\": {\"count\": 5},\n",
        "        \"dept4\": {\"count\": 55}\n",
        "    },\n",
        "    \"country2\": {\n",
        "        \"dept1\": {\"count\":  50},\n",
        "        \"dept2\": {\"count\": 20},\n",
        "        \"dept3\": {},\n",
        "        \"dept4\": {\"count\": 55}\n",
        "    }\n",
        "}"
      ],
      "metadata": {
        "id": "ydEo9VQjfBdJ"
      },
      "execution_count": null,
      "outputs": []
    },
    {
      "cell_type": "code",
      "source": [
        "count={}\n",
        "for key,val in country.items():\n",
        "    print(key,type(key))\n",
        "    print(val)\n",
        "    value=val\n",
        "    for key1,val1 in value.items():\n",
        "        if key1 in count:\n",
        "            if len(val1)>0:\n",
        "                count[key1]=count[key1]+val1['count']\n",
        "        else:\n",
        "            if len(val1)>0:\n",
        "                count[key1]=val1['count']\n",
        "print(count)"
      ],
      "metadata": {
        "id": "uG5Gze7dfBaO",
        "outputId": "a7652173-35f5-42e6-e738-9e174b12c1d7",
        "colab": {
          "base_uri": "https://localhost:8080/"
        }
      },
      "execution_count": null,
      "outputs": [
        {
          "output_type": "stream",
          "name": "stdout",
          "text": [
            "country1 <class 'str'>\n",
            "{'dept1': {'count': 50}, 'dept2': {'count': 20}, 'dept3': {'count': 5}, 'dept4': {'count': 55}}\n",
            "country2 <class 'str'>\n",
            "{'dept1': {'count': 50}, 'dept2': {'count': 20}, 'dept3': {}, 'dept4': {'count': 55}}\n",
            "{'dept1': 100, 'dept2': 40, 'dept3': 5, 'dept4': 110}\n"
          ]
        }
      ]
    },
    {
      "cell_type": "code",
      "source": [
        "#Q.15] combine two dictionary by adding values for common keys -\n",
        "from collections import Counter\n",
        "d1 = {'a': 100, 'b': 200, 'c':300}\n",
        "d2 = {'a': 300, 'b': 200, 'd':400}\n",
        "d = Counter(d1) + Counter(d2)\n",
        "print(d)"
      ],
      "metadata": {
        "id": "eC2UGyb2fBWr",
        "outputId": "0ea7817e-dfe6-4039-d0e0-ebd4dabc831e",
        "colab": {
          "base_uri": "https://localhost:8080/"
        }
      },
      "execution_count": null,
      "outputs": [
        {
          "output_type": "stream",
          "name": "stdout",
          "text": [
            "Counter({'a': 400, 'b': 400, 'd': 400, 'c': 300})\n"
          ]
        }
      ]
    },
    {
      "cell_type": "code",
      "source": [
        "test_dict = {\"Gfg\": [5, 7, 5, 4, 5],\n",
        "             \"is\": [6, 7, 4, 3, 3],\n",
        "             \"Best\": [9, 9, 6, 5, 5]}\n",
        "words = [i for i in test_dict.keys()]\n",
        "val = [test_dict.get(i) for i in words]\n",
        "print(\"VAL - \",val)\n",
        "print(words)\n",
        "for i in words:\n",
        "    v = test_dict.get(i)\n",
        "    print(v)"
      ],
      "metadata": {
        "id": "CoGvmLtpfBS-",
        "outputId": "658332d8-b8f5-49f9-b12d-42b90abefb61",
        "colab": {
          "base_uri": "https://localhost:8080/"
        }
      },
      "execution_count": null,
      "outputs": [
        {
          "output_type": "stream",
          "name": "stdout",
          "text": [
            "VAL -  [[5, 7, 5, 4, 5], [6, 7, 4, 3, 3], [9, 9, 6, 5, 5]]\n",
            "['Gfg', 'is', 'Best']\n",
            "[5, 7, 5, 4, 5]\n",
            "[6, 7, 4, 3, 3]\n",
            "[9, 9, 6, 5, 5]\n"
          ]
        }
      ]
    },
    {
      "cell_type": "code",
      "source": [
        "#Q.16]   Maximum no of Unique values -\n",
        "unique_counts = [(key, len(set(values))) for key, values in test_dict.items()]\n",
        "print(unique_counts)\n",
        "maxval = 0\n",
        "tp = ''\n",
        "for tpl in unique_counts:\n",
        "    if tpl[1] > maxval:\n",
        "        maxval = tpl[1]\n",
        "        tp = tpl\n",
        "print(tp)"
      ],
      "metadata": {
        "id": "eJ5YTBKyfBPt",
        "outputId": "3e727a59-501b-469d-df3e-2827fd647733",
        "colab": {
          "base_uri": "https://localhost:8080/"
        }
      },
      "execution_count": null,
      "outputs": [
        {
          "output_type": "stream",
          "name": "stdout",
          "text": [
            "[('Gfg', 3), ('is', 4), ('Best', 3)]\n",
            "('is', 4)\n"
          ]
        }
      ]
    },
    {
      "cell_type": "code",
      "source": [
        "data = {'1': ['a', 'b'], '2': ['c', 'd']}\n",
        "list(data)"
      ],
      "metadata": {
        "id": "iV9pMaotfBMu",
        "outputId": "a64ef17a-8d1f-411c-e6ec-74a38100f4b4",
        "colab": {
          "base_uri": "https://localhost:8080/"
        }
      },
      "execution_count": null,
      "outputs": [
        {
          "output_type": "execute_result",
          "data": {
            "text/plain": [
              "['1', '2']"
            ]
          },
          "metadata": {},
          "execution_count": 43
        }
      ]
    },
    {
      "cell_type": "code",
      "source": [
        "#Q.17]  create and display all combinations of letters, selecting each letter from a different key\n",
        "# in a dictionary\n",
        "data = {'1': ['a', 'b'], '2': ['c', 'd']}\n",
        "lst = []\n",
        "for i,v in enumerate(list(data)[:-1]):\n",
        "    for letter1 in data[list(data)[i]]:\n",
        "        for letter2 in data[list(data)[i+1]]:\n",
        "            lst.append(letter1+letter2)\n",
        "#             print(\"Loopwise Values - \",lst)\n",
        "print(\"Final list - \",lst)"
      ],
      "metadata": {
        "id": "DTcI3DbtfBJv",
        "outputId": "62d07d33-1a04-431b-9e71-b677f260e047",
        "colab": {
          "base_uri": "https://localhost:8080/"
        }
      },
      "execution_count": null,
      "outputs": [
        {
          "output_type": "stream",
          "name": "stdout",
          "text": [
            "Final list -  ['ac', 'ad', 'bc', 'bd']\n"
          ]
        }
      ]
    },
    {
      "cell_type": "code",
      "source": [
        "counts = {'chunk' : 1, 'jeff' : 42, 'jan' : 100}\n",
        "for key in counts:\n",
        "    print(key, counts[key])\n",
        "for i in counts:\n",
        "    print(counts.get(i))"
      ],
      "metadata": {
        "id": "J2Q7PodYfBGZ",
        "outputId": "aeaa93b6-27b5-45eb-948d-175df14de949",
        "colab": {
          "base_uri": "https://localhost:8080/"
        }
      },
      "execution_count": null,
      "outputs": [
        {
          "output_type": "stream",
          "name": "stdout",
          "text": [
            "chunk 1\n",
            "jeff 42\n",
            "jan 100\n",
            "1\n",
            "42\n",
            "100\n"
          ]
        }
      ]
    },
    {
      "cell_type": "code",
      "source": [
        "counts = dict()\n",
        "print('Enter a line of text:')\n",
        "line = input(' ')\n",
        "words = line.split()\n",
        "print('Words:', words) #list\n",
        "print('Counting...')\n",
        "for word in words:\n",
        "    counts[word] = counts.get(word, 0) + 1\n",
        "print('Counts', counts)"
      ],
      "metadata": {
        "id": "Mw-aublWfBDC",
        "outputId": "46366113-178a-46b7-cc80-7651582d70f5",
        "colab": {
          "base_uri": "https://localhost:8080/"
        }
      },
      "execution_count": null,
      "outputs": [
        {
          "output_type": "stream",
          "name": "stdout",
          "text": [
            "Enter a line of text:\n",
            " What does this code snippet do?\n",
            "Words: ['What', 'does', 'this', 'code', 'snippet', 'do?']\n",
            "Counting...\n",
            "Counts {'What': 1, 'does': 1, 'this': 1, 'code': 1, 'snippet': 1, 'do?': 1}\n"
          ]
        }
      ]
    },
    {
      "cell_type": "code",
      "source": [
        "dict1 = {'chunk' : [45,3,4,'m','ok'], 'jeff' : 42, 'jan' : 100}\n",
        "print(list(dict1))\n",
        "print(list(dict1.keys())) # Both are equal.\n",
        "print(list(dict1.values()))\n",
        "print(list(dict1.items()))"
      ],
      "metadata": {
        "id": "kH3e0rE5mCjY",
        "outputId": "83e2a346-f927-4e4c-cbcd-0d887197ee1e",
        "colab": {
          "base_uri": "https://localhost:8080/"
        }
      },
      "execution_count": null,
      "outputs": [
        {
          "output_type": "stream",
          "name": "stdout",
          "text": [
            "['chunk', 'jeff', 'jan']\n",
            "['chunk', 'jeff', 'jan']\n",
            "[[45, 3, 4, 'm', 'ok'], 42, 100]\n",
            "[('chunk', [45, 3, 4, 'm', 'ok']), ('jeff', 42), ('jan', 100)]\n"
          ]
        }
      ]
    },
    {
      "cell_type": "code",
      "source": [
        "#Q.37] Write a function to flatten a nested dictionary. Namespace the keys with a period.\n",
        "\n",
        "def flatten_dictionary(d, parent_key='', sep='.'):\n",
        "    items = {}\n",
        "    for k, v in d.items():\n",
        "        new_key = f\"{parent_key}{sep}{k}\" if parent_key else k\n",
        "        if isinstance(v, dict):\n",
        "            items.update(flatten_dictionary(v, new_key, sep=sep))\n",
        "        else:\n",
        "            items[new_key] = v\n",
        "    return items\n",
        "\n",
        "nested_dict = {\n",
        "    \"a\": 1,\n",
        "    \"b\": {\n",
        "        \"c\": 2,\n",
        "        \"d\": {\n",
        "            \"e\": 3\n",
        "        }\n",
        "    }\n",
        "}\n",
        "print(flatten_dictionary(nested_dict))\n",
        "\n",
        "\n"
      ],
      "metadata": {
        "id": "qxq_adk5QK-3"
      },
      "execution_count": null,
      "outputs": []
    },
    {
      "cell_type": "markdown",
      "source": [
        "# Group By Pandas\n",
        "Group By -\n",
        "1. By default, 2 default variables having names = group_name & group_data.\n",
        "   PK -> group_name $ the corresponding data -> group_data.\n",
        "2. .groups gives you all PKs in group_name. The object is not series or df but ->         pandas.io.formats.printing.PrettyDicty. Now we know that unlike list, dictionary is not ordered, thus it is neither directly subscriptable or callable, thus [0] won't work.\n",
        "3. .keys() prints all PK as .groups becomes a Dictionary Object. What works is found below.\n",
        "4. Understand list[] and list(). () is calling the list method and [] is used for indexing,slicing,accessing elements.\n",
        "5. Group By object must be iterated to get the Keys & Values and convert into dictionary/dataframes.\n",
        "6. Group By will preserve the order in which observations are sorted within each group\n",
        "7. By default NA values are excluded from group keys during the groupby. Pass dropna=False to avoid.\n",
        "8. In the case of grouping by multiple keys, the group name will be a tuple:\n",
        "9. When you do Aggregation, keys of the groups appear in the index by default."
      ],
      "metadata": {
        "id": "2cC0Wzy5mWqU"
      }
    },
    {
      "cell_type": "markdown",
      "source": [
        "# Alt 1st element -\n",
        "first_group_name = list(oo.groups.keys())[0]\n",
        "first_group = oo.get_group(first_group_name)\n",
        "first_group\n",
        "# Getting a group by it's value -\n",
        "grouped.get_group(value of the PK)\n",
        "#Converting the object into dataframe\n",
        "grouped_df = Experian_df.groupby('ID', as_index=False).apply(pd.DataFrame)"
      ],
      "metadata": {
        "id": "EZHTgX11mYjH"
      }
    },
    {
      "cell_type": "code",
      "source": [
        "# Convert GroupBy object to a dictionary\n",
        "group_dict = {}\n",
        "for group_name, group_data in oo:\n",
        "    group_dict[group_name] = group_data.to_dict(orient='list')\n",
        "# Into a list -\n",
        "group_list = [group_data for group_name, group_data in Experian_df.groupby('group_column')]"
      ],
      "metadata": {
        "id": "x1DYYQmimYd-"
      },
      "execution_count": null,
      "outputs": []
    },
    {
      "cell_type": "markdown",
      "source": [
        "pandas Index objects support duplicate values. If a non-unique index is used as the group key in a groupby operation, all values for the same index value will be considered to be in one group and thus the output of aggregation functions will only contain unique index values:"
      ],
      "metadata": {
        "id": "ioZxzMs3mYY6"
      }
    },
    {
      "cell_type": "code",
      "source": [],
      "metadata": {
        "id": "9nF0SziXmYRT"
      },
      "execution_count": null,
      "outputs": []
    },
    {
      "cell_type": "markdown",
      "source": [
        "# HARD INTERVIEW Qs -"
      ],
      "metadata": {
        "id": "IJ3UoSm1mYNF"
      }
    },
    {
      "cell_type": "code",
      "source": [
        "#Q.18] Find index of 1st non repeating integer in the array -\n",
        "# Can use dictionary to keep track of freq of each integer. Then iterate in array to find the 1st.\n",
        "def first_nonrepeating_int(arr):\n",
        "    freq_dict = {}\n",
        "    for index, num in enumerate(arr):\n",
        "        if num in freq_dict:\n",
        "            freq_dict[num]+=1\n",
        "        else:\n",
        "            freq_dict[num]=1\n",
        "    #Fetching the 1st -\n",
        "    for index, num in enumerate(arr):\n",
        "        if freq_dict[num]==1:\n",
        "            return index,num\n",
        "myarr = [4,345,2,2,6,54,32,32,9,89,0,222,42,44,222,22,222,22,6,7,9,3,2,3,7,67,12,6,9,9,31,223,4,2,12,12,2]\n",
        "firstind,firstval = first_nonrepeating_int(myarr)\n",
        "print(firstind,firstval)"
      ],
      "metadata": {
        "id": "0PkUgEx6mYJD",
        "outputId": "4cb593bf-5c33-4c30-ee43-f271fcc4f213",
        "colab": {
          "base_uri": "https://localhost:8080/"
        }
      },
      "execution_count": null,
      "outputs": [
        {
          "output_type": "stream",
          "name": "stdout",
          "text": [
            "1 345\n"
          ]
        }
      ]
    },
    {
      "cell_type": "code",
      "source": [
        "#Q.18] For string -\n",
        "def first_non_repeated(s):\n",
        "    char_count = {}\n",
        "    for char in s:\n",
        "        if char in char_count:\n",
        "            char_count[char] += 1\n",
        "        else:\n",
        "            char_count[char] = 1\n",
        "    for char in s:\n",
        "        if char_count[char] == 1:\n",
        "            return char,s.index(char)\n",
        "string = \"swiss\"\n",
        "print(\"Is this list - \",list(string))\n",
        "print(type(list(string)))\n",
        "print(first_non_repeated(string))"
      ],
      "metadata": {
        "id": "M3jyO52tmYFg",
        "outputId": "281f3bfb-2bfd-4efc-cc6a-6fa345b033ee",
        "colab": {
          "base_uri": "https://localhost:8080/"
        }
      },
      "execution_count": null,
      "outputs": [
        {
          "output_type": "stream",
          "name": "stdout",
          "text": [
            "Is this list -  ['s', 'w', 'i', 's', 's']\n",
            "<class 'list'>\n",
            "('w', 1)\n"
          ]
        }
      ]
    },
    {
      "cell_type": "code",
      "source": [
        "#Q.19]: Rotate an array to the right by a given number of steps\n",
        "def rotate_array(arr, k):\n",
        "    n = len(arr) #5\n",
        "    k = k % n\n",
        "    return arr[-k:] + arr[:-k]\n",
        "a = [1,2,3,4,5]\n",
        "b = rotate_array(a,1)\n",
        "b"
      ],
      "metadata": {
        "id": "CogtgteomXyt",
        "outputId": "f2ee9bff-aa7a-476f-c055-78ff82b48c71",
        "colab": {
          "base_uri": "https://localhost:8080/"
        }
      },
      "execution_count": null,
      "outputs": [
        {
          "output_type": "execute_result",
          "data": {
            "text/plain": [
              "[5, 1, 2, 3, 4]"
            ]
          },
          "metadata": {},
          "execution_count": 58
        }
      ]
    },
    {
      "cell_type": "code",
      "source": [
        "#Q.20]: Implement a binary search algorithm\n",
        "def binary_search(arr, target):\n",
        "    left, right = 0 , len(arr) - 1\n",
        "    while left <= right:\n",
        "        mid = (left + right) // 2\n",
        "        if arr[mid] == target:\n",
        "            return mid\n",
        "        elif arr[mid] < target:\n",
        "            left = mid + 1\n",
        "        else:\n",
        "            right = mid - 1\n",
        "    return -1\n",
        "a = [1,2,3,4,5,6]\n",
        "binary_search(a,3)"
      ],
      "metadata": {
        "id": "deUhyXi81oN4",
        "outputId": "ffe32c50-ddbc-4e02-8cb7-48f23408c41f",
        "colab": {
          "base_uri": "https://localhost:8080/"
        }
      },
      "execution_count": null,
      "outputs": [
        {
          "output_type": "execute_result",
          "data": {
            "text/plain": [
              "2"
            ]
          },
          "metadata": {},
          "execution_count": 59
        }
      ]
    },
    {
      "cell_type": "code",
      "source": [
        "#Q.21]: Calculate the power of a number using recursion.\n",
        "def power(x, n):\n",
        "    if n == 0:\n",
        "        return 1\n",
        "    elif n % 2 == 0:\n",
        "        return power(x, n // 2) ** 2\n",
        "    else:\n",
        "        return x * power(x, n - 1)\n",
        "power(4,5)"
      ],
      "metadata": {
        "id": "7PF9IHPV1tXO",
        "outputId": "20cfa67e-6d31-4b16-a89b-068d2a15d8c5",
        "colab": {
          "base_uri": "https://localhost:8080/"
        }
      },
      "execution_count": null,
      "outputs": [
        {
          "output_type": "execute_result",
          "data": {
            "text/plain": [
              "1024"
            ]
          },
          "metadata": {},
          "execution_count": 4
        }
      ]
    },
    {
      "cell_type": "code",
      "source": [
        "#Q.22] Write a function to find the two numbers in a list that sum up to a specific target\n",
        "def two_sum(nums, target):\n",
        "    num_dict = {}\n",
        "    for i, num in enumerate(nums):\n",
        "        print(i,num)\n",
        "        complement = target - num\n",
        "        num_dict[num] = i\n",
        "        if complement in num_dict:\n",
        "            return [num_dict[complement], i]\n",
        "    return None\n",
        "numbers = [2,7,11,15,12,65,9,4,1,8,237,6,2,3,5,67,3,34,5,43,5,3,80,45,3536,3,6,3]\n",
        "target_value = 67\n",
        "print(two_sum(numbers, target_value))  # Output: [0, 1]"
      ],
      "metadata": {
        "id": "vCYlK3Z-GTrr",
        "outputId": "8e1aba92-0fe9-4edc-869c-83f3501bbbce",
        "colab": {
          "base_uri": "https://localhost:8080/"
        }
      },
      "execution_count": null,
      "outputs": [
        {
          "output_type": "stream",
          "name": "stdout",
          "text": [
            "0 2\n",
            "1 7\n",
            "2 11\n",
            "3 15\n",
            "4 12\n",
            "5 65\n",
            "[0, 5]\n"
          ]
        }
      ]
    },
    {
      "cell_type": "code",
      "source": [
        "def get_appscore(phat) :\n",
        "\tlog_odds = math.log(phat / (1 - phat))\n",
        "\tfactor = 50 / math.log(2);\n",
        "\toffset = 600 - (factor * math.log(50))\n",
        "\tapp_score = int(round(offset + (factor * log_odds), 0))\n",
        "\treturn app_score"
      ],
      "metadata": {
        "id": "ZKLrA37dGTxG"
      },
      "execution_count": null,
      "outputs": []
    },
    {
      "cell_type": "code",
      "source": [
        "# Calculating PSI of a data - *** Revisit Later *****\n",
        "# Example dataset (replace this with your data)\n",
        "data = pd.DataFrame({\n",
        "    'Characteristic': ['Age', 'Income', 'Credit Score'],\n",
        "    'Baseline': [30, 40, 700],\n",
        "    'Current': [32, 42, 680]\n",
        "})\n",
        "\n",
        "# Define the number of bins for histograms\n",
        "num_bins = 10\n",
        "\n",
        "# Function to calculate PSI for a characteristic\n",
        "def calculate_psi(baseline, current):\n",
        "    # Create histograms for both populations\n",
        "    baseline_hist, _ = np.histogram(baseline, bins=num_bins)\n",
        "    current_hist, _ = np.histogram(current, bins=num_bins)\n",
        "    # Calculate the percentage of each population in each bin\n",
        "    p_baseline = baseline_hist / len(baseline)\n",
        "    p_current = current_hist / len(current)\n",
        "\n",
        "    # Handle cases where p_baseline or p_current is zero\n",
        "    p_baseline = np.where(p_baseline == 0, 1e-10, p_baseline)\n",
        "    p_current = np.where(p_current == 0, 1e-10, p_current)\n",
        "\n",
        "    # Calculate the PSI value for the characteristic\n",
        "    psi = np.sum((p_current - p_baseline) * np.log(p_current / p_baseline))\n",
        "\n",
        "    return psi\n",
        "# Calculate PSI for each characteristic\n",
        "psi_values = []\n",
        "for row in data.itertuples(index=False):\n",
        "    psi = calculate_psi(list(row.Baseline), list(row.Current))\n",
        "    psi_values.append(psi)\n",
        "\n",
        "# Add PSI values to the dataset\n",
        "data['PSI'] = psi_values\n",
        "\n",
        "# Display the results\n",
        "print(\"Characteristic Analysis Report:\")\n",
        "print(data[['Characteristic', 'PSI']])"
      ],
      "metadata": {
        "id": "eaww8oU8GT1u"
      },
      "execution_count": null,
      "outputs": []
    },
    {
      "cell_type": "code",
      "source": [
        "import numpy as np\n",
        "predicted_probabilities = [0.1, 0.4, 0.6, 0.8, 0.3, 0.9]\n",
        "true_labels = [0, 0, 1, 1, 0, 1]\n",
        "data = list(zip(predicted_probabilities, true_labels))\n",
        "print(data)\n",
        "data_sorted = sorted(data, key=lambda x: x[0], reverse=True)\n",
        "positives = [item[0] for item in data_sorted if item[1] == 1]\n",
        "negatives = [item[0] for item in data_sorted if item[1] == 0]\n",
        "print(\"1 - \",positives)\n",
        "print(\"2 - \",negatives)\n",
        "total_positives = sum(true_labels)\n",
        "print(\"3 - \",total_positives)\n",
        "total_negatives = len(true_labels) - total_positives\n",
        "print(\"4 - \",total_negatives)\n",
        "print(\"5 - \",np.cumsum(positives))\n",
        "print(\"6 - \",np.cumsum(negatives))\n",
        "cp_pos = np.cumsum(positives) / total_positives\n",
        "cp_neg = np.cumsum(negatives) / total_negatives\n",
        "print(cp_pos)\n",
        "print(cp_neg)\n",
        "ks = max(cp_pos - cp_neg)"
      ],
      "metadata": {
        "id": "3TZmCCw3GT6k",
        "outputId": "44d8a558-7494-4b2c-b9e9-880de86503e4",
        "colab": {
          "base_uri": "https://localhost:8080/"
        }
      },
      "execution_count": null,
      "outputs": [
        {
          "output_type": "stream",
          "name": "stdout",
          "text": [
            "[(0.1, 0), (0.4, 0), (0.6, 1), (0.8, 1), (0.3, 0), (0.9, 1)]\n",
            "1 -  [0.9, 0.8, 0.6]\n",
            "2 -  [0.4, 0.3, 0.1]\n",
            "3 -  3\n",
            "4 -  3\n",
            "5 -  [0.9 1.7 2.3]\n",
            "6 -  [0.4 0.7 0.8]\n",
            "[0.3        0.56666667 0.76666667]\n",
            "[0.13333333 0.23333333 0.26666667]\n"
          ]
        }
      ]
    },
    {
      "cell_type": "markdown",
      "source": [
        "## Neetcodes's Leetcode Problems -"
      ],
      "metadata": {
        "id": "pTKoHE-zJsmI"
      }
    },
    {
      "cell_type": "code",
      "source": [
        "#Q.23] Self Product of an array w/o the respective positioned number -\n",
        "\n",
        "nums = [2,3,4,5,6]\n",
        "def productexceptself(nums):\n",
        "    res = [1]*(len(nums))\n",
        "    prefix=1\n",
        "    for i in range(len(nums)):\n",
        "        res[i]=prefix\n",
        "        prefix*=nums[i]\n",
        "    postfix=1\n",
        "    for i in range(len(nums)-1,-1,-1): #?\n",
        "        res[i]*=postfix\n",
        "        postfix*=nums[i]\n",
        "    return res\n",
        "prod = productexceptself(nums)\n",
        "prod"
      ],
      "metadata": {
        "id": "nxp5M16GKWMd",
        "outputId": "6486e88f-7576-4547-90c6-15e20aef0057",
        "colab": {
          "base_uri": "https://localhost:8080/"
        }
      },
      "execution_count": null,
      "outputs": [
        {
          "output_type": "execute_result",
          "data": {
            "text/plain": [
              "[360, 240, 180, 144, 120]"
            ]
          },
          "metadata": {},
          "execution_count": 13
        }
      ]
    },
    {
      "cell_type": "code",
      "source": [
        "# Q.24] Find contiguous subarray(min 1 number) having largest sum & return it\n",
        "# - Brute Force => just compute every single subarray from start to end. Repeat for every number following on. But time complexty very very high\n",
        "# - Solution -\n",
        "# - prev lesser value doesn't matter. Thus ignore. Calculate max sum upto a number where the number is decreasing the max sum value.\n",
        "# Calculate such max values and return.\n",
        "\n",
        "nums = [-5,-6,-10,0,3,65,2,8,22,3,4,5,6,-3,-6,4,2,0,-1]\n",
        "def contiguoussubarray(nums):\n",
        "    maxsub = nums[0]\n",
        "    cursum = 0\n",
        "    for n in nums:\n",
        "        if cursum < 0:\n",
        "            cursum = 0\n",
        "        cursum+=n\n",
        "        maxsub=max(maxsub,cursum)\n",
        "    return maxsub\n",
        "prod = contiguoussubarray(nums)\n",
        "prod"
      ],
      "metadata": {
        "id": "3Vf5bEGKKWHe",
        "outputId": "886a813f-cdd3-46ab-b308-0224926c681f",
        "colab": {
          "base_uri": "https://localhost:8080/"
        }
      },
      "execution_count": null,
      "outputs": [
        {
          "output_type": "execute_result",
          "data": {
            "text/plain": [
              "118"
            ]
          },
          "metadata": {},
          "execution_count": 15
        }
      ]
    },
    {
      "cell_type": "code",
      "source": [
        "#Q.25] Maximum Product Subarray - Dynamic Programming - *** Revisit lsater *****\n",
        "\n",
        "nums = [2,3,4,5,6,-6,-4,0,-4,5,6,-7,0,-5,-2,2]\n",
        "def contiguoussubarrayprod(nums):\n",
        "    res=max(nums) # coz when array has 0 Or -1, res becomes invalid.\n",
        "    currmin,currmax=1,1\n",
        "    for n in nums:\n",
        "        if n==0:\n",
        "            currmin,currmax=1\n",
        "            continue\n",
        "        tmp=n*currmax # to keep track of what currmax is and what currmin is\n",
        "        currmax = max(n*currmax,n*currmin,n)\n",
        "        currmin = min(tmp,n*currmin,n)\n",
        "        res=max(res,currmax)\n",
        "    return res\n",
        "prod = contiguoussubarrayprod(nums)\n",
        "prod"
      ],
      "metadata": {
        "id": "EWz_Se8zKWC0",
        "outputId": "ffed886d-4b42-4216-8986-b7dc20863463",
        "colab": {
          "base_uri": "https://localhost:8080/",
          "height": 349
        }
      },
      "execution_count": null,
      "outputs": [
        {
          "output_type": "error",
          "ename": "TypeError",
          "evalue": "ignored",
          "traceback": [
            "\u001b[0;31m---------------------------------------------------------------------------\u001b[0m",
            "\u001b[0;31mTypeError\u001b[0m                                 Traceback (most recent call last)",
            "\u001b[0;32m<ipython-input-17-39681203d510>\u001b[0m in \u001b[0;36m<cell line: 16>\u001b[0;34m()\u001b[0m\n\u001b[1;32m     14\u001b[0m         \u001b[0mres\u001b[0m\u001b[0;34m=\u001b[0m\u001b[0mmax\u001b[0m\u001b[0;34m(\u001b[0m\u001b[0mres\u001b[0m\u001b[0;34m,\u001b[0m\u001b[0mcurrmax\u001b[0m\u001b[0;34m)\u001b[0m\u001b[0;34m\u001b[0m\u001b[0;34m\u001b[0m\u001b[0m\n\u001b[1;32m     15\u001b[0m     \u001b[0;32mreturn\u001b[0m \u001b[0mres\u001b[0m\u001b[0;34m\u001b[0m\u001b[0;34m\u001b[0m\u001b[0m\n\u001b[0;32m---> 16\u001b[0;31m \u001b[0mprod\u001b[0m \u001b[0;34m=\u001b[0m \u001b[0mcontiguoussubarrayprod\u001b[0m\u001b[0;34m(\u001b[0m\u001b[0mnums\u001b[0m\u001b[0;34m)\u001b[0m\u001b[0;34m\u001b[0m\u001b[0;34m\u001b[0m\u001b[0m\n\u001b[0m\u001b[1;32m     17\u001b[0m \u001b[0mprod\u001b[0m\u001b[0;34m\u001b[0m\u001b[0;34m\u001b[0m\u001b[0m\n",
            "\u001b[0;32m<ipython-input-17-39681203d510>\u001b[0m in \u001b[0;36mcontiguoussubarrayprod\u001b[0;34m(nums)\u001b[0m\n\u001b[1;32m      7\u001b[0m     \u001b[0;32mfor\u001b[0m \u001b[0mn\u001b[0m \u001b[0;32min\u001b[0m \u001b[0mnums\u001b[0m\u001b[0;34m:\u001b[0m\u001b[0;34m\u001b[0m\u001b[0;34m\u001b[0m\u001b[0m\n\u001b[1;32m      8\u001b[0m         \u001b[0;32mif\u001b[0m \u001b[0mn\u001b[0m\u001b[0;34m==\u001b[0m\u001b[0;36m0\u001b[0m\u001b[0;34m:\u001b[0m\u001b[0;34m\u001b[0m\u001b[0;34m\u001b[0m\u001b[0m\n\u001b[0;32m----> 9\u001b[0;31m             \u001b[0mcurrmin\u001b[0m\u001b[0;34m,\u001b[0m\u001b[0mcurrmax\u001b[0m\u001b[0;34m=\u001b[0m\u001b[0;36m1\u001b[0m\u001b[0;34m\u001b[0m\u001b[0;34m\u001b[0m\u001b[0m\n\u001b[0m\u001b[1;32m     10\u001b[0m             \u001b[0;32mcontinue\u001b[0m\u001b[0;34m\u001b[0m\u001b[0;34m\u001b[0m\u001b[0m\n\u001b[1;32m     11\u001b[0m         \u001b[0mtmp\u001b[0m\u001b[0;34m=\u001b[0m\u001b[0mn\u001b[0m\u001b[0;34m*\u001b[0m\u001b[0mcurrmax\u001b[0m \u001b[0;31m# to keep track of what currmax is and what currmin is\u001b[0m\u001b[0;34m\u001b[0m\u001b[0;34m\u001b[0m\u001b[0m\n",
            "\u001b[0;31mTypeError\u001b[0m: cannot unpack non-iterable int object"
          ]
        }
      ]
    },
    {
      "cell_type": "code",
      "source": [
        "#Q.26] Pythagorean -\n",
        "def hasPythagoreanTriplet(nums):\n",
        "    squared_nums = set([num * num for num in nums])  # Create a set of squared values\n",
        "    for i in range(len(nums)):\n",
        "        for j in range(i + 1, len(nums)):\n",
        "            # Calculate the sum of squares of two numbers\n",
        "            sum_of_squares = nums[i] * nums[i] + nums[j] * nums[j]\n",
        "            if sum_of_squares in squared_nums:\n",
        "                return True\n",
        "    return False\n",
        "input_nums = [3, 5, 5, 6, 13, 9,12]\n",
        "result = hasPythagoreanTriplet(input_nums)\n",
        "print(result)  # Output: True"
      ],
      "metadata": {
        "id": "8IKun-p2KV9b",
        "outputId": "e293a6bc-b6fe-479b-99cb-39c123103744",
        "colab": {
          "base_uri": "https://localhost:8080/"
        }
      },
      "execution_count": null,
      "outputs": [
        {
          "output_type": "stream",
          "name": "stdout",
          "text": [
            "True\n"
          ]
        }
      ]
    },
    {
      "cell_type": "code",
      "source": [
        "#Q.27] # Denominations & Amount - Dynamic Programming\n",
        "denominations = [1,2,5]\n",
        "amount = 5\n",
        "solution = [0] * (amount + 1)\n",
        "solution[0] = 1\n",
        "for den in denominations:\n",
        "    for i in range(den, amount + 1): #1 to 6? -- 1-5\n",
        "        #print(i)\n",
        "        solution[i] += solution[i - den]\n",
        "        print(solution)\n",
        "print(solution[len(solution) - 1])"
      ],
      "metadata": {
        "id": "VxVuLm-uKV4U",
        "outputId": "6746edbe-3841-4f30-c396-68207f3d101c",
        "colab": {
          "base_uri": "https://localhost:8080/"
        }
      },
      "execution_count": null,
      "outputs": [
        {
          "output_type": "stream",
          "name": "stdout",
          "text": [
            "[1, 1, 0, 0, 0, 0]\n",
            "[1, 1, 1, 0, 0, 0]\n",
            "[1, 1, 1, 1, 0, 0]\n",
            "[1, 1, 1, 1, 1, 0]\n",
            "[1, 1, 1, 1, 1, 1]\n",
            "[1, 1, 2, 1, 1, 1]\n",
            "[1, 1, 2, 2, 1, 1]\n",
            "[1, 1, 2, 2, 3, 1]\n",
            "[1, 1, 2, 2, 3, 3]\n",
            "[1, 1, 2, 2, 3, 4]\n",
            "4\n"
          ]
        }
      ]
    },
    {
      "cell_type": "code",
      "source": [
        "#Q.28] # Missing element in a continuos array\n",
        "list1 = [1,5,6,3,4]\n",
        "def findmissing(list1):\n",
        "    currsum = sum(list1) #19\n",
        "    correctsum = ((len(list1)+1)*(len(list1)+2))/2 # 6*7/2=21\n",
        "    return correctsum-currsum\n",
        "findmissing(list1)"
      ],
      "metadata": {
        "id": "o3TYSWcVKV0d",
        "outputId": "b8c0b357-8142-4c21-d71a-41c7a8277d85",
        "colab": {
          "base_uri": "https://localhost:8080/"
        }
      },
      "execution_count": null,
      "outputs": [
        {
          "output_type": "execute_result",
          "data": {
            "text/plain": [
              "2.0"
            ]
          },
          "metadata": {},
          "execution_count": 21
        }
      ]
    },
    {
      "cell_type": "code",
      "source": [
        "#Q.29]  Given an array, find the maximum difference in both their consecutive values & their index -\n",
        "# myarr = [4,6,3,4,7,2,233,64,56,77,22,0,86,54]\n",
        "myarr = [5, 70, 40, 50, 12, 38, 98]\n",
        "lambai = len(myarr)\n",
        "maxdiff = 0\n",
        "for i in range(1,len(myarr)):\n",
        "#     maxdiff = max(maxdiff,myarr[i]-myarr[i-1]\n",
        "      if maxdiff < myarr[i]-myarr[i-1]:\n",
        "        maxdiff = myarr[i]-myarr[i-1]\n",
        "        jmax = i\n",
        "        imax = i-1\n",
        "print(\"Maxdiff - \",maxdiff)\n",
        "print(\"Max j - \",jmax)\n",
        "print(\"Max i - \",imax)"
      ],
      "metadata": {
        "id": "i_gTj756KVw_",
        "outputId": "b312edb7-e0e9-4fcf-b2e3-347b4ff82e42",
        "colab": {
          "base_uri": "https://localhost:8080/"
        }
      },
      "execution_count": null,
      "outputs": [
        {
          "output_type": "stream",
          "name": "stdout",
          "text": [
            "Maxdiff -  65\n",
            "Max j -  1\n",
            "Max i -  0\n"
          ]
        }
      ]
    },
    {
      "cell_type": "code",
      "source": [
        "#Q.30] Maximum difference max(j – i) such that arr[j] > arr[i]-\n",
        "\n",
        "myarr = [4,6,3,4,7,2,233,64,56,77,22,0,86]\n",
        "n = len(myarr) # 13\n",
        "left_min = [0] * n\n",
        "left_min[0] = myarr[0]\n",
        "for i in range(1, n):\n",
        "    left_min[i] = min(left_min[i - 1], myarr[i])\n",
        "\n",
        "right_max = [0]*n\n",
        "right_max[n-1] = myarr[n-1]\n",
        "for i in range(n-2,-1,-1):\n",
        "    right_max[i] = max(right_max[i+1],myarr[i])\n",
        "\n",
        "i, j, max_diff = 0, 0, -1\n",
        "while i < n and j < n:\n",
        "    if left_min[i] < right_max[j]:\n",
        "        max_diff = max(max_diff, j - i)\n",
        "        j += 1\n",
        "    else:\n",
        "        i += 1\n",
        "print(i,j,max_diff)"
      ],
      "metadata": {
        "id": "LRRGHxK0KVr3",
        "outputId": "bd63a3c6-124b-4fae-94ef-a4c24223e59d",
        "colab": {
          "base_uri": "https://localhost:8080/"
        }
      },
      "execution_count": null,
      "outputs": [
        {
          "output_type": "stream",
          "name": "stdout",
          "text": [
            "0 13 12\n"
          ]
        }
      ]
    },
    {
      "cell_type": "code",
      "source": [
        "#Q.31]\n",
        "\n",
        "def max_index_diff(array):\n",
        "    n = len(array)\n",
        "    max_diff = 0\n",
        "    for i in range(0, n):\n",
        "        j = n - 1\n",
        "        while(j > i):\n",
        "            if array[j] > array[i] and max_diff < (j - i):\n",
        "                max_diff = j - i\n",
        "            j -= 1\n",
        "    return max_diff\n",
        "max_index_diff(myarr)"
      ],
      "metadata": {
        "id": "wqj4W9HkKVmK",
        "outputId": "722e290b-3cdb-4fe2-95ee-19add7db0ce0",
        "colab": {
          "base_uri": "https://localhost:8080/"
        }
      },
      "execution_count": null,
      "outputs": [
        {
          "output_type": "execute_result",
          "data": {
            "text/plain": [
              "12"
            ]
          },
          "metadata": {},
          "execution_count": 24
        }
      ]
    },
    {
      "cell_type": "code",
      "source": [
        "#Q.32] #the longest consecutive subsequence in a list of numbers.\n",
        "def longest_consecutive_subsequence(nums):\n",
        "    if not nums:\n",
        "        return []\n",
        "    nums = sorted(set(nums))\n",
        "    longest_streak = []\n",
        "    current_streak = [nums[0]]\n",
        "    for i in range(1, len(nums)):\n",
        "        if nums[i] - nums[i - 1] == 1:\n",
        "            current_streak.append(nums[i])\n",
        "        else:\n",
        "            if len(current_streak) > len(longest_streak):\n",
        "                longest_streak = current_streak\n",
        "            current_streak = [nums[i]]\n",
        "\n",
        "    return longest_streak if len(longest_streak) > len(current_streak) else current_streak\n",
        "\n",
        "numbers = [1, 2, 3, 5, 6, 7, 8, 10]\n",
        "print(longest_consecutive_subsequence(numbers))"
      ],
      "metadata": {
        "id": "yLq0xa8TKVhp",
        "outputId": "06280e3e-2780-44ab-8444-6424f0a25cee",
        "colab": {
          "base_uri": "https://localhost:8080/"
        }
      },
      "execution_count": null,
      "outputs": [
        {
          "output_type": "stream",
          "name": "stdout",
          "text": [
            "[5, 6, 7, 8]\n"
          ]
        }
      ]
    },
    {
      "cell_type": "code",
      "source": [
        "#Q.33] Write a function that finds the longest common subsequence (LCS) of two strings - Dynamic Programming\n",
        "\n",
        "def lcs(X, Y):\n",
        "    m = len(X) #7\n",
        "    n = len(Y)   #5\n",
        "    dp = [[None] * (n + 1) for i in range(m + 1)]\n",
        "\n",
        "    for i in range(m + 1):\n",
        "        for j in range(n + 1):\n",
        "            if i == 0 or j == 0:\n",
        "                dp[i][j] = 0\n",
        "            elif X[i-1] == Y[j-1]:\n",
        "                dp[i][j] = dp[i-1][j-1] + 1\n",
        "            else:\n",
        "                dp[i][j] = max(dp[i-1][j], dp[i][j-1])\n",
        "    return dp[m][n]\n",
        "\n",
        "str1 = \"ABCBDAB\"\n",
        "str2 = \"BDCAB\"\n",
        "print(lcs(str1, str2))"
      ],
      "metadata": {
        "id": "g4Jnhm1JKVc3",
        "outputId": "f4e7839c-415c-42ff-d524-45842578a66e",
        "colab": {
          "base_uri": "https://localhost:8080/"
        }
      },
      "execution_count": 31,
      "outputs": [
        {
          "output_type": "stream",
          "name": "stdout",
          "text": [
            "4\n"
          ]
        }
      ]
    },
    {
      "cell_type": "code",
      "source": [
        "#Q.34]  Write a function that computes the power of a number without using the built-in power function or the ** operator\n",
        "\n",
        "def power(base, exp):\n",
        "    if exp == 0:\n",
        "        return 1\n",
        "    if exp < 0:\n",
        "        base = 1 / base\n",
        "        exp = -exp\n",
        "\n",
        "    result = 1\n",
        "    current_product = base\n",
        "    while exp > 0:\n",
        "        if exp % 2 == 1:\n",
        "            result = result * current_product\n",
        "        current_product = current_product * current_product\n",
        "        exp //= 2\n",
        "    return result\n",
        "\n",
        "print(power(2, 3))  # Output: 8\n",
        "print(power(3, -2)) # Output: 0.1111 (or close to it)"
      ],
      "metadata": {
        "id": "f150uevSKVYN",
        "outputId": "8ee3b407-56fb-455d-8ba6-b3f5d0044989",
        "colab": {
          "base_uri": "https://localhost:8080/"
        }
      },
      "execution_count": 32,
      "outputs": [
        {
          "output_type": "stream",
          "name": "stdout",
          "text": [
            "8\n",
            "0.1111111111111111\n"
          ]
        }
      ]
    },
    {
      "cell_type": "code",
      "source": [
        "#Q.35] Write a function that returns the longest substring without repeating characters\n",
        "\n",
        "def length_of_longest_substring(s):\n",
        "    n = len(s)\n",
        "    ans = 0\n",
        "    char_index = {}  # Current index of character\n",
        "    i = 0  # The sliding window left pointer\n",
        "    for j in range(n):\n",
        "        if s[j] in char_index: #char value of the string\n",
        "            i = max(char_index[s[j]], i)# this is index\n",
        "            print(char_index[s[j]])\n",
        "        ans = max(ans, j - i + 1)\n",
        "        char_index[s[j]] = j + 1\n",
        "    return ans\n",
        "\n",
        "print(length_of_longest_substring(\"abcabcbb\"))"
      ],
      "metadata": {
        "id": "zzbOtIjwKVTq",
        "outputId": "56522986-7d88-42ff-a0dd-bf7b5f3ef440",
        "colab": {
          "base_uri": "https://localhost:8080/"
        }
      },
      "execution_count": 34,
      "outputs": [
        {
          "output_type": "stream",
          "name": "stdout",
          "text": [
            "1\n",
            "2\n",
            "3\n",
            "5\n",
            "7\n",
            "3\n"
          ]
        }
      ]
    },
    {
      "cell_type": "code",
      "source": [
        "#Q.36] Given a non-empty string s and a dictionary wordDict containing a list of non-empty words, determine if s can be segmented into a space-separated\n",
        "# sequence of one or more dictionary words.\n",
        "\n",
        "def word_break(s, wordDict):\n",
        "    wordSet, n = set(wordDict), len(s)\n",
        "    dp = [False] * (n + 1)\n",
        "    dp[0] = True\n",
        "\n",
        "    for i in range(1, n + 1):\n",
        "        for j in range(i):\n",
        "            if dp[j] and s[j:i] in wordSet:\n",
        "                dp[i] = True\n",
        "                break\n",
        "    return dp[-1]\n",
        "\n",
        "s = \"leetcode\"\n",
        "wordDict = [\"leet\", \"code\"]\n",
        "print(word_break(s, wordDict))"
      ],
      "metadata": {
        "id": "uuspYLkKKVPg",
        "outputId": "d995ea2a-2523-4cf1-f29f-5f65ef715b28",
        "colab": {
          "base_uri": "https://localhost:8080/"
        }
      },
      "execution_count": 38,
      "outputs": [
        {
          "output_type": "stream",
          "name": "stdout",
          "text": [
            "True\n"
          ]
        }
      ]
    },
    {
      "cell_type": "code",
      "source": [],
      "metadata": {
        "id": "IH0-19GRKVKz"
      },
      "execution_count": null,
      "outputs": []
    },
    {
      "cell_type": "code",
      "source": [],
      "metadata": {
        "id": "Ja5YXSiKKVGk"
      },
      "execution_count": null,
      "outputs": []
    }
  ],
  "metadata": {
    "colab": {
      "provenance": [],
      "include_colab_link": true
    },
    "kernelspec": {
      "display_name": "Python 3",
      "name": "python3"
    },
    "language_info": {
      "name": "python"
    }
  },
  "nbformat": 4,
  "nbformat_minor": 0
}