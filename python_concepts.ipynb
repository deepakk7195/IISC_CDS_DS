{
  "cells": [
    {
      "cell_type": "markdown",
      "metadata": {
        "colab_type": "text",
        "id": "view-in-github"
      },
      "source": [
        "<a href=\"https://colab.research.google.com/github/deepakk7195/IISC_CDS_DS/blob/python_universe/python_concepts.ipynb\" target=\"_parent\"><img src=\"https://colab.research.google.com/assets/colab-badge.svg\" alt=\"Open In Colab\"/></a>"
      ]
    },
    {
      "cell_type": "code",
      "execution_count": null,
      "metadata": {
        "id": "sqwV1TYettDT"
      },
      "outputs": [],
      "source": [
        "# conda install -c nvidia -c rapidsai -c numba -c conda-forge -c defaults cudf\n",
        "# !pip install cudf-cu11==22.12 rmm-cu11==22.12 dask-cudf-cu11==22.12 --extra-index-url=https://pypi.ngc.nvidia.com/"
      ]
    },
    {
      "cell_type": "code",
      "execution_count": null,
      "metadata": {
        "id": "zaBl_OP2w9nW"
      },
      "outputs": [],
      "source": [
        "# %load_ext cudf.pandas\n",
        "import pandas as pd\n",
        "import numpy as np\n",
        "import warnings\n",
        "warnings.filterwarnings('ignore')\n",
        "import json\n",
        "pd.pandas.set_option('display.max_columns',None)\n",
        "import time\n",
        "from datetime import datetime\n",
        "import sympy as sym   # Solving Calculus, Limits,\n",
        "import matplotlib.pyplot as plt\n",
        "# import tnrange\n",
        "# import tqdm_notebook\n",
        "# import nb_black -> Automatic code formatter?"
      ]
    },
    {
      "cell_type": "markdown",
      "metadata": {
        "id": "ahivOgZEQQCr"
      },
      "source": []
    },
    {
      "cell_type": "markdown",
      "metadata": {
        "id": "okxV-QG6w_rp"
      },
      "source": [
        "### Popular methods -\n",
        "- append - Entire string is added ||| adds one element to the end of the list.\n",
        "- extend - String added charcter by character individually ||| adds multiple elements to the end of the list, with those elements individually added to the list\n",
        "- insert - Given value at given index -> insert(index,value)\n",
        "- pop - deleting a value\n",
        "- count(value) - Counts Occurances\n",
        "- lst.sort() just sorts the list in place returning None but sorted(lst) returns sorted list\n",
        "- c_lst = o_lst  copy by reference & c_lst = o_lst.copy()  copy by value\n",
        "- + => Concatenation -> [1,2,3] + [2],[1,2,3] + ['A','B']\n",
        "in statement - if i in lst\n",
        "any() - Only through Generator expression => any(item in test_list for item in test_list) ??\n",
        "find() - Usually in strings, to search a substring & return index of 1st value of the substring in main string.\n",
        "counter() -\n",
        "list.index(value)"
      ]
    },
    {
      "cell_type": "code",
      "execution_count": null,
      "metadata": {
        "id": "0D7J9nvUQKsL"
      },
      "outputs": [],
      "source": [
        "nums = [2,3,4,5,6,9] # len = 5\n",
        "nums2 = [6,7,5,456,34,4]\n",
        "num = nums+nums2\n",
        "# print(nums*nums2) #NOT POSSIBLE here in list but possible in numpy array\n",
        "for i in range(len(nums)):\n",
        "    print(i,nums[i],len(nums),end = ' ')\n",
        "# for i in range(len(nums)):\n",
        "#     print(nums[i],end = ' ')\n",
        "# nums.sum() - Not supported unlike for numpy arrays\n",
        "sum(nums)\n",
        "# count(nums) # Not Supported"
      ]
    },
    {
      "cell_type": "code",
      "execution_count": null,
      "metadata": {
        "id": "AN0og5KRSYoS"
      },
      "outputs": [],
      "source": [
        "nums[0:-1]  #[2, 3, 4, 5, 6]\n",
        "nums[:-1]#[2, 3, 4, 5, 6]\n",
        "nums[0:1]\n",
        "nums.count(4)\n",
        "nums.insert(5,4)\n",
        "nums.find([4,5,6]) # XX - Can't use on list"
      ]
    },
    {
      "cell_type": "code",
      "execution_count": 1,
      "metadata": {
        "colab": {
          "base_uri": "https://localhost:8080/"
        },
        "id": "vPyApRSjW4va",
        "outputId": "9af49bd9-13dc-467e-aad1-3e27422fbb73"
      },
      "outputs": [
        {
          "name": "stdout",
          "output_type": "stream",
          "text": [
            "The substring 'popular' was found at index 12\n"
          ]
        }
      ],
      "source": [
        "my_string = \"Python is a popular programming language\"\n",
        "substring = \"popular\"\n",
        "index = my_string.find(substring)\n",
        "if index != -1:\n",
        "    print(f\"The substring '{substring}' was found at index {index}\")\n",
        "else:\n",
        "    print(f\"The substring '{substring}' was not found in the string.\")"
      ]
    },
    {
      "cell_type": "code",
      "execution_count": null,
      "metadata": {
        "id": "cfGUttYXW4s9"
      },
      "outputs": [],
      "source": [
        "import numpy as np\n",
        "ar=np.array([1,0,0,1])\n",
        "arr2=np.array([1,0,0,0])\n",
        "arr3=np.array([0,0,0,0])"
      ]
    },
    {
      "cell_type": "code",
      "execution_count": null,
      "metadata": {
        "id": "xCviVxhTW4qK"
      },
      "outputs": [],
      "source": []
    },
    {
      "cell_type": "code",
      "execution_count": null,
      "metadata": {
        "id": "u24X4hLWW4oE"
      },
      "outputs": [],
      "source": []
    },
    {
      "cell_type": "code",
      "execution_count": null,
      "metadata": {
        "id": "vFgzBFx2W4lb"
      },
      "outputs": [],
      "source": []
    },
    {
      "cell_type": "code",
      "execution_count": null,
      "metadata": {
        "id": "GQajqruDW4jI"
      },
      "outputs": [],
      "source": []
    },
    {
      "cell_type": "code",
      "execution_count": null,
      "metadata": {
        "id": "4CM0HiJ5W4gv"
      },
      "outputs": [],
      "source": []
    },
    {
      "cell_type": "code",
      "execution_count": null,
      "metadata": {
        "id": "6IgA9ietW4eX"
      },
      "outputs": [],
      "source": []
    },
    {
      "cell_type": "code",
      "execution_count": null,
      "metadata": {
        "id": "6uUVUsvnW4cN"
      },
      "outputs": [],
      "source": []
    },
    {
      "cell_type": "code",
      "execution_count": null,
      "metadata": {
        "id": "coJrs10xW4Zv"
      },
      "outputs": [],
      "source": []
    },
    {
      "cell_type": "code",
      "execution_count": null,
      "metadata": {
        "id": "2xMlUnN3W4Xw"
      },
      "outputs": [],
      "source": []
    },
    {
      "cell_type": "code",
      "execution_count": null,
      "metadata": {
        "id": "CY7CudU4W4VU"
      },
      "outputs": [],
      "source": []
    },
    {
      "cell_type": "code",
      "execution_count": null,
      "metadata": {
        "id": "M4OdfiuzW4S_"
      },
      "outputs": [],
      "source": []
    },
    {
      "cell_type": "code",
      "execution_count": null,
      "metadata": {
        "id": "azeD5xyDW4QN"
      },
      "outputs": [],
      "source": []
    },
    {
      "cell_type": "code",
      "execution_count": null,
      "metadata": {
        "id": "A8YDvMRXW4OK"
      },
      "outputs": [],
      "source": []
    },
    {
      "cell_type": "code",
      "execution_count": null,
      "metadata": {
        "id": "aG6FdgPKW4Ls"
      },
      "outputs": [],
      "source": []
    },
    {
      "cell_type": "code",
      "execution_count": null,
      "metadata": {
        "id": "drglVYWTW4JZ"
      },
      "outputs": [],
      "source": []
    },
    {
      "cell_type": "code",
      "execution_count": null,
      "metadata": {
        "id": "nFUFm-xqW4G2"
      },
      "outputs": [],
      "source": []
    },
    {
      "cell_type": "code",
      "execution_count": null,
      "metadata": {
        "id": "C9ZRm7D_W4Ep"
      },
      "outputs": [],
      "source": []
    },
    {
      "cell_type": "code",
      "execution_count": null,
      "metadata": {
        "id": "k8eV5MdeW4B7"
      },
      "outputs": [],
      "source": []
    },
    {
      "cell_type": "code",
      "execution_count": null,
      "metadata": {
        "id": "LilD_tMSW4AQ"
      },
      "outputs": [],
      "source": []
    },
    {
      "cell_type": "code",
      "execution_count": null,
      "metadata": {
        "id": "dKb-1WLvW32X"
      },
      "outputs": [],
      "source": []
    },
    {
      "cell_type": "code",
      "execution_count": null,
      "metadata": {
        "id": "-WpEdnd5W3zP"
      },
      "outputs": [],
      "source": []
    }
  ],
  "metadata": {
    "colab": {
      "authorship_tag": "ABX9TyNDOc3jzMngdtyh0lgFansK",
      "include_colab_link": true,
      "provenance": []
    },
    "kernelspec": {
      "display_name": "Python 3",
      "name": "python3"
    },
    "language_info": {
      "name": "python"
    }
  },
  "nbformat": 4,
  "nbformat_minor": 0
}
