{
  "nbformat": 4,
  "nbformat_minor": 0,
  "metadata": {
    "colab": {
      "provenance": [],
      "authorship_tag": "ABX9TyPpcqszSCDU5SLPdHmEE/B9",
      "include_colab_link": true
    },
    "kernelspec": {
      "name": "python3",
      "display_name": "Python 3"
    },
    "language_info": {
      "name": "python"
    }
  },
  "cells": [
    {
      "cell_type": "markdown",
      "metadata": {
        "id": "view-in-github",
        "colab_type": "text"
      },
      "source": [
        "<a href=\"https://colab.research.google.com/github/deepakk7195/IISC_CDS_DS/blob/python_universe/python_concepts.ipynb\" target=\"_parent\"><img src=\"https://colab.research.google.com/assets/colab-badge.svg\" alt=\"Open In Colab\"/></a>"
      ]
    },
    {
      "cell_type": "code",
      "execution_count": null,
      "metadata": {
        "id": "sqwV1TYettDT"
      },
      "outputs": [],
      "source": [
        "# conda install -c nvidia -c rapidsai -c numba -c conda-forge -c defaults cudf\n",
        "# !pip install cudf-cu11==22.12 rmm-cu11==22.12 dask-cudf-cu11==22.12 --extra-index-url=https://pypi.ngc.nvidia.com/"
      ]
    },
    {
      "cell_type": "code",
      "source": [
        "# %load_ext cudf.pandas\n",
        "import pandas as pd\n",
        "import numpy as np\n",
        "import warnings\n",
        "warnings.filterwarnings('ignore')\n",
        "import json\n",
        "pd.pandas.set_option('display.max_columns',None)\n",
        "import time\n",
        "from datetime import datetime\n",
        "import sympy as sym   # Solving Calculus, Limits,\n",
        "import matplotlib.pyplot as plt\n",
        "# import tnrange\n",
        "# import tqdm_notebook\n",
        "# import nb_black -> Automatic code formatter?"
      ],
      "metadata": {
        "id": "zaBl_OP2w9nW"
      },
      "execution_count": null,
      "outputs": []
    },
    {
      "cell_type": "markdown",
      "source": [],
      "metadata": {
        "id": "ahivOgZEQQCr"
      }
    },
    {
      "cell_type": "markdown",
      "source": [
        "### Popular methods -\n",
        "- append - Entire string is added ||| adds one element to the end of the list.\n",
        "- extend - String added charcter by character individually ||| adds multiple elements to the end of the list, with those elements individually added to the list\n",
        "- insert - Given value at given index -> insert(index,value)\n",
        "- pop - deleting a value\n",
        "- count(value) - Counts Occurances\n",
        "- lst.sort() just sorts the list in place returning None but sorted(lst) returns sorted list\n",
        "- c_lst = o_lst  copy by reference & c_lst = o_lst.copy()  copy by value\n",
        "- + => Concatenation -> [1,2,3] + [2],[1,2,3] + ['A','B']\n",
        "in statement - if i in lst\n",
        "any() - Only through Generator expression => any(item in test_list for item in test_list) ??\n",
        "find() - Usually in strings, to search a substring & return index of 1st value of the substring in main string.\n",
        "counter() -\n",
        "list.index(value)"
      ],
      "metadata": {
        "id": "okxV-QG6w_rp"
      }
    },
    {
      "cell_type": "code",
      "source": [
        "nums = [2,3,4,5,6,9] # len = 5\n",
        "nums2 = [6,7,5,456,34,4]\n",
        "num = nums+nums2\n",
        "# print(nums*nums2) #NOT POSSIBLE here in list but possible in numpy array\n",
        "for i in range(len(nums)):\n",
        "    print(i,nums[i],len(nums),end = ' ')\n",
        "# for i in range(len(nums)):\n",
        "#     print(nums[i],end = ' ')\n",
        "# nums.sum() - Not supported unlike for numpy arrays\n",
        "sum(nums)\n",
        "# count(nums) # Not Supported"
      ],
      "metadata": {
        "id": "0D7J9nvUQKsL"
      },
      "execution_count": null,
      "outputs": []
    },
    {
      "cell_type": "code",
      "source": [
        "nums[0:-1]  #[2, 3, 4, 5, 6]\n",
        "nums[:-1]#[2, 3, 4, 5, 6]\n",
        "nums[0:1]\n",
        "nums.count(4)\n",
        "nums.insert(5,4)\n",
        "nums.find([4,5,6]) # XX - Can't use on list"
      ],
      "metadata": {
        "id": "AN0og5KRSYoS"
      },
      "execution_count": null,
      "outputs": []
    }
  ]
}