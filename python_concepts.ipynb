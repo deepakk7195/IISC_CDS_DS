{
  "cells": [
    {
      "cell_type": "markdown",
      "metadata": {
        "colab_type": "text",
        "id": "view-in-github"
      },
      "source": [
        "<a href=\"https://colab.research.google.com/github/deepakk7195/IISC_CDS_DS/blob/main/python_concepts.ipynb\" target=\"_parent\"><img src=\"https://colab.research.google.com/assets/colab-badge.svg\" alt=\"Open In Colab\"/></a>"
      ]
    },
    {
      "cell_type": "code",
      "execution_count": 1,
      "metadata": {
        "id": "sqwV1TYettDT"
      },
      "outputs": [],
      "source": [
        "# conda install -c nvidia -c rapidsai -c numba -c conda-forge -c defaults cudf\n",
        "# !pip install cudf-cu11==22.12 rmm-cu11==22.12 dask-cudf-cu11==22.12 --extra-index-url=https://pypi.ngc.nvidia.com/"
      ]
    },
    {
      "cell_type": "code",
      "execution_count": 1,
      "metadata": {
        "colab": {
          "base_uri": "https://localhost:8080/"
        },
        "id": "zaBl_OP2w9nW",
        "outputId": "dd2b64aa-95aa-461a-c0a3-99186883b156"
      },
      "outputs": [],
      "source": [
        "# %load_ext cudf.pandas\n",
        "import pandas as pd\n",
        "import numpy as np\n",
        "import warnings\n",
        "warnings.filterwarnings('ignore')\n",
        "import json\n",
        "pd.pandas.set_option('display.max_columns',None)\n",
        "import time\n",
        "from datetime import datetime\n",
        "import sympy as sym   # Solving Calculus, Limits, \n",
        "import matplotlib.pyplot as plt\n",
        "# import tnrange\n",
        "# import tqdm_notebook\n",
        "# import nb_black -> Automatic code formatter?"
      ]
    },
    {
      "cell_type": "code",
      "execution_count": null,
      "metadata": {
        "id": "okxV-QG6w_rp"
      },
      "outputs": [],
      "source": []
    }
  ],
  "metadata": {
    "colab": {
      "authorship_tag": "ABX9TyMTKyPtnPMPiFhLhMF1A741",
      "include_colab_link": true,
      "provenance": []
    },
    "kernelspec": {
      "display_name": "Python 3",
      "name": "python3"
    },
    "language_info": {
      "codemirror_mode": {
        "name": "ipython",
        "version": 3
      },
      "file_extension": ".py",
      "mimetype": "text/x-python",
      "name": "python",
      "nbconvert_exporter": "python",
      "pygments_lexer": "ipython3",
      "version": "3.9.13"
    }
  },
  "nbformat": 4,
  "nbformat_minor": 0
}
